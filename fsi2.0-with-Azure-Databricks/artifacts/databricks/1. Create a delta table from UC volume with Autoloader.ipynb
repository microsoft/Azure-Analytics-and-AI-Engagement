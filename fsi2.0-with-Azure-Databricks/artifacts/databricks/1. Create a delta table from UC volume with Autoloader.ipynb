{
 "cells": [
  {
   "cell_type": "markdown",
   "metadata": {
    "application/vnd.databricks.v1+cell": {
     "cellMetadata": {
      "byteLimit": 2048000,
      "rowLimit": 10000
     },
     "inputWidgets": {},
     "nuid": "263383c3-cf14-4132-8b45-b928a8c7a53f",
     "showTitle": false,
     "tableResultSettingsMap": {},
     "title": ""
    }
   },
   "source": [
    "### Init our resources and catalog"
   ]
  },
  {
   "cell_type": "code",
   "execution_count": 0,
   "metadata": {
    "application/vnd.databricks.v1+cell": {
     "cellMetadata": {
      "byteLimit": 2048000,
      "rowLimit": 10000
     },
     "inputWidgets": {},
     "nuid": "b55e7e45-fe99-4743-8afd-2d9d13e2436a",
     "showTitle": false,
     "tableResultSettingsMap": {},
     "title": ""
    }
   },
   "outputs": [],
   "source": [
    "%run ./00-init $reset_all_data=false"
   ]
  },
  {
   "cell_type": "markdown",
   "metadata": {
    "application/vnd.databricks.v1+cell": {
     "cellMetadata": {
      "byteLimit": 2048000,
      "rowLimit": 10000
     },
     "inputWidgets": {},
     "nuid": "cdd72ab1-95f8-4522-8422-77d9ae433c58",
     "showTitle": false,
     "tableResultSettingsMap": {},
     "title": ""
    }
   },
   "source": [
    "### Create Volume"
   ]
  },
  {
   "cell_type": "code",
   "execution_count": 0,
   "metadata": {
    "application/vnd.databricks.v1+cell": {
     "cellMetadata": {
      "byteLimit": 2048000,
      "implicitDf": true,
      "rowLimit": 10000
     },
     "inputWidgets": {},
     "nuid": "69a0ab70-7999-4d5c-805a-c34722e60f57",
     "showTitle": false,
     "tableResultSettingsMap": {},
     "title": ""
    }
   },
   "outputs": [
    {
     "output_type": "display_data",
     "data": {
      "text/html": [
       "<style scoped>\n",
       "  .table-result-container {\n",
       "    max-height: 300px;\n",
       "    overflow: auto;\n",
       "  }\n",
       "  table, th, td {\n",
       "    border: 1px solid black;\n",
       "    border-collapse: collapse;\n",
       "  }\n",
       "  th, td {\n",
       "    padding: 5px;\n",
       "  }\n",
       "  th {\n",
       "    text-align: left;\n",
       "  }\n",
       "</style><div class='table-result-container'><table class='table-result'><thead style='background-color: white'><tr></tr></thead><tbody></tbody></table></div>"
      ]
     },
     "metadata": {
      "application/vnd.databricks.v1+output": {
       "addedWidgets": {},
       "aggData": [],
       "aggError": "",
       "aggOverflow": false,
       "aggSchema": [],
       "aggSeriesLimitReached": false,
       "aggType": "",
       "arguments": {},
       "columnCustomDisplayInfos": {},
       "data": [],
       "datasetInfos": [],
       "dbfsResultPath": null,
       "isJsonSchema": true,
       "metadata": {
        "dataframeName": null
       },
       "overflow": false,
       "plotOptions": {
        "customPlotOptions": {},
        "displayType": "table",
        "pivotAggregation": null,
        "pivotColumns": null,
        "xColumns": null,
        "yColumns": null
       },
       "removedWidgets": [],
       "schema": [],
       "type": "table"
      }
     },
     "output_type": "display_data"
    }
   ],
   "source": [
    "%sql\n",
    "CREATE VOLUME IF NOT EXISTS cronos_unity_catalog.cdata.banking_unity_catalog;"
   ]
  },
  {
   "cell_type": "code",
   "execution_count": 0,
   "metadata": {
    "application/vnd.databricks.v1+cell": {
     "cellMetadata": {
      "byteLimit": 2048000,
      "rowLimit": 10000
     },
     "inputWidgets": {},
     "nuid": "de972035-f3d4-47e9-8d74-36411acb9322",
     "showTitle": false,
     "tableResultSettingsMap": {},
     "title": ""
    }
   },
   "outputs": [],
   "source": [
    "volume_folder =  f\"/Volumes/{catalog}/{db}/banking_unity_catalog\""
   ]
  },
  {
   "cell_type": "markdown",
   "metadata": {
    "application/vnd.databricks.v1+cell": {
     "cellMetadata": {
      "byteLimit": 2048000,
      "rowLimit": 10000
     },
     "inputWidgets": {},
     "nuid": "845c553d-fb39-4945-a60d-8fc6093e4db7",
     "showTitle": false,
     "tableResultSettingsMap": {},
     "title": ""
    }
   },
   "source": [
    "### Ingesting PDF files as binary format using Databricks cloudFiles (Autoloader)"
   ]
  },
  {
   "cell_type": "code",
   "execution_count": 0,
   "metadata": {
    "application/vnd.databricks.v1+cell": {
     "cellMetadata": {
      "byteLimit": 2048000,
      "rowLimit": 10000
     },
     "inputWidgets": {},
     "nuid": "00aff97a-c21f-49a8-bede-2e91f4f93e12",
     "showTitle": false,
     "tableResultSettingsMap": {},
     "title": ""
    }
   },
   "outputs": [],
   "source": [
    "df = (\n",
    " spark.readStream.format(\"cloudFiles\")\n",
    "  .option(\"cloudfiles.format\", \"binaryfile\")\n",
    "  .load(volume_folder+\"/PDFs\")\n",
    ")"
   ]
  },
  {
   "cell_type": "code",
   "execution_count": 0,
   "metadata": {
    "application/vnd.databricks.v1+cell": {
     "cellMetadata": {
      "byteLimit": 2048000,
      "rowLimit": 10000
     },
     "inputWidgets": {},
     "nuid": "813252f8-8d86-4cdd-bc8d-e0e9bfca4137",
     "showTitle": false,
     "tableResultSettingsMap": {},
     "title": ""
    }
   },
   "outputs": [
    {
     "output_type": "execute_result",
     "data": {
      "text/plain": [
       "<pyspark.sql.streaming.query.StreamingQuery at 0x7ab630d5ed50>"
      ]
     },
     "execution_count": 7,
     "metadata": {},
     "output_type": "execute_result"
    }
   ],
   "source": [
    "from datetime import datetime\n",
    "# Get current timestamp in a specific format (adjust as needed)\n",
    "timestamp = datetime.now().strftime(\"%Y-%m-%d_%H-%M-%S\")\n",
    " \n",
    "# Construct the checkpoint location with the timestamp\n",
    "checkpoint_location = f'dbfs:{volume_folder}/checkpoints/raw_pdfs_{timestamp}'\n",
    "(\n",
    " df.writeStream.format(\"delta\")\n",
    " .option(\"checkpointLocation\", checkpoint_location)\n",
    " .outputMode(\"append\").trigger(availableNow=True).toTable(f\"{catalog}.{db}.documents_raw\")\n",
    ")"
   ]
  },
  {
   "cell_type": "code",
   "execution_count": 0,
   "metadata": {
    "application/vnd.databricks.v1+cell": {
     "cellMetadata": {
      "byteLimit": 2048000,
      "implicitDf": true,
      "rowLimit": 10000
     },
     "inputWidgets": {},
     "nuid": "8b4c15ec-2fa2-46d3-b198-4032dcbc4bbb",
     "showTitle": false,
     "tableResultSettingsMap": {},
     "title": ""
    }
   },
   "outputs": [
    {
     "output_type": "display_data",
     "data": {
      "text/html": [
       "<style scoped>\n",
       "  .table-result-container {\n",
       "    max-height: 300px;\n",
       "    overflow: auto;\n",
       "  }\n",
       "  table, th, td {\n",
       "    border: 1px solid black;\n",
       "    border-collapse: collapse;\n",
       "  }\n",
       "  th, td {\n",
       "    padding: 5px;\n",
       "  }\n",
       "  th {\n",
       "    text-align: left;\n",
       "  }\n",
       "</style><div class='table-result-container'><table class='table-result'><thead style='background-color: white'><tr><th>path</th><th>modificationTime</th><th>length</th><th>content</th></tr></thead><tbody><tr><td>dbfs:/Volumes/cronos_unity_catalog/cdata/banking_unity_catalog/PDFs/Woodgrove - Insurance_Summary Plan Description_Employee Benefits-1.pdf</td><td>2025-05-27T09:10:28Z</td><td>1822981</td><td>JVBERi0xLjcKJeLjz9MKMSAwIG9iago8PAovVHlwZSAvUGFnZXMKL0NvdW50IDEKL0tpZHMgWyA0IDAgUiBdCj4+CmVuZG9iagoyIDAgb2JqCjw8Ci9Qcm9kdWNlciAocHlwZGYpCj4+CmVuZG9iagozIDAgb2JqCjw8Ci9UeXA= (truncated)</td></tr><tr><td>dbfs:/Volumes/cronos_unity_catalog/cdata/banking_unity_catalog/PDFs/DAILY NEWS 2.pdf</td><td>2025-05-27T09:10:28Z</td><td>597777</td><td>JVBERi0xLjcKCjEgMCBvYmoKICA8PCAvVHlwZSAvWE9iamVjdAogICAgIC9TdWJ0eXBlIC9JbWFnZQogICAgIC9CaXRzUGVyQ29tcG9uZW50IDgKICAgICAvTGVuZ3RoIDIgMCBSCiAgICAgL0hlaWdodCA5NTYKICAgICAvV2k= (truncated)</td></tr><tr><td>dbfs:/Volumes/cronos_unity_catalog/cdata/banking_unity_catalog/PDFs/DAILY NEWS 1.pdf</td><td>2025-05-27T09:10:28Z</td><td>589116</td><td>JVBERi0xLjcKCjEgMCBvYmoKICA8PCAvVHlwZSAvWE9iamVjdAogICAgIC9TdWJ0eXBlIC9JbWFnZQogICAgIC9CaXRzUGVyQ29tcG9uZW50IDgKICAgICAvTGVuZ3RoIDIgMCBSCiAgICAgL0hlaWdodCA5OTIKICAgICAvV2k= (truncated)</td></tr><tr><td>dbfs:/Volumes/cronos_unity_catalog/cdata/banking_unity_catalog/PDFs/Woodgrove - Insurance_Summary Plan Description_Employee Benefits-5.pdf</td><td>2025-05-27T09:10:28Z</td><td>386321</td><td>JVBERi0xLjcKJeLjz9MKMSAwIG9iago8PAovVHlwZSAvUGFnZXMKL0NvdW50IDEKL0tpZHMgWyA0IDAgUiBdCj4+CmVuZG9iagoyIDAgb2JqCjw8Ci9Qcm9kdWNlciAocHlwZGYpCj4+CmVuZG9iagozIDAgb2JqCjw8Ci9UeXA= (truncated)</td></tr><tr><td>dbfs:/Volumes/cronos_unity_catalog/cdata/banking_unity_catalog/PDFs/Woodgrove - Insurance_Summary Plan Description_Employee Benefits-13.pdf</td><td>2025-05-27T09:10:28Z</td><td>311881</td><td>JVBERi0xLjcKJeLjz9MKMSAwIG9iago8PAovVHlwZSAvUGFnZXMKL0NvdW50IDEKL0tpZHMgWyA0IDAgUiBdCj4+CmVuZG9iagoyIDAgb2JqCjw8Ci9Qcm9kdWNlciAocHlwZGYpCj4+CmVuZG9iagozIDAgb2JqCjw8Ci9UeXA= (truncated)</td></tr><tr><td>dbfs:/Volumes/cronos_unity_catalog/cdata/banking_unity_catalog/PDFs/Woodgrove - Insurance_Summary Plan Description_Employee Benefits-12.pdf</td><td>2025-05-27T09:10:28Z</td><td>181288</td><td>JVBERi0xLjcKJeLjz9MKMSAwIG9iago8PAovVHlwZSAvUGFnZXMKL0NvdW50IDEKL0tpZHMgWyA0IDAgUiBdCj4+CmVuZG9iagoyIDAgb2JqCjw8Ci9Qcm9kdWNlciAocHlwZGYpCj4+CmVuZG9iagozIDAgb2JqCjw8Ci9UeXA= (truncated)</td></tr><tr><td>dbfs:/Volumes/cronos_unity_catalog/cdata/banking_unity_catalog/PDFs/Woodgrove - Insurance_Summary Plan Description_Employee Benefits-0.pdf</td><td>2025-05-27T09:10:27Z</td><td>132937</td><td>JVBERi0xLjcKJeLjz9MKMSAwIG9iago8PAovVHlwZSAvUGFnZXMKL0NvdW50IDEKL0tpZHMgWyA0IDAgUiBdCj4+CmVuZG9iagoyIDAgb2JqCjw8Ci9Qcm9kdWNlciAocHlwZGYpCj4+CmVuZG9iagozIDAgb2JqCjw8Ci9UeXA= (truncated)</td></tr><tr><td>dbfs:/Volumes/cronos_unity_catalog/cdata/banking_unity_catalog/PDFs/Woodgrove - Insurance_Summary Plan Description_Employee Benefits-2.pdf</td><td>2025-05-27T09:10:28Z</td><td>87406</td><td>JVBERi0xLjcKJeLjz9MKMSAwIG9iago8PAovVHlwZSAvUGFnZXMKL0NvdW50IDEKL0tpZHMgWyA0IDAgUiBdCj4+CmVuZG9iagoyIDAgb2JqCjw8Ci9Qcm9kdWNlciAocHlwZGYpCj4+CmVuZG9iagozIDAgb2JqCjw8Ci9UeXA= (truncated)</td></tr></tbody></table></div>"
      ]
     },
     "metadata": {
      "application/vnd.databricks.v1+output": {
       "addedWidgets": {},
       "aggData": [],
       "aggError": "",
       "aggOverflow": false,
       "aggSchema": [],
       "aggSeriesLimitReached": false,
       "aggType": "",
       "arguments": {},
       "columnCustomDisplayInfos": {},
       "data": [
        [
         "dbfs:/Volumes/cronos_unity_catalog/cdata/banking_unity_catalog/PDFs/Woodgrove - Insurance_Summary Plan Description_Employee Benefits-1.pdf",
         "2025-05-27T09:10:28Z",
         1822981,
         "JVBERi0xLjcKJeLjz9MKMSAwIG9iago8PAovVHlwZSAvUGFnZXMKL0NvdW50IDEKL0tpZHMgWyA0IDAgUiBdCj4+CmVuZG9iagoyIDAgb2JqCjw8Ci9Qcm9kdWNlciAocHlwZGYpCj4+CmVuZG9iagozIDAgb2JqCjw8Ci9UeXA= (truncated)"
        ],
        [
         "dbfs:/Volumes/cronos_unity_catalog/cdata/banking_unity_catalog/PDFs/DAILY NEWS 2.pdf",
         "2025-05-27T09:10:28Z",
         597777,
         "JVBERi0xLjcKCjEgMCBvYmoKICA8PCAvVHlwZSAvWE9iamVjdAogICAgIC9TdWJ0eXBlIC9JbWFnZQogICAgIC9CaXRzUGVyQ29tcG9uZW50IDgKICAgICAvTGVuZ3RoIDIgMCBSCiAgICAgL0hlaWdodCA5NTYKICAgICAvV2k= (truncated)"
        ],
        [
         "dbfs:/Volumes/cronos_unity_catalog/cdata/banking_unity_catalog/PDFs/DAILY NEWS 1.pdf",
         "2025-05-27T09:10:28Z",
         589116,
         "JVBERi0xLjcKCjEgMCBvYmoKICA8PCAvVHlwZSAvWE9iamVjdAogICAgIC9TdWJ0eXBlIC9JbWFnZQogICAgIC9CaXRzUGVyQ29tcG9uZW50IDgKICAgICAvTGVuZ3RoIDIgMCBSCiAgICAgL0hlaWdodCA5OTIKICAgICAvV2k= (truncated)"
        ],
        [
         "dbfs:/Volumes/cronos_unity_catalog/cdata/banking_unity_catalog/PDFs/Woodgrove - Insurance_Summary Plan Description_Employee Benefits-5.pdf",
         "2025-05-27T09:10:28Z",
         386321,
         "JVBERi0xLjcKJeLjz9MKMSAwIG9iago8PAovVHlwZSAvUGFnZXMKL0NvdW50IDEKL0tpZHMgWyA0IDAgUiBdCj4+CmVuZG9iagoyIDAgb2JqCjw8Ci9Qcm9kdWNlciAocHlwZGYpCj4+CmVuZG9iagozIDAgb2JqCjw8Ci9UeXA= (truncated)"
        ],
        [
         "dbfs:/Volumes/cronos_unity_catalog/cdata/banking_unity_catalog/PDFs/Woodgrove - Insurance_Summary Plan Description_Employee Benefits-13.pdf",
         "2025-05-27T09:10:28Z",
         311881,
         "JVBERi0xLjcKJeLjz9MKMSAwIG9iago8PAovVHlwZSAvUGFnZXMKL0NvdW50IDEKL0tpZHMgWyA0IDAgUiBdCj4+CmVuZG9iagoyIDAgb2JqCjw8Ci9Qcm9kdWNlciAocHlwZGYpCj4+CmVuZG9iagozIDAgb2JqCjw8Ci9UeXA= (truncated)"
        ],
        [
         "dbfs:/Volumes/cronos_unity_catalog/cdata/banking_unity_catalog/PDFs/Woodgrove - Insurance_Summary Plan Description_Employee Benefits-12.pdf",
         "2025-05-27T09:10:28Z",
         181288,
         "JVBERi0xLjcKJeLjz9MKMSAwIG9iago8PAovVHlwZSAvUGFnZXMKL0NvdW50IDEKL0tpZHMgWyA0IDAgUiBdCj4+CmVuZG9iagoyIDAgb2JqCjw8Ci9Qcm9kdWNlciAocHlwZGYpCj4+CmVuZG9iagozIDAgb2JqCjw8Ci9UeXA= (truncated)"
        ],
        [
         "dbfs:/Volumes/cronos_unity_catalog/cdata/banking_unity_catalog/PDFs/Woodgrove - Insurance_Summary Plan Description_Employee Benefits-0.pdf",
         "2025-05-27T09:10:27Z",
         132937,
         "JVBERi0xLjcKJeLjz9MKMSAwIG9iago8PAovVHlwZSAvUGFnZXMKL0NvdW50IDEKL0tpZHMgWyA0IDAgUiBdCj4+CmVuZG9iagoyIDAgb2JqCjw8Ci9Qcm9kdWNlciAocHlwZGYpCj4+CmVuZG9iagozIDAgb2JqCjw8Ci9UeXA= (truncated)"
        ],
        [
         "dbfs:/Volumes/cronos_unity_catalog/cdata/banking_unity_catalog/PDFs/Woodgrove - Insurance_Summary Plan Description_Employee Benefits-2.pdf",
         "2025-05-27T09:10:28Z",
         87406,
         "JVBERi0xLjcKJeLjz9MKMSAwIG9iago8PAovVHlwZSAvUGFnZXMKL0NvdW50IDEKL0tpZHMgWyA0IDAgUiBdCj4+CmVuZG9iagoyIDAgb2JqCjw8Ci9Qcm9kdWNlciAocHlwZGYpCj4+CmVuZG9iagozIDAgb2JqCjw8Ci9UeXA= (truncated)"
        ]
       ],
       "datasetInfos": [],
       "dbfsResultPath": null,
       "isJsonSchema": true,
       "metadata": {
        "createTempViewForImplicitDf": true,
        "dataframeName": "_sqldf",
        "executionCount": 8
       },
       "overflow": false,
       "plotOptions": {
        "customPlotOptions": {},
        "displayType": "table",
        "pivotAggregation": null,
        "pivotColumns": null,
        "xColumns": null,
        "yColumns": null
       },
       "removedWidgets": [],
       "schema": [
        {
         "metadata": "{}",
         "name": "path",
         "type": "\"string\""
        },
        {
         "metadata": "{}",
         "name": "modificationTime",
         "type": "\"timestamp\""
        },
        {
         "metadata": "{}",
         "name": "length",
         "type": "\"long\""
        },
        {
         "metadata": "{}",
         "name": "content",
         "type": "\"binary\""
        }
       ],
       "type": "table"
      }
     },
     "output_type": "display_data"
    }
   ],
   "source": [
    "%sql\n",
    "SELECT * FROM cronos_unity_catalog.cdata.documents_raw"
   ]
  }
 ],
 "metadata": {
  "application/vnd.databricks.v1+notebook": {
   "computePreferences": null,
   "dashboards": [],
   "environmentMetadata": null,
   "inputWidgetPreferences": null,
   "language": "python",
   "notebookMetadata": {
    "mostRecentlyExecutedCommandWithImplicitDF": {
     "commandId": 2406382095500831,
     "dataframes": [
      "_sqldf"
     ]
    },
    "pythonIndentUnit": 4
   },
   "notebookName": "1. Create a delta table from UC volume with Autoloader",
   "widgets": {}
  },
  "language_info": {
   "name": "python"
  }
 },
 "nbformat": 4,
 "nbformat_minor": 0
}