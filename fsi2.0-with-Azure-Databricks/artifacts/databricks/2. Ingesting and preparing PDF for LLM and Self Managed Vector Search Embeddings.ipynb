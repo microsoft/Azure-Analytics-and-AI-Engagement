{
 "cells": [
  {
   "cell_type": "markdown",
   "metadata": {
    "application/vnd.databricks.v1+cell": {
     "cellMetadata": {
      "byteLimit": 2048000,
      "rowLimit": 10000
     },
     "inputWidgets": {},
     "nuid": "03519625-c336-49d3-9498-f7e62cee40fd",
     "showTitle": false,
     "tableResultSettingsMap": {},
     "title": ""
    }
   },
   "source": [
    "### Install required external libraries "
   ]
  },
  {
   "cell_type": "code",
   "execution_count": 0,
   "metadata": {
    "application/vnd.databricks.v1+cell": {
     "cellMetadata": {
      "byteLimit": 2048000,
      "rowLimit": 10000
     },
     "inputWidgets": {},
     "nuid": "9d8ccdfe-c0cf-44e3-9599-334aa8f292fd",
     "showTitle": false,
     "tableResultSettingsMap": {},
     "title": ""
    }
   },
   "outputs": [
    {
     "output_type": "stream",
     "name": "stdout",
     "output_type": "stream",
     "text": [
      "Requirement already satisfied: transformers==4.30.2 in /local_disk0/.ephemeral_nfs/envs/pythonEnv-37cbe678-9b9d-4596-9894-95bc00e96132/lib/python3.11/site-packages (4.30.2)\nRequirement already satisfied: unstructured[docx,pdf]==0.10.30 in /local_disk0/.ephemeral_nfs/envs/pythonEnv-37cbe678-9b9d-4596-9894-95bc00e96132/lib/python3.11/site-packages (0.10.30)\nRequirement already satisfied: langchain==0.1.5 in /local_disk0/.ephemeral_nfs/envs/pythonEnv-37cbe678-9b9d-4596-9894-95bc00e96132/lib/python3.11/site-packages (0.1.5)\nRequirement already satisfied: llama-index==0.9.3 in /local_disk0/.ephemeral_nfs/envs/pythonEnv-37cbe678-9b9d-4596-9894-95bc00e96132/lib/python3.11/site-packages (0.9.3)\nRequirement already satisfied: databricks-vectorsearch==0.22 in /local_disk0/.ephemeral_nfs/envs/pythonEnv-37cbe678-9b9d-4596-9894-95bc00e96132/lib/python3.11/site-packages (0.22)\nRequirement already satisfied: pydantic==1.10.9 in /local_disk0/.ephemeral_nfs/envs/pythonEnv-37cbe678-9b9d-4596-9894-95bc00e96132/lib/python3.11/site-packages (1.10.9)\nRequirement already satisfied: mlflow==2.10.1 in /local_disk0/.ephemeral_nfs/envs/pythonEnv-37cbe678-9b9d-4596-9894-95bc00e96132/lib/python3.11/site-packages (2.10.1)\nRequirement already satisfied: filelock in /databricks/python3/lib/python3.11/site-packages (from transformers==4.30.2) (3.13.4)\nRequirement already satisfied: huggingface-hub<1.0,>=0.14.1 in /databricks/python3/lib/python3.11/site-packages (from transformers==4.30.2) (0.27.1)\nRequirement already satisfied: numpy>=1.17 in /local_disk0/.ephemeral_nfs/envs/pythonEnv-37cbe678-9b9d-4596-9894-95bc00e96132/lib/python3.11/site-packages (from transformers==4.30.2) (1.26.4)\nRequirement already satisfied: packaging>=20.0 in /databricks/python3/lib/python3.11/site-packages (from transformers==4.30.2) (23.2)\nRequirement already satisfied: pyyaml>=5.1 in /databricks/python3/lib/python3.11/site-packages (from transformers==4.30.2) (6.0)\nRequirement already satisfied: regex!=2019.12.17 in /databricks/python3/lib/python3.11/site-packages (from transformers==4.30.2) (2022.7.9)\nRequirement already satisfied: requests in /databricks/python3/lib/python3.11/site-packages (from transformers==4.30.2) (2.31.0)\nRequirement already satisfied: tokenizers!=0.11.3,<0.14,>=0.11.1 in /local_disk0/.ephemeral_nfs/envs/pythonEnv-37cbe678-9b9d-4596-9894-95bc00e96132/lib/python3.11/site-packages (from transformers==4.30.2) (0.13.3)\nRequirement already satisfied: safetensors>=0.3.1 in /databricks/python3/lib/python3.11/site-packages (from transformers==4.30.2) (0.4.2)\nRequirement already satisfied: tqdm>=4.27 in /databricks/python3/lib/python3.11/site-packages (from transformers==4.30.2) (4.65.0)\nRequirement already satisfied: chardet in /databricks/python3/lib/python3.11/site-packages (from unstructured[docx,pdf]==0.10.30) (4.0.0)\nRequirement already satisfied: filetype in /local_disk0/.ephemeral_nfs/envs/pythonEnv-37cbe678-9b9d-4596-9894-95bc00e96132/lib/python3.11/site-packages (from unstructured[docx,pdf]==0.10.30) (1.2.0)\nRequirement already satisfied: python-magic in /local_disk0/.ephemeral_nfs/envs/pythonEnv-37cbe678-9b9d-4596-9894-95bc00e96132/lib/python3.11/site-packages (from unstructured[docx,pdf]==0.10.30) (0.4.27)\nRequirement already satisfied: lxml in /databricks/python3/lib/python3.11/site-packages (from unstructured[docx,pdf]==0.10.30) (4.9.2)\nRequirement already satisfied: nltk in /databricks/python3/lib/python3.11/site-packages (from unstructured[docx,pdf]==0.10.30) (3.8.1)\nRequirement already satisfied: tabulate in /local_disk0/.ephemeral_nfs/envs/pythonEnv-37cbe678-9b9d-4596-9894-95bc00e96132/lib/python3.11/site-packages (from unstructured[docx,pdf]==0.10.30) (0.9.0)\nRequirement already satisfied: beautifulsoup4 in /databricks/python3/lib/python3.11/site-packages (from unstructured[docx,pdf]==0.10.30) (4.12.2)\nRequirement already satisfied: emoji in /local_disk0/.ephemeral_nfs/envs/pythonEnv-37cbe678-9b9d-4596-9894-95bc00e96132/lib/python3.11/site-packages (from unstructured[docx,pdf]==0.10.30) (2.14.1)\nRequirement already satisfied: dataclasses-json in /local_disk0/.ephemeral_nfs/envs/pythonEnv-37cbe678-9b9d-4596-9894-95bc00e96132/lib/python3.11/site-packages (from unstructured[docx,pdf]==0.10.30) (0.5.14)\nRequirement already satisfied: python-iso639 in /local_disk0/.ephemeral_nfs/envs/pythonEnv-37cbe678-9b9d-4596-9894-95bc00e96132/lib/python3.11/site-packages (from unstructured[docx,pdf]==0.10.30) (2025.2.18)\nRequirement already satisfied: langdetect in /local_disk0/.ephemeral_nfs/envs/pythonEnv-37cbe678-9b9d-4596-9894-95bc00e96132/lib/python3.11/site-packages (from unstructured[docx,pdf]==0.10.30) (1.0.9)\nRequirement already satisfied: rapidfuzz in /local_disk0/.ephemeral_nfs/envs/pythonEnv-37cbe678-9b9d-4596-9894-95bc00e96132/lib/python3.11/site-packages (from unstructured[docx,pdf]==0.10.30) (3.13.0)\nRequirement already satisfied: backoff in /local_disk0/.ephemeral_nfs/envs/pythonEnv-37cbe678-9b9d-4596-9894-95bc00e96132/lib/python3.11/site-packages (from unstructured[docx,pdf]==0.10.30) (2.2.1)\nRequirement already satisfied: typing-extensions in /local_disk0/.ephemeral_nfs/envs/pythonEnv-37cbe678-9b9d-4596-9894-95bc00e96132/lib/python3.11/site-packages (from unstructured[docx,pdf]==0.10.30) (4.13.2)\nRequirement already satisfied: onnx in /local_disk0/.ephemeral_nfs/envs/pythonEnv-37cbe678-9b9d-4596-9894-95bc00e96132/lib/python3.11/site-packages (from unstructured[docx,pdf]==0.10.30) (1.18.0)\nRequirement already satisfied: pdf2image in /local_disk0/.ephemeral_nfs/envs/pythonEnv-37cbe678-9b9d-4596-9894-95bc00e96132/lib/python3.11/site-packages (from unstructured[docx,pdf]==0.10.30) (1.17.0)\nRequirement already satisfied: pdfminer.six in /local_disk0/.ephemeral_nfs/envs/pythonEnv-37cbe678-9b9d-4596-9894-95bc00e96132/lib/python3.11/site-packages (from unstructured[docx,pdf]==0.10.30) (20250327)\nRequirement already satisfied: unstructured-inference==0.7.11 in /local_disk0/.ephemeral_nfs/envs/pythonEnv-37cbe678-9b9d-4596-9894-95bc00e96132/lib/python3.11/site-packages (from unstructured[docx,pdf]==0.10.30) (0.7.11)\nRequirement already satisfied: unstructured.pytesseract>=0.3.12 in /local_disk0/.ephemeral_nfs/envs/pythonEnv-37cbe678-9b9d-4596-9894-95bc00e96132/lib/python3.11/site-packages (from unstructured[docx,pdf]==0.10.30) (0.3.15)\nRequirement already satisfied: python-docx>=1.1.0 in /local_disk0/.ephemeral_nfs/envs/pythonEnv-37cbe678-9b9d-4596-9894-95bc00e96132/lib/python3.11/site-packages (from unstructured[docx,pdf]==0.10.30) (1.1.2)\nRequirement already satisfied: SQLAlchemy<3,>=1.4 in /local_disk0/.ephemeral_nfs/envs/pythonEnv-37cbe678-9b9d-4596-9894-95bc00e96132/lib/python3.11/site-packages (from langchain==0.1.5) (2.0.41)\nRequirement already satisfied: aiohttp<4.0.0,>=3.8.3 in /local_disk0/.ephemeral_nfs/envs/pythonEnv-37cbe678-9b9d-4596-9894-95bc00e96132/lib/python3.11/site-packages (from langchain==0.1.5) (3.12.2)\nRequirement already satisfied: jsonpatch<2.0,>=1.33 in /databricks/python3/lib/python3.11/site-packages (from langchain==0.1.5) (1.33)\nRequirement already satisfied: langchain-community<0.1,>=0.0.17 in /local_disk0/.ephemeral_nfs/envs/pythonEnv-37cbe678-9b9d-4596-9894-95bc00e96132/lib/python3.11/site-packages (from langchain==0.1.5) (0.0.20)\nRequirement already satisfied: langchain-core<0.2,>=0.1.16 in /local_disk0/.ephemeral_nfs/envs/pythonEnv-37cbe678-9b9d-4596-9894-95bc00e96132/lib/python3.11/site-packages (from langchain==0.1.5) (0.1.23)\nRequirement already satisfied: langsmith<0.1,>=0.0.83 in /local_disk0/.ephemeral_nfs/envs/pythonEnv-37cbe678-9b9d-4596-9894-95bc00e96132/lib/python3.11/site-packages (from langchain==0.1.5) (0.0.87)\nRequirement already satisfied: tenacity<9.0.0,>=8.1.0 in /databricks/python3/lib/python3.11/site-packages (from langchain==0.1.5) (8.2.2)\nRequirement already satisfied: aiostream<0.6.0,>=0.5.2 in /local_disk0/.ephemeral_nfs/envs/pythonEnv-37cbe678-9b9d-4596-9894-95bc00e96132/lib/python3.11/site-packages (from llama-index==0.9.3) (0.5.2)\nRequirement already satisfied: deprecated>=1.2.9.3 in /databricks/python3/lib/python3.11/site-packages (from llama-index==0.9.3) (1.2.14)\nRequirement already satisfied: fsspec>=2023.5.0 in /databricks/python3/lib/python3.11/site-packages (from llama-index==0.9.3) (2023.5.0)\nRequirement already satisfied: httpx in /databricks/python3/lib/python3.11/site-packages (from llama-index==0.9.3) (0.27.0)\nRequirement already satisfied: nest-asyncio<2.0.0,>=1.5.8 in /local_disk0/.ephemeral_nfs/envs/pythonEnv-37cbe678-9b9d-4596-9894-95bc00e96132/lib/python3.11/site-packages (from llama-index==0.9.3) (1.6.0)\nRequirement already satisfied: openai>=1.1.0 in /databricks/python3/lib/python3.11/site-packages (from llama-index==0.9.3) (1.35.3)\nRequirement already satisfied: pandas[jinja2] in /databricks/python3/lib/python3.11/site-packages (from llama-index==0.9.3) (1.5.3)\nRequirement already satisfied: tiktoken>=0.3.3 in /databricks/python3/lib/python3.11/site-packages (from llama-index==0.9.3) (0.5.2)\nRequirement already satisfied: typing-inspect>=0.8.0 in /databricks/python3/lib/python3.11/site-packages (from llama-index==0.9.3) (0.9.0)\nRequirement already satisfied: urllib3<2 in /databricks/python3/lib/python3.11/site-packages (from llama-index==0.9.3) (1.26.16)\nRequirement already satisfied: mlflow-skinny<3,>=2.4.0 in /databricks/python3/lib/python3.11/site-packages (from databricks-vectorsearch==0.22) (2.19.0)\nRequirement already satisfied: protobuf<5,>=3.12.0 in /local_disk0/.ephemeral_nfs/envs/pythonEnv-37cbe678-9b9d-4596-9894-95bc00e96132/lib/python3.11/site-packages (from databricks-vectorsearch==0.22) (4.25.7)\nRequirement already satisfied: click<9,>=7.0 in /databricks/python3/lib/python3.11/site-packages (from mlflow==2.10.1) (8.0.4)\nRequirement already satisfied: cloudpickle<4 in /databricks/python3/lib/python3.11/site-packages (from mlflow==2.10.1) (2.2.1)\nRequirement already satisfied: databricks-cli<1,>=0.8.7 in /local_disk0/.ephemeral_nfs/envs/pythonEnv-37cbe678-9b9d-4596-9894-95bc00e96132/lib/python3.11/site-packages (from mlflow==2.10.1) (0.18.0)\nRequirement already satisfied: entrypoints<1 in /databricks/python3/lib/python3.11/site-packages (from mlflow==2.10.1) (0.4)\nRequirement already satisfied: gitpython<4,>=2.1.0 in /databricks/python3/lib/python3.11/site-packages (from mlflow==2.10.1) (3.1.27)\nRequirement already satisfied: pytz<2024 in /databricks/python3/lib/python3.11/site-packages (from mlflow==2.10.1) (2022.7)\nRequirement already satisfied: importlib-metadata!=4.7.0,<8,>=3.7.0 in /databricks/python3/lib/python3.11/site-packages (from mlflow==2.10.1) (6.0.0)\nRequirement already satisfied: sqlparse<1,>=0.4.0 in /databricks/python3/lib/python3.11/site-packages (from mlflow==2.10.1) (0.4.2)\nRequirement already satisfied: alembic!=1.10.0,<2 in /local_disk0/.ephemeral_nfs/envs/pythonEnv-37cbe678-9b9d-4596-9894-95bc00e96132/lib/python3.11/site-packages (from mlflow==2.10.1) (1.16.1)\nRequirement already satisfied: docker<8,>=4.0.0 in /local_disk0/.ephemeral_nfs/envs/pythonEnv-37cbe678-9b9d-4596-9894-95bc00e96132/lib/python3.11/site-packages (from mlflow==2.10.1) (7.1.0)\nRequirement already satisfied: Flask<4 in /databricks/python3/lib/python3.11/site-packages (from mlflow==2.10.1) (2.2.5)\nRequirement already satisfied: scipy<2 in /databricks/python3/lib/python3.11/site-packages (from mlflow==2.10.1) (1.11.1)\nRequirement already satisfied: querystring-parser<2 in /local_disk0/.ephemeral_nfs/envs/pythonEnv-37cbe678-9b9d-4596-9894-95bc00e96132/lib/python3.11/site-packages (from mlflow==2.10.1) (1.2.4)\nRequirement already satisfied: scikit-learn<2 in /databricks/python3/lib/python3.11/site-packages (from mlflow==2.10.1) (1.3.0)\nRequirement already satisfied: pyarrow<16,>=4.0.0 in /databricks/python3/lib/python3.11/site-packages (from mlflow==2.10.1) (14.0.1)\nRequirement already satisfied: markdown<4,>=3.3 in /databricks/python3/lib/python3.11/site-packages (from mlflow==2.10.1) (3.4.1)\nRequirement already satisfied: matplotlib<4 in /databricks/python3/lib/python3.11/site-packages (from mlflow==2.10.1) (3.7.2)\nRequirement already satisfied: gunicorn<22 in /databricks/python3/lib/python3.11/site-packages (from mlflow==2.10.1) (20.1.0)\nRequirement already satisfied: Jinja2<4,>=2.11 in /databricks/python3/lib/python3.11/site-packages (from mlflow==2.10.1) (3.1.2)\nRequirement already satisfied: layoutparser[layoutmodels,tesseract] in /local_disk0/.ephemeral_nfs/envs/pythonEnv-37cbe678-9b9d-4596-9894-95bc00e96132/lib/python3.11/site-packages (from unstructured-inference==0.7.11->unstructured[docx,pdf]==0.10.30) (0.3.4)\nRequirement already satisfied: python-multipart in /local_disk0/.ephemeral_nfs/envs/pythonEnv-37cbe678-9b9d-4596-9894-95bc00e96132/lib/python3.11/site-packages (from unstructured-inference==0.7.11->unstructured[docx,pdf]==0.10.30) (0.0.20)\nRequirement already satisfied: opencv-python!=4.7.0.68 in /local_disk0/.ephemeral_nfs/envs/pythonEnv-37cbe678-9b9d-4596-9894-95bc00e96132/lib/python3.11/site-packages (from unstructured-inference==0.7.11->unstructured[docx,pdf]==0.10.30) (4.11.0.86)\nRequirement already satisfied: onnxruntime<1.16 in /local_disk0/.ephemeral_nfs/envs/pythonEnv-37cbe678-9b9d-4596-9894-95bc00e96132/lib/python3.11/site-packages (from unstructured-inference==0.7.11->unstructured[docx,pdf]==0.10.30) (1.15.1)\nRequirement already satisfied: aiohappyeyeballs>=2.5.0 in /local_disk0/.ephemeral_nfs/envs/pythonEnv-37cbe678-9b9d-4596-9894-95bc00e96132/lib/python3.11/site-packages (from aiohttp<4.0.0,>=3.8.3->langchain==0.1.5) (2.6.1)\nRequirement already satisfied: aiosignal>=1.1.2 in /databricks/python3/lib/python3.11/site-packages (from aiohttp<4.0.0,>=3.8.3->langchain==0.1.5) (1.2.0)\nRequirement already satisfied: attrs>=17.3.0 in /databricks/python3/lib/python3.11/site-packages (from aiohttp<4.0.0,>=3.8.3->langchain==0.1.5) (22.1.0)\nRequirement already satisfied: frozenlist>=1.1.1 in /databricks/python3/lib/python3.11/site-packages (from aiohttp<4.0.0,>=3.8.3->langchain==0.1.5) (1.3.3)\nRequirement already satisfied: multidict<7.0,>=4.5 in /databricks/python3/lib/python3.11/site-packages (from aiohttp<4.0.0,>=3.8.3->langchain==0.1.5) (6.0.2)\nRequirement already satisfied: propcache>=0.2.0 in /local_disk0/.ephemeral_nfs/envs/pythonEnv-37cbe678-9b9d-4596-9894-95bc00e96132/lib/python3.11/site-packages (from aiohttp<4.0.0,>=3.8.3->langchain==0.1.5) (0.3.1)\nRequirement already satisfied: yarl<2.0,>=1.17.0 in /local_disk0/.ephemeral_nfs/envs/pythonEnv-37cbe678-9b9d-4596-9894-95bc00e96132/lib/python3.11/site-packages (from aiohttp<4.0.0,>=3.8.3->langchain==0.1.5) (1.20.0)\nRequirement already satisfied: Mako in /databricks/python3/lib/python3.11/site-packages (from alembic!=1.10.0,<2->mlflow==2.10.1) (1.2.0)\nRequirement already satisfied: soupsieve>1.2 in /databricks/python3/lib/python3.11/site-packages (from beautifulsoup4->unstructured[docx,pdf]==0.10.30) (2.4)\nRequirement already satisfied: pyjwt>=1.7.0 in /usr/lib/python3/dist-packages (from databricks-cli<1,>=0.8.7->mlflow==2.10.1) (2.3.0)\nRequirement already satisfied: oauthlib>=3.1.0 in /usr/lib/python3/dist-packages (from databricks-cli<1,>=0.8.7->mlflow==2.10.1) (3.2.0)\nRequirement already satisfied: six>=1.10.0 in /usr/lib/python3/dist-packages (from databricks-cli<1,>=0.8.7->mlflow==2.10.1) (1.16.0)\nRequirement already satisfied: marshmallow<4.0.0,>=3.18.0 in /databricks/python3/lib/python3.11/site-packages (from dataclasses-json->unstructured[docx,pdf]==0.10.30) (3.21.2)\nRequirement already satisfied: wrapt<2,>=1.10 in /databricks/python3/lib/python3.11/site-packages (from deprecated>=1.2.9.3->llama-index==0.9.3) (1.14.1)\nRequirement already satisfied: Werkzeug>=2.2.2 in /databricks/python3/lib/python3.11/site-packages (from Flask<4->mlflow==2.10.1) (2.2.3)\nRequirement already satisfied: itsdangerous>=2.0 in /databricks/python3/lib/python3.11/site-packages (from Flask<4->mlflow==2.10.1) (2.0.1)\nRequirement already satisfied: gitdb<5,>=4.0.1 in /databricks/python3/lib/python3.11/site-packages (from gitpython<4,>=2.1.0->mlflow==2.10.1) (4.0.11)\nRequirement already satisfied: setuptools>=3.0 in /databricks/python3/lib/python3.11/site-packages (from gunicorn<22->mlflow==2.10.1) (68.0.0)\nRequirement already satisfied: zipp>=0.5 in /databricks/python3/lib/python3.11/site-packages (from importlib-metadata!=4.7.0,<8,>=3.7.0->mlflow==2.10.1) (3.11.0)\nRequirement already satisfied: MarkupSafe>=2.0 in /databricks/python3/lib/python3.11/site-packages (from Jinja2<4,>=2.11->mlflow==2.10.1) (2.1.1)\nRequirement already satisfied: jsonpointer>=1.9 in /databricks/python3/lib/python3.11/site-packages (from jsonpatch<2.0,>=1.33->langchain==0.1.5) (3.0.0)\nRequirement already satisfied: anyio<5,>=3 in /databricks/python3/lib/python3.11/site-packages (from langchain-core<0.2,>=0.1.16->langchain==0.1.5) (3.5.0)\nRequirement already satisfied: contourpy>=1.0.1 in /databricks/python3/lib/python3.11/site-packages (from matplotlib<4->mlflow==2.10.1) (1.0.5)\nRequirement already satisfied: cycler>=0.10 in /databricks/python3/lib/python3.11/site-packages (from matplotlib<4->mlflow==2.10.1) (0.11.0)\nRequirement already satisfied: fonttools>=4.22.0 in /databricks/python3/lib/python3.11/site-packages (from matplotlib<4->mlflow==2.10.1) (4.25.0)\nRequirement already satisfied: kiwisolver>=1.0.1 in /databricks/python3/lib/python3.11/site-packages (from matplotlib<4->mlflow==2.10.1) (1.4.4)\nRequirement already satisfied: pillow>=6.2.0 in /databricks/python3/lib/python3.11/site-packages (from matplotlib<4->mlflow==2.10.1) (9.4.0)\nRequirement already satisfied: pyparsing<3.1,>=2.3.1 in /databricks/python3/lib/python3.11/site-packages (from matplotlib<4->mlflow==2.10.1) (3.0.9)\nRequirement already satisfied: python-dateutil>=2.7 in /databricks/python3/lib/python3.11/site-packages (from matplotlib<4->mlflow==2.10.1) (2.8.2)\nRequirement already satisfied: cachetools<6,>=5.0.0 in /databricks/python3/lib/python3.11/site-packages (from mlflow-skinny<3,>=2.4.0->databricks-vectorsearch==0.22) (5.4.0)\nRequirement already satisfied: databricks-sdk<1,>=0.20.0 in /databricks/python3/lib/python3.11/site-packages (from mlflow-skinny<3,>=2.4.0->databricks-vectorsearch==0.22) (0.20.0)\nRequirement already satisfied: opentelemetry-api<3,>=1.9.0 in /databricks/python3/lib/python3.11/site-packages (from mlflow-skinny<3,>=2.4.0->databricks-vectorsearch==0.22) (1.25.0)\nRequirement already satisfied: opentelemetry-sdk<3,>=1.9.0 in /databricks/python3/lib/python3.11/site-packages (from mlflow-skinny<3,>=2.4.0->databricks-vectorsearch==0.22) (1.25.0)\nRequirement already satisfied: joblib in /databricks/python3/lib/python3.11/site-packages (from nltk->unstructured[docx,pdf]==0.10.30) (1.2.0)\nRequirement already satisfied: distro<2,>=1.7.0 in /usr/lib/python3/dist-packages (from openai>=1.1.0->llama-index==0.9.3) (1.7.0)\nRequirement already satisfied: sniffio in /databricks/python3/lib/python3.11/site-packages (from openai>=1.1.0->llama-index==0.9.3) (1.2.0)\nRequirement already satisfied: certifi in /databricks/python3/lib/python3.11/site-packages (from httpx->llama-index==0.9.3) (2023.7.22)\nRequirement already satisfied: httpcore==1.* in /databricks/python3/lib/python3.11/site-packages (from httpx->llama-index==0.9.3) (1.0.5)\nRequirement already satisfied: idna in /databricks/python3/lib/python3.11/site-packages (from httpx->llama-index==0.9.3) (3.4)\nRequirement already satisfied: h11<0.15,>=0.13 in /databricks/python3/lib/python3.11/site-packages (from httpcore==1.*->httpx->llama-index==0.9.3) (0.14.0)\nRequirement already satisfied: charset-normalizer<4,>=2 in /databricks/python3/lib/python3.11/site-packages (from requests->transformers==4.30.2) (2.0.4)\nRequirement already satisfied: threadpoolctl>=2.0.0 in /databricks/python3/lib/python3.11/site-packages (from scikit-learn<2->mlflow==2.10.1) (2.2.0)\nRequirement already satisfied: greenlet>=1 in /databricks/python3/lib/python3.11/site-packages (from SQLAlchemy<3,>=1.4->langchain==0.1.5) (2.0.1)\nRequirement already satisfied: mypy-extensions>=0.3.0 in /databricks/python3/lib/python3.11/site-packages (from typing-inspect>=0.8.0->llama-index==0.9.3) (0.4.3)\n\u001B[33mWARNING: pandas 1.5.3 does not provide the extra 'jinja2'\u001B[0m\u001B[33m\n\u001B[0mRequirement already satisfied: cryptography>=36.0.0 in /databricks/python3/lib/python3.11/site-packages (from pdfminer.six->unstructured[docx,pdf]==0.10.30) (41.0.3)\nRequirement already satisfied: cffi>=1.12 in /databricks/python3/lib/python3.11/site-packages (from cryptography>=36.0.0->pdfminer.six->unstructured[docx,pdf]==0.10.30) (1.15.1)\nRequirement already satisfied: google-auth~=2.0 in /databricks/python3/lib/python3.11/site-packages (from databricks-sdk<1,>=0.20.0->mlflow-skinny<3,>=2.4.0->databricks-vectorsearch==0.22) (2.21.0)\nRequirement already satisfied: smmap<6,>=3.0.1 in /databricks/python3/lib/python3.11/site-packages (from gitdb<5,>=4.0.1->gitpython<4,>=2.1.0->mlflow==2.10.1) (5.0.0)\nRequirement already satisfied: coloredlogs in /local_disk0/.ephemeral_nfs/envs/pythonEnv-37cbe678-9b9d-4596-9894-95bc00e96132/lib/python3.11/site-packages (from onnxruntime<1.16->unstructured-inference==0.7.11->unstructured[docx,pdf]==0.10.30) (15.0.1)\nRequirement already satisfied: flatbuffers in /databricks/python3/lib/python3.11/site-packages (from onnxruntime<1.16->unstructured-inference==0.7.11->unstructured[docx,pdf]==0.10.30) (24.3.25)\nRequirement already satisfied: sympy in /databricks/python3/lib/python3.11/site-packages (from onnxruntime<1.16->unstructured-inference==0.7.11->unstructured[docx,pdf]==0.10.30) (1.11.1)\nRequirement already satisfied: opentelemetry-semantic-conventions==0.46b0 in /databricks/python3/lib/python3.11/site-packages (from opentelemetry-sdk<3,>=1.9.0->mlflow-skinny<3,>=2.4.0->databricks-vectorsearch==0.22) (0.46b0)\nRequirement already satisfied: iopath in /local_disk0/.ephemeral_nfs/envs/pythonEnv-37cbe678-9b9d-4596-9894-95bc00e96132/lib/python3.11/site-packages (from layoutparser[layoutmodels,tesseract]->unstructured-inference==0.7.11->unstructured[docx,pdf]==0.10.30) (0.1.10)\nRequirement already satisfied: pdfplumber in /local_disk0/.ephemeral_nfs/envs/pythonEnv-37cbe678-9b9d-4596-9894-95bc00e96132/lib/python3.11/site-packages (from layoutparser[layoutmodels,tesseract]->unstructured-inference==0.7.11->unstructured[docx,pdf]==0.10.30) (0.11.6)\nRequirement already satisfied: torch in /databricks/python3/lib/python3.11/site-packages (from layoutparser[layoutmodels,tesseract]->unstructured-inference==0.7.11->unstructured[docx,pdf]==0.10.30) (2.3.1+cpu)\nRequirement already satisfied: torchvision in /databricks/python3/lib/python3.11/site-packages (from layoutparser[layoutmodels,tesseract]->unstructured-inference==0.7.11->unstructured[docx,pdf]==0.10.30) (0.18.1+cpu)\nRequirement already satisfied: effdet in /local_disk0/.ephemeral_nfs/envs/pythonEnv-37cbe678-9b9d-4596-9894-95bc00e96132/lib/python3.11/site-packages (from layoutparser[layoutmodels,tesseract]->unstructured-inference==0.7.11->unstructured[docx,pdf]==0.10.30) (0.4.1)\nRequirement already satisfied: pytesseract in /databricks/python3/lib/python3.11/site-packages (from layoutparser[layoutmodels,tesseract]->unstructured-inference==0.7.11->unstructured[docx,pdf]==0.10.30) (0.3.10)\nRequirement already satisfied: pycparser in /databricks/python3/lib/python3.11/site-packages (from cffi>=1.12->cryptography>=36.0.0->pdfminer.six->unstructured[docx,pdf]==0.10.30) (2.21)\nRequirement already satisfied: pyasn1-modules>=0.2.1 in /databricks/python3/lib/python3.11/site-packages (from google-auth~=2.0->databricks-sdk<1,>=0.20.0->mlflow-skinny<3,>=2.4.0->databricks-vectorsearch==0.22) (0.2.8)\nRequirement already satisfied: rsa<5,>=3.1.4 in /databricks/python3/lib/python3.11/site-packages (from google-auth~=2.0->databricks-sdk<1,>=0.20.0->mlflow-skinny<3,>=2.4.0->databricks-vectorsearch==0.22) (4.9)\nRequirement already satisfied: humanfriendly>=9.1 in /local_disk0/.ephemeral_nfs/envs/pythonEnv-37cbe678-9b9d-4596-9894-95bc00e96132/lib/python3.11/site-packages (from coloredlogs->onnxruntime<1.16->unstructured-inference==0.7.11->unstructured[docx,pdf]==0.10.30) (10.0)\nRequirement already satisfied: timm>=0.9.2 in /local_disk0/.ephemeral_nfs/envs/pythonEnv-37cbe678-9b9d-4596-9894-95bc00e96132/lib/python3.11/site-packages (from effdet->layoutparser[layoutmodels,tesseract]->unstructured-inference==0.7.11->unstructured[docx,pdf]==0.10.30) (1.0.15)\nRequirement already satisfied: pycocotools>=2.0.2 in /local_disk0/.ephemeral_nfs/envs/pythonEnv-37cbe678-9b9d-4596-9894-95bc00e96132/lib/python3.11/site-packages (from effdet->layoutparser[layoutmodels,tesseract]->unstructured-inference==0.7.11->unstructured[docx,pdf]==0.10.30) (2.0.8)\nRequirement already satisfied: omegaconf>=2.0 in /local_disk0/.ephemeral_nfs/envs/pythonEnv-37cbe678-9b9d-4596-9894-95bc00e96132/lib/python3.11/site-packages (from effdet->layoutparser[layoutmodels,tesseract]->unstructured-inference==0.7.11->unstructured[docx,pdf]==0.10.30) (2.3.0)\nRequirement already satisfied: networkx in /databricks/python3/lib/python3.11/site-packages (from torch->layoutparser[layoutmodels,tesseract]->unstructured-inference==0.7.11->unstructured[docx,pdf]==0.10.30) (3.1)\nRequirement already satisfied: portalocker in /databricks/python3/lib/python3.11/site-packages (from iopath->layoutparser[layoutmodels,tesseract]->unstructured-inference==0.7.11->unstructured[docx,pdf]==0.10.30) (2.10.1)\nRequirement already satisfied: pypdfium2>=4.18.0 in /local_disk0/.ephemeral_nfs/envs/pythonEnv-37cbe678-9b9d-4596-9894-95bc00e96132/lib/python3.11/site-packages (from pdfplumber->layoutparser[layoutmodels,tesseract]->unstructured-inference==0.7.11->unstructured[docx,pdf]==0.10.30) (4.30.1)\nRequirement already satisfied: mpmath>=0.19 in /databricks/python3/lib/python3.11/site-packages (from sympy->onnxruntime<1.16->unstructured-inference==0.7.11->unstructured[docx,pdf]==0.10.30) (1.3.0)\nRequirement already satisfied: antlr4-python3-runtime==4.9.* in /local_disk0/.ephemeral_nfs/envs/pythonEnv-37cbe678-9b9d-4596-9894-95bc00e96132/lib/python3.11/site-packages (from omegaconf>=2.0->effdet->layoutparser[layoutmodels,tesseract]->unstructured-inference==0.7.11->unstructured[docx,pdf]==0.10.30) (4.9.3)\nRequirement already satisfied: pyasn1<0.5.0,>=0.4.6 in /databricks/python3/lib/python3.11/site-packages (from pyasn1-modules>=0.2.1->google-auth~=2.0->databricks-sdk<1,>=0.20.0->mlflow-skinny<3,>=2.4.0->databricks-vectorsearch==0.22) (0.4.8)\n\u001B[43mNote: you may need to restart the kernel using %restart_python or dbutils.library.restartPython() to use updated packages.\u001B[0m\n"
     ]
    }
   ],
   "source": [
    "%pip install transformers==4.30.2 \"unstructured[pdf,docx]==0.10.30\" langchain==0.1.5 llama-index==0.9.3 databricks-vectorsearch==0.22 pydantic==1.10.9 mlflow==2.10.1\n",
    "dbutils.library.restartPython()"
   ]
  },
  {
   "cell_type": "markdown",
   "metadata": {
    "application/vnd.databricks.v1+cell": {
     "cellMetadata": {
      "byteLimit": 2048000,
      "rowLimit": 10000
     },
     "inputWidgets": {},
     "nuid": "32253b7c-95c3-4ad2-af31-4d26880ee084",
     "showTitle": false,
     "tableResultSettingsMap": {},
     "title": ""
    }
   },
   "source": [
    "### Init our resources and catalog"
   ]
  },
  {
   "cell_type": "code",
   "execution_count": 0,
   "metadata": {
    "application/vnd.databricks.v1+cell": {
     "cellMetadata": {
      "byteLimit": 2048000,
      "rowLimit": 10000
     },
     "inputWidgets": {},
     "nuid": "c29a9621-f046-4c60-8dce-3e5aea40389c",
     "showTitle": false,
     "tableResultSettingsMap": {},
     "title": ""
    }
   },
   "outputs": [],
   "source": [
    "%run ./00-init $reset_all_data=false"
   ]
  },
  {
   "cell_type": "markdown",
   "metadata": {
    "application/vnd.databricks.v1+cell": {
     "cellMetadata": {
      "byteLimit": 2048000,
      "rowLimit": 10000
     },
     "inputWidgets": {},
     "nuid": "2b690608-abb2-4818-ac96-f7bfed86d4f8",
     "showTitle": false,
     "tableResultSettingsMap": {},
     "title": ""
    }
   },
   "source": [
    "###pdf files are available in Volume (or DBFS)"
   ]
  },
  {
   "cell_type": "code",
   "execution_count": 0,
   "metadata": {
    "application/vnd.databricks.v1+cell": {
     "cellMetadata": {
      "byteLimit": 2048000,
      "rowLimit": 10000
     },
     "inputWidgets": {},
     "nuid": "cde9a987-4418-4fee-a890-37aa39ea638d",
     "showTitle": false,
     "tableResultSettingsMap": {},
     "title": ""
    }
   },
   "outputs": [
    {
     "output_type": "display_data",
     "data": {
      "text/html": [
       "<style scoped>\n",
       "  .table-result-container {\n",
       "    max-height: 300px;\n",
       "    overflow: auto;\n",
       "  }\n",
       "  table, th, td {\n",
       "    border: 1px solid black;\n",
       "    border-collapse: collapse;\n",
       "  }\n",
       "  th, td {\n",
       "    padding: 5px;\n",
       "  }\n",
       "  th {\n",
       "    text-align: left;\n",
       "  }\n",
       "</style><div class='table-result-container'><table class='table-result'><thead style='background-color: white'><tr><th>path</th><th>name</th><th>size</th><th>modificationTime</th></tr></thead><tbody><tr><td>dbfs:/Volumes/cronos_unity_catalog/cdata/banking_unity_catalog/PDFs/DAILY NEWS 1.pdf</td><td>DAILY NEWS 1.pdf</td><td>589116</td><td>1748337028000</td></tr><tr><td>dbfs:/Volumes/cronos_unity_catalog/cdata/banking_unity_catalog/PDFs/DAILY NEWS 2.pdf</td><td>DAILY NEWS 2.pdf</td><td>597777</td><td>1748337028000</td></tr><tr><td>dbfs:/Volumes/cronos_unity_catalog/cdata/banking_unity_catalog/PDFs/Woodgrove - Insurance_Summary Plan Description_Employee Benefits-0.pdf</td><td>Woodgrove - Insurance_Summary Plan Description_Employee Benefits-0.pdf</td><td>132937</td><td>1748337027000</td></tr><tr><td>dbfs:/Volumes/cronos_unity_catalog/cdata/banking_unity_catalog/PDFs/Woodgrove - Insurance_Summary Plan Description_Employee Benefits-1.pdf</td><td>Woodgrove - Insurance_Summary Plan Description_Employee Benefits-1.pdf</td><td>1822981</td><td>1748337028000</td></tr><tr><td>dbfs:/Volumes/cronos_unity_catalog/cdata/banking_unity_catalog/PDFs/Woodgrove - Insurance_Summary Plan Description_Employee Benefits-12.pdf</td><td>Woodgrove - Insurance_Summary Plan Description_Employee Benefits-12.pdf</td><td>181288</td><td>1748337028000</td></tr><tr><td>dbfs:/Volumes/cronos_unity_catalog/cdata/banking_unity_catalog/PDFs/Woodgrove - Insurance_Summary Plan Description_Employee Benefits-13.pdf</td><td>Woodgrove - Insurance_Summary Plan Description_Employee Benefits-13.pdf</td><td>311881</td><td>1748337028000</td></tr><tr><td>dbfs:/Volumes/cronos_unity_catalog/cdata/banking_unity_catalog/PDFs/Woodgrove - Insurance_Summary Plan Description_Employee Benefits-2.pdf</td><td>Woodgrove - Insurance_Summary Plan Description_Employee Benefits-2.pdf</td><td>87406</td><td>1748337028000</td></tr><tr><td>dbfs:/Volumes/cronos_unity_catalog/cdata/banking_unity_catalog/PDFs/Woodgrove - Insurance_Summary Plan Description_Employee Benefits-5.pdf</td><td>Woodgrove - Insurance_Summary Plan Description_Employee Benefits-5.pdf</td><td>386321</td><td>1748337028000</td></tr></tbody></table></div>"
      ]
     },
     "metadata": {
      "application/vnd.databricks.v1+output": {
       "addedWidgets": {},
       "aggData": [],
       "aggError": "",
       "aggOverflow": false,
       "aggSchema": [],
       "aggSeriesLimitReached": false,
       "aggType": "",
       "arguments": {},
       "columnCustomDisplayInfos": {},
       "data": [
        [
         "dbfs:/Volumes/cronos_unity_catalog/cdata/banking_unity_catalog/PDFs/DAILY NEWS 1.pdf",
         "DAILY NEWS 1.pdf",
         589116,
         1748337028000
        ],
        [
         "dbfs:/Volumes/cronos_unity_catalog/cdata/banking_unity_catalog/PDFs/DAILY NEWS 2.pdf",
         "DAILY NEWS 2.pdf",
         597777,
         1748337028000
        ],
        [
         "dbfs:/Volumes/cronos_unity_catalog/cdata/banking_unity_catalog/PDFs/Woodgrove - Insurance_Summary Plan Description_Employee Benefits-0.pdf",
         "Woodgrove - Insurance_Summary Plan Description_Employee Benefits-0.pdf",
         132937,
         1748337027000
        ],
        [
         "dbfs:/Volumes/cronos_unity_catalog/cdata/banking_unity_catalog/PDFs/Woodgrove - Insurance_Summary Plan Description_Employee Benefits-1.pdf",
         "Woodgrove - Insurance_Summary Plan Description_Employee Benefits-1.pdf",
         1822981,
         1748337028000
        ],
        [
         "dbfs:/Volumes/cronos_unity_catalog/cdata/banking_unity_catalog/PDFs/Woodgrove - Insurance_Summary Plan Description_Employee Benefits-12.pdf",
         "Woodgrove - Insurance_Summary Plan Description_Employee Benefits-12.pdf",
         181288,
         1748337028000
        ],
        [
         "dbfs:/Volumes/cronos_unity_catalog/cdata/banking_unity_catalog/PDFs/Woodgrove - Insurance_Summary Plan Description_Employee Benefits-13.pdf",
         "Woodgrove - Insurance_Summary Plan Description_Employee Benefits-13.pdf",
         311881,
         1748337028000
        ],
        [
         "dbfs:/Volumes/cronos_unity_catalog/cdata/banking_unity_catalog/PDFs/Woodgrove - Insurance_Summary Plan Description_Employee Benefits-2.pdf",
         "Woodgrove - Insurance_Summary Plan Description_Employee Benefits-2.pdf",
         87406,
         1748337028000
        ],
        [
         "dbfs:/Volumes/cronos_unity_catalog/cdata/banking_unity_catalog/PDFs/Woodgrove - Insurance_Summary Plan Description_Employee Benefits-5.pdf",
         "Woodgrove - Insurance_Summary Plan Description_Employee Benefits-5.pdf",
         386321,
         1748337028000
        ]
       ],
       "datasetInfos": [],
       "dbfsResultPath": null,
       "isJsonSchema": true,
       "metadata": {},
       "overflow": false,
       "plotOptions": {
        "customPlotOptions": {},
        "displayType": "table",
        "pivotAggregation": null,
        "pivotColumns": null,
        "xColumns": null,
        "yColumns": null
       },
       "removedWidgets": [],
       "schema": [
        {
         "metadata": "{}",
         "name": "path",
         "type": "\"string\""
        },
        {
         "metadata": "{}",
         "name": "name",
         "type": "\"string\""
        },
        {
         "metadata": "{}",
         "name": "size",
         "type": "\"long\""
        },
        {
         "metadata": "{}",
         "name": "modificationTime",
         "type": "\"long\""
        }
       ],
       "type": "table"
      }
     },
     "output_type": "display_data"
    }
   ],
   "source": [
    "# List our raw PDF docs\n",
    "volume_folder =  f\"/Volumes/{catalog}/{db}/banking_unity_catalog/PDFs\"   \n",
    "\n",
    "display(dbutils.fs.ls(volume_folder))"
   ]
  },
  {
   "cell_type": "markdown",
   "metadata": {
    "application/vnd.databricks.v1+cell": {
     "cellMetadata": {
      "byteLimit": 2048000,
      "rowLimit": 10000
     },
     "inputWidgets": {},
     "nuid": "1a83d0c8-132b-4067-a6eb-fee5e80fe0ab",
     "showTitle": false,
     "tableResultSettingsMap": {},
     "title": ""
    }
   },
   "source": [
    "### Transform pdf as text"
   ]
  },
  {
   "cell_type": "code",
   "execution_count": 0,
   "metadata": {
    "application/vnd.databricks.v1+cell": {
     "cellMetadata": {
      "byteLimit": 2048000,
      "rowLimit": 10000
     },
     "inputWidgets": {},
     "nuid": "e7ce001d-0642-4529-a93e-2adfbbda7331",
     "showTitle": false,
     "tableResultSettingsMap": {},
     "title": ""
    }
   },
   "outputs": [
    {
     "output_type": "stream",
     "name": "stderr",
     "output_type": "stream",
     "text": [
      "2025-05-27 10:30:41.958463: I external/local_tsl/tsl/cuda/cudart_stub.cc:32] Could not find cuda drivers on your machine, GPU will not be used.\n2025-05-27 10:30:41.963232: I external/local_tsl/tsl/cuda/cudart_stub.cc:32] Could not find cuda drivers on your machine, GPU will not be used.\n2025-05-27 10:30:42.020461: I tensorflow/core/platform/cpu_feature_guard.cc:210] This TensorFlow binary is optimized to use available CPU instructions in performance-critical operations.\nTo enable the following instructions: AVX2 AVX512F FMA, in other operations, rebuild TensorFlow with the appropriate compiler flags.\n2025-05-27 10:30:43.458033: W tensorflow/compiler/tf2tensorrt/utils/py_utils.cc:38] TF-TRT Warning: Could not find TensorRT\n"
     ]
    }
   ],
   "source": [
    "from unstructured.partition.auto import partition\n",
    "import re\n",
    "\n",
    "def extract_doc_text(x : bytes) -> str:\n",
    "  # Read files and extract the values with unstructured\n",
    "  sections = partition(file=io.BytesIO(x))\n",
    "  def clean_section(txt):\n",
    "    txt = re.sub(r'\\n', '', txt)\n",
    "    return re.sub(r' ?\\.', '.', txt)\n",
    "  # Default split is by section of document, concatenate them all together because we want to split by sentence instead.\n",
    "  return \"\\n\".join([clean_section(s.text) for s in sections]) "
   ]
  },
  {
   "cell_type": "code",
   "execution_count": 0,
   "metadata": {
    "application/vnd.databricks.v1+cell": {
     "cellMetadata": {
      "byteLimit": 2048000,
      "implicitDf": true,
      "rowLimit": 10000
     },
     "inputWidgets": {},
     "nuid": "695ca251-c747-4e24-8677-39f706c4071d",
     "showTitle": false,
     "tableResultSettingsMap": {},
     "title": ""
    }
   },
   "outputs": [
    {
     "output_type": "display_data",
     "data": {
      "text/html": [
       "<style scoped>\n",
       "  .table-result-container {\n",
       "    max-height: 300px;\n",
       "    overflow: auto;\n",
       "  }\n",
       "  table, th, td {\n",
       "    border: 1px solid black;\n",
       "    border-collapse: collapse;\n",
       "  }\n",
       "  th, td {\n",
       "    padding: 5px;\n",
       "  }\n",
       "  th {\n",
       "    text-align: left;\n",
       "  }\n",
       "</style><div class='table-result-container'><table class='table-result'><thead style='background-color: white'><tr></tr></thead><tbody></tbody></table></div>"
      ]
     },
     "metadata": {
      "application/vnd.databricks.v1+output": {
       "addedWidgets": {},
       "aggData": [],
       "aggError": "",
       "aggOverflow": false,
       "aggSchema": [],
       "aggSeriesLimitReached": false,
       "aggType": "",
       "arguments": {},
       "columnCustomDisplayInfos": {},
       "data": [],
       "datasetInfos": [],
       "dbfsResultPath": null,
       "isJsonSchema": true,
       "metadata": {
        "dataframeName": null
       },
       "overflow": false,
       "plotOptions": {
        "customPlotOptions": {},
        "displayType": "table",
        "pivotAggregation": null,
        "pivotColumns": null,
        "xColumns": null,
        "yColumns": null
       },
       "removedWidgets": [],
       "schema": [],
       "type": "table"
      }
     },
     "output_type": "display_data"
    }
   ],
   "source": [
    "%sql\n",
    "--Note that we need to enable Change Data Feed on the table to create the index\n",
    "CREATE TABLE IF NOT EXISTS cronos_unity_catalog.cdata.documents_embedding (\n",
    "  id BIGINT GENERATED BY DEFAULT AS IDENTITY,\n",
    "  url STRING,\n",
    "  content STRING,\n",
    "  embedding STRING\n",
    ") TBLPROPERTIES (delta.enableChangeDataFeed = true); "
   ]
  },
  {
   "cell_type": "markdown",
   "metadata": {
    "application/vnd.databricks.v1+cell": {
     "cellMetadata": {
      "byteLimit": 2048000,
      "rowLimit": 10000
     },
     "inputWidgets": {},
     "nuid": "f66560e1-1b7d-4383-a5b2-bd35e8e9f14d",
     "showTitle": false,
     "tableResultSettingsMap": {},
     "title": ""
    }
   },
   "source": [
    "#### Create the final documents_embedding table containing chunks and embeddings"
   ]
  },
  {
   "cell_type": "code",
   "execution_count": 0,
   "metadata": {
    "application/vnd.databricks.v1+cell": {
     "cellMetadata": {
      "byteLimit": 2048000,
      "rowLimit": 10000
     },
     "inputWidgets": {},
     "nuid": "3cd3d284-4ae1-4a72-9392-db0db8223881",
     "showTitle": false,
     "tableResultSettingsMap": {},
     "title": ""
    }
   },
   "outputs": [
    {
     "output_type": "stream",
     "name": "stdout",
     "output_type": "stream",
     "text": [
      "+--------------------+-------------------+-------+--------------------+--------------------+\n|                path|   modificationTime| length|             content|                text|\n+--------------------+-------------------+-------+--------------------+--------------------+\n|dbfs:/Volumes/cro...|2025-05-27 09:10:28|1822981|[25 50 44 46 2D 3...|2023 Summary Plan...|\n|dbfs:/Volumes/cro...|2025-05-27 09:10:28| 597777|[25 50 44 46 2D 3...|DAILY NEWS DAILY ...|\n+--------------------+-------------------+-------+--------------------+--------------------+\nonly showing top 2 rows\n\n"
     ]
    }
   ],
   "source": [
    "from pyspark.sql import SparkSession, functions as F\n",
    "import io\n",
    "from llama_index.langchain_helpers.text_splitter import SentenceSplitter\n",
    "from llama_index import Document, set_global_tokenizer\n",
    "from transformers import AutoTokenizer\n",
    "\n",
    "# Reduce the arrow batch size as our PDF can be big in memory\n",
    "spark.conf.set(\"spark.sql.execution.arrow.maxRecordsPerBatch\", 10)\n",
    "\n",
    "# Define the function to read data as chunks\n",
    "def read_as_chunk(text):\n",
    "    # set llama2 as tokenizer to match our model size (will stay below BGE 1024 limit)\n",
    "    set_global_tokenizer(\n",
    "        AutoTokenizer.from_pretrained(\"hf-internal-testing/llama-tokenizer\")\n",
    "    )\n",
    "    # Sentence splitter from llama_index to split on sentences\n",
    "    splitter = SentenceSplitter(chunk_size=500, chunk_overlap=50)\n",
    "    txt = extract_doc_text(text)\n",
    "    nodes = splitter.get_nodes_from_documents([Document(text=txt)])\n",
    "    return [n.text for n in nodes]\n",
    "\n",
    "# Register the UDF\n",
    "read_as_chunk_udf = F.udf(read_as_chunk, F.ArrayType(F.StringType()))\n",
    "\n",
    "# Read data from the 'pdf_raw' table\n",
    "df = spark.read.table(f\"{catalog}.{db}.documents_raw\")\n",
    "\n",
    "# Use withColumn and the UDF to add a new column\n",
    "df = df.withColumn(\"text\", F.explode(read_as_chunk_udf(df.content)))\n",
    "\n",
    "# Show the modified DataFrame\n",
    "df.show(2)"
   ]
  },
  {
   "cell_type": "markdown",
   "metadata": {
    "application/vnd.databricks.v1+cell": {
     "cellMetadata": {
      "byteLimit": 2048000,
      "rowLimit": 10000
     },
     "inputWidgets": {},
     "nuid": "56f29416-4cd2-4a19-9156-99d1cdd1bf4c",
     "showTitle": false,
     "tableResultSettingsMap": {},
     "title": ""
    }
   },
   "source": [
    "### Computing the chunk embeddings and saving them to our Delta Table\n"
   ]
  },
  {
   "cell_type": "code",
   "execution_count": 0,
   "metadata": {
    "application/vnd.databricks.v1+cell": {
     "cellMetadata": {
      "byteLimit": 2048000,
      "rowLimit": 10000
     },
     "inputWidgets": {},
     "nuid": "8d18edbb-2816-416f-8e07-4620e9d94250",
     "showTitle": false,
     "tableResultSettingsMap": {},
     "title": ""
    }
   },
   "outputs": [
    {
     "output_type": "stream",
     "name": "stdout",
     "output_type": "stream",
     "text": [
      "+--------------------+-------------------+-------+--------------------+--------------------+--------------------+\n|                path|   modificationTime| length|             content|                text|           embedding|\n+--------------------+-------------------+-------+--------------------+--------------------+--------------------+\n|dbfs:/Volumes/cro...|2025-05-27 09:10:28|1822981|[25 50 44 46 2D 3...|2023 Summary Plan...|[0.0228271484375,...|\n|dbfs:/Volumes/cro...|2025-05-27 09:10:28| 597777|[25 50 44 46 2D 3...|DAILY NEWS DAILY ...|[0.02268981933593...|\n+--------------------+-------------------+-------+--------------------+--------------------+--------------------+\nonly showing top 2 rows\n\n"
     ]
    }
   ],
   "source": [
    "import mlflow.deployments\n",
    "from pyspark.sql import functions as F\n",
    "from pyspark.sql.functions import *\n",
    "\n",
    "def get_embedding(text: str) -> list[float]:\n",
    "    deploy_client = mlflow.deployments.get_deploy_client(\"databricks\")  # Assuming MLflow is configured\n",
    "\n",
    "    try:\n",
    "        response = deploy_client.predict(endpoint=\"databricks-bge-large-en\", inputs={\"input\": [text]}) # if required use: databricks-bge-large-en\n",
    "        return response.data[0]['embedding']  # Extract embedding for the single input\n",
    "    except Exception as e:\n",
    "        return None  # Handle potential errors\n",
    "\n",
    "\n",
    "get_embedding_udf = F.udf(get_embedding, F.StringType())  # Adjusted return type for single string\n",
    "df = df.withColumn(\"embedding\", get_embedding_udf(F.col(\"text\")))  # Apply UDF to text column\n",
    "\n",
    "df.show(2)"
   ]
  },
  {
   "cell_type": "markdown",
   "metadata": {
    "application/vnd.databricks.v1+cell": {
     "cellMetadata": {
      "byteLimit": 2048000,
      "rowLimit": 10000
     },
     "inputWidgets": {},
     "nuid": "625406ad-f9af-4605-a141-8fed6e6a53f6",
     "showTitle": false,
     "tableResultSettingsMap": {},
     "title": ""
    }
   },
   "source": [
    "### Store embedding table into Unity Catalog"
   ]
  },
  {
   "cell_type": "code",
   "execution_count": 0,
   "metadata": {
    "application/vnd.databricks.v1+cell": {
     "cellMetadata": {
      "byteLimit": 2048000,
      "rowLimit": 10000
     },
     "inputWidgets": {},
     "nuid": "87d34786-713e-4523-87e9-a9f1a0dda4b0",
     "showTitle": false,
     "tableResultSettingsMap": {},
     "title": ""
    }
   },
   "outputs": [],
   "source": [
    "from pyspark.sql.functions import concat\n",
    "\n",
    "df.selectExpr('path as url', 'text as content', 'embedding') \\\n",
    "  .write \\\n",
    "  .mode(\"append\") \\\n",
    "  .format(\"delta\") \\\n",
    "  .saveAsTable(f\"{catalog}.{db}.documents_embedding\")"
   ]
  }
 ],
 "metadata": {
  "application/vnd.databricks.v1+notebook": {
   "computePreferences": null,
   "dashboards": [],
   "environmentMetadata": null,
   "inputWidgetPreferences": null,
   "language": "python",
   "notebookMetadata": {
    "mostRecentlyExecutedCommandWithImplicitDF": {
     "commandId": 2406382095500841,
     "dataframes": [
      "_sqldf"
     ]
    },
    "pythonIndentUnit": 4
   },
   "notebookName": "2. Ingesting and preparing PDF for LLM and Self Managed Vector Search Embeddings",
   "widgets": {}
  },
  "language_info": {
   "name": "python"
  }
 },
 "nbformat": 4,
 "nbformat_minor": 0
}