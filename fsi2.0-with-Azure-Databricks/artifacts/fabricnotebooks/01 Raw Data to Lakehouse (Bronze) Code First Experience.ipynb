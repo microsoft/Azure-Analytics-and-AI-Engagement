{
 "cells": [
  {
   "cell_type": "markdown",
   "id": "836fd3ab-2ca5-4bbf-91c6-d876c5f658d9",
   "metadata": {
    "nteract": {
     "transient": {
      "deleting": false
     }
    }
   },
   "source": [
    "# **Code-First Experience**"
   ]
  },
  {
   "cell_type": "markdown",
   "id": "856f3f3d-223c-43f4-94d8-45ba97ab12be",
   "metadata": {
    "nteract": {
     "transient": {
      "deleting": false
     }
    }
   },
   "source": [
    "# Importing the necessary libraries"
   ]
  },
  {
   "cell_type": "code",
   "execution_count": null,
   "id": "bac986f6-aba2-4130-996e-45943c452681",
   "metadata": {
    "jupyter": {
     "outputs_hidden": false,
     "source_hidden": false
    },
    "microsoft": {
     "language": "python",
     "language_group": "synapse_pyspark"
    },
    "nteract": {
     "transient": {
      "deleting": false
     }
    }
   },
   "outputs": [
    {
     "data": {
      "application/vnd.livy.statement-meta+json": {
       "execution_finish_time": "2024-08-20T08:20:48.7661377Z",
       "execution_start_time": "2024-08-20T08:20:46.4313228Z",
       "livy_statement_state": "available",
       "normalized_state": "finished",
       "parent_msg_id": "463cc31c-744a-4da2-be79-ea1e1ec491e9",
       "queued_time": "2024-08-20T08:20:37.4598332Z",
       "session_id": "93a3a769-b7ec-41c5-b373-0abefdfb2267",
       "session_start_time": "2024-08-20T08:20:37.6794353Z",
       "spark_pool": null,
       "state": "finished",
       "statement_id": 3,
       "statement_ids": [
        3
       ]
      },
      "text/plain": [
       "StatementMeta(, 93a3a769-b7ec-41c5-b373-0abefdfb2267, 3, Finished, Available, Finished)"
      ]
     },
     "metadata": {},
     "output_type": "display_data"
    }
   ],
   "source": [
    "import os\n",
    "spark.conf.set(\"sprk.sql.parquet.vorder.enabled\", \"true\")\n",
    "spark.conf.set(\"spark.microsoft.delta.optimizeWrite.enabled\", \"true\")\n",
    "spark.conf.set(\"spark.microsoft.delta.optimizeWrite.binSize\", \"1073741824\")\n",
    "from pyspark.sql.functions import *\n",
    "from pyspark.sql.functions import col, unix_timestamp, to_date\n",
    "from pyspark.sql.types import DateType"
   ]
  },
  {
   "cell_type": "markdown",
   "id": "ecad6dba-3be3-40b5-95ee-e3b89362ff07",
   "metadata": {
    "nteract": {
     "transient": {
      "deleting": false
     }
    }
   },
   "source": [
    "# List of tables"
   ]
  },
  {
   "cell_type": "code",
   "execution_count": null,
   "id": "03259038-663b-4dae-aae4-6218662f96cb",
   "metadata": {
    "microsoft": {
     "language": "python",
     "language_group": "synapse_pyspark"
    }
   },
   "outputs": [
    {
     "data": {
      "application/vnd.livy.statement-meta+json": {
       "execution_finish_time": "2024-08-20T08:24:22.2892507Z",
       "execution_start_time": "2024-08-20T08:24:22.0573871Z",
       "livy_statement_state": "available",
       "normalized_state": "finished",
       "parent_msg_id": "e960d86f-712c-4f01-8712-e491e00874eb",
       "queued_time": "2024-08-20T08:24:21.657024Z",
       "session_id": "93a3a769-b7ec-41c5-b373-0abefdfb2267",
       "session_start_time": null,
       "spark_pool": null,
       "state": "finished",
       "statement_id": 10,
       "statement_ids": [
        10
       ]
      },
      "text/plain": [
       "StatementMeta(, 93a3a769-b7ec-41c5-b373-0abefdfb2267, 10, Finished, Available, Finished)"
      ]
     },
     "metadata": {},
     "output_type": "display_data"
    }
   ],
   "source": [
    "\n",
    "TablesList = [\n",
    "    'Region.csv',\n",
    "    'States.csv',\n",
    "    'Stockprice.csv',\n",
    "    'Climate-Risk.csv',\n",
    "    'CreditCheck.csv'\n",
    "    ]"
   ]
  },
  {
   "cell_type": "markdown",
   "id": "562a650b-c8f3-40e4-b077-0e377d8ade0b",
   "metadata": {
    "nteract": {
     "transient": {
      "deleting": false
     }
    }
   },
   "source": [
    "## Reading the data from source csv"
   ]
  },
  {
   "cell_type": "code",
   "execution_count": null,
   "id": "bbc395dc-9537-485d-83f3-d5187fd4e08d",
   "metadata": {
    "jupyter": {
     "outputs_hidden": false,
     "source_hidden": false
    },
    "microsoft": {
     "language": "python",
     "language_group": "synapse_pyspark"
    },
    "nteract": {
     "transient": {
      "deleting": false
     }
    }
   },
   "outputs": [
    {
     "data": {
      "application/vnd.livy.statement-meta+json": {
       "execution_finish_time": "2024-08-20T08:26:37.7901949Z",
       "execution_start_time": "2024-08-20T08:26:37.5501359Z",
       "livy_statement_state": "available",
       "normalized_state": "finished",
       "parent_msg_id": "1f981be3-11ac-4cd1-b486-6ded2c17421d",
       "queued_time": "2024-08-20T08:26:37.0891978Z",
       "session_id": "93a3a769-b7ec-41c5-b373-0abefdfb2267",
       "session_start_time": null,
       "spark_pool": null,
       "state": "finished",
       "statement_id": 13,
       "statement_ids": [
        13
       ]
      },
      "text/plain": [
       "StatementMeta(, 93a3a769-b7ec-41c5-b373-0abefdfb2267, 13, Finished, Available, Finished)"
      ]
     },
     "metadata": {},
     "output_type": "display_data"
    }
   ],
   "source": [
    "from pyspark.sql.functions import to_date, unix_timestamp, col, year, quarter, month\n",
    "\n",
    "def LoadFullDataFromSource(Table_Name):\n",
    "    file_location = \"abfss://#SALES_WORKSPACE_NAME#@onelake.dfs.fabric.microsoft.com/#LAKEHOUSE_BRONZE#/Files/FSI-Rawdata/\" + Table_Name\n",
    "    df = spark.read.format(\"csv\").option(\"header\",\"true\").load(file_location)\n",
    "    \n",
    "    if  \"CreditCheck\" in Table_Name: \n",
    "        Table_Name = \"CreditCheck\"\n",
    "        \n",
    "        print(\"loading full data for table \" + Table_Name + \"...\")\n",
    "        df = df.withColumn(\"LastBankruptDate\", to_date(col('Last Bankrupt Date'), 'MM-dd-yyyy'))\n",
    "        df = df.withColumn(\"LastCreditCheckAssessment\", to_date(col('Last Credit Check Assessment'), 'MM-dd-yyyy'))\n",
    "        df = df.withColumn(\"LastDefaultDate\", to_date(col('Last Default Date'), 'MM-dd-yyyy'))\n",
    "        df = df.withColumn(\"LastMissedPayment\", to_date(col('Last Missed Payment'), 'MM-dd-yyyy'))\n",
    "        df = df.withColumn(\"CreatedOn\", to_date(col('Created On'), 'MM-dd-yyyy'))\n",
    "        df = df.withColumn(\"ModifiedOn\", to_date(col('Modified On'), 'MM-dd-yyyy'))\n",
    "        df = df.withColumn(\"RecordCreatedOn\", to_date(col('Record Created On'), 'MM-dd-yyyy'))\n",
    "        df.write.mode(\"overwrite\").format(\"csv\").option(\"header\", \"true\").save(\"Files/bronze/\" + Table_Name)\n",
    "        \n",
    "        print(\"loaded full data for table \" + Table_Name + \"!\")\n",
    "    \n",
    "    else:\n",
    "        print(\"loading full data for table \" + Table_Name + \"...\")\n",
    "        df.write.mode(\"overwrite\").format(\"csv\").option(\"header\", \"true\").save(\"Files/bronze/\" + Table_Name)\n",
    "        print(\"loaded full data for table \" + Table_Name + \"!\")\n"
   ]
  },
  {
   "cell_type": "markdown",
   "id": "5f3d110f-fccd-40bc-b09e-fd96ef4d8677",
   "metadata": {
    "nteract": {
     "transient": {
      "deleting": false
     }
    }
   },
   "source": [
    "# Calling the user defined function"
   ]
  },
  {
   "cell_type": "code",
   "execution_count": null,
   "id": "55413bc4-61fd-4c4a-aad5-db53c1869823",
   "metadata": {
    "jupyter": {
     "outputs_hidden": false,
     "source_hidden": false
    },
    "microsoft": {
     "language": "python",
     "language_group": "synapse_pyspark"
    },
    "nteract": {
     "transient": {
      "deleting": false
     }
    }
   },
   "outputs": [
    {
     "data": {
      "application/vnd.livy.statement-meta+json": {
       "execution_finish_time": "2024-08-20T08:24:45.5470442Z",
       "execution_start_time": "2024-08-20T08:24:31.0300347Z",
       "livy_statement_state": "available",
       "normalized_state": "finished",
       "parent_msg_id": "1b6c1fec-426c-4de4-988e-ff371c77ea0b",
       "queued_time": "2024-08-20T08:24:30.619373Z",
       "session_id": "93a3a769-b7ec-41c5-b373-0abefdfb2267",
       "session_start_time": null,
       "spark_pool": null,
       "state": "finished",
       "statement_id": 12,
       "statement_ids": [
        12
       ]
      },
      "text/plain": [
       "StatementMeta(, 93a3a769-b7ec-41c5-b373-0abefdfb2267, 12, Finished, Available, Finished)"
      ]
     },
     "metadata": {},
     "output_type": "display_data"
    },
    {
     "name": "stdout",
     "output_type": "stream",
     "text": [
      "loading full data for table Region.csv...\n",
      "loaded full data for table Region.csv!\n",
      "loading full data for table States.csv...\n",
      "loaded full data for table States.csv!\n",
      "loading full data for table Stockprice.csv...\n",
      "loaded full data for table Stockprice.csv!\n",
      "loading full data for table Climate-Risk.csv...\n",
      "loaded full data for table Climate-Risk.csv!\n",
      "loading full data for table CreditCheck...\n",
      "loaded full data for table CreditCheck!\n"
     ]
    }
   ],
   "source": [
    "for table in TablesList:\n",
    "    LoadFullDataFromSource(table)"
   ]
  }
 ],
 "metadata": {
  "dependencies": {
   "lakehouse": {
    "default_lakehouse": "2e85045f-ebbb-4a59-97d2-95faead4d76a",
    "default_lakehouse_name": "FSI_Lakehouse_Bronze",
    "default_lakehouse_workspace_id": "2b3be873-2fa8-4bd2-b0e6-4b91ac5083a1"
   }
  },
  "kernel_info": {
   "name": "synapse_pyspark"
  },
  "kernelspec": {
   "display_name": "Synapse PySpark",
   "language": "Python",
   "name": "synapse_pyspark"
  },
  "language_info": {
   "name": "python"
  },
  "microsoft": {
   "language": "python",
   "language_group": "synapse_pyspark",
   "ms_spell_check": {
    "ms_spell_check_language": "en"
   }
  },
  "notebook_environment": {},
  "nteract": {
   "version": "nteract-front-end@1.0.0"
  },
  "save_output": true,
  "spark_compute": {
   "compute_id": "/trident/default",
   "session_options": {
    "conf": {
     "spark.synapse.nbs.session.timeout": "1200000"
    },
    "enableDebugMode": false
   }
  },
  "synapse_widget": {
   "state": {},
   "version": "0.1"
  },
  "widgets": {}
 },
 "nbformat": 4,
 "nbformat_minor": 5
}
