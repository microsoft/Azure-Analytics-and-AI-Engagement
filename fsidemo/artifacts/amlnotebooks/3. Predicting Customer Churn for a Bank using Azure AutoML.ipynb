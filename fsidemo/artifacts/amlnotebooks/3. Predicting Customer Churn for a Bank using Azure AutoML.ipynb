{
 "cells": [
  {
   "cell_type": "markdown",
   "metadata": {},
   "source": [
    "# Predicting Customer Churn For Retail Banking\n",
    "<h3><span style=\"color: #117d30;\"> Predicting whether a retail banking customer is likely to churn</span></h3>\n"
   ]
  },
  {
   "cell_type": "markdown",
   "metadata": {
    "nteract": {
     "transient": {
      "deleting": false
     }
    }
   },
   "source": [
    "## Disclaimer\n",
    "\n",
    "By accessing this code, you acknowledge the code is made available for presentation and demonstration purposes only and that the code: (1) is not subject to SOC 1 and SOC 2 compliance audits; (2) is not designed or intended to be a substitute for the professional advice, diagnosis, treatment, or judgment of a certified financial services professional; (3) is not designed, intended or made available as a medical device; and (4) is not designed or intended to be a substitute for professional medical advice, diagnosis, treatment or judgement. Do not use this code to replace, substitute, or provide professional financial advice or judgment, or to replace, substitute or provide medical advice, diagnosis, treatment or judgement. You are solely responsible for ensuring the regulatory, legal, and/or contractual compliance of any use of the code, including obtaining any authorizations or consents, and any solution you choose to build that incorporates this code in whole or in part.\n",
    "\n",
    "© 2021 Microsoft Corporation. All rights reserved"
   ]
  },
  {
   "cell_type": "markdown",
   "metadata": {},
   "source": [
    "### Introduction\n",
    "In this example we use historical retail banking data to build an AutoML classification model to predict whether a retail banking customer is likely to churn or not. The objective is to predict **Churn Ratio** for the retail banking business, which is defined as the proportion of all retail banking customers that are likely to churn, in near future.  "
   ]
  },
  {
   "cell_type": "markdown",
   "metadata": {},
   "source": [
    "### Importing required libraries and dependencies\n",
    "\n"
   ]
  },
  {
   "cell_type": "code",
   "execution_count": 1,
   "metadata": {
    "gather": {
     "logged": 1627417192538
    }
   },
   "outputs": [
    {
     "name": "stdout",
     "output_type": "stream",
     "text": [
      "SDK Version: 1.31.0\n"
     ]
    }
   ],
   "source": [
    "## Importing required libraries \n",
    "import azureml.core\n",
    "from azureml.core import Workspace, Datastore, Dataset, Experiment\n",
    "from azureml.data import DataType\n",
    "from azureml.data.datapath import DataPath\n",
    "\n",
    "## Importing libraries specific to AutoML  \n",
    "from azureml.core.compute import AmlCompute\n",
    "from azureml.train.automl import AutoMLConfig\n",
    "from azureml.train.automl.run import AutoMLRun\n",
    "\n",
    "## We will be reading data as a Pandas dataframe   \n",
    "import pandas as pd\n",
    "## Python SDK version \n",
    "print(\"SDK Version:\", azureml.core.VERSION)"
   ]
  },
  {
   "cell_type": "code",
   "execution_count": 2,
   "metadata": {},
   "outputs": [],
   "source": [
    "import GlobalVariables "
   ]
  },
  {
   "cell_type": "code",
   "execution_count": 3,
   "metadata": {
    "gather": {
     "logged": 1627416824757
    }
   },
   "outputs": [],
   "source": [
    "## Printing the ML workspace details    \n",
    "import os\n",
    "\n",
    "\n",
    "ws = Workspace(subscription_id =GlobalVariables.subscription_id, \n",
    "                      resource_group =GlobalVariables.resource_group,\n",
    "                      workspace_name =GlobalVariables.workspace_name)\n",
    "\n"
   ]
  },
  {
   "cell_type": "markdown",
   "metadata": {},
   "source": [
    "### Pre-processing the data"
   ]
  },
  {
   "cell_type": "markdown",
   "metadata": {},
   "source": [
    "#### Loading  the data\n",
    "Load the historical retail banking customer dataset\n",
    " "
   ]
  },
  {
   "cell_type": "code",
   "execution_count": 4,
   "metadata": {
    "gather": {
     "logged": 1627416831691
    }
   },
   "outputs": [],
   "source": [
    "## Data is already registered in ML workspace, as a tabular data     \n",
    "churndata = ws.datasets['customer_churn']"
   ]
  },
  {
   "cell_type": "markdown",
   "metadata": {},
   "source": [
    "#### Convert to Pandas dataframe "
   ]
  },
  {
   "cell_type": "code",
   "execution_count": 5,
   "metadata": {
    "gather": {
     "logged": 1626296139963
    }
   },
   "outputs": [
    {
     "data": {
      "text/html": [
       "<div>\n",
       "<style scoped>\n",
       "    .dataframe tbody tr th:only-of-type {\n",
       "        vertical-align: middle;\n",
       "    }\n",
       "\n",
       "    .dataframe tbody tr th {\n",
       "        vertical-align: top;\n",
       "    }\n",
       "\n",
       "    .dataframe thead th {\n",
       "        text-align: right;\n",
       "    }\n",
       "</style>\n",
       "<table border=\"1\" class=\"dataframe\">\n",
       "  <thead>\n",
       "    <tr style=\"text-align: right;\">\n",
       "      <th></th>\n",
       "      <th>age</th>\n",
       "      <th>job</th>\n",
       "      <th>marital</th>\n",
       "      <th>education</th>\n",
       "      <th>default</th>\n",
       "      <th>housing</th>\n",
       "      <th>loan</th>\n",
       "      <th>contact</th>\n",
       "      <th>month</th>\n",
       "      <th>day_of_week</th>\n",
       "      <th>...</th>\n",
       "      <th>campaign</th>\n",
       "      <th>pdays</th>\n",
       "      <th>previous</th>\n",
       "      <th>poutcome</th>\n",
       "      <th>emp.var.rate</th>\n",
       "      <th>cons.price.idx</th>\n",
       "      <th>cons.conf.idx</th>\n",
       "      <th>euribor3m</th>\n",
       "      <th>nr.employed</th>\n",
       "      <th>y</th>\n",
       "    </tr>\n",
       "  </thead>\n",
       "  <tbody>\n",
       "    <tr>\n",
       "      <th>0</th>\n",
       "      <td>56</td>\n",
       "      <td>housemaid</td>\n",
       "      <td>married</td>\n",
       "      <td>basic.4y</td>\n",
       "      <td>no</td>\n",
       "      <td>no</td>\n",
       "      <td>no</td>\n",
       "      <td>telephone</td>\n",
       "      <td>may</td>\n",
       "      <td>mon</td>\n",
       "      <td>...</td>\n",
       "      <td>1</td>\n",
       "      <td>999</td>\n",
       "      <td>0</td>\n",
       "      <td>nonexistent</td>\n",
       "      <td>1.1</td>\n",
       "      <td>93.994</td>\n",
       "      <td>-36.4</td>\n",
       "      <td>4.857</td>\n",
       "      <td>5191.0</td>\n",
       "      <td>no</td>\n",
       "    </tr>\n",
       "    <tr>\n",
       "      <th>1</th>\n",
       "      <td>57</td>\n",
       "      <td>services</td>\n",
       "      <td>married</td>\n",
       "      <td>high.school</td>\n",
       "      <td>unknown</td>\n",
       "      <td>no</td>\n",
       "      <td>no</td>\n",
       "      <td>telephone</td>\n",
       "      <td>may</td>\n",
       "      <td>mon</td>\n",
       "      <td>...</td>\n",
       "      <td>1</td>\n",
       "      <td>999</td>\n",
       "      <td>0</td>\n",
       "      <td>nonexistent</td>\n",
       "      <td>1.1</td>\n",
       "      <td>93.994</td>\n",
       "      <td>-36.4</td>\n",
       "      <td>4.857</td>\n",
       "      <td>5191.0</td>\n",
       "      <td>no</td>\n",
       "    </tr>\n",
       "    <tr>\n",
       "      <th>2</th>\n",
       "      <td>37</td>\n",
       "      <td>services</td>\n",
       "      <td>married</td>\n",
       "      <td>high.school</td>\n",
       "      <td>no</td>\n",
       "      <td>yes</td>\n",
       "      <td>no</td>\n",
       "      <td>telephone</td>\n",
       "      <td>may</td>\n",
       "      <td>mon</td>\n",
       "      <td>...</td>\n",
       "      <td>1</td>\n",
       "      <td>999</td>\n",
       "      <td>0</td>\n",
       "      <td>nonexistent</td>\n",
       "      <td>1.1</td>\n",
       "      <td>93.994</td>\n",
       "      <td>-36.4</td>\n",
       "      <td>4.857</td>\n",
       "      <td>5191.0</td>\n",
       "      <td>no</td>\n",
       "    </tr>\n",
       "    <tr>\n",
       "      <th>3</th>\n",
       "      <td>40</td>\n",
       "      <td>admin.</td>\n",
       "      <td>married</td>\n",
       "      <td>basic.6y</td>\n",
       "      <td>no</td>\n",
       "      <td>no</td>\n",
       "      <td>no</td>\n",
       "      <td>telephone</td>\n",
       "      <td>may</td>\n",
       "      <td>mon</td>\n",
       "      <td>...</td>\n",
       "      <td>1</td>\n",
       "      <td>999</td>\n",
       "      <td>0</td>\n",
       "      <td>nonexistent</td>\n",
       "      <td>1.1</td>\n",
       "      <td>93.994</td>\n",
       "      <td>-36.4</td>\n",
       "      <td>4.857</td>\n",
       "      <td>5191.0</td>\n",
       "      <td>no</td>\n",
       "    </tr>\n",
       "    <tr>\n",
       "      <th>4</th>\n",
       "      <td>56</td>\n",
       "      <td>services</td>\n",
       "      <td>married</td>\n",
       "      <td>high.school</td>\n",
       "      <td>no</td>\n",
       "      <td>no</td>\n",
       "      <td>yes</td>\n",
       "      <td>telephone</td>\n",
       "      <td>may</td>\n",
       "      <td>mon</td>\n",
       "      <td>...</td>\n",
       "      <td>1</td>\n",
       "      <td>999</td>\n",
       "      <td>0</td>\n",
       "      <td>nonexistent</td>\n",
       "      <td>1.1</td>\n",
       "      <td>93.994</td>\n",
       "      <td>-36.4</td>\n",
       "      <td>4.857</td>\n",
       "      <td>5191.0</td>\n",
       "      <td>no</td>\n",
       "    </tr>\n",
       "  </tbody>\n",
       "</table>\n",
       "<p>5 rows × 21 columns</p>\n",
       "</div>"
      ],
      "text/plain": [
       "   age        job  marital    education  default housing loan    contact  \\\n",
       "0   56  housemaid  married     basic.4y       no      no   no  telephone   \n",
       "1   57   services  married  high.school  unknown      no   no  telephone   \n",
       "2   37   services  married  high.school       no     yes   no  telephone   \n",
       "3   40     admin.  married     basic.6y       no      no   no  telephone   \n",
       "4   56   services  married  high.school       no      no  yes  telephone   \n",
       "\n",
       "  month day_of_week  ...  campaign  pdays  previous     poutcome emp.var.rate  \\\n",
       "0   may         mon  ...         1    999         0  nonexistent          1.1   \n",
       "1   may         mon  ...         1    999         0  nonexistent          1.1   \n",
       "2   may         mon  ...         1    999         0  nonexistent          1.1   \n",
       "3   may         mon  ...         1    999         0  nonexistent          1.1   \n",
       "4   may         mon  ...         1    999         0  nonexistent          1.1   \n",
       "\n",
       "   cons.price.idx  cons.conf.idx  euribor3m  nr.employed   y  \n",
       "0          93.994          -36.4      4.857       5191.0  no  \n",
       "1          93.994          -36.4      4.857       5191.0  no  \n",
       "2          93.994          -36.4      4.857       5191.0  no  \n",
       "3          93.994          -36.4      4.857       5191.0  no  \n",
       "4          93.994          -36.4      4.857       5191.0  no  \n",
       "\n",
       "[5 rows x 21 columns]"
      ]
     },
     "execution_count": 5,
     "metadata": {},
     "output_type": "execute_result"
    }
   ],
   "source": [
    "## Converting the tabular data to a pandas dataframe \n",
    "churndata_pd = churndata.to_pandas_dataframe()\n",
    "churndata_pd.head()"
   ]
  },
  {
   "cell_type": "code",
   "execution_count": 6,
   "metadata": {
    "gather": {
     "logged": 1624997329347
    }
   },
   "outputs": [
    {
     "name": "stdout",
     "output_type": "stream",
     "text": [
      "<class 'pandas.core.frame.DataFrame'>\n",
      "RangeIndex: 41188 entries, 0 to 41187\n",
      "Data columns (total 21 columns):\n",
      "age               41188 non-null int64\n",
      "job               41188 non-null object\n",
      "marital           41188 non-null object\n",
      "education         41188 non-null object\n",
      "default           41188 non-null object\n",
      "housing           41188 non-null object\n",
      "loan              41188 non-null object\n",
      "contact           41188 non-null object\n",
      "month             41188 non-null object\n",
      "day_of_week       41188 non-null object\n",
      "duration          41188 non-null int64\n",
      "campaign          41188 non-null int64\n",
      "pdays             41188 non-null int64\n",
      "previous          41188 non-null int64\n",
      "poutcome          41188 non-null object\n",
      "emp.var.rate      41188 non-null float64\n",
      "cons.price.idx    41188 non-null float64\n",
      "cons.conf.idx     41188 non-null float64\n",
      "euribor3m         41188 non-null float64\n",
      "nr.employed       41188 non-null float64\n",
      "y                 41188 non-null object\n",
      "dtypes: float64(5), int64(5), object(11)\n",
      "memory usage: 6.6+ MB\n"
     ]
    }
   ],
   "source": [
    "# View info to see what the column names and types are\n",
    "churndata_pd.info()"
   ]
  },
  {
   "cell_type": "markdown",
   "metadata": {},
   "source": [
    "#### Set up AutoML Experiment "
   ]
  },
  {
   "cell_type": "code",
   "execution_count": 7,
   "metadata": {},
   "outputs": [
    {
     "name": "stdout",
     "output_type": "stream",
     "text": [
      "Found existing instance, use it.\n"
     ]
    }
   ],
   "source": [
    "from azureml.core.compute import ComputeTarget, ComputeInstance\n",
    "from azureml.core.compute_target import ComputeTargetException\n",
    "\n",
    "# Choose a name for your instance\n",
    "# Compute instance name should be unique across the azure region\n",
    "compute_name = GlobalVariables.COMPUTE_AIML\n",
    "\n",
    "# Verify that instance does not exist already\n",
    "try:\n",
    "    instance = ComputeInstance(workspace=ws, name=compute_name)\n",
    "    print('Found existing instance, use it.')\n",
    "except ComputeTargetException:\n",
    "    compute_config = ComputeInstance.provisioning_configuration(\n",
    "        vm_size='STANDARD_D3_V2',\n",
    "        ssh_public_access=False,\n",
    "        # vnet_resourcegroup_name='<my-resource-group>',\n",
    "        # vnet_name='<my-vnet-name>',\n",
    "        # subnet_name='default',\n",
    "        # admin_user_ssh_public_key='<my-sshkey>'\n",
    "    )\n",
    "    instance = ComputeInstance.create(ws, compute_name, compute_config)\n",
    "    instance.wait_for_completion(show_output=True)"
   ]
  },
  {
   "cell_type": "code",
   "execution_count": 8,
   "metadata": {
    "gather": {
     "logged": 1624997329879
    }
   },
   "outputs": [
    {
     "name": "stdout",
     "output_type": "stream",
     "text": [
      "Experiment(Name: automl_churn_experiment,\n",
      "Workspace: amlws-zquzavzvs5x6m-pm0208)\n"
     ]
    }
   ],
   "source": [
    "# select compute\n",
    "compute = AmlCompute(ws, GlobalVariables.COMPUTE_AIML)\n",
    "\n",
    "# choose a name for experiment\n",
    "experiment_name = 'automl_churn_experiment'\n",
    "experiment = Experiment(ws, experiment_name)\n",
    "print(experiment)"
   ]
  },
  {
   "cell_type": "markdown",
   "metadata": {},
   "source": [
    "#### Set up AutoML Configuration"
   ]
  },
  {
   "cell_type": "code",
   "execution_count": 9,
   "metadata": {
    "gather": {
     "logged": 1624997330170
    }
   },
   "outputs": [],
   "source": [
    "## Define the target variable or the label \n",
    "label= 'y'  \n",
    "\n",
    "## Setting up AutoML configuration\n",
    "automl_config = AutoMLConfig(task='classification',\n",
    "                            primary_metric='AUC_weighted',   \n",
    "                            debug_log='automl_errors.log',\n",
    "                            iteration_timeout_minutes = 15,\n",
    "                            experiment_timeout_minutes = 15,\n",
    "                            label_column_name=label,\n",
    "                            enable_early_stopping=True,\n",
    "                            compute_target=compute,\n",
    "                            training_data=churndata,\n",
    "                            n_cross_validations=5,\n",
    "                            model_explainability=True)"
   ]
  },
  {
   "cell_type": "markdown",
   "metadata": {},
   "source": [
    "#### Configure the AutoML model and run it"
   ]
  },
  {
   "cell_type": "code",
   "execution_count": 10,
   "metadata": {
    "gather": {
     "logged": 1624998786694
    },
    "jupyter": {
     "outputs_hidden": true
    }
   },
   "outputs": [
    {
     "name": "stdout",
     "output_type": "stream",
     "text": [
      "Submitting remote run.\n",
      "No run_configuration provided, running on cpuShellzquzavzvs5x6m with default configuration\n",
      "Running on remote compute: cpuShellzquzavzvs5x6m\n"
     ]
    },
    {
     "data": {
      "text/html": [
       "<table style=\"width:100%\"><tr><th>Experiment</th><th>Id</th><th>Type</th><th>Status</th><th>Details Page</th><th>Docs Page</th></tr><tr><td>automl_churn_experiment</td><td>AutoML_2b9e7433-75ba-4857-ba62-866797e1789f</td><td>automl</td><td>NotStarted</td><td><a href=\"https://ml.azure.com/runs/AutoML_2b9e7433-75ba-4857-ba62-866797e1789f?wsid=/subscriptions/3f01ab49-a56f-4ee7-97fa-d23155156b42/resourcegroups/media-test/workspaces/amlws-zquzavzvs5x6m-pm0208&amp;tid=f94768c8-8714-4abe-8e2d-37a64b18216a\" target=\"_blank\" rel=\"noopener\">Link to Azure Machine Learning studio</a></td><td><a href=\"https://docs.microsoft.com/en-us/python/api/overview/azure/ml/intro?view=azure-ml-py\" target=\"_blank\" rel=\"noopener\">Link to Documentation</a></td></tr></table>"
      ],
      "text/plain": [
       "<IPython.core.display.HTML object>"
      ]
     },
     "metadata": {},
     "output_type": "display_data"
    },
    {
     "name": "stdout",
     "output_type": "stream",
     "text": [
      "\n",
      "Current status: FeaturesGeneration. Generating features for the dataset.\n",
      "Current status: DatasetFeaturization. Beginning to fit featurizers and featurize the dataset.\n",
      "Current status: DatasetCrossValidationSplit. Generating individually featurized CV splits.\n",
      "Current status: ModelSelection. Beginning model selection.\n",
      "\n",
      "****************************************************************************************************\n",
      "DATA GUARDRAILS: \n",
      "\n",
      "TYPE:         Class balancing detection\n",
      "STATUS:       ALERTED\n",
      "DESCRIPTION:  To decrease model bias, please cancel the current run and fix balancing problem.\n",
      "              Learn more about imbalanced data: https://aka.ms/AutomatedMLImbalancedData\n",
      "DETAILS:      Imbalanced data can lead to a falsely perceived positive effect of a model's accuracy because the input data has bias towards one class.\n",
      "+---------------------------------+---------------------------------+--------------------------------------+\n",
      "|Size of the smallest class       |Name/Label of the smallest class |Number of samples in the training data|\n",
      "+=================================+=================================+======================================+\n",
      "|4640                             |yes                              |41188                                 |\n",
      "+---------------------------------+---------------------------------+--------------------------------------+\n",
      "\n",
      "****************************************************************************************************\n",
      "\n",
      "TYPE:         Missing feature values imputation\n",
      "STATUS:       PASSED\n",
      "DESCRIPTION:  No feature missing values were detected in the training data.\n",
      "              Learn more about missing value imputation: https://aka.ms/AutomatedMLFeaturization\n",
      "\n",
      "****************************************************************************************************\n",
      "\n",
      "TYPE:         High cardinality feature detection\n",
      "STATUS:       PASSED\n",
      "DESCRIPTION:  Your inputs were analyzed, and no high cardinality features were detected.\n",
      "              Learn more about high cardinality feature handling: https://aka.ms/AutomatedMLFeaturization\n",
      "\n",
      "****************************************************************************************************\n",
      "\n",
      "****************************************************************************************************\n",
      "ITERATION: The iteration being evaluated.\n",
      "PIPELINE: A summary description of the pipeline being evaluated.\n",
      "DURATION: Time taken for the current iteration.\n",
      "METRIC: The result of computing score on the fitted pipeline.\n",
      "BEST: The best observed score thus far.\n",
      "****************************************************************************************************\n",
      "\n",
      " ITERATION   PIPELINE                                       DURATION      METRIC      BEST\n",
      "         0   MaxAbsScaler LightGBM                          0:00:57       0.9504    0.9504\n",
      "         1   MaxAbsScaler XGBoostClassifier                 0:01:05       0.9476    0.9504\n",
      "         2   MaxAbsScaler RandomForest                      0:00:55       0.9035    0.9504\n",
      "         3   MaxAbsScaler RandomForest                      0:00:54       0.8891    0.9504\n",
      "         4   MaxAbsScaler RandomForest                      0:00:56       0.8846    0.9504\n",
      "         5   MaxAbsScaler ExtremeRandomTrees                0:00:56       0.9106    0.9504\n",
      "         6   MaxAbsScaler ExtremeRandomTrees                0:01:07       0.8832    0.9504\n",
      "         7   MaxAbsScaler ExtremeRandomTrees                0:00:56       0.8492    0.9504\n",
      "         8   MaxAbsScaler RandomForest                      0:00:52       0.8876    0.9504\n",
      "         9   MaxAbsScaler ExtremeRandomTrees                0:00:54       0.8181    0.9504\n",
      "        10   MaxAbsScaler RandomForest                      0:00:59       0.8511    0.9504\n",
      "        11   MaxAbsScaler RandomForest                      0:02:20       0.8985    0.9504\n",
      "        12    VotingEnsemble                                0:00:58       0.9502    0.9504\n",
      "        13    StackEnsemble                                 0:02:20       0.9489    0.9504\n"
     ]
    }
   ],
   "source": [
    "## Run experiment\n",
    "## This code clock takes approx.25-30 minutes  \n",
    "training_run = experiment.submit(automl_config, show_output = True)"
   ]
  },
  {
   "cell_type": "markdown",
   "metadata": {},
   "source": [
    "### Results"
   ]
  },
  {
   "cell_type": "markdown",
   "metadata": {},
   "source": [
    "#### Monitor Runs"
   ]
  },
  {
   "cell_type": "code",
   "execution_count": 11,
   "metadata": {
    "gather": {
     "logged": 1624998788245
    }
   },
   "outputs": [
    {
     "data": {
      "application/vnd.jupyter.widget-view+json": {
       "model_id": "2f27ea9494674ba8b3378df259b8c820",
       "version_major": 2,
       "version_minor": 0
      },
      "text/plain": [
       "_AutoMLWidget(widget_settings={'childWidgetDisplay': 'popup', 'send_telemetry': False, 'log_level': 'INFO', 's…"
      ]
     },
     "metadata": {},
     "output_type": "display_data"
    },
    {
     "data": {
      "application/aml.mini.widget.v1": "{\"status\": \"Completed\", \"workbench_run_details_uri\": \"https://ml.azure.com/runs/AutoML_2b9e7433-75ba-4857-ba62-866797e1789f?wsid=/subscriptions/3f01ab49-a56f-4ee7-97fa-d23155156b42/resourcegroups/media-test/workspaces/amlws-zquzavzvs5x6m-pm0208&tid=f94768c8-8714-4abe-8e2d-37a64b18216a\", \"run_id\": \"AutoML_2b9e7433-75ba-4857-ba62-866797e1789f\", \"run_properties\": {\"run_id\": \"AutoML_2b9e7433-75ba-4857-ba62-866797e1789f\", \"created_utc\": \"2021-08-03T01:04:41.48424Z\", \"properties\": {\"num_iterations\": \"1000\", \"training_type\": \"TrainFull\", \"acquisition_function\": \"EI\", \"primary_metric\": \"AUC_weighted\", \"train_split\": \"0\", \"acquisition_parameter\": \"0\", \"num_cross_validation\": \"5\", \"target\": \"cpuShellzquzavzvs5x6m\", \"AMLSettingsJsonString\": \"{\\\"path\\\":null,\\\"name\\\":\\\"automl_churn_experiment\\\",\\\"subscription_id\\\":\\\"3f01ab49-a56f-4ee7-97fa-d23155156b42\\\",\\\"resource_group\\\":\\\"media-test\\\",\\\"workspace_name\\\":\\\"amlws-zquzavzvs5x6m-pm0208\\\",\\\"region\\\":\\\"westus2\\\",\\\"compute_target\\\":\\\"cpuShellzquzavzvs5x6m\\\",\\\"spark_service\\\":null,\\\"azure_service\\\":\\\"remote\\\",\\\"many_models\\\":false,\\\"pipeline_fetch_max_batch_size\\\":1,\\\"enable_batch_run\\\":false,\\\"enable_run_restructure\\\":false,\\\"start_auxiliary_runs_before_parent_complete\\\":false,\\\"enable_code_generation\\\":false,\\\"iterations\\\":1000,\\\"primary_metric\\\":\\\"AUC_weighted\\\",\\\"task_type\\\":\\\"classification\\\",\\\"data_script\\\":null,\\\"test_size\\\":0.0,\\\"validation_size\\\":0.0,\\\"n_cross_validations\\\":5,\\\"y_min\\\":null,\\\"y_max\\\":null,\\\"num_classes\\\":null,\\\"featurization\\\":\\\"auto\\\",\\\"_ignore_package_version_incompatibilities\\\":false,\\\"is_timeseries\\\":false,\\\"max_cores_per_iteration\\\":1,\\\"max_concurrent_iterations\\\":1,\\\"iteration_timeout_minutes\\\":15,\\\"mem_in_mb\\\":null,\\\"enforce_time_on_windows\\\":false,\\\"experiment_timeout_minutes\\\":15,\\\"experiment_exit_score\\\":null,\\\"whitelist_models\\\":null,\\\"blacklist_algos\\\":[\\\"TensorFlowLinearClassifier\\\",\\\"TensorFlowDNN\\\"],\\\"supported_models\\\":[\\\"KNN\\\",\\\"SGD\\\",\\\"ExtremeRandomTrees\\\",\\\"GradientBoosting\\\",\\\"AveragedPerceptronClassifier\\\",\\\"DecisionTree\\\",\\\"SVM\\\",\\\"TensorFlowLinearClassifier\\\",\\\"MultinomialNaiveBayes\\\",\\\"RandomForest\\\",\\\"LinearSVM\\\",\\\"BernoulliNaiveBayes\\\",\\\"LightGBM\\\",\\\"LogisticRegression\\\",\\\"TensorFlowDNN\\\",\\\"XGBoostClassifier\\\"],\\\"private_models\\\":[],\\\"auto_blacklist\\\":true,\\\"blacklist_samples_reached\\\":false,\\\"exclude_nan_labels\\\":true,\\\"verbosity\\\":20,\\\"_debug_log\\\":\\\"azureml_automl.log\\\",\\\"show_warnings\\\":false,\\\"model_explainability\\\":true,\\\"service_url\\\":null,\\\"sdk_url\\\":null,\\\"sdk_packages\\\":null,\\\"enable_onnx_compatible_models\\\":false,\\\"enable_split_onnx_featurizer_estimator_models\\\":false,\\\"vm_type\\\":\\\"STANDARD_DS2_V2\\\",\\\"telemetry_verbosity\\\":20,\\\"send_telemetry\\\":true,\\\"enable_dnn\\\":false,\\\"scenario\\\":\\\"SDK-1.13.0\\\",\\\"environment_label\\\":null,\\\"save_mlflow\\\":false,\\\"force_text_dnn\\\":false,\\\"enable_feature_sweeping\\\":true,\\\"enable_early_stopping\\\":true,\\\"early_stopping_n_iters\\\":10,\\\"metrics\\\":null,\\\"enable_metric_confidence\\\":false,\\\"enable_ensembling\\\":true,\\\"enable_stack_ensembling\\\":true,\\\"ensemble_iterations\\\":15,\\\"enable_tf\\\":false,\\\"enable_subsampling\\\":null,\\\"subsample_seed\\\":null,\\\"enable_nimbusml\\\":false,\\\"enable_streaming\\\":false,\\\"force_streaming\\\":false,\\\"track_child_runs\\\":true,\\\"allowed_private_models\\\":[],\\\"label_column_name\\\":\\\"y\\\",\\\"weight_column_name\\\":null,\\\"cv_split_column_names\\\":null,\\\"enable_local_managed\\\":false,\\\"_local_managed_run_id\\\":null,\\\"cost_mode\\\":1,\\\"lag_length\\\":0,\\\"metric_operation\\\":\\\"maximize\\\",\\\"preprocess\\\":true}\", \"DataPrepJsonString\": \"{\\\\\\\"training_data\\\\\\\": {\\\\\\\"datasetId\\\\\\\": \\\\\\\"a265db20-ecf1-499d-abd5-19880836024b\\\\\\\"}, \\\\\\\"datasets\\\\\\\": 0}\", \"EnableSubsampling\": null, \"runTemplate\": \"AutoML\", \"azureml.runsource\": \"automl\", \"display_task_type\": \"classification\", \"dependencies_versions\": \"{\\\"azureml-widgets\\\": \\\"1.31.0\\\", \\\"azureml-train\\\": \\\"1.31.0\\\", \\\"azureml-train-restclients-hyperdrive\\\": \\\"1.31.0\\\", \\\"azureml-train-core\\\": \\\"1.31.0\\\", \\\"azureml-train-automl\\\": \\\"1.31.0\\\", \\\"azureml-train-automl-runtime\\\": \\\"1.31.0\\\", \\\"azureml-train-automl-client\\\": \\\"1.31.0\\\", \\\"azureml-tensorboard\\\": \\\"1.31.0\\\", \\\"azureml-telemetry\\\": \\\"1.31.0\\\", \\\"azureml-sdk\\\": \\\"1.31.0\\\", \\\"azureml-samples\\\": \\\"0+unknown\\\", \\\"azureml-responsibleai\\\": \\\"1.31.0\\\", \\\"azureml-pipeline\\\": \\\"1.31.0\\\", \\\"azureml-pipeline-steps\\\": \\\"1.31.0\\\", \\\"azureml-pipeline-core\\\": \\\"1.31.0\\\", \\\"azureml-opendatasets\\\": \\\"1.31.0\\\", \\\"azureml-model-management-sdk\\\": \\\"1.0.1b6.post1\\\", \\\"azureml-mlflow\\\": \\\"1.31.0\\\", \\\"azureml-interpret\\\": \\\"1.31.0\\\", \\\"azureml-explain-model\\\": \\\"1.31.0\\\", \\\"azureml-defaults\\\": \\\"1.31.0\\\", \\\"azureml-dataset-runtime\\\": \\\"1.31.0\\\", \\\"azureml-dataprep\\\": \\\"2.18.0\\\", \\\"azureml-dataprep-rslex\\\": \\\"1.16.1\\\", \\\"azureml-dataprep-native\\\": \\\"36.0.0\\\", \\\"azureml-datadrift\\\": \\\"1.31.0\\\", \\\"azureml-core\\\": \\\"1.31.0\\\", \\\"azureml-contrib-services\\\": \\\"1.31.0\\\", \\\"azureml-contrib-server\\\": \\\"1.31.0\\\", \\\"azureml-contrib-reinforcementlearning\\\": \\\"1.31.0\\\", \\\"azureml-contrib-pipeline-steps\\\": \\\"1.31.0\\\", \\\"azureml-contrib-notebook\\\": \\\"1.31.0\\\", \\\"azureml-contrib-fairness\\\": \\\"1.31.0\\\", \\\"azureml-contrib-dataset\\\": \\\"1.31.0\\\", \\\"azureml-cli-common\\\": \\\"1.31.0\\\", \\\"azureml-automl-runtime\\\": \\\"1.31.0\\\", \\\"azureml-automl-dnn-nlp\\\": \\\"1.31.0\\\", \\\"azureml-automl-core\\\": \\\"1.31.0\\\", \\\"azureml-accel-models\\\": \\\"1.31.0\\\"}\", \"_aml_system_scenario_identification\": \"Remote.Parent\", \"ClientType\": \"SDK\", \"environment_cpu_name\": \"AzureML-AutoML\", \"environment_cpu_label\": \"prod\", \"environment_gpu_name\": \"AzureML-AutoML-GPU\", \"environment_gpu_label\": \"prod\", \"root_attribution\": \"automl\", \"attribution\": \"AutoML\", \"Orchestrator\": \"AutoML\", \"CancelUri\": \"https://westus2.api.azureml.ms/jasmine/v1.0/subscriptions/3f01ab49-a56f-4ee7-97fa-d23155156b42/resourceGroups/media-test/providers/Microsoft.MachineLearningServices/workspaces/amlws-zquzavzvs5x6m-pm0208/experimentids/34f6c1a8-6ea8-4d74-bf66-dbdeab20d53c/cancel/AutoML_2b9e7433-75ba-4857-ba62-866797e1789f\", \"ClientSdkVersion\": \"1.32.0\", \"snapshotId\": \"00000000-0000-0000-0000-000000000000\", \"SetupRunId\": \"AutoML_2b9e7433-75ba-4857-ba62-866797e1789f_setup\", \"SetupRunContainerId\": \"dcid.AutoML_2b9e7433-75ba-4857-ba62-866797e1789f_setup\", \"FeaturizationRunJsonPath\": \"featurizer_container.json\", \"FeaturizationRunId\": \"AutoML_2b9e7433-75ba-4857-ba62-866797e1789f_featurize\", \"ProblemInfoJsonString\": \"{\\\"dataset_num_categorical\\\": 0, \\\"is_sparse\\\": true, \\\"subsampling\\\": false, \\\"has_extra_col\\\": true, \\\"dataset_classes\\\": 2, \\\"dataset_features\\\": 136, \\\"dataset_samples\\\": 41188, \\\"single_frequency_class_detected\\\": false}\", \"ModelExplainRunId\": \"AutoML_2b9e7433-75ba-4857-ba62-866797e1789f_ModelExplain\"}, \"tags\": {\"model_explain_run\": \"best_run\", \"_aml_system_azureml.automlComponent\": \"AutoML\", \"pipeline_id\": \"<5dfac790c5c209f98a1da2dc1c7fb76f0397324f>;<c7af0367625be6ac5c2fecbfc72ed444cb7a2111>;<cf1dc9b7ea4a50d759bce352343ec6737501695a>;<032c2f067189c1f56172ca21b98c8843539dd9de>;<b19eeb61727e9c4fbb5aa45fb6e9fe3fab5b1f04>;<8de8c085d2a4b23d3f4cc392a2f2660d23d38c14>;<4d4be808b8b6dd0f67e8354c79eddd3d712440a5>;<84f353ee505484d17af765441b00eb466a22fd74>;<22ff711585f7d612cb5545b13e4f726a7baea08b>;<644b67c67a3167cae43bb632e070a07c98f8e659>;<2a4d6884653b914a3c776e7938f6ae32acfc26c6>;<197f7a2c9f73f532dd122984f886bacedf643181>;<__AutoML_Ensemble__>;<__AutoML_Stack_Ensemble__>;\", \"score\": \"<0.950418914590367>;<0.9475544846012754>;<0.9034659284303059>;<0.8890905025240052>;<0.8846129477265151>;<0.9106406672313485>;<0.8832272631835778>;<0.849249457009242>;<0.8875758459827422>;<0.8180832929523939>;<0.8510889940583775>;<0.8984760812995575>;<0.9501988795891112>;<0.9488948771322022>;\", \"predicted_cost\": \"<0>;<0>;<0.5>;<0.283333>;<0.3788242494138821>;<0.32224610045584656>;<0.42875293212484894>;<0.45003156029882974>;<0.48144817680840407>;<0.4816443878764415>;<0.44557036712603404>;<0.4644999624693514>;<0>;<0>;\", \"fit_time\": \"<0.8472968>;<2.7013344000000004>;<0.283333>;<0.6370694>;<0.2644322>;<0.6770716>;<1.1126116>;<0.4373874>;<0.3339684>;<0.6981464000000001>;<0.23394659999999998>;<0.2872846>;<13>;<26>;\", \"training_percent\": \"<100>;<100>;<100>;<100>;<100>;<100>;<100>;<100>;<100>;<100>;<100>;<100>;<100>;<100>;\", \"iteration\": \"<0>;<1>;<2>;<3>;<4>;<5>;<6>;<7>;<8>;<9>;<10>;<11>;<12>;<13>;\", \"run_preprocessor\": \"<MaxAbsScaler>;<MaxAbsScaler>;<MaxAbsScaler>;<MaxAbsScaler>;<MaxAbsScaler>;<MaxAbsScaler>;<MaxAbsScaler>;<MaxAbsScaler>;<MaxAbsScaler>;<MaxAbsScaler>;<MaxAbsScaler>;<MaxAbsScaler>;<>;<>;\", \"run_algorithm\": \"<LightGBM>;<XGBoostClassifier>;<RandomForest>;<RandomForest>;<RandomForest>;<ExtremeRandomTrees>;<ExtremeRandomTrees>;<ExtremeRandomTrees>;<RandomForest>;<ExtremeRandomTrees>;<RandomForest>;<RandomForest>;<VotingEnsemble>;<StackEnsemble>;\", \"automl_best_child_run_id\": \"AutoML_2b9e7433-75ba-4857-ba62-866797e1789f_0\", \"model_explain_best_run_child_id\": \"AutoML_2b9e7433-75ba-4857-ba62-866797e1789f_0\"}, \"end_time_utc\": \"2021-08-03T01:30:46.833242Z\", \"status\": \"Completed\", \"log_files\": {}, \"log_groups\": [], \"run_duration\": \"0:26:05\", \"run_number\": \"1\", \"run_queued_details\": {\"status\": \"Completed\", \"details\": null}}, \"child_runs\": [{\"run_id\": \"AutoML_2b9e7433-75ba-4857-ba62-866797e1789f_0\", \"run_number\": 5, \"metric\": null, \"status\": \"Completed\", \"run_type\": \"azureml.scriptrun\", \"training_percent\": \"100\", \"start_time\": \"2021-08-03T01:11:52.119356Z\", \"end_time\": \"2021-08-03T01:12:48.908876Z\", \"created_time\": \"2021-08-03T01:11:38.640847Z\", \"created_time_dt\": \"2021-08-03T01:11:38.640847Z\", \"duration\": \"0:01:10\", \"iteration\": \"0\", \"goal\": \"AUC_weighted_max\", \"run_name\": \"MaxAbsScaler, LightGBM\", \"run_properties\": \"copy=True\", \"primary_metric\": 0.95041891, \"best_metric\": 0.95041891}, {\"run_id\": \"AutoML_2b9e7433-75ba-4857-ba62-866797e1789f_1\", \"run_number\": 6, \"metric\": null, \"status\": \"Completed\", \"run_type\": \"azureml.scriptrun\", \"training_percent\": \"100\", \"start_time\": \"2021-08-03T01:13:02.953662Z\", \"end_time\": \"2021-08-03T01:14:07.732445Z\", \"created_time\": \"2021-08-03T01:12:49.906323Z\", \"created_time_dt\": \"2021-08-03T01:12:49.906323Z\", \"duration\": \"0:01:17\", \"iteration\": \"1\", \"goal\": \"AUC_weighted_max\", \"run_name\": \"MaxAbsScaler, XGBoostClassifier\", \"run_properties\": \"copy=True\", \"primary_metric\": 0.94755448, \"best_metric\": 0.95041891}, {\"run_id\": \"AutoML_2b9e7433-75ba-4857-ba62-866797e1789f_2\", \"run_number\": 7, \"metric\": null, \"status\": \"Completed\", \"run_type\": \"azureml.scriptrun\", \"training_percent\": \"100\", \"start_time\": \"2021-08-03T01:14:17.269924Z\", \"end_time\": \"2021-08-03T01:15:12.358791Z\", \"created_time\": \"2021-08-03T01:14:09.020471Z\", \"created_time_dt\": \"2021-08-03T01:14:09.020471Z\", \"duration\": \"0:01:03\", \"iteration\": \"2\", \"goal\": \"AUC_weighted_max\", \"run_name\": \"MaxAbsScaler, RandomForest\", \"run_properties\": \"copy=True\", \"primary_metric\": 0.90346593, \"best_metric\": 0.95041891}, {\"run_id\": \"AutoML_2b9e7433-75ba-4857-ba62-866797e1789f_3\", \"run_number\": 8, \"metric\": null, \"status\": \"Completed\", \"run_type\": \"azureml.scriptrun\", \"training_percent\": \"100\", \"start_time\": \"2021-08-03T01:15:26.924641Z\", \"end_time\": \"2021-08-03T01:16:20.597062Z\", \"created_time\": \"2021-08-03T01:15:14.285331Z\", \"created_time_dt\": \"2021-08-03T01:15:14.285331Z\", \"duration\": \"0:01:06\", \"iteration\": \"3\", \"goal\": \"AUC_weighted_max\", \"run_name\": \"MaxAbsScaler, RandomForest\", \"run_properties\": \"copy=True\", \"primary_metric\": 0.8890905, \"best_metric\": 0.95041891}, {\"run_id\": \"AutoML_2b9e7433-75ba-4857-ba62-866797e1789f_4\", \"run_number\": 9, \"metric\": null, \"status\": \"Completed\", \"run_type\": \"azureml.scriptrun\", \"training_percent\": \"100\", \"start_time\": \"2021-08-03T01:16:32.983439Z\", \"end_time\": \"2021-08-03T01:17:29.086404Z\", \"created_time\": \"2021-08-03T01:16:22.487605Z\", \"created_time_dt\": \"2021-08-03T01:16:22.487605Z\", \"duration\": \"0:01:06\", \"iteration\": \"4\", \"goal\": \"AUC_weighted_max\", \"run_name\": \"MaxAbsScaler, RandomForest\", \"run_properties\": \"copy=True\", \"primary_metric\": 0.88461295, \"best_metric\": 0.95041891}, {\"run_id\": \"AutoML_2b9e7433-75ba-4857-ba62-866797e1789f_5\", \"run_number\": 10, \"metric\": null, \"status\": \"Completed\", \"run_type\": \"azureml.scriptrun\", \"training_percent\": \"100\", \"start_time\": \"2021-08-03T01:17:41.479081Z\", \"end_time\": \"2021-08-03T01:18:37.321498Z\", \"created_time\": \"2021-08-03T01:17:31.594638Z\", \"created_time_dt\": \"2021-08-03T01:17:31.594638Z\", \"duration\": \"0:01:05\", \"iteration\": \"5\", \"goal\": \"AUC_weighted_max\", \"run_name\": \"MaxAbsScaler, ExtremeRandomTrees\", \"run_properties\": \"copy=True\", \"primary_metric\": 0.91064067, \"best_metric\": 0.95041891}, {\"run_id\": \"AutoML_2b9e7433-75ba-4857-ba62-866797e1789f_6\", \"run_number\": 11, \"metric\": null, \"status\": \"Completed\", \"run_type\": \"azureml.scriptrun\", \"training_percent\": \"100\", \"start_time\": \"2021-08-03T01:18:48.233723Z\", \"end_time\": \"2021-08-03T01:19:55.719728Z\", \"created_time\": \"2021-08-03T01:18:39.256506Z\", \"created_time_dt\": \"2021-08-03T01:18:39.256506Z\", \"duration\": \"0:01:16\", \"iteration\": \"6\", \"goal\": \"AUC_weighted_max\", \"run_name\": \"MaxAbsScaler, ExtremeRandomTrees\", \"run_properties\": \"copy=True\", \"primary_metric\": 0.88322726, \"best_metric\": 0.95041891}, {\"run_id\": \"AutoML_2b9e7433-75ba-4857-ba62-866797e1789f_7\", \"run_number\": 12, \"metric\": null, \"status\": \"Completed\", \"run_type\": \"azureml.scriptrun\", \"training_percent\": \"100\", \"start_time\": \"2021-08-03T01:20:06.959342Z\", \"end_time\": \"2021-08-03T01:21:02.739402Z\", \"created_time\": \"2021-08-03T01:19:57.553379Z\", \"created_time_dt\": \"2021-08-03T01:19:57.553379Z\", \"duration\": \"0:01:05\", \"iteration\": \"7\", \"goal\": \"AUC_weighted_max\", \"run_name\": \"MaxAbsScaler, ExtremeRandomTrees\", \"run_properties\": \"copy=True\", \"primary_metric\": 0.84924946, \"best_metric\": 0.95041891}, {\"run_id\": \"AutoML_2b9e7433-75ba-4857-ba62-866797e1789f_8\", \"run_number\": 13, \"metric\": null, \"status\": \"Completed\", \"run_type\": \"azureml.scriptrun\", \"training_percent\": \"100\", \"start_time\": \"2021-08-03T01:21:13.759709Z\", \"end_time\": \"2021-08-03T01:22:06.068258Z\", \"created_time\": \"2021-08-03T01:21:04.553383Z\", \"created_time_dt\": \"2021-08-03T01:21:04.553383Z\", \"duration\": \"0:01:01\", \"iteration\": \"8\", \"goal\": \"AUC_weighted_max\", \"run_name\": \"MaxAbsScaler, RandomForest\", \"run_properties\": \"copy=True\", \"primary_metric\": 0.88757585, \"best_metric\": 0.95041891}, {\"run_id\": \"AutoML_2b9e7433-75ba-4857-ba62-866797e1789f_9\", \"run_number\": 14, \"metric\": null, \"status\": \"Completed\", \"run_type\": \"azureml.scriptrun\", \"training_percent\": \"100\", \"start_time\": \"2021-08-03T01:22:22.973376Z\", \"end_time\": \"2021-08-03T01:23:17.43937Z\", \"created_time\": \"2021-08-03T01:22:07.911074Z\", \"created_time_dt\": \"2021-08-03T01:22:07.911074Z\", \"duration\": \"0:01:09\", \"iteration\": \"9\", \"goal\": \"AUC_weighted_max\", \"run_name\": \"MaxAbsScaler, ExtremeRandomTrees\", \"run_properties\": \"copy=True\", \"primary_metric\": 0.81808329, \"best_metric\": 0.95041891}, {\"run_id\": \"AutoML_2b9e7433-75ba-4857-ba62-866797e1789f_10\", \"run_number\": 15, \"metric\": null, \"status\": \"Completed\", \"run_type\": \"azureml.scriptrun\", \"training_percent\": \"100\", \"start_time\": \"2021-08-03T01:23:29.686672Z\", \"end_time\": \"2021-08-03T01:24:28.563394Z\", \"created_time\": \"2021-08-03T01:23:19.384743Z\", \"created_time_dt\": \"2021-08-03T01:23:19.384743Z\", \"duration\": \"0:01:09\", \"iteration\": \"10\", \"goal\": \"AUC_weighted_max\", \"run_name\": \"MaxAbsScaler, RandomForest\", \"run_properties\": \"copy=True\", \"primary_metric\": 0.85108899, \"best_metric\": 0.95041891}, {\"run_id\": \"AutoML_2b9e7433-75ba-4857-ba62-866797e1789f_11\", \"run_number\": 16, \"metric\": null, \"status\": \"Completed\", \"run_type\": \"azureml.scriptrun\", \"training_percent\": \"100\", \"start_time\": \"2021-08-03T01:24:38.407376Z\", \"end_time\": \"2021-08-03T01:26:58.843406Z\", \"created_time\": \"2021-08-03T01:24:30.519662Z\", \"created_time_dt\": \"2021-08-03T01:24:30.519662Z\", \"duration\": \"0:02:28\", \"iteration\": \"11\", \"goal\": \"AUC_weighted_max\", \"run_name\": \"MaxAbsScaler, RandomForest\", \"run_properties\": \"copy=True\", \"primary_metric\": 0.89847608, \"best_metric\": 0.95041891}, {\"run_id\": \"AutoML_2b9e7433-75ba-4857-ba62-866797e1789f_12\", \"run_number\": 17, \"metric\": null, \"status\": \"Completed\", \"run_type\": \"azureml.scriptrun\", \"training_percent\": \"100\", \"start_time\": \"2021-08-03T01:27:16.352693Z\", \"end_time\": \"2021-08-03T01:28:14.153882Z\", \"created_time\": \"2021-08-03T01:27:00.196346Z\", \"created_time_dt\": \"2021-08-03T01:27:00.196346Z\", \"duration\": \"0:01:13\", \"iteration\": \"12\", \"goal\": \"AUC_weighted_max\", \"run_name\": \"VotingEnsemble\", \"run_properties\": \"\\n    estimators=[('0', Pipeline(memory=None,\\n             steps=[('maxabsscaler', MaxAbsScaler(copy=True\", \"primary_metric\": 0.95019888, \"best_metric\": 0.95041891}, {\"run_id\": \"AutoML_2b9e7433-75ba-4857-ba62-866797e1789f_13\", \"run_number\": 18, \"metric\": null, \"status\": \"Completed\", \"run_type\": \"azureml.scriptrun\", \"training_percent\": \"100\", \"start_time\": \"2021-08-03T01:28:24.619913Z\", \"end_time\": \"2021-08-03T01:30:44.719189Z\", \"created_time\": \"2021-08-03T01:28:15.796941Z\", \"created_time_dt\": \"2021-08-03T01:28:15.796941Z\", \"duration\": \"0:02:28\", \"iteration\": \"13\", \"goal\": \"AUC_weighted_max\", \"run_name\": \"StackEnsemble\", \"run_properties\": \"\\n    base_learners=[('0', Pipeline(memory=None,\\n             steps=[('maxabsscaler', MaxAbsScaler(copy=True\", \"primary_metric\": 0.94889488, \"best_metric\": 0.95041891}], \"children_metrics\": {\"categories\": [0], \"series\": {\"recall_score_macro\": [{\"categories\": [\"0\", \"1\", \"2\", \"3\", \"4\", \"5\", \"6\", \"7\", \"8\", \"9\", \"10\", \"11\", \"12\", \"13\"], \"mode\": \"markers\", \"name\": \"recall_score_macro\", \"stepped\": false, \"type\": \"scatter\", \"data\": [0.7584852483372779, 0.739776207973912, 0.5578265471578513, 0.7804362707459489, 0.5, 0.5887425393473789, 0.58438102774433, 0.5099614201644458, 0.5, 0.721960160260873, 0.7476827941424136, 0.819974439516941, 0.7331406781830846, 0.7407127550020893]}, {\"categories\": [\"0\", \"1\", \"2\", \"3\", \"4\", \"5\", \"6\", \"7\", \"8\", \"9\", \"10\", \"11\", \"12\", \"13\"], \"mode\": \"lines\", \"name\": \"recall_score_macro_max\", \"stepped\": true, \"type\": \"scatter\", \"data\": [0.7584852483372779, 0.7584852483372779, 0.7584852483372779, 0.7804362707459489, 0.7804362707459489, 0.7804362707459489, 0.7804362707459489, 0.7804362707459489, 0.7804362707459489, 0.7804362707459489, 0.7804362707459489, 0.819974439516941, 0.819974439516941, 0.819974439516941]}], \"average_precision_score_weighted\": [{\"categories\": [\"0\", \"1\", \"2\", \"3\", \"4\", \"5\", \"6\", \"7\", \"8\", \"9\", \"10\", \"11\", \"12\", \"13\"], \"mode\": \"markers\", \"name\": \"average_precision_score_weighted\", \"stepped\": false, \"type\": \"scatter\", \"data\": [0.9572782169478371, 0.9561597247024496, 0.9324981562961311, 0.9313943534381434, 0.922633594100631, 0.9332652070594186, 0.9292515760825854, 0.9181403284706914, 0.9266884893039844, 0.9095131965158446, 0.9156764246462343, 0.9320096380950578, 0.957460852170825, 0.9569348457271118]}, {\"categories\": [\"0\", \"1\", \"2\", \"3\", \"4\", \"5\", \"6\", \"7\", \"8\", \"9\", \"10\", \"11\", \"12\", \"13\"], \"mode\": \"lines\", \"name\": \"average_precision_score_weighted_max\", \"stepped\": true, \"type\": \"scatter\", \"data\": [0.9572782169478371, 0.9572782169478371, 0.9572782169478371, 0.9572782169478371, 0.9572782169478371, 0.9572782169478371, 0.9572782169478371, 0.9572782169478371, 0.9572782169478371, 0.9572782169478371, 0.9572782169478371, 0.9572782169478371, 0.957460852170825, 0.957460852170825]}], \"matthews_correlation\": [{\"categories\": [\"0\", \"1\", \"2\", \"3\", \"4\", \"5\", \"6\", \"7\", \"8\", \"9\", \"10\", \"11\", \"12\", \"13\"], \"mode\": \"markers\", \"name\": \"matthews_correlation\", \"stepped\": false, \"type\": \"scatter\", \"data\": [0.5564652340717471, 0.5403751960889691, 0.26535623187921226, 0.40676837463567905, 0.0, 0.3251214481572183, 0.3222146577999621, 0.06444757206041454, 0.0, 0.3028795808112913, 0.35325364425457617, 0.418607625944542, 0.5362706808222945, 0.54068020568478]}, {\"categories\": [\"0\", \"1\", \"2\", \"3\", \"4\", \"5\", \"6\", \"7\", \"8\", \"9\", \"10\", \"11\", \"12\", \"13\"], \"mode\": \"lines\", \"name\": \"matthews_correlation_max\", \"stepped\": true, \"type\": \"scatter\", \"data\": [0.5564652340717471, 0.5564652340717471, 0.5564652340717471, 0.5564652340717471, 0.5564652340717471, 0.5564652340717471, 0.5564652340717471, 0.5564652340717471, 0.5564652340717471, 0.5564652340717471, 0.5564652340717471, 0.5564652340717471, 0.5564652340717471, 0.5564652340717471]}], \"AUC_macro\": [{\"categories\": [\"0\", \"1\", \"2\", \"3\", \"4\", \"5\", \"6\", \"7\", \"8\", \"9\", \"10\", \"11\", \"12\", \"13\"], \"mode\": \"markers\", \"name\": \"AUC_macro\", \"stepped\": false, \"type\": \"scatter\", \"data\": [0.950418914590367, 0.9475544846012754, 0.9034659284303059, 0.8890905025240052, 0.8846129477265151, 0.9106406672313485, 0.8832272631835778, 0.8492494570092418, 0.8875758459827422, 0.8180832929523941, 0.8510889940583775, 0.8984760812995575, 0.9501988795891112, 0.9488948771322022]}, {\"categories\": [\"0\", \"1\", \"2\", \"3\", \"4\", \"5\", \"6\", \"7\", \"8\", \"9\", \"10\", \"11\", \"12\", \"13\"], \"mode\": \"lines\", \"name\": \"AUC_macro_max\", \"stepped\": true, \"type\": \"scatter\", \"data\": [0.950418914590367, 0.950418914590367, 0.950418914590367, 0.950418914590367, 0.950418914590367, 0.950418914590367, 0.950418914590367, 0.950418914590367, 0.950418914590367, 0.950418914590367, 0.950418914590367, 0.950418914590367, 0.950418914590367, 0.950418914590367]}], \"weighted_accuracy\": [{\"categories\": [\"0\", \"1\", \"2\", \"3\", \"4\", \"5\", \"6\", \"7\", \"8\", \"9\", \"10\", \"11\", \"12\", \"13\"], \"mode\": \"markers\", \"name\": \"weighted_accuracy\", \"stepped\": false, \"type\": \"scatter\", \"data\": [0.9562829780784867, 0.960510407118562, 0.9801380231230784, 0.8061536628677379, 0.9841348210258957, 0.9764891664261214, 0.9778860848606635, 0.9832240310077696, 0.9841348210258957, 0.7367710875675545, 0.7804046815015029, 0.6980578579885384, 0.9625807064865235, 0.9601445677161271]}, {\"categories\": [\"0\", \"1\", \"2\", \"3\", \"4\", \"5\", \"6\", \"7\", \"8\", \"9\", \"10\", \"11\", \"12\", \"13\"], \"mode\": \"lines\", \"name\": \"weighted_accuracy_max\", \"stepped\": true, \"type\": \"scatter\", \"data\": [0.9562829780784867, 0.960510407118562, 0.9801380231230784, 0.9801380231230784, 0.9841348210258957, 0.9841348210258957, 0.9841348210258957, 0.9841348210258957, 0.9841348210258957, 0.9841348210258957, 0.9841348210258957, 0.9841348210258957, 0.9841348210258957, 0.9841348210258957]}], \"AUC_micro\": [{\"categories\": [\"0\", \"1\", \"2\", \"3\", \"4\", \"5\", \"6\", \"7\", \"8\", \"9\", \"10\", \"11\", \"12\", \"13\"], \"mode\": \"markers\", \"name\": \"AUC_micro\", \"stepped\": false, \"type\": \"scatter\", \"data\": [0.9814936599637442, 0.9806493297015191, 0.9682625900857398, 0.8839080646668185, 0.964257699281292, 0.969850545528011, 0.9645080975696845, 0.9571767937027792, 0.9648581042410843, 0.8342345615140445, 0.8558629029231213, 0.857074076153137, 0.9813354943167412, 0.9810190189062133]}, {\"categories\": [\"0\", \"1\", \"2\", \"3\", \"4\", \"5\", \"6\", \"7\", \"8\", \"9\", \"10\", \"11\", \"12\", \"13\"], \"mode\": \"lines\", \"name\": \"AUC_micro_max\", \"stepped\": true, \"type\": \"scatter\", \"data\": [0.9814936599637442, 0.9814936599637442, 0.9814936599637442, 0.9814936599637442, 0.9814936599637442, 0.9814936599637442, 0.9814936599637442, 0.9814936599637442, 0.9814936599637442, 0.9814936599637442, 0.9814936599637442, 0.9814936599637442, 0.9814936599637442, 0.9814936599637442]}], \"balanced_accuracy\": [{\"categories\": [\"0\", \"1\", \"2\", \"3\", \"4\", \"5\", \"6\", \"7\", \"8\", \"9\", \"10\", \"11\", \"12\", \"13\"], \"mode\": \"markers\", \"name\": \"balanced_accuracy\", \"stepped\": false, \"type\": \"scatter\", \"data\": [0.7584852483372779, 0.739776207973912, 0.5578265471578513, 0.7804362707459489, 0.5, 0.5887425393473789, 0.58438102774433, 0.5099614201644458, 0.5, 0.721960160260873, 0.7476827941424136, 0.819974439516941, 0.7331406781830846, 0.7407127550020893]}, {\"categories\": [\"0\", \"1\", \"2\", \"3\", \"4\", \"5\", \"6\", \"7\", \"8\", \"9\", \"10\", \"11\", \"12\", \"13\"], \"mode\": \"lines\", \"name\": \"balanced_accuracy_max\", \"stepped\": true, \"type\": \"scatter\", \"data\": [0.7584852483372779, 0.7584852483372779, 0.7584852483372779, 0.7804362707459489, 0.7804362707459489, 0.7804362707459489, 0.7804362707459489, 0.7804362707459489, 0.7804362707459489, 0.7804362707459489, 0.7804362707459489, 0.819974439516941, 0.819974439516941, 0.819974439516941]}], \"recall_score_micro\": [{\"categories\": [\"0\", \"1\", \"2\", \"3\", \"4\", \"5\", \"6\", \"7\", \"8\", \"9\", \"10\", \"11\", \"12\", \"13\"], \"mode\": \"markers\", \"name\": \"recall_score_micro\", \"stepped\": false, \"type\": \"scatter\", \"data\": [0.9167476538618917, 0.9163834760125669, 0.8956977238081251, 0.8010105751843091, 0.8873458579577586, 0.8989754128740624, 0.8992181814050099, 0.8885841375094342, 0.8873458579577586, 0.7338061405727855, 0.7738912756446312, 0.7224198287188979, 0.9167233112817676, 0.9162862766412946]}, {\"categories\": [\"0\", \"1\", \"2\", \"3\", \"4\", \"5\", \"6\", \"7\", \"8\", \"9\", \"10\", \"11\", \"12\", \"13\"], \"mode\": \"lines\", \"name\": \"recall_score_micro_max\", \"stepped\": true, \"type\": \"scatter\", \"data\": [0.9167476538618917, 0.9167476538618917, 0.9167476538618917, 0.9167476538618917, 0.9167476538618917, 0.9167476538618917, 0.9167476538618917, 0.9167476538618917, 0.9167476538618917, 0.9167476538618917, 0.9167476538618917, 0.9167476538618917, 0.9167476538618917, 0.9167476538618917]}], \"precision_score_micro\": [{\"categories\": [\"0\", \"1\", \"2\", \"3\", \"4\", \"5\", \"6\", \"7\", \"8\", \"9\", \"10\", \"11\", \"12\", \"13\"], \"mode\": \"markers\", \"name\": \"precision_score_micro\", \"stepped\": false, \"type\": \"scatter\", \"data\": [0.9167476538618917, 0.9163834760125669, 0.8956977238081251, 0.8010105751843091, 0.8873458579577586, 0.8989754128740624, 0.8992181814050099, 0.8885841375094342, 0.8873458579577586, 0.7338061405727855, 0.7738912756446312, 0.7224198287188979, 0.9167233112817676, 0.9162862766412946]}, {\"categories\": [\"0\", \"1\", \"2\", \"3\", \"4\", \"5\", \"6\", \"7\", \"8\", \"9\", \"10\", \"11\", \"12\", \"13\"], \"mode\": \"lines\", \"name\": \"precision_score_micro_max\", \"stepped\": true, \"type\": \"scatter\", \"data\": [0.9167476538618917, 0.9167476538618917, 0.9167476538618917, 0.9167476538618917, 0.9167476538618917, 0.9167476538618917, 0.9167476538618917, 0.9167476538618917, 0.9167476538618917, 0.9167476538618917, 0.9167476538618917, 0.9167476538618917, 0.9167476538618917, 0.9167476538618917]}], \"average_precision_score_macro\": [{\"categories\": [\"0\", \"1\", \"2\", \"3\", \"4\", \"5\", \"6\", \"7\", \"8\", \"9\", \"10\", \"11\", \"12\", \"13\"], \"mode\": \"markers\", \"name\": \"average_precision_score_macro\", \"stepped\": false, \"type\": \"scatter\", \"data\": [0.8323862677384166, 0.8288088577728564, 0.7478666913795806, 0.7488606489170676, 0.7139838548490367, 0.7470001975800362, 0.7443512314471283, 0.7178484832060459, 0.7336352970858766, 0.7077131908011168, 0.7107663772623373, 0.7465335345110305, 0.8334699203644341, 0.8318375046158278]}, {\"categories\": [\"0\", \"1\", \"2\", \"3\", \"4\", \"5\", \"6\", \"7\", \"8\", \"9\", \"10\", \"11\", \"12\", \"13\"], \"mode\": \"lines\", \"name\": \"average_precision_score_macro_max\", \"stepped\": true, \"type\": \"scatter\", \"data\": [0.8323862677384166, 0.8323862677384166, 0.8323862677384166, 0.8323862677384166, 0.8323862677384166, 0.8323862677384166, 0.8323862677384166, 0.8323862677384166, 0.8323862677384166, 0.8323862677384166, 0.8323862677384166, 0.8323862677384166, 0.8334699203644341, 0.8334699203644341]}], \"log_loss\": [{\"categories\": [\"0\", \"1\", \"2\", \"3\", \"4\", \"5\", \"6\", \"7\", \"8\", \"9\", \"10\", \"11\", \"12\", \"13\"], \"mode\": \"markers\", \"name\": \"log_loss\", \"stepped\": false, \"type\": \"scatter\", \"data\": [0.1708274293127719, 0.17684354364466676, 0.23768329229683943, 0.4901632283093683, 0.2669894227233007, 0.2315875666702174, 0.254914115909194, 0.27706667057062473, 0.2730531540429076, 0.549649171149355, 0.5263766171072793, 0.46730449205722113, 0.17439359349239597, 0.19130206027918462]}, {\"categories\": [\"0\", \"1\", \"2\", \"3\", \"4\", \"5\", \"6\", \"7\", \"8\", \"9\", \"10\", \"11\", \"12\", \"13\"], \"mode\": \"lines\", \"name\": \"log_loss_min\", \"stepped\": true, \"type\": \"scatter\", \"data\": [0.1708274293127719, 0.1708274293127719, 0.1708274293127719, 0.1708274293127719, 0.1708274293127719, 0.1708274293127719, 0.1708274293127719, 0.1708274293127719, 0.1708274293127719, 0.1708274293127719, 0.1708274293127719, 0.1708274293127719, 0.1708274293127719, 0.1708274293127719]}], \"accuracy\": [{\"categories\": [\"0\", \"1\", \"2\", \"3\", \"4\", \"5\", \"6\", \"7\", \"8\", \"9\", \"10\", \"11\", \"12\", \"13\"], \"mode\": \"markers\", \"name\": \"accuracy\", \"stepped\": false, \"type\": \"scatter\", \"data\": [0.9167476538618917, 0.9163834760125669, 0.8956977238081251, 0.8010105751843091, 0.8873458579577586, 0.8989754128740624, 0.8992181814050099, 0.8885841375094342, 0.8873458579577586, 0.7338061405727855, 0.7738912756446312, 0.7224198287188979, 0.9167233112817676, 0.9162862766412946]}, {\"categories\": [\"0\", \"1\", \"2\", \"3\", \"4\", \"5\", \"6\", \"7\", \"8\", \"9\", \"10\", \"11\", \"12\", \"13\"], \"mode\": \"lines\", \"name\": \"accuracy_max\", \"stepped\": true, \"type\": \"scatter\", \"data\": [0.9167476538618917, 0.9167476538618917, 0.9167476538618917, 0.9167476538618917, 0.9167476538618917, 0.9167476538618917, 0.9167476538618917, 0.9167476538618917, 0.9167476538618917, 0.9167476538618917, 0.9167476538618917, 0.9167476538618917, 0.9167476538618917, 0.9167476538618917]}], \"f1_score_macro\": [{\"categories\": [\"0\", \"1\", \"2\", \"3\", \"4\", \"5\", \"6\", \"7\", \"8\", \"9\", \"10\", \"11\", \"12\", \"13\"], \"mode\": \"markers\", \"name\": \"f1_score_macro\", \"stepped\": false, \"type\": \"scatter\", \"data\": [0.7767486141503547, 0.7665666133922048, 0.5753255822847408, 0.669455964271952, 0.4701551648125668, 0.6205113368622126, 0.6150934795292204, 0.4894381564099047, 0.4701551648125668, 0.602664370450231, 0.638584805164835, 0.6258243719749967, 0.7633627014057562, 0.7663986767652075]}, {\"categories\": [\"0\", \"1\", \"2\", \"3\", \"4\", \"5\", \"6\", \"7\", \"8\", \"9\", \"10\", \"11\", \"12\", \"13\"], \"mode\": \"lines\", \"name\": \"f1_score_macro_max\", \"stepped\": true, \"type\": \"scatter\", \"data\": [0.7767486141503547, 0.7767486141503547, 0.7767486141503547, 0.7767486141503547, 0.7767486141503547, 0.7767486141503547, 0.7767486141503547, 0.7767486141503547, 0.7767486141503547, 0.7767486141503547, 0.7767486141503547, 0.7767486141503547, 0.7767486141503547, 0.7767486141503547]}], \"f1_score_weighted\": [{\"categories\": [\"0\", \"1\", \"2\", \"3\", \"4\", \"5\", \"6\", \"7\", \"8\", \"9\", \"10\", \"11\", \"12\", \"13\"], \"mode\": \"markers\", \"name\": \"f1_score_weighted\", \"stepped\": false, \"type\": \"scatter\", \"data\": [0.9137126828599911, 0.9114452156603452, 0.8610532393304388, 0.8309589546279724, 0.8343813862903835, 0.8723548581748922, 0.8712891513931948, 0.8390986744576507, 0.8343813862903835, 0.7794913491756358, 0.8096083406859789, 0.7729060140578072, 0.9109523029757716, 0.9113569430968527]}, {\"categories\": [\"0\", \"1\", \"2\", \"3\", \"4\", \"5\", \"6\", \"7\", \"8\", \"9\", \"10\", \"11\", \"12\", \"13\"], \"mode\": \"lines\", \"name\": \"f1_score_weighted_max\", \"stepped\": true, \"type\": \"scatter\", \"data\": [0.9137126828599911, 0.9137126828599911, 0.9137126828599911, 0.9137126828599911, 0.9137126828599911, 0.9137126828599911, 0.9137126828599911, 0.9137126828599911, 0.9137126828599911, 0.9137126828599911, 0.9137126828599911, 0.9137126828599911, 0.9137126828599911, 0.9137126828599911]}], \"recall_score_weighted\": [{\"categories\": [\"0\", \"1\", \"2\", \"3\", \"4\", \"5\", \"6\", \"7\", \"8\", \"9\", \"10\", \"11\", \"12\", \"13\"], \"mode\": \"markers\", \"name\": \"recall_score_weighted\", \"stepped\": false, \"type\": \"scatter\", \"data\": [0.9167476538618917, 0.9163834760125669, 0.8956977238081251, 0.8010105751843091, 0.8873458579577586, 0.8989754128740624, 0.8992181814050099, 0.8885841375094342, 0.8873458579577586, 0.7338061405727855, 0.7738912756446312, 0.7224198287188979, 0.9167233112817676, 0.9162862766412946]}, {\"categories\": [\"0\", \"1\", \"2\", \"3\", \"4\", \"5\", \"6\", \"7\", \"8\", \"9\", \"10\", \"11\", \"12\", \"13\"], \"mode\": \"lines\", \"name\": \"recall_score_weighted_max\", \"stepped\": true, \"type\": \"scatter\", \"data\": [0.9167476538618917, 0.9167476538618917, 0.9167476538618917, 0.9167476538618917, 0.9167476538618917, 0.9167476538618917, 0.9167476538618917, 0.9167476538618917, 0.9167476538618917, 0.9167476538618917, 0.9167476538618917, 0.9167476538618917, 0.9167476538618917, 0.9167476538618917]}], \"precision_score_macro\": [{\"categories\": [\"0\", \"1\", \"2\", \"3\", \"4\", \"5\", \"6\", \"7\", \"8\", \"9\", \"10\", \"11\", \"12\", \"13\"], \"mode\": \"markers\", \"name\": \"precision_score_macro\", \"stepped\": false, \"type\": \"scatter\", \"data\": [0.7996245604695964, 0.8047239254246239, 0.8089571514750805, 0.6475627477235133, 0.4436729289788793, 0.7984999854709711, 0.8081316149730047, 0.5905239560930123, 0.4436729289788793, 0.6033368001470544, 0.6261292024079022, 0.63696553028429, 0.808630468952885, 0.8045523192739449]}, {\"categories\": [\"0\", \"1\", \"2\", \"3\", \"4\", \"5\", \"6\", \"7\", \"8\", \"9\", \"10\", \"11\", \"12\", \"13\"], \"mode\": \"lines\", \"name\": \"precision_score_macro_max\", \"stepped\": true, \"type\": \"scatter\", \"data\": [0.7996245604695964, 0.8047239254246239, 0.8089571514750805, 0.8089571514750805, 0.8089571514750805, 0.8089571514750805, 0.8089571514750805, 0.8089571514750805, 0.8089571514750805, 0.8089571514750805, 0.8089571514750805, 0.8089571514750805, 0.8089571514750805, 0.8089571514750805]}], \"precision_score_weighted\": [{\"categories\": [\"0\", \"1\", \"2\", \"3\", \"4\", \"5\", \"6\", \"7\", \"8\", \"9\", \"10\", \"11\", \"12\", \"13\"], \"mode\": \"markers\", \"name\": \"precision_score_weighted\", \"stepped\": false, \"type\": \"scatter\", \"data\": [0.9118609015537309, 0.9094011371773882, 0.8788526921697828, 0.8917391646650703, 0.7873842919336952, 0.8815481584792251, 0.8829799811261392, 0.8216756359119929, 0.7873842919336952, 0.8733879253616397, 0.8813875293720418, 0.9106094610470674, 0.9089938148617851, 0.9095831133131096]}, {\"categories\": [\"0\", \"1\", \"2\", \"3\", \"4\", \"5\", \"6\", \"7\", \"8\", \"9\", \"10\", \"11\", \"12\", \"13\"], \"mode\": \"lines\", \"name\": \"precision_score_weighted_max\", \"stepped\": true, \"type\": \"scatter\", \"data\": [0.9118609015537309, 0.9118609015537309, 0.9118609015537309, 0.9118609015537309, 0.9118609015537309, 0.9118609015537309, 0.9118609015537309, 0.9118609015537309, 0.9118609015537309, 0.9118609015537309, 0.9118609015537309, 0.9118609015537309, 0.9118609015537309, 0.9118609015537309]}], \"AUC_weighted\": [{\"categories\": [\"0\", \"1\", \"2\", \"3\", \"4\", \"5\", \"6\", \"7\", \"8\", \"9\", \"10\", \"11\", \"12\", \"13\"], \"mode\": \"markers\", \"name\": \"AUC_weighted\", \"stepped\": false, \"type\": \"scatter\", \"data\": [0.950418914590367, 0.9475544846012754, 0.9034659284303059, 0.8890905025240052, 0.8846129477265151, 0.9106406672313485, 0.8832272631835778, 0.849249457009242, 0.8875758459827422, 0.8180832929523939, 0.8510889940583775, 0.8984760812995575, 0.9501988795891112, 0.9488948771322022]}, {\"categories\": [\"0\", \"1\", \"2\", \"3\", \"4\", \"5\", \"6\", \"7\", \"8\", \"9\", \"10\", \"11\", \"12\", \"13\"], \"mode\": \"lines\", \"name\": \"AUC_weighted_max\", \"stepped\": true, \"type\": \"scatter\", \"data\": [0.950418914590367, 0.950418914590367, 0.950418914590367, 0.950418914590367, 0.950418914590367, 0.950418914590367, 0.950418914590367, 0.950418914590367, 0.950418914590367, 0.950418914590367, 0.950418914590367, 0.950418914590367, 0.950418914590367, 0.950418914590367]}], \"norm_macro_recall\": [{\"categories\": [\"0\", \"1\", \"2\", \"3\", \"4\", \"5\", \"6\", \"7\", \"8\", \"9\", \"10\", \"11\", \"12\", \"13\"], \"mode\": \"markers\", \"name\": \"norm_macro_recall\", \"stepped\": false, \"type\": \"scatter\", \"data\": [0.5169704966745557, 0.4795524159478239, 0.11565309431570273, 0.5608725414918977, 0.0, 0.1774850786947578, 0.1687620554886598, 0.01992284032889171, 0.0, 0.443920320521746, 0.495365588284827, 0.6399488790338822, 0.46628135636616913, 0.48142551000417877]}, {\"categories\": [\"0\", \"1\", \"2\", \"3\", \"4\", \"5\", \"6\", \"7\", \"8\", \"9\", \"10\", \"11\", \"12\", \"13\"], \"mode\": \"lines\", \"name\": \"norm_macro_recall_max\", \"stepped\": true, \"type\": \"scatter\", \"data\": [0.5169704966745557, 0.5169704966745557, 0.5169704966745557, 0.5608725414918977, 0.5608725414918977, 0.5608725414918977, 0.5608725414918977, 0.5608725414918977, 0.5608725414918977, 0.5608725414918977, 0.5608725414918977, 0.6399488790338822, 0.6399488790338822, 0.6399488790338822]}], \"average_precision_score_micro\": [{\"categories\": [\"0\", \"1\", \"2\", \"3\", \"4\", \"5\", \"6\", \"7\", \"8\", \"9\", \"10\", \"11\", \"12\", \"13\"], \"mode\": \"markers\", \"name\": \"average_precision_score_micro\", \"stepped\": false, \"type\": \"scatter\", \"data\": [0.9822842403484083, 0.9814773499269698, 0.9690630784851576, 0.8701905745573711, 0.9651017812273661, 0.970302966625393, 0.9653614747581021, 0.9571489203745275, 0.9649844911288558, 0.8124971824578854, 0.8257807096933597, 0.8713707065441015, 0.9821007393377899, 0.9817820387066523]}, {\"categories\": [\"0\", \"1\", \"2\", \"3\", \"4\", \"5\", \"6\", \"7\", \"8\", \"9\", \"10\", \"11\", \"12\", \"13\"], \"mode\": \"lines\", \"name\": \"average_precision_score_micro_max\", \"stepped\": true, \"type\": \"scatter\", \"data\": [0.9822842403484083, 0.9822842403484083, 0.9822842403484083, 0.9822842403484083, 0.9822842403484083, 0.9822842403484083, 0.9822842403484083, 0.9822842403484083, 0.9822842403484083, 0.9822842403484083, 0.9822842403484083, 0.9822842403484083, 0.9822842403484083, 0.9822842403484083]}], \"f1_score_micro\": [{\"categories\": [\"0\", \"1\", \"2\", \"3\", \"4\", \"5\", \"6\", \"7\", \"8\", \"9\", \"10\", \"11\", \"12\", \"13\"], \"mode\": \"markers\", \"name\": \"f1_score_micro\", \"stepped\": false, \"type\": \"scatter\", \"data\": [0.9167476538618917, 0.9163834760125669, 0.8956977238081251, 0.8010105751843091, 0.8873458579577587, 0.8989754128740624, 0.8992181814050099, 0.8885841375094342, 0.8873458579577587, 0.7338061405727855, 0.7738912756446312, 0.7224198287188979, 0.9167233112817676, 0.9162862766412946]}, {\"categories\": [\"0\", \"1\", \"2\", \"3\", \"4\", \"5\", \"6\", \"7\", \"8\", \"9\", \"10\", \"11\", \"12\", \"13\"], \"mode\": \"lines\", \"name\": \"f1_score_micro_max\", \"stepped\": true, \"type\": \"scatter\", \"data\": [0.9167476538618917, 0.9167476538618917, 0.9167476538618917, 0.9167476538618917, 0.9167476538618917, 0.9167476538618917, 0.9167476538618917, 0.9167476538618917, 0.9167476538618917, 0.9167476538618917, 0.9167476538618917, 0.9167476538618917, 0.9167476538618917, 0.9167476538618917]}]}, \"metricName\": null, \"primaryMetricName\": \"AUC_weighted\", \"showLegend\": false}, \"run_metrics\": [{\"name\": \"experiment_status\", \"run_id\": \"AutoML_2b9e7433-75ba-4857-ba62-866797e1789f\", \"categories\": [0, 1, 2, 3, 4, 5, 6, 7, 8, 9, 10, 11, 12, 13, 14], \"series\": [{\"data\": [\"DatasetEvaluation\", \"FeaturesGeneration\", \"DatasetFeaturization\", \"DatasetFeaturizationCompleted\", \"DatasetBalancing\", \"DatasetCrossValidationSplit\", \"ModelSelection\", \"BestRunExplainModel\", \"ModelExplanationDataSetSetup\", \"PickSurrogateModel\", \"EngineeredFeatureExplanations\", \"EngineeredFeatureExplanations\", \"RawFeaturesExplanations\", \"RawFeaturesExplanations\", \"BestRunExplainModel\"]}]}, {\"name\": \"experiment_status_description\", \"run_id\": \"AutoML_2b9e7433-75ba-4857-ba62-866797e1789f\", \"categories\": [0, 1, 2, 3, 4, 5, 6, 7, 8, 9, 10, 11, 12, 13, 14], \"series\": [{\"data\": [\"Gathering dataset statistics.\", \"Generating features for the dataset.\", \"Beginning to fit featurizers and featurize the dataset.\", \"Completed fit featurizers and featurizing the dataset.\", \"Performing class balancing sweeping\", \"Generating individually featurized CV splits.\", \"Beginning model selection.\", \"Best run model explanations started\", \"Model explanations data setup completed\", \"Choosing LightGBM as the surrogate model for explanations\", \"Computation of engineered features started\", \"Computation of engineered features completed\", \"Computation of raw features started\", \"Computation of raw features completed\", \"Best run model explanations completed\"]}]}, {\"name\": \"precision_score_macro\", \"run_id\": \"AutoML_2b9e7433-75ba-4857-ba62-866797e1789f\", \"categories\": [0], \"series\": [{\"data\": [0.7996245604695964]}]}, {\"name\": \"f1_score_macro\", \"run_id\": \"AutoML_2b9e7433-75ba-4857-ba62-866797e1789f\", \"categories\": [0], \"series\": [{\"data\": [0.7767486141503547]}]}, {\"name\": \"f1_score_micro\", \"run_id\": \"AutoML_2b9e7433-75ba-4857-ba62-866797e1789f\", \"categories\": [0], \"series\": [{\"data\": [0.9167476538618917]}]}, {\"name\": \"precision_score_weighted\", \"run_id\": \"AutoML_2b9e7433-75ba-4857-ba62-866797e1789f\", \"categories\": [0], \"series\": [{\"data\": [0.9118609015537309]}]}, {\"name\": \"recall_score_micro\", \"run_id\": \"AutoML_2b9e7433-75ba-4857-ba62-866797e1789f\", \"categories\": [0], \"series\": [{\"data\": [0.9167476538618917]}]}, {\"name\": \"recall_score_weighted\", \"run_id\": \"AutoML_2b9e7433-75ba-4857-ba62-866797e1789f\", \"categories\": [0], \"series\": [{\"data\": [0.9167476538618917]}]}, {\"name\": \"average_precision_score_macro\", \"run_id\": \"AutoML_2b9e7433-75ba-4857-ba62-866797e1789f\", \"categories\": [0], \"series\": [{\"data\": [0.8323862677384166]}]}, {\"name\": \"accuracy\", \"run_id\": \"AutoML_2b9e7433-75ba-4857-ba62-866797e1789f\", \"categories\": [0], \"series\": [{\"data\": [0.9167476538618917]}]}, {\"name\": \"matthews_correlation\", \"run_id\": \"AutoML_2b9e7433-75ba-4857-ba62-866797e1789f\", \"categories\": [0], \"series\": [{\"data\": [0.5564652340717471]}]}, {\"name\": \"f1_score_weighted\", \"run_id\": \"AutoML_2b9e7433-75ba-4857-ba62-866797e1789f\", \"categories\": [0], \"series\": [{\"data\": [0.9137126828599911]}]}, {\"name\": \"average_precision_score_weighted\", \"run_id\": \"AutoML_2b9e7433-75ba-4857-ba62-866797e1789f\", \"categories\": [0], \"series\": [{\"data\": [0.9572782169478371]}]}, {\"name\": \"balanced_accuracy\", \"run_id\": \"AutoML_2b9e7433-75ba-4857-ba62-866797e1789f\", \"categories\": [0], \"series\": [{\"data\": [0.7584852483372779]}]}, {\"name\": \"AUC_weighted\", \"run_id\": \"AutoML_2b9e7433-75ba-4857-ba62-866797e1789f\", \"categories\": [0], \"series\": [{\"data\": [0.950418914590367]}]}, {\"name\": \"norm_macro_recall\", \"run_id\": \"AutoML_2b9e7433-75ba-4857-ba62-866797e1789f\", \"categories\": [0], \"series\": [{\"data\": [0.5169704966745557]}]}, {\"name\": \"AUC_micro\", \"run_id\": \"AutoML_2b9e7433-75ba-4857-ba62-866797e1789f\", \"categories\": [0], \"series\": [{\"data\": [0.9814936599637442]}]}, {\"name\": \"average_precision_score_micro\", \"run_id\": \"AutoML_2b9e7433-75ba-4857-ba62-866797e1789f\", \"categories\": [0], \"series\": [{\"data\": [0.9822842403484083]}]}, {\"name\": \"precision_score_micro\", \"run_id\": \"AutoML_2b9e7433-75ba-4857-ba62-866797e1789f\", \"categories\": [0], \"series\": [{\"data\": [0.9167476538618917]}]}, {\"name\": \"AUC_macro\", \"run_id\": \"AutoML_2b9e7433-75ba-4857-ba62-866797e1789f\", \"categories\": [0], \"series\": [{\"data\": [0.950418914590367]}]}, {\"name\": \"weighted_accuracy\", \"run_id\": \"AutoML_2b9e7433-75ba-4857-ba62-866797e1789f\", \"categories\": [0], \"series\": [{\"data\": [0.9562829780784867]}]}, {\"name\": \"log_loss\", \"run_id\": \"AutoML_2b9e7433-75ba-4857-ba62-866797e1789f\", \"categories\": [0], \"series\": [{\"data\": [0.1708274293127719]}]}, {\"name\": \"recall_score_macro\", \"run_id\": \"AutoML_2b9e7433-75ba-4857-ba62-866797e1789f\", \"categories\": [0], \"series\": [{\"data\": [0.7584852483372779]}]}], \"run_logs\": \"\\nRun is completed.\", \"graph\": {}, \"widget_settings\": {\"childWidgetDisplay\": \"popup\", \"send_telemetry\": false, \"log_level\": \"INFO\", \"sdk_version\": \"1.31.0\"}, \"loading\": false}"
     },
     "metadata": {},
     "output_type": "display_data"
    }
   ],
   "source": [
    "# Print training runs\n",
    "from azureml.widgets import RunDetails\n",
    "RunDetails(training_run).show()"
   ]
  },
  {
   "cell_type": "code",
   "execution_count": 12,
   "metadata": {
    "gather": {
     "logged": 1624998790045
    },
    "jupyter": {
     "outputs_hidden": true
    }
   },
   "outputs": [
    {
     "data": {
      "text/plain": [
       "{'runId': 'AutoML_2b9e7433-75ba-4857-ba62-866797e1789f',\n",
       " 'target': 'cpuShellzquzavzvs5x6m',\n",
       " 'status': 'Completed',\n",
       " 'startTimeUtc': '2021-08-03T01:04:56.643196Z',\n",
       " 'endTimeUtc': '2021-08-03T01:30:46.833242Z',\n",
       " 'properties': {'num_iterations': '1000',\n",
       "  'training_type': 'TrainFull',\n",
       "  'acquisition_function': 'EI',\n",
       "  'primary_metric': 'AUC_weighted',\n",
       "  'train_split': '0',\n",
       "  'acquisition_parameter': '0',\n",
       "  'num_cross_validation': '5',\n",
       "  'target': 'cpuShellzquzavzvs5x6m',\n",
       "  'AMLSettingsJsonString': '{\"path\":null,\"name\":\"automl_churn_experiment\",\"subscription_id\":\"3f01ab49-a56f-4ee7-97fa-d23155156b42\",\"resource_group\":\"media-test\",\"workspace_name\":\"amlws-zquzavzvs5x6m-pm0208\",\"region\":\"westus2\",\"compute_target\":\"cpuShellzquzavzvs5x6m\",\"spark_service\":null,\"azure_service\":\"remote\",\"many_models\":false,\"pipeline_fetch_max_batch_size\":1,\"enable_batch_run\":false,\"enable_run_restructure\":false,\"start_auxiliary_runs_before_parent_complete\":false,\"enable_code_generation\":false,\"iterations\":1000,\"primary_metric\":\"AUC_weighted\",\"task_type\":\"classification\",\"data_script\":null,\"test_size\":0.0,\"validation_size\":0.0,\"n_cross_validations\":5,\"y_min\":null,\"y_max\":null,\"num_classes\":null,\"featurization\":\"auto\",\"_ignore_package_version_incompatibilities\":false,\"is_timeseries\":false,\"max_cores_per_iteration\":1,\"max_concurrent_iterations\":1,\"iteration_timeout_minutes\":15,\"mem_in_mb\":null,\"enforce_time_on_windows\":false,\"experiment_timeout_minutes\":15,\"experiment_exit_score\":null,\"whitelist_models\":null,\"blacklist_algos\":[\"TensorFlowLinearClassifier\",\"TensorFlowDNN\"],\"supported_models\":[\"KNN\",\"SGD\",\"ExtremeRandomTrees\",\"GradientBoosting\",\"AveragedPerceptronClassifier\",\"DecisionTree\",\"SVM\",\"TensorFlowLinearClassifier\",\"MultinomialNaiveBayes\",\"RandomForest\",\"LinearSVM\",\"BernoulliNaiveBayes\",\"LightGBM\",\"LogisticRegression\",\"TensorFlowDNN\",\"XGBoostClassifier\"],\"private_models\":[],\"auto_blacklist\":true,\"blacklist_samples_reached\":false,\"exclude_nan_labels\":true,\"verbosity\":20,\"_debug_log\":\"azureml_automl.log\",\"show_warnings\":false,\"model_explainability\":true,\"service_url\":null,\"sdk_url\":null,\"sdk_packages\":null,\"enable_onnx_compatible_models\":false,\"enable_split_onnx_featurizer_estimator_models\":false,\"vm_type\":\"STANDARD_DS2_V2\",\"telemetry_verbosity\":20,\"send_telemetry\":true,\"enable_dnn\":false,\"scenario\":\"SDK-1.13.0\",\"environment_label\":null,\"save_mlflow\":false,\"force_text_dnn\":false,\"enable_feature_sweeping\":true,\"enable_early_stopping\":true,\"early_stopping_n_iters\":10,\"metrics\":null,\"enable_metric_confidence\":false,\"enable_ensembling\":true,\"enable_stack_ensembling\":true,\"ensemble_iterations\":15,\"enable_tf\":false,\"enable_subsampling\":null,\"subsample_seed\":null,\"enable_nimbusml\":false,\"enable_streaming\":false,\"force_streaming\":false,\"track_child_runs\":true,\"allowed_private_models\":[],\"label_column_name\":\"y\",\"weight_column_name\":null,\"cv_split_column_names\":null,\"enable_local_managed\":false,\"_local_managed_run_id\":null,\"cost_mode\":1,\"lag_length\":0,\"metric_operation\":\"maximize\",\"preprocess\":true}',\n",
       "  'DataPrepJsonString': '{\\\\\"training_data\\\\\": {\\\\\"datasetId\\\\\": \\\\\"a265db20-ecf1-499d-abd5-19880836024b\\\\\"}, \\\\\"datasets\\\\\": 0}',\n",
       "  'EnableSubsampling': None,\n",
       "  'runTemplate': 'AutoML',\n",
       "  'azureml.runsource': 'automl',\n",
       "  'display_task_type': 'classification',\n",
       "  'dependencies_versions': '{\"azureml-widgets\": \"1.31.0\", \"azureml-train\": \"1.31.0\", \"azureml-train-restclients-hyperdrive\": \"1.31.0\", \"azureml-train-core\": \"1.31.0\", \"azureml-train-automl\": \"1.31.0\", \"azureml-train-automl-runtime\": \"1.31.0\", \"azureml-train-automl-client\": \"1.31.0\", \"azureml-tensorboard\": \"1.31.0\", \"azureml-telemetry\": \"1.31.0\", \"azureml-sdk\": \"1.31.0\", \"azureml-samples\": \"0+unknown\", \"azureml-responsibleai\": \"1.31.0\", \"azureml-pipeline\": \"1.31.0\", \"azureml-pipeline-steps\": \"1.31.0\", \"azureml-pipeline-core\": \"1.31.0\", \"azureml-opendatasets\": \"1.31.0\", \"azureml-model-management-sdk\": \"1.0.1b6.post1\", \"azureml-mlflow\": \"1.31.0\", \"azureml-interpret\": \"1.31.0\", \"azureml-explain-model\": \"1.31.0\", \"azureml-defaults\": \"1.31.0\", \"azureml-dataset-runtime\": \"1.31.0\", \"azureml-dataprep\": \"2.18.0\", \"azureml-dataprep-rslex\": \"1.16.1\", \"azureml-dataprep-native\": \"36.0.0\", \"azureml-datadrift\": \"1.31.0\", \"azureml-core\": \"1.31.0\", \"azureml-contrib-services\": \"1.31.0\", \"azureml-contrib-server\": \"1.31.0\", \"azureml-contrib-reinforcementlearning\": \"1.31.0\", \"azureml-contrib-pipeline-steps\": \"1.31.0\", \"azureml-contrib-notebook\": \"1.31.0\", \"azureml-contrib-fairness\": \"1.31.0\", \"azureml-contrib-dataset\": \"1.31.0\", \"azureml-cli-common\": \"1.31.0\", \"azureml-automl-runtime\": \"1.31.0\", \"azureml-automl-dnn-nlp\": \"1.31.0\", \"azureml-automl-core\": \"1.31.0\", \"azureml-accel-models\": \"1.31.0\"}',\n",
       "  '_aml_system_scenario_identification': 'Remote.Parent',\n",
       "  'ClientType': 'SDK',\n",
       "  'environment_cpu_name': 'AzureML-AutoML',\n",
       "  'environment_cpu_label': 'prod',\n",
       "  'environment_gpu_name': 'AzureML-AutoML-GPU',\n",
       "  'environment_gpu_label': 'prod',\n",
       "  'root_attribution': 'automl',\n",
       "  'attribution': 'AutoML',\n",
       "  'Orchestrator': 'AutoML',\n",
       "  'CancelUri': 'https://westus2.api.azureml.ms/jasmine/v1.0/subscriptions/3f01ab49-a56f-4ee7-97fa-d23155156b42/resourceGroups/media-test/providers/Microsoft.MachineLearningServices/workspaces/amlws-zquzavzvs5x6m-pm0208/experimentids/34f6c1a8-6ea8-4d74-bf66-dbdeab20d53c/cancel/AutoML_2b9e7433-75ba-4857-ba62-866797e1789f',\n",
       "  'ClientSdkVersion': '1.32.0',\n",
       "  'snapshotId': '00000000-0000-0000-0000-000000000000',\n",
       "  'SetupRunId': 'AutoML_2b9e7433-75ba-4857-ba62-866797e1789f_setup',\n",
       "  'SetupRunContainerId': 'dcid.AutoML_2b9e7433-75ba-4857-ba62-866797e1789f_setup',\n",
       "  'FeaturizationRunJsonPath': 'featurizer_container.json',\n",
       "  'FeaturizationRunId': 'AutoML_2b9e7433-75ba-4857-ba62-866797e1789f_featurize',\n",
       "  'ProblemInfoJsonString': '{\"dataset_num_categorical\": 0, \"is_sparse\": true, \"subsampling\": false, \"has_extra_col\": true, \"dataset_classes\": 2, \"dataset_features\": 136, \"dataset_samples\": 41188, \"single_frequency_class_detected\": false}',\n",
       "  'ModelExplainRunId': 'AutoML_2b9e7433-75ba-4857-ba62-866797e1789f_ModelExplain'},\n",
       " 'inputDatasets': [{'dataset': {'id': 'a265db20-ecf1-499d-abd5-19880836024b'}, 'consumptionDetails': {'type': 'RunInput', 'inputName': 'training_data', 'mechanism': 'Direct'}}],\n",
       " 'outputDatasets': [],\n",
       " 'logFiles': {},\n",
       " 'submittedBy': 'POC user'}"
      ]
     },
     "execution_count": 12,
     "metadata": {},
     "output_type": "execute_result"
    }
   ],
   "source": [
    "## Show training run outputs\n",
    "training_run.wait_for_completion(show_output=False)"
   ]
  },
  {
   "cell_type": "markdown",
   "metadata": {},
   "source": [
    "### Retrieve the Best Model from AutoML Run"
   ]
  },
  {
   "cell_type": "code",
   "execution_count": 13,
   "metadata": {
    "gather": {
     "logged": 1624998805523
    },
    "jupyter": {
     "outputs_hidden": true
    }
   },
   "outputs": [
    {
     "name": "stderr",
     "output_type": "stream",
     "text": [
      "WARNING:root:The version of the SDK does not match the version the model was trained on.\n",
      "WARNING:root:The consistency in the result may not be guaranteed.\n",
      "WARNING:root:Package:azureml-automl-core, training version:1.32.0, current version:1.31.0\n",
      "Package:azureml-automl-runtime, training version:1.32.0, current version:1.31.0\n",
      "Package:azureml-core, training version:1.32.0, current version:1.31.0\n",
      "Package:azureml-dataset-runtime, training version:1.32.0, current version:1.31.0\n",
      "Package:azureml-defaults, training version:1.32.0, current version:1.31.0\n",
      "Package:azureml-interpret, training version:1.32.0, current version:1.31.0\n",
      "Package:azureml-mlflow, training version:1.32.0, current version:1.31.0\n",
      "Package:azureml-pipeline-core, training version:1.32.0, current version:1.31.0\n",
      "Package:azureml-telemetry, training version:1.32.0, current version:1.31.0\n",
      "Package:azureml-train-automl-client, training version:1.32.0, current version:1.31.0\n",
      "Package:azureml-train-automl-runtime, training version:1.32.0, current version:1.31.0\n",
      "WARNING:root:Please ensure the version of your local conda dependencies match the version on which your model was trained in order to properly retrieve your model.\n"
     ]
    },
    {
     "data": {
      "text/plain": [
       "PipelineWithYTransformations(Pipeline={'memory': None,\n",
       "                                       'steps': [('datatransformer',\n",
       "                                                  DataTransformer(enable_dnn=False, enable_feature_sweeping=True, feature_sweeping_config={}, feature_sweeping_timeout=86400, featurization_config=None, force_text_dnn=False, is_cross_validation=True, is_onnx_compatible=False, observer=None, task='classification', working_dir='/mn...\n",
       "    cost_mode_param=None,\n",
       "    iteration_timeout_mode=0,\n",
       "    iteration_timeout_param=None,\n",
       "    feature_column_names=None,\n",
       "    label_column_name=None,\n",
       "    weight_column_name=None,\n",
       "    cv_split_column_names=None,\n",
       "    enable_streaming=None,\n",
       "    timeseries_param_dict=None,\n",
       "    gpu_training_param_dict={'processing_unit_type': 'cpu'}\n",
       "), random_state=None))],\n",
       "                                       'verbose': False},\n",
       "                             y_transformer={},\n",
       "                             y_transformer_name='LabelEncoder')"
      ]
     },
     "execution_count": 13,
     "metadata": {},
     "output_type": "execute_result"
    }
   ],
   "source": [
    "best_run, fitted_model = training_run.get_output()\n",
    "fitted_model"
   ]
  },
  {
   "cell_type": "markdown",
   "metadata": {},
   "source": [
    "### Calculate metrics for the prediction\n",
    "\n",
    "Now visualize the data on a scatter plot to show what our actual values are compared to the predicted values \n",
    "from the trained model that was returned."
   ]
  },
  {
   "cell_type": "code",
   "execution_count": 14,
   "metadata": {
    "gather": {
     "logged": 1624998806408
    },
    "jupyter": {
     "outputs_hidden": false
    }
   },
   "outputs": [],
   "source": [
    "# We'll get prediction for complete dataset as test   \n",
    "X_test_df = churndata.drop_columns(columns=['y']).to_pandas_dataframe()\n",
    "y_test_df = churndata.keep_columns(columns=['y'], validate=True).to_pandas_dataframe()"
   ]
  },
  {
   "cell_type": "code",
   "execution_count": 15,
   "metadata": {
    "gather": {
     "logged": 1624998808469
    }
   },
   "outputs": [
    {
     "data": {
      "text/plain": [
       "array(['no', 'no', 'no', ..., 'no', 'yes', 'no'], dtype=object)"
      ]
     },
     "execution_count": 15,
     "metadata": {},
     "output_type": "execute_result"
    }
   ],
   "source": [
    "# call the predict functions on the model\n",
    "y_pred = fitted_model.predict(X_test_df)\n",
    "y_pred"
   ]
  },
  {
   "cell_type": "code",
   "execution_count": 16,
   "metadata": {
    "gather": {
     "logged": 1624998809095
    }
   },
   "outputs": [
    {
     "data": {
      "image/png": "[encoded data removed]",
      "text/plain": [
       "<Figure size 432x288 with 2 Axes>"
      ]
     },
     "metadata": {
      "needs_background": "light"
     },
     "output_type": "display_data"
    }
   ],
   "source": [
    "from matplotlib import pyplot as plt\n",
    "from sklearn.metrics import confusion_matrix\n",
    "import numpy as np\n",
    "import itertools\n",
    "\n",
    "cf =confusion_matrix(y_test_df.values,y_pred)\n",
    "plt.imshow(cf,cmap=plt.cm.Blues,interpolation='nearest')\n",
    "plt.colorbar()\n",
    "plt.title('Confusion Matrix')\n",
    "plt.xlabel('Predicted')\n",
    "plt.ylabel('Actual')\n",
    "class_labels = ['False','True']\n",
    "tick_marks = np.arange(len(class_labels))\n",
    "plt.xticks(tick_marks,class_labels)\n",
    "plt.yticks([-0.5,0,1,1.5],['','False','True',''])\n",
    "# plotting text value inside cells\n",
    "thresh = cf.max() / 2.\n",
    "for i,j in itertools.product(range(cf.shape[0]),range(cf.shape[1])):\n",
    "    plt.text(j,i,format(cf[i,j],'d'),horizontalalignment='center',color='white' if cf[i,j] >thresh else 'black')\n",
    "plt.show()"
   ]
  },
  {
   "cell_type": "markdown",
   "metadata": {},
   "source": [
    "## Calculate the Churn Ratio \n",
    "\n",
    "Churn ratio is defined here as the percentage of all the retail customers who are likely to churn "
   ]
  },
  {
   "cell_type": "code",
   "execution_count": 17,
   "metadata": {
    "gather": {
     "logged": 1624998809586
    }
   },
   "outputs": [
    {
     "data": {
      "text/plain": [
       "no    90.28\n",
       "yes    9.72\n",
       "Name: Churn_Predicted, dtype: float64"
      ]
     },
     "execution_count": 17,
     "metadata": {},
     "output_type": "execute_result"
    }
   ],
   "source": [
    "# Churn Ratio \n",
    "churn_predicted = pd.DataFrame(y_pred, columns = ['Churn_Predicted'])\n",
    "(churn_predicted['Churn_Predicted'].value_counts()/churn_predicted['Churn_Predicted'].count())*100"
   ]
  },
  {
   "cell_type": "markdown",
   "metadata": {},
   "source": [
    "## Predicted Churn Ratio is 4.03% "
   ]
  },
  {
   "cell_type": "code",
   "execution_count": null,
   "metadata": {},
   "outputs": [],
   "source": []
  }
 ],
 "metadata": {
  "authors": [
   {
    "name": "ratanase"
   }
  ],
  "category": "tutorial",
  "compute": [
   "AML Compute"
  ],
  "datasets": [
   "Creditcard"
  ],
  "deployment": [
   "None"
  ],
  "exclude_from_index": false,
  "file_extension": ".py",
  "framework": [
   "None"
  ],
  "friendly_name": "Classification of credit card fraudulent transactions using Automated ML",
  "index_order": 5,
  "kernel_info": {
   "name": "python3-azureml"
  },
  "kernelspec": {
   "display_name": "Python 3.6 - AzureML",
   "language": "python",
   "name": "python3-azureml"
  },
  "language_info": {
   "codemirror_mode": {
    "name": "ipython",
    "version": 3
   },
   "file_extension": ".py",
   "mimetype": "text/x-python",
   "name": "python",
   "nbconvert_exporter": "python",
   "pygments_lexer": "ipython3",
   "version": "3.6.9"
  },
  "microsoft": {
   "host": {
    "AzureML": {
     "notebookHasBeenCompleted": true
    }
   }
  },
  "mimetype": "text/x-python",
  "name": "python",
  "nbconvert_exporter": "python",
  "nteract": {
   "version": "nteract-front-end@1.0.0"
  },
  "pygments_lexer": "ipython3",
  "tags": [
   "remote_run",
   "AutomatedML"
  ],
  "task": "Classification",
  "version": "3.6.7"
 },
 "nbformat": 4,
 "nbformat_minor": 2
}
