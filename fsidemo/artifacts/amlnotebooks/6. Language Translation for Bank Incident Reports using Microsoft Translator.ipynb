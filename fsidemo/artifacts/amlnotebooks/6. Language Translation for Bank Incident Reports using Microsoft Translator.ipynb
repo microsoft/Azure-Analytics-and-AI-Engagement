{
 "cells": [
  {
   "cell_type": "markdown",
   "metadata": {},
   "source": [
    "# Language Translation for Bank Incident Reports using Microsoft Translator\n",
    "\n",
    "Microsoft translator translates text from one language to another using the Translator REST API.\n",
    "\n",
    "\n",
    "### Overview\n",
    "*Bank Incident Reports Dataset*: International branches of Woodgrove Bank record data of safety incidents that occured at their branches in their local languages. For global consolidation, these reports can easily be translated into english in real-time through Microsoft Translator API.\n",
    "\n",
    "### Notebook Organization \n",
    "+ Fetch the injury report JSON files from a folder in spanish.\n",
    "\n",
    "+ Translate the JSON files to english by sending a post request to the Microsoft Translator service.\n",
    "\n",
    "+ Store the translated JSON files to a folder.\n"
   ]
  },
  {
   "cell_type": "markdown",
   "metadata": {
    "nteract": {
     "transient": {
      "deleting": false
     }
    }
   },
   "source": [
    "## Disclaimer\n",
    "\n",
    "By accessing this code, you acknowledge the code is made available for presentation and demonstration purposes only and that the code: (1) is not subject to SOC 1 and SOC 2 compliance audits; (2) is not designed or intended to be a substitute for the professional advice, diagnosis, treatment, or judgment of a certified financial services professional; (3) is not designed, intended or made available as a medical device; and (4) is not designed or intended to be a substitute for professional medical advice, diagnosis, treatment or judgement. Do not use this code to replace, substitute, or provide professional financial advice or judgment, or to replace, substitute or provide medical advice, diagnosis, treatment or judgement. You are solely responsible for ensuring the regulatory, legal, and/or contractual compliance of any use of the code, including obtaining any authorizations or consents, and any solution you choose to build that incorporates this code in whole or in part.\n",
    "\n",
    "© 2021 Microsoft Corporation. All rights reserved"
   ]
  },
  {
   "cell_type": "markdown",
   "metadata": {},
   "source": [
    "## Importing Relevant Libraries"
   ]
  },
  {
   "cell_type": "code",
   "execution_count": 1,
   "metadata": {
    "gather": {
     "logged": 1627937975976
    }
   },
   "outputs": [],
   "source": [
    "import pandas as pd\n",
    "import requests\n",
    "import json\n",
    "import os\n",
    "from os import listdir\n",
    "from os.path import isfile, join, splitext\n",
    "import glob\n",
    "import shutil"
   ]
  },
  {
   "cell_type": "markdown",
   "metadata": {},
   "source": [
    "## Create Local Folders\n",
    "\n",
    "- *input-json-files* is the folder from where the input JSON files are provided to be translated into english.\n",
    "- *translated_json* consists of all the translated json files."
   ]
  },
  {
   "cell_type": "code",
   "execution_count": 2,
   "metadata": {
    "gather": {
     "logged": 1627937976182
    },
    "jupyter": {
     "outputs_hidden": false,
     "source_hidden": false
    },
    "nteract": {
     "transient": {
      "deleting": false
     }
    }
   },
   "outputs": [
    {
     "name": "stdout",
     "output_type": "stream",
     "text": [
      "BASE_PATH:  /mnt/batch/tasks/shared/LS_root/mounts/clusters/demo-fsi-user/code/Users\n",
      "YOUR_PATH:  /mnt/batch/tasks/shared/LS_root/mounts/clusters/demo-fsi-user/code/Users/input-json-files\n",
      "exists!\n",
      "old_file_path:  /mnt/batch/tasks/shared/LS_root/mounts/clusters/demo-fsi-user/code/Users/202045000.json\n",
      "new_file_path:  /mnt/batch/tasks/shared/LS_root/mounts/clusters/demo-fsi-user/code/Users/input-json-files/202045000.json\n",
      "/mnt/batch/tasks/shared/LS_root/mounts/clusters/demo-fsi-user/code/Users/input-json-files/202045000.json  already exists!\n",
      "old_file_path:  /mnt/batch/tasks/shared/LS_root/mounts/clusters/demo-fsi-user/code/Users/202045001.json\n",
      "new_file_path:  /mnt/batch/tasks/shared/LS_root/mounts/clusters/demo-fsi-user/code/Users/input-json-files/202045001.json\n",
      "/mnt/batch/tasks/shared/LS_root/mounts/clusters/demo-fsi-user/code/Users/input-json-files/202045001.json  already exists!\n",
      "old_file_path:  /mnt/batch/tasks/shared/LS_root/mounts/clusters/demo-fsi-user/code/Users/202045002.json\n",
      "new_file_path:  /mnt/batch/tasks/shared/LS_root/mounts/clusters/demo-fsi-user/code/Users/input-json-files/202045002.json\n",
      "/mnt/batch/tasks/shared/LS_root/mounts/clusters/demo-fsi-user/code/Users/input-json-files/202045002.json  already exists!\n",
      "old_file_path:  /mnt/batch/tasks/shared/LS_root/mounts/clusters/demo-fsi-user/code/Users/202045003.json\n",
      "new_file_path:  /mnt/batch/tasks/shared/LS_root/mounts/clusters/demo-fsi-user/code/Users/input-json-files/202045003.json\n",
      "/mnt/batch/tasks/shared/LS_root/mounts/clusters/demo-fsi-user/code/Users/input-json-files/202045003.json  already exists!\n"
     ]
    }
   ],
   "source": [
    "import os\n",
    "import glob\n",
    "import shutil\n",
    "\n",
    "BASE_PATH = os.getcwd()\n",
    "print('BASE_PATH: ',BASE_PATH)\n",
    "\n",
    "FOLDER_NAME = 'input-json-files'\n",
    "\n",
    "NEW_PATH = BASE_PATH+'/'+FOLDER_NAME\n",
    "print('YOUR_PATH: ',NEW_PATH)\n",
    "\n",
    "# LIST_OF_FILES=['logs_1.png','logs_2.png','logs_3.png']\n",
    "# with file extension\n",
    "EXT = 'json'\n",
    "LIST_OF_FILES = [ f.split(\"/\")[-1] for f in glob.glob(BASE_PATH+'/*.'+EXT)]\n",
    "\n",
    "\n",
    "if os.path.isdir(NEW_PATH):    \n",
    "    print('exists!')\n",
    "else:\n",
    "    print('created path: ',NEW_PATH)    \n",
    "    os.mkdir(NEW_PATH)\n",
    "\n",
    "    \n",
    "for f in LIST_OF_FILES:\n",
    "    new_file_path = NEW_PATH+'/'+f\n",
    "    old_file_path = BASE_PATH+'/'+f    \n",
    "    print('old_file_path: ',old_file_path)\n",
    "    print('new_file_path: ',new_file_path)\n",
    "    if os.path.isfile(new_file_path):\n",
    "        print(new_file_path,' already exists!')\n",
    "    else:\n",
    "        print('copying file ',f,' to folder ',FOLDER_NAME)\n",
    "        shutil.move(old_file_path,NEW_PATH)"
   ]
  },
  {
   "cell_type": "code",
   "execution_count": 3,
   "metadata": {
    "gather": {
     "logged": 1627937976401
    },
    "jupyter": {
     "outputs_hidden": false,
     "source_hidden": false
    },
    "nteract": {
     "transient": {
      "deleting": false
     }
    }
   },
   "outputs": [],
   "source": [
    "# filess = [f for f in listdir(os.getcwd()+\"/input-json-files\") if isfile(join(os.getcwd()+\"/input-json-files\", f))]\n",
    "# print(filess)\n",
    "\n",
    "# for f in filess:\n",
    "#     new_file_path = BASE_PATH+'/'+f\n",
    "#     old_file_path = NEW_PATH+'/'+f    \n",
    "#     print('old_file_path: ',old_file_path)\n",
    "#     print('new_file_path: ',new_file_path)\n",
    "#     if os.path.isfile(new_file_path):\n",
    "#         print(new_file_path,' already exists!')\n",
    "#     else:\n",
    "#         print('copying file ',f,' to folder ',FOLDER_NAME)\n",
    "#         shutil.copy(old_file_path,BASE_PATH)"
   ]
  },
  {
   "cell_type": "code",
   "execution_count": 4,
   "metadata": {
    "gather": {
     "logged": 1627937976569
    }
   },
   "outputs": [
    {
     "name": "stdout",
     "output_type": "stream",
     "text": [
      "/mnt/batch/tasks/shared/LS_root/mounts/clusters/demo-fsi-user/code/Users/input-json-files//\n"
     ]
    }
   ],
   "source": [
    "local_path = os.path.join(os.getcwd(), \"input-json-files//\")\n",
    "# *translated_json* will contain all the translated json files\n",
    "if (not os.path.isdir(os.getcwd()+\"/translated_json\")):\n",
    "    os.makedirs(os.getcwd()+\"/translated_json\")\n",
    "output_path = os.path.join(os.getcwd(), \"translated_json//\")\n",
    "print(local_path)"
   ]
  },
  {
   "cell_type": "markdown",
   "metadata": {},
   "source": [
    "## Translator Resource"
   ]
  },
  {
   "cell_type": "code",
   "execution_count": 5,
   "metadata": {
    "gather": {
     "logged": 1627937976748
    },
    "jupyter": {
     "outputs_hidden": false,
     "source_hidden": false
    },
    "nteract": {
     "transient": {
      "deleting": false
     }
    }
   },
   "outputs": [],
   "source": [
    "import GlobalVariables"
   ]
  },
  {
   "cell_type": "code",
   "execution_count": 6,
   "metadata": {
    "gather": {
     "logged": 1627937976823
    }
   },
   "outputs": [],
   "source": [
    "# Translator resource\n",
    "# Endpoint parameters for querying the translator to return the translated JSON\n",
    "url = GlobalVariables.TRANSLATION_URL\n",
    "apim_key = GlobalVariables.TRANSLATION_API_KEY\n",
    "headers = {'Ocp-Apim-Subscription-Key': apim_key,\"Content-Type\":\"application/json; charset=UTF-8\"}\n",
    "# Provide english as the language\n",
    "lang = \"en\""
   ]
  },
  {
   "cell_type": "code",
   "execution_count": 7,
   "metadata": {
    "gather": {
     "logged": 1627419401254
    }
   },
   "outputs": [
    {
     "name": "stdout",
     "output_type": "stream",
     "text": [
      "/mnt/batch/tasks/shared/LS_root/mounts/clusters/demo-fsi-user/code/Users/input-json-files//202045000.json\n",
      "['{\"CaseId\": \"202045000\", \"EventDate\": \"01-02-15\", \"Empleador\": \"Banco Woodgrove\", \"Ubicaci\\\\u00f3n\": \"Los \\\\u00c1ngeles\", \"Hospitalizado\": 1, \"Amputaci\\\\u00f3n\": 0, \"FinalNarrative\": \"Empleado tropez\\\\u00f3 en una pavimentadora y se fractur\\\\u00f3 la mu\\\\u00f1eca, requiriendo hospitalizaci\\\\u00f3n.\", \"NatureTitle\": \"Fracturas\", \"PartofBodyTitle\": \"Mu\\\\u00f1eca(s)\", \"EventTitle\": \"Ca\\\\u00edda en el mismo nivel debido a tropezar en una superficie irregular\", \"SourceTitle\": \"Irregularidad del suelo\"}']\n",
      "\n",
      "Original JSON\n",
      "\n",
      "{\"CaseId\": \"202045000\", \"EventDate\": \"01-02-15\", \"Empleador\": \"Banco Woodgrove\", \"Ubicación\": \"Los Ángeles\", \"Hospitalizado\": 1, \"Amputación\": 0, \"FinalNarrative\": \"Empleado tropezó en una pavimentadora y se fracturó la muñeca, requiriendo hospitalización.\", \"NatureTitle\": \"Fracturas\", \"PartofBodyTitle\": \"Muñeca(s)\", \"EventTitle\": \"Caída en el mismo nivel debido a tropezar en una superficie irregular\", \"SourceTitle\": \"Irregularidad del suelo\"}\n",
      "\n",
      "Translated JSON\n",
      "\n",
      "{'CaseId': '202045000', 'EventDate': '01-02-15', 'Employer': 'Woodgrove Bank', 'Location': 'Los Angeles', 'Hospitalized': 1, 'Amputation': 0, 'FinalNarrative': 'Employee tripped on a paver and fractured his wrist, requiring hospitalization.', 'NatureTitle': 'Fractures', 'PartofBodyTitle': 'Wrist(s)', 'EventTitle': 'Fall on the same level due to tripping on an irregular surface', 'SourceTitle': 'Unevenness of the ground'}\n",
      "/mnt/batch/tasks/shared/LS_root/mounts/clusters/demo-fsi-user/code/Users/input-json-files//202045001.json\n",
      "['{\"CaseId\": \"202045001\", \"EventDate\": \"01-08-15\", \"Empleador\": \"Woodgrove bank\", \"Ubicaci\\\\u00f3n\": \"Ciudad de Nueva York\", \"Hospitalizado\": 1, \"Amputaci\\\\u00f3n\": 0, \"FinalNarrative\": \"Empleado derram\\\\u00f3 agua en el suelo mientras hac\\\\u00eda caf\\\\u00e9. El empleado luego resbal\\\\u00f3 y cay\\\\u00f3, rompi\\\\u00e9ndose la parte superior izquierda del brazo que requiere cirug\\\\u00eda.\", \"NatureTitle\": \"Fracturas\", \"PartofBodyTitle\": \"Brazo(s) superior(es)\", \"EventTitle\": \"Ca\\\\u00edda en el mismo nivel debido a resbalones\", \"SourceTitle\": \"Piso, n.e.c.\"}']\n",
      "\n",
      "Original JSON\n",
      "\n",
      "{\"CaseId\": \"202045001\", \"EventDate\": \"01-08-15\", \"Empleador\": \"Woodgrove bank\", \"Ubicación\": \"Ciudad de Nueva York\", \"Hospitalizado\": 1, \"Amputación\": 0, \"FinalNarrative\": \"Empleado derramó agua en el suelo mientras hacía café. El empleado luego resbaló y cayó, rompiéndose la parte superior izquierda del brazo que requiere cirugía.\", \"NatureTitle\": \"Fracturas\", \"PartofBodyTitle\": \"Brazo(s) superior(es)\", \"EventTitle\": \"Caída en el mismo nivel debido a resbalones\", \"SourceTitle\": \"Piso, n.e.c.\"}\n",
      "\n",
      "Translated JSON\n",
      "\n",
      "{'CaseId': '202045001', 'EventDate': '01-08-15', 'Employer': 'Woodgrove bank', 'Location': 'New York City', 'Hospitalized': 1, 'Amputation': 0, 'FinalNarrative': 'Employee spilled water on the ground while making coffee. The employee then slipped and fell, breaking the upper left arm requiring surgery.', 'NatureTitle': 'Fractures', 'PartofBodyTitle': 'Upper arm(s)', 'EventTitle': 'Fall at the same level due to slips', 'SourceTitle': 'Floor, n.e.c.'}\n",
      "/mnt/batch/tasks/shared/LS_root/mounts/clusters/demo-fsi-user/code/Users/input-json-files//202045002.json\n",
      "['{\"CaseId\": \"202045002\", \"EventDate\": \"13/1/2015\", \"Empleador\": \"Banco Woodgrove\", \"Ubicaci\\\\u00f3n\": \"Charolette\", \"Hospitalizado\": 1, \"Amputaci\\\\u00f3n\": 0, \"FinalNarrative\": \"La empleada se cay\\\\u00f3 cuando sal\\\\u00eda del ba\\\\u00f1o del vest\\\\u00edbulo del edificio.  La empleada cay\\\\u00f3 al suelo y se rompi\\\\u00f3 la cadera.\", \"NatureTitle\": \"Fracturas\", \"PartofBodyTitle\": \"Cadera(s)\", \"EventTitle\": \"Ca\\\\u00edda en el mismo nivel, sin especificar\", \"SourceTitle\": \"Piso, n.e.c.\"}']\n",
      "\n",
      "Original JSON\n",
      "\n",
      "{\"CaseId\": \"202045002\", \"EventDate\": \"13/1/2015\", \"Empleador\": \"Banco Woodgrove\", \"Ubicación\": \"Charolette\", \"Hospitalizado\": 1, \"Amputación\": 0, \"FinalNarrative\": \"La empleada se cayó cuando salía del baño del vestíbulo del edificio.  La empleada cayó al suelo y se rompió la cadera.\", \"NatureTitle\": \"Fracturas\", \"PartofBodyTitle\": \"Cadera(s)\", \"EventTitle\": \"Caída en el mismo nivel, sin especificar\", \"SourceTitle\": \"Piso, n.e.c.\"}\n",
      "\n",
      "Translated JSON\n",
      "\n",
      "{'CaseId': '202045002', 'EventDate': '1/13/2015', 'Employer': 'Woodgrove Bank', 'Location': 'Charolette', 'Hospitalized': 1, 'Amputation': 0, 'FinalNarrative': 'The employee fell as she was leaving the bathroom in the lobby of the building.  The employee fell to the ground and broke her hip.', 'NatureTitle': 'Fractures', 'PartofBodyTitle': 'Hip(s)', 'EventTitle': 'Fall at the same level, unspecified', 'SourceTitle': 'Floor, n.e.c.'}\n",
      "/mnt/batch/tasks/shared/LS_root/mounts/clusters/demo-fsi-user/code/Users/input-json-files//202045003.json\n",
      "['{\"CaseId\": \"202045003\", \"EventDate\": \"21/1/2015\", \"Empleador\": \"Banco woodgrove\", \"Ubicaci\\\\u00f3n\": \"Charolette\", \"Hospitalizado\": 1, \"Amputaci\\\\u00f3n\": 0, \"FinalNarrative\": \"Un empleado cay\\\\u00f3 en un piso de concreto y sufri\\\\u00f3 una conmoci\\\\u00f3n cerebral y cortes y contusiones en la cabeza.\", \"NatureTitle\": \"Conmociones cerebrales\", \"PartofBodyTitle\": \"Cerebro\", \"EventTitle\": \"Ca\\\\u00edda en el mismo nivel, sin especificar\", \"SourceTitle\": \"Piso, n.e.c.\"}']\n",
      "\n",
      "Original JSON\n",
      "\n",
      "{\"CaseId\": \"202045003\", \"EventDate\": \"21/1/2015\", \"Empleador\": \"Banco woodgrove\", \"Ubicación\": \"Charolette\", \"Hospitalizado\": 1, \"Amputación\": 0, \"FinalNarrative\": \"Un empleado cayó en un piso de concreto y sufrió una conmoción cerebral y cortes y contusiones en la cabeza.\", \"NatureTitle\": \"Conmociones cerebrales\", \"PartofBodyTitle\": \"Cerebro\", \"EventTitle\": \"Caída en el mismo nivel, sin especificar\", \"SourceTitle\": \"Piso, n.e.c.\"}\n",
      "\n",
      "Translated JSON\n",
      "\n",
      "{'CaseId': '202045003', 'EventDate': '1/21/2015', 'Employer': 'Woodgrove Bank', 'Location': 'Charolette', 'Hospitalized': 1, 'Amputation': 0, 'FinalNarrative': 'An employee fell on a concrete floor and suffered a concussion and cuts and bruises on the head.', 'NatureTitle': 'Concussions', 'PartofBodyTitle': 'Brain', 'EventTitle': 'Fall at the same level, unspecified', 'SourceTitle': 'Floor, n.e.c.'}\n"
     ]
    }
   ],
   "source": [
    "# Total files in the input folder\n",
    "files = [f for f in listdir(os.getcwd()+\"/input-json-files\") if isfile(join(os.getcwd()+\"/input-json-files\", f))]\n",
    "len(files)\n",
    "# Loop through all the JSON files and translate them one by one\n",
    "for file in files:\n",
    "    if not file.lower().endswith(('.json')):\n",
    "        continue\n",
    "    with open(local_path+file) as f:\n",
    "        # Reading the data from the JSON file\n",
    "        print(local_path+file)\n",
    "        data = f.readlines()\n",
    "        print(data)\n",
    "        data = [json.loads(line) for line in data]\n",
    "        pd_data = {k.replace('_', ' ') : v for k, v in data[0].items()}\n",
    "        esp_data = json.dumps(pd_data, ensure_ascii=False).encode('utf8')\n",
    "        print(\"\\nOriginal JSON\\n\")\n",
    "        print(esp_data.decode())\n",
    "        esp_decod = esp_data.decode('utf-8')\n",
    "    # Sending a post request to the translator\n",
    "    resp = requests.post(url+lang, json=[{'Text':esp_decod}], headers = headers)\n",
    "    resp_text = json.loads(resp.text) \n",
    "    en_val=resp_text[0]['translations'][0]['text']\n",
    "    try:\n",
    "        en_dict = json.loads(en_val)\n",
    "\n",
    "    except:\n",
    "        en_str = f\"{{{en_val}}}\"\n",
    "        en_dict = json.loads(en_str)\n",
    "    print(\"\\nTranslated JSON\\n\")\n",
    "    print(en_dict)\n",
    "    # Save the translated text to a json file\n",
    "    with open(output_path+file[:-5]+\"-translated\"+\".json\", 'w') as outfile:\n",
    "        json.dump(en_dict, outfile)"
   ]
  },
  {
   "cell_type": "code",
   "execution_count": null,
   "metadata": {
    "jupyter": {
     "outputs_hidden": false,
     "source_hidden": false
    },
    "nteract": {
     "transient": {
      "deleting": false
     }
    }
   },
   "outputs": [],
   "source": []
  },
  {
   "cell_type": "code",
   "execution_count": null,
   "metadata": {
    "jupyter": {
     "outputs_hidden": false,
     "source_hidden": false
    },
    "nteract": {
     "transient": {
      "deleting": false
     }
    }
   },
   "outputs": [],
   "source": []
  }
 ],
 "metadata": {
  "kernel_info": {
   "name": "python38-azureml"
  },
  "kernelspec": {
   "display_name": "Python 3.8 - AzureML",
   "language": "python",
   "name": "python38-azureml"
  },
  "language_info": {
   "codemirror_mode": {
    "name": "ipython",
    "version": 3
   },
   "file_extension": ".py",
   "mimetype": "text/x-python",
   "name": "python",
   "nbconvert_exporter": "python",
   "pygments_lexer": "ipython3",
   "version": "3.8.1"
  },
  "microsoft": {
   "host": {
    "AzureML": {
     "notebookHasBeenCompleted": true
    }
   }
  },
  "nteract": {
   "version": "nteract-front-end@1.0.0"
  }
 },
 "nbformat": 4,
 "nbformat_minor": 4
}
