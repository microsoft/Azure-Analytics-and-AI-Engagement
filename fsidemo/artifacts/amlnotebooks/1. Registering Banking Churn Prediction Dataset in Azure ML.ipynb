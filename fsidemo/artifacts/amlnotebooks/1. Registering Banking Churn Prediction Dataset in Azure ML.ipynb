{
 "cells": [
  {
   "cell_type": "markdown",
   "metadata": {},
   "source": [
    "## Create Azure Machine Learning datasets for Customer Churn prediction\n",
    "\n",
    "Azure Machine Learning datasets can be extremely useful for your local or remote experiments. In this notebook, we will do the following things.\n",
    "\n",
    "1. Configure workspace using credentials for Azure subscription\n",
    "2. Download the dataset from ADLS Gen2\n",
    "3. Upload the featured dataset into the default datastore in Azure\n",
    "4. Register the featured dataset into Azure"
   ]
  },
  {
   "cell_type": "markdown",
   "metadata": {
    "nteract": {
     "transient": {
      "deleting": false
     }
    }
   },
   "source": [
    "## Disclaimer\n",
    "\n",
    "By accessing this code, you acknowledge the code is made available for presentation and demonstration purposes only and that the code (1) is not subject to SOC 1 and SOC 2 compliance audits, and (2) is not designed or intended to be a substitute for the professional advice, diagnosis, treatment, or judgment of a certified financial services professional. Do not use this code to replace, substitute, or provide professional financial advice, or judgement. You are solely responsible for ensuring the regulatory, legal, and/or contractual compliance of any use of the code, including obtaining any authorizations or consents, and any solution you choose to build that incorporates this code in whole or in part.\n",
    "\n",
    "© 2021 Microsoft Corporation. All rights reserved"
   ]
  },
  {
   "cell_type": "markdown",
   "metadata": {},
   "source": [
    "## Configure workspace using credentials for Azure subscription\n",
    "\n",
    "As part of the setup you have already created a Workspace. To run AutoML, you also need to create an Experiment. An Experiment corresponds to a prediction problem you are trying to solve, while a Run corresponds to a specific approach to the problem."
   ]
  },
  {
   "cell_type": "code",
   "execution_count": 1,
   "metadata": {},
   "outputs": [],
   "source": [
    "# !pip install azure-mgmt-resource==10.2.0"
   ]
  },
  {
   "cell_type": "code",
   "execution_count": 2,
   "metadata": {},
   "outputs": [],
   "source": [
    "# pip install azure-mgmt-resource"
   ]
  },
  {
   "cell_type": "code",
   "execution_count": 3,
   "metadata": {},
   "outputs": [],
   "source": [
    "# pip install azure-mgmt-resource==19.0.0"
   ]
  },
  {
   "cell_type": "code",
   "execution_count": 4,
   "metadata": {
    "gather": {
     "logged": 1624911752273
    }
   },
   "outputs": [
    {
     "name": "stdout",
     "output_type": "stream",
     "text": [
      "3f01ab49-a56f-4ee7-97fa-d23155156b42\n",
      "media-test\n",
      "amlws-zquzavzvs5x6m-pm0208\n",
      "Workspace configuration succeeded. Skip the workspace creation steps below\n"
     ]
    }
   ],
   "source": [
    "# Install the required package\n",
    "\n",
    "from azureml.core import Workspace\n",
    "import GlobalVariables\n",
    "\n",
    "print(GlobalVariables.subscription_id)\n",
    "print(GlobalVariables.resource_group)\n",
    "print(GlobalVariables.workspace_name)\n",
    "\n",
    "try:\n",
    "    workspace = Workspace(subscription_id =GlobalVariables.subscription_id, \n",
    "                          resource_group =GlobalVariables.resource_group,\n",
    "                          workspace_name =GlobalVariables.workspace_name)\n",
    "    # write the details of the workspace to a configuration file to the notebook library\n",
    "    print(\"Workspace configuration succeeded. Skip the workspace creation steps below\")\n",
    "except:\n",
    "    print(\"Workspace not accessible. Change your parameters or create a new workspace below\")"
   ]
  },
  {
   "cell_type": "markdown",
   "metadata": {},
   "source": [
    "## Download the  dataset from ADLS Gen2"
   ]
  },
  {
   "cell_type": "code",
   "execution_count": 5,
   "metadata": {
    "gather": {
     "logged": 1624911773069
    }
   },
   "outputs": [
    {
     "data": {
      "text/plain": [
       "<azure.storage.blob._blob_client.BlobClient at 0x7fba38149898>"
      ]
     },
     "execution_count": 5,
     "metadata": {},
     "output_type": "execute_result"
    }
   ],
   "source": [
    "## setting up the credentials for ADLS Gen2\n",
    "import os\n",
    "from azure.storage.blob import ContainerClient\n",
    "\n",
    "\n",
    "STORAGE_CONTAINER_NAME = \"azuremldatasets\"\n",
    "\n",
    "container_client = ContainerClient.from_connection_string(GlobalVariables.STORAGE_ACCOUNT_CONNECTION_STRING, STORAGE_CONTAINER_NAME) \n",
    "blobs_list = container_client.list_blobs()\n",
    "\n",
    "\n",
    "output_file_path=os.path.join(os.getcwd(),\"data\", \"retail_banking_customer_churn.csv\")\n",
    "output_blob_file= \"retail_banking_customer_churn_data.csv\"\n",
    "\n",
    "# Create a project_folder if it doesn't exist\n",
    "if not os.path.isdir('data'):\n",
    "    os.mkdir('data')\n",
    "\n",
    "\n",
    "# uploading the csv to the ADLSGen2 storage container\n",
    "container_client.upload_blob(name=output_blob_file, data=output_file_path, overwrite=True)\n",
    "\n"
   ]
  },
  {
   "cell_type": "markdown",
   "metadata": {},
   "source": [
    "## Upload the featured dataset into the default datastore in Azure"
   ]
  },
  {
   "cell_type": "code",
   "execution_count": 7,
   "metadata": {
    "gather": {
     "logged": 1624911785728
    }
   },
   "outputs": [
    {
     "name": "stdout",
     "output_type": "stream",
     "text": [
      "Uploading an estimated of 2 files\n",
      "Uploading ./data/prepared_customer_churn_data.csv\n",
      "Uploaded ./data/prepared_customer_churn_data.csv, 1 files out of an estimated total of 2\n",
      "Uploading ./data/retail_banking_customer_churn_data.csv\n",
      "Uploaded ./data/retail_banking_customer_churn_data.csv, 2 files out of an estimated total of 2\n",
      "Uploaded 2 files\n"
     ]
    }
   ],
   "source": [
    "from sklearn import datasets\n",
    "from azureml.core.dataset import Dataset\n",
    "from scipy import sparse\n",
    "import os \n",
    " \n",
    "# Create a project_folder if it doesn't exist\n",
    "if not os.path.isdir('data'):\n",
    "    os.mkdir('data')\n",
    " \n",
    " \n",
    "ds = workspace.get_default_datastore()\n",
    "ds.upload(src_dir='./data', target_path='retail_banking', overwrite=True, show_progress=True)\n",
    " \n",
    "final_df = Dataset.Tabular.from_delimited_files(path=ds.path('retail_banking/retail_banking_customer_churn_data.csv'))"
   ]
  },
  {
   "cell_type": "markdown",
   "metadata": {},
   "source": [
    "## Register the featured dataset into Azure"
   ]
  },
  {
   "cell_type": "code",
   "execution_count": 8,
   "metadata": {
    "gather": {
     "logged": 1624911786233
    }
   },
   "outputs": [],
   "source": [
    "# train_data_registered = Dataset.get_by_name(amlworkspace,\"train_data\",version='latest')\n",
    "#train_data_registered.unregister_all_versions()\n",
    "\n",
    "train_data_registered = final_df.register(workspace=workspace,\n",
    "                                 name='customer_churn',\n",
    "                                 description='Synapse Retail Banking Customer Churn Dataset - Original',\n",
    "                                 tags= {'type': 'Banking', 'date':'2020'},\n",
    "                                 create_new_version=True)"
   ]
  },
  {
   "cell_type": "code",
   "execution_count": null,
   "metadata": {},
   "outputs": [],
   "source": []
  }
 ],
 "metadata": {
  "kernel_info": {
   "name": "python3-azureml"
  },
  "kernelspec": {
   "display_name": "Python 3.6 - AzureML",
   "language": "python",
   "name": "python3-azureml"
  },
  "language_info": {
   "codemirror_mode": {
    "name": "ipython",
    "version": 3
   },
   "file_extension": ".py",
   "mimetype": "text/x-python",
   "name": "python",
   "nbconvert_exporter": "python",
   "pygments_lexer": "ipython3",
   "version": "3.6.9"
  },
  "microsoft": {
   "host": {
    "AzureML": {
     "notebookHasBeenCompleted": true
    }
   }
  },
  "nteract": {
   "version": "nteract-front-end@1.0.0"
  }
 },
 "nbformat": 4,
 "nbformat_minor": 2
}
