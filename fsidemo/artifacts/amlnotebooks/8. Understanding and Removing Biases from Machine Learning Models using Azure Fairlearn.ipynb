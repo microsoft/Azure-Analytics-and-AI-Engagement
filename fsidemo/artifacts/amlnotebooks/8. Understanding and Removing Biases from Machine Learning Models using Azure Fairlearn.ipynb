{
 "cells": [
  {
   "cell_type": "markdown",
   "metadata": {},
   "source": [
    "# Unfairness Mitigation with Fairlearn and Azure Machine Learning\n",
    "**This notebook shows how to upload results from Fairlearn's GridSearch mitigation algorithm into a dashboard in Azure Machine Learning Studio**\n",
    "## Disclaimer\n",
    "\n",
    "By accessing this code, you acknowledge the code is made available for presentation and demonstration purposes only and that the code: (1) is not subject to SOC 1 and SOC 2 compliance audits; (2) is not designed or intended to be a substitute for the professional advice, diagnosis, treatment, or judgment of a certified financial services professional; (3) is not designed, intended or made available as a medical device; and (4) is not designed or intended to be a substitute for professional medical advice, diagnosis, treatment or judgement. Do not use this code to replace, substitute, or provide professional financial advice or judgment, or to replace, substitute or provide medical advice, diagnosis, treatment or judgement. You are solely responsible for ensuring the regulatory, legal, and/or contractual compliance of any use of the code, including obtaining any authorizations or consents, and any solution you choose to build that incorporates this code in whole or in part.\n",
    "\n",
    "© 2021 Microsoft Corporation. All rights reserved\n",
    "## Table of Contents\n",
    "\n",
    "1. Introduction\n",
    "1. Loading the Data\n",
    "1. Training an Unmitigated Model)\n",
    "1. Mitigation with GridSearch\n",
    "1. Uploading a Fairness Dashboard to Azure\n",
    "    1. Registering models\n",
    "    1. Computing Fairness Metrics\n",
    "    1. Uploading to Azure\n",
    "1. Conclusion\n",
    "\n",
    "<a id=\"Introduction\"></a>\n",
    "## Introduction\n",
    "This notebook shows how to use Fairlearn (an open-source fairness assessment and unfairness mitigation package) and Azure Machine Learning Studio for a binary classification problem. In this notebook, we will be using a loan decision dataset. The label indicates whether or not each individual repaid a loan in the past. We will use the data to train a predictor to predict whether previously unseen individuals will repay a loan or not. The assumption is that the model predictions are used to decide whether an individual should be offered a loan.\n",
    "\n",
    " \n",
    "\n",
    "Farilearn mitigates disparity using two types of algorithms, reduction, and post-processing. We will apply the grid search algorithm, a reduction algorithm, from the Fairlearn package using a specific notion of fairness called Demographic Parity. Reduction algorithms reduce disparity by training models on reweighted datasets. This produces a set of models, and we will view these in a dashboard both locally and in the Azure Machine Learning Studio. We will also see the trade-off between model performance and disparity visually through Fairlearn dashboards, which can help make an informed decision about the model.\n",
    "\n",
    "### Setup\n",
    "\n",
    "To use this notebook, an Azure Machine Learning workspace is required. This notebook also requires the following packages:\n",
    "* `azureml-contrib-fairness`\n",
    "* `fairlearn==0.4.6` (v0.5.0 will work with minor modifications)\n",
    "* `joblib`\n",
    "* `liac-arff`\n",
    "\n",
    "Fairlearn relies on features introduced in v0.22.1 of `scikit-learn`. If you have an older version already installed, please uncomment and run the following cell:"
   ]
  },
  {
   "cell_type": "code",
   "execution_count": 1,
   "metadata": {
    "collapsed": true,
    "gather": {
     "logged": 1628167188830
    },
    "jupyter": {
     "outputs_hidden": false,
     "source_hidden": false
    },
    "nteract": {
     "transient": {
      "deleting": false
     }
    }
   },
   "outputs": [
    {
     "name": "stdout",
     "output_type": "stream",
     "text": [
      "Requirement already up-to-date: sklearn in /anaconda/envs/azureml_py36/lib/python3.6/site-packages (0.0)\n",
      "Requirement already satisfied, skipping upgrade: scikit-learn in /anaconda/envs/azureml_py36/lib/python3.6/site-packages (from sklearn) (0.22.2.post1)\n",
      "Requirement already satisfied, skipping upgrade: numpy>=1.11.0 in /anaconda/envs/azureml_py36/lib/python3.6/site-packages (from scikit-learn->sklearn) (1.18.5)\n",
      "Requirement already satisfied, skipping upgrade: scipy>=0.17.0 in /anaconda/envs/azureml_py36/lib/python3.6/site-packages (from scikit-learn->sklearn) (1.5.2)\n",
      "Requirement already satisfied, skipping upgrade: joblib>=0.11 in /anaconda/envs/azureml_py36/lib/python3.6/site-packages (from scikit-learn->sklearn) (0.14.1)\n",
      "Requirement already satisfied: fairlearn in /anaconda/envs/azureml_py36/lib/python3.6/site-packages (0.7.0)\n",
      "Requirement already satisfied: numpy>=1.17.2 in /anaconda/envs/azureml_py36/lib/python3.6/site-packages (from fairlearn) (1.18.5)\n",
      "Requirement already satisfied: pandas>=0.25.1 in /anaconda/envs/azureml_py36/lib/python3.6/site-packages (from fairlearn) (0.25.3)\n",
      "Requirement already satisfied: scikit-learn>=0.22.1 in /anaconda/envs/azureml_py36/lib/python3.6/site-packages (from fairlearn) (0.22.2.post1)\n",
      "Requirement already satisfied: scipy>=1.4.1 in /anaconda/envs/azureml_py36/lib/python3.6/site-packages (from fairlearn) (1.5.2)\n",
      "Requirement already satisfied: pytz>=2017.2 in /anaconda/envs/azureml_py36/lib/python3.6/site-packages (from pandas>=0.25.1->fairlearn) (2021.1)\n",
      "Requirement already satisfied: python-dateutil>=2.6.1 in /anaconda/envs/azureml_py36/lib/python3.6/site-packages (from pandas>=0.25.1->fairlearn) (2.8.1)\n",
      "Requirement already satisfied: joblib>=0.11 in /anaconda/envs/azureml_py36/lib/python3.6/site-packages (from scikit-learn>=0.22.1->fairlearn) (0.14.1)\n",
      "Requirement already satisfied: six>=1.5 in /anaconda/envs/azureml_py36/lib/python3.6/site-packages (from python-dateutil>=2.6.1->pandas>=0.25.1->fairlearn) (1.16.0)\n",
      "The scikit-learn version is 0.24.2.\n"
     ]
    }
   ],
   "source": [
    "!pip install -U sklearn\n",
    "!pip install fairlearn\n",
    "import sklearn\n",
    "print('The scikit-learn version is {}.'.format(sklearn.__version__))"
   ]
  },
  {
   "cell_type": "markdown",
   "metadata": {},
   "source": [
    "Finally, please ensure that when you downloaded this notebook, you also downloaded the `fairness_nb_utils.py` file from the same location, and placed it in the same directory as this notebook."
   ]
  },
  {
   "cell_type": "markdown",
   "metadata": {},
   "source": [
    "<a id=\"LoadingData\"></a>\n",
    "## Loading the Data\n",
    "We use the well-known `adult` loan dataset, which we will fetch from the OpenML website. We start with a fairly unremarkable set of imports:"
   ]
  },
  {
   "cell_type": "code",
   "execution_count": 22,
   "metadata": {
    "gather": {
     "logged": 1628167189177
    }
   },
   "outputs": [
    {
     "ename": "ModuleNotFoundError",
     "evalue": "No module named 'fairlearn.widget'",
     "output_type": "error",
     "traceback": [
      "\u001b[0;31m---------------------------------------------------------------------------\u001b[0m",
      "\u001b[0;31mModuleNotFoundError\u001b[0m                       Traceback (most recent call last)",
      "\u001b[0;32m/tmp/ipykernel_12126/4054158284.py\u001b[0m in \u001b[0;36m<module>\u001b[0;34m\u001b[0m\n\u001b[1;32m      1\u001b[0m \u001b[0;32mfrom\u001b[0m \u001b[0mfairlearn\u001b[0m\u001b[0;34m.\u001b[0m\u001b[0mreductions\u001b[0m \u001b[0;32mimport\u001b[0m \u001b[0mGridSearch\u001b[0m\u001b[0;34m,\u001b[0m \u001b[0mDemographicParity\u001b[0m\u001b[0;34m,\u001b[0m \u001b[0mErrorRate\u001b[0m\u001b[0;34m\u001b[0m\u001b[0;34m\u001b[0m\u001b[0m\n\u001b[0;32m----> 2\u001b[0;31m \u001b[0;32mfrom\u001b[0m \u001b[0mfairlearn\u001b[0m\u001b[0;34m.\u001b[0m\u001b[0mwidget\u001b[0m \u001b[0;32mimport\u001b[0m \u001b[0mFairlearnDashboard\u001b[0m\u001b[0;34m\u001b[0m\u001b[0;34m\u001b[0m\u001b[0m\n\u001b[0m\u001b[1;32m      3\u001b[0m \u001b[0;34m\u001b[0m\u001b[0m\n\u001b[1;32m      4\u001b[0m \u001b[0;32mfrom\u001b[0m \u001b[0msklearn\u001b[0m\u001b[0;34m.\u001b[0m\u001b[0mcompose\u001b[0m \u001b[0;32mimport\u001b[0m \u001b[0mColumnTransformer\u001b[0m\u001b[0;34m\u001b[0m\u001b[0;34m\u001b[0m\u001b[0m\n\u001b[1;32m      5\u001b[0m \u001b[0;32mfrom\u001b[0m \u001b[0msklearn\u001b[0m\u001b[0;34m.\u001b[0m\u001b[0mimpute\u001b[0m \u001b[0;32mimport\u001b[0m \u001b[0mSimpleImputer\u001b[0m\u001b[0;34m\u001b[0m\u001b[0;34m\u001b[0m\u001b[0m\n",
      "\u001b[0;31mModuleNotFoundError\u001b[0m: No module named 'fairlearn.widget'"
     ]
    }
   ],
   "source": [
    "from fairlearn.reductions import GridSearch, DemographicParity, ErrorRate\n",
    "#from fairlearn.widget import FairlearnDashboard\n",
    "\n",
    "from sklearn.compose import ColumnTransformer\n",
    "from sklearn.impute import SimpleImputer\n",
    "from sklearn.linear_model import LogisticRegression\n",
    "from sklearn.model_selection import train_test_split\n",
    "from sklearn.preprocessing import StandardScaler, OneHotEncoder\n",
    "from sklearn.compose import make_column_selector as selector\n",
    "from sklearn.pipeline import Pipeline\n",
    "\n",
    "import pandas as pd"
   ]
  },
  {
   "cell_type": "markdown",
   "metadata": {},
   "source": [
    "We can now load and inspect the data:"
   ]
  },
  {
   "cell_type": "code",
   "execution_count": 3,
   "metadata": {
    "gather": {
     "logged": 1628167190652
    }
   },
   "outputs": [
    {
     "name": "stdout",
     "output_type": "stream",
     "text": [
      "White                 41762\n",
      "Black                  4685\n",
      "Asian-Pac-Islander     1519\n",
      "Amer-Indian-Eskimo      470\n",
      "Other                   406\n",
      "Name: race, dtype: int64\n"
     ]
    },
    {
     "data": {
      "text/html": [
       "<div>\n",
       "<style scoped>\n",
       "    .dataframe tbody tr th:only-of-type {\n",
       "        vertical-align: middle;\n",
       "    }\n",
       "\n",
       "    .dataframe tbody tr th {\n",
       "        vertical-align: top;\n",
       "    }\n",
       "\n",
       "    .dataframe thead th {\n",
       "        text-align: right;\n",
       "    }\n",
       "</style>\n",
       "<table border=\"1\" class=\"dataframe\">\n",
       "  <thead>\n",
       "    <tr style=\"text-align: right;\">\n",
       "      <th></th>\n",
       "      <th>age</th>\n",
       "      <th>workclass</th>\n",
       "      <th>fnlwgt</th>\n",
       "      <th>education</th>\n",
       "      <th>education-num</th>\n",
       "      <th>marital-status</th>\n",
       "      <th>occupation</th>\n",
       "      <th>relationship</th>\n",
       "      <th>race</th>\n",
       "      <th>sex</th>\n",
       "      <th>capital-gain</th>\n",
       "      <th>capital-loss</th>\n",
       "      <th>hours-per-week</th>\n",
       "      <th>native-country</th>\n",
       "    </tr>\n",
       "  </thead>\n",
       "  <tbody>\n",
       "    <tr>\n",
       "      <th>0</th>\n",
       "      <td>25.0</td>\n",
       "      <td>Private</td>\n",
       "      <td>226802.0</td>\n",
       "      <td>11th</td>\n",
       "      <td>7.0</td>\n",
       "      <td>Never-married</td>\n",
       "      <td>Machine-op-inspct</td>\n",
       "      <td>Own-child</td>\n",
       "      <td>Black</td>\n",
       "      <td>Male</td>\n",
       "      <td>0.0</td>\n",
       "      <td>0.0</td>\n",
       "      <td>40.0</td>\n",
       "      <td>United-States</td>\n",
       "    </tr>\n",
       "    <tr>\n",
       "      <th>1</th>\n",
       "      <td>38.0</td>\n",
       "      <td>Private</td>\n",
       "      <td>89814.0</td>\n",
       "      <td>HS-grad</td>\n",
       "      <td>9.0</td>\n",
       "      <td>Married-civ-spouse</td>\n",
       "      <td>Farming-fishing</td>\n",
       "      <td>Husband</td>\n",
       "      <td>White</td>\n",
       "      <td>Male</td>\n",
       "      <td>0.0</td>\n",
       "      <td>0.0</td>\n",
       "      <td>50.0</td>\n",
       "      <td>United-States</td>\n",
       "    </tr>\n",
       "    <tr>\n",
       "      <th>2</th>\n",
       "      <td>28.0</td>\n",
       "      <td>Local-gov</td>\n",
       "      <td>336951.0</td>\n",
       "      <td>Assoc-acdm</td>\n",
       "      <td>12.0</td>\n",
       "      <td>Married-civ-spouse</td>\n",
       "      <td>Protective-serv</td>\n",
       "      <td>Husband</td>\n",
       "      <td>White</td>\n",
       "      <td>Male</td>\n",
       "      <td>0.0</td>\n",
       "      <td>0.0</td>\n",
       "      <td>40.0</td>\n",
       "      <td>United-States</td>\n",
       "    </tr>\n",
       "    <tr>\n",
       "      <th>3</th>\n",
       "      <td>44.0</td>\n",
       "      <td>Private</td>\n",
       "      <td>160323.0</td>\n",
       "      <td>Some-college</td>\n",
       "      <td>10.0</td>\n",
       "      <td>Married-civ-spouse</td>\n",
       "      <td>Machine-op-inspct</td>\n",
       "      <td>Husband</td>\n",
       "      <td>Black</td>\n",
       "      <td>Male</td>\n",
       "      <td>7688.0</td>\n",
       "      <td>0.0</td>\n",
       "      <td>40.0</td>\n",
       "      <td>United-States</td>\n",
       "    </tr>\n",
       "    <tr>\n",
       "      <th>4</th>\n",
       "      <td>18.0</td>\n",
       "      <td>NaN</td>\n",
       "      <td>103497.0</td>\n",
       "      <td>Some-college</td>\n",
       "      <td>10.0</td>\n",
       "      <td>Never-married</td>\n",
       "      <td>NaN</td>\n",
       "      <td>Own-child</td>\n",
       "      <td>White</td>\n",
       "      <td>Female</td>\n",
       "      <td>0.0</td>\n",
       "      <td>0.0</td>\n",
       "      <td>30.0</td>\n",
       "      <td>United-States</td>\n",
       "    </tr>\n",
       "    <tr>\n",
       "      <th>...</th>\n",
       "      <td>...</td>\n",
       "      <td>...</td>\n",
       "      <td>...</td>\n",
       "      <td>...</td>\n",
       "      <td>...</td>\n",
       "      <td>...</td>\n",
       "      <td>...</td>\n",
       "      <td>...</td>\n",
       "      <td>...</td>\n",
       "      <td>...</td>\n",
       "      <td>...</td>\n",
       "      <td>...</td>\n",
       "      <td>...</td>\n",
       "      <td>...</td>\n",
       "    </tr>\n",
       "    <tr>\n",
       "      <th>48837</th>\n",
       "      <td>27.0</td>\n",
       "      <td>Private</td>\n",
       "      <td>257302.0</td>\n",
       "      <td>Assoc-acdm</td>\n",
       "      <td>12.0</td>\n",
       "      <td>Married-civ-spouse</td>\n",
       "      <td>Tech-support</td>\n",
       "      <td>Wife</td>\n",
       "      <td>White</td>\n",
       "      <td>Female</td>\n",
       "      <td>0.0</td>\n",
       "      <td>0.0</td>\n",
       "      <td>38.0</td>\n",
       "      <td>United-States</td>\n",
       "    </tr>\n",
       "    <tr>\n",
       "      <th>48838</th>\n",
       "      <td>40.0</td>\n",
       "      <td>Private</td>\n",
       "      <td>154374.0</td>\n",
       "      <td>HS-grad</td>\n",
       "      <td>9.0</td>\n",
       "      <td>Married-civ-spouse</td>\n",
       "      <td>Machine-op-inspct</td>\n",
       "      <td>Husband</td>\n",
       "      <td>White</td>\n",
       "      <td>Male</td>\n",
       "      <td>0.0</td>\n",
       "      <td>0.0</td>\n",
       "      <td>40.0</td>\n",
       "      <td>United-States</td>\n",
       "    </tr>\n",
       "    <tr>\n",
       "      <th>48839</th>\n",
       "      <td>58.0</td>\n",
       "      <td>Private</td>\n",
       "      <td>151910.0</td>\n",
       "      <td>HS-grad</td>\n",
       "      <td>9.0</td>\n",
       "      <td>Widowed</td>\n",
       "      <td>Adm-clerical</td>\n",
       "      <td>Unmarried</td>\n",
       "      <td>White</td>\n",
       "      <td>Female</td>\n",
       "      <td>0.0</td>\n",
       "      <td>0.0</td>\n",
       "      <td>40.0</td>\n",
       "      <td>United-States</td>\n",
       "    </tr>\n",
       "    <tr>\n",
       "      <th>48840</th>\n",
       "      <td>22.0</td>\n",
       "      <td>Private</td>\n",
       "      <td>201490.0</td>\n",
       "      <td>HS-grad</td>\n",
       "      <td>9.0</td>\n",
       "      <td>Never-married</td>\n",
       "      <td>Adm-clerical</td>\n",
       "      <td>Own-child</td>\n",
       "      <td>White</td>\n",
       "      <td>Male</td>\n",
       "      <td>0.0</td>\n",
       "      <td>0.0</td>\n",
       "      <td>20.0</td>\n",
       "      <td>United-States</td>\n",
       "    </tr>\n",
       "    <tr>\n",
       "      <th>48841</th>\n",
       "      <td>52.0</td>\n",
       "      <td>Self-emp-inc</td>\n",
       "      <td>287927.0</td>\n",
       "      <td>HS-grad</td>\n",
       "      <td>9.0</td>\n",
       "      <td>Married-civ-spouse</td>\n",
       "      <td>Exec-managerial</td>\n",
       "      <td>Wife</td>\n",
       "      <td>White</td>\n",
       "      <td>Female</td>\n",
       "      <td>15024.0</td>\n",
       "      <td>0.0</td>\n",
       "      <td>40.0</td>\n",
       "      <td>United-States</td>\n",
       "    </tr>\n",
       "  </tbody>\n",
       "</table>\n",
       "<p>48842 rows × 14 columns</p>\n",
       "</div>"
      ],
      "text/plain": [
       "        age     workclass    fnlwgt     education  education-num  \\\n",
       "0      25.0       Private  226802.0          11th            7.0   \n",
       "1      38.0       Private   89814.0       HS-grad            9.0   \n",
       "2      28.0     Local-gov  336951.0    Assoc-acdm           12.0   \n",
       "3      44.0       Private  160323.0  Some-college           10.0   \n",
       "4      18.0           NaN  103497.0  Some-college           10.0   \n",
       "...     ...           ...       ...           ...            ...   \n",
       "48837  27.0       Private  257302.0    Assoc-acdm           12.0   \n",
       "48838  40.0       Private  154374.0       HS-grad            9.0   \n",
       "48839  58.0       Private  151910.0       HS-grad            9.0   \n",
       "48840  22.0       Private  201490.0       HS-grad            9.0   \n",
       "48841  52.0  Self-emp-inc  287927.0       HS-grad            9.0   \n",
       "\n",
       "           marital-status         occupation relationship   race     sex  \\\n",
       "0           Never-married  Machine-op-inspct    Own-child  Black    Male   \n",
       "1      Married-civ-spouse    Farming-fishing      Husband  White    Male   \n",
       "2      Married-civ-spouse    Protective-serv      Husband  White    Male   \n",
       "3      Married-civ-spouse  Machine-op-inspct      Husband  Black    Male   \n",
       "4           Never-married                NaN    Own-child  White  Female   \n",
       "...                   ...                ...          ...    ...     ...   \n",
       "48837  Married-civ-spouse       Tech-support         Wife  White  Female   \n",
       "48838  Married-civ-spouse  Machine-op-inspct      Husband  White    Male   \n",
       "48839             Widowed       Adm-clerical    Unmarried  White  Female   \n",
       "48840       Never-married       Adm-clerical    Own-child  White    Male   \n",
       "48841  Married-civ-spouse    Exec-managerial         Wife  White  Female   \n",
       "\n",
       "       capital-gain  capital-loss  hours-per-week native-country  \n",
       "0               0.0           0.0            40.0  United-States  \n",
       "1               0.0           0.0            50.0  United-States  \n",
       "2               0.0           0.0            40.0  United-States  \n",
       "3            7688.0           0.0            40.0  United-States  \n",
       "4               0.0           0.0            30.0  United-States  \n",
       "...             ...           ...             ...            ...  \n",
       "48837           0.0           0.0            38.0  United-States  \n",
       "48838           0.0           0.0            40.0  United-States  \n",
       "48839           0.0           0.0            40.0  United-States  \n",
       "48840           0.0           0.0            20.0  United-States  \n",
       "48841       15024.0           0.0            40.0  United-States  \n",
       "\n",
       "[48842 rows x 14 columns]"
      ]
     },
     "execution_count": 3,
     "metadata": {},
     "output_type": "execute_result"
    }
   ],
   "source": [
    "from sklearn.datasets import fetch_openml\n",
    "\n",
    "data = fetch_openml(data_id=1590, as_frame=True)\n",
    "# Extract the items we want\n",
    "X_raw = data.data\n",
    "y = (data.target == '>50K') * 1\n",
    "\n",
    "print(X_raw[\"race\"].value_counts())\n",
    "X_raw"
   ]
  },
  {
   "cell_type": "code",
   "execution_count": 4,
   "metadata": {
    "collapsed": true,
    "gather": {
     "logged": 1628167191135
    },
    "jupyter": {
     "outputs_hidden": false,
     "source_hidden": false
    },
    "nteract": {
     "transient": {
      "deleting": false
     }
    }
   },
   "outputs": [
    {
     "name": "stdout",
     "output_type": "stream",
     "text": [
      "White                 37483\n",
      "Black                  9211\n",
      "Asian-Pac-Islander     1373\n",
      "Amer-Indian-Eskimo      420\n",
      "Other                   355\n",
      "Name: race, dtype: int64\n",
      "        age     workclass    fnlwgt     education  education-num  \\\n",
      "0      25.0       Private  226802.0          11th            7.0   \n",
      "1      38.0       Private   89814.0       HS-grad            9.0   \n",
      "2      28.0     Local-gov  336951.0    Assoc-acdm           12.0   \n",
      "3      44.0       Private  160323.0  Some-college           10.0   \n",
      "4      18.0           NaN  103497.0  Some-college           10.0   \n",
      "...     ...           ...       ...           ...            ...   \n",
      "48837  27.0       Private  257302.0    Assoc-acdm           12.0   \n",
      "48838  40.0       Private  154374.0       HS-grad            9.0   \n",
      "48839  58.0       Private  151910.0       HS-grad            9.0   \n",
      "48840  22.0       Private  201490.0       HS-grad            9.0   \n",
      "48841  52.0  Self-emp-inc  287927.0       HS-grad            9.0   \n",
      "\n",
      "           marital-status         occupation relationship   race     sex  \\\n",
      "0           Never-married  Machine-op-inspct    Own-child  Black    Male   \n",
      "1      Married-civ-spouse    Farming-fishing      Husband  White    Male   \n",
      "2      Married-civ-spouse    Protective-serv      Husband  White    Male   \n",
      "3      Married-civ-spouse  Machine-op-inspct      Husband  Black    Male   \n",
      "4           Never-married                NaN    Own-child  White  Female   \n",
      "...                   ...                ...          ...    ...     ...   \n",
      "48837  Married-civ-spouse       Tech-support         Wife  White  Female   \n",
      "48838  Married-civ-spouse  Machine-op-inspct      Husband  White    Male   \n",
      "48839             Widowed       Adm-clerical    Unmarried  White  Female   \n",
      "48840       Never-married       Adm-clerical    Own-child  White    Male   \n",
      "48841  Married-civ-spouse    Exec-managerial         Wife  White  Female   \n",
      "\n",
      "       capital-gain  capital-loss  hours-per-week native-country  \n",
      "0               0.0           0.0            40.0  United-States  \n",
      "1               0.0           0.0            50.0  United-States  \n",
      "2               0.0           0.0            40.0  United-States  \n",
      "3            7688.0           0.0            40.0  United-States  \n",
      "4               0.0           0.0            30.0  United-States  \n",
      "...             ...           ...             ...            ...  \n",
      "48837           0.0           0.0            38.0  United-States  \n",
      "48838           0.0           0.0            40.0  United-States  \n",
      "48839           0.0           0.0            40.0  United-States  \n",
      "48840           0.0           0.0            20.0  United-States  \n",
      "48841       15024.0           0.0            40.0  United-States  \n",
      "\n",
      "[48842 rows x 14 columns]\n"
     ]
    },
    {
     "name": "stderr",
     "output_type": "stream",
     "text": [
      "/anaconda/envs/azureml_py38/lib/python3.8/site-packages/pandas/core/frame.py:3607: SettingWithCopyWarning: \n",
      "A value is trying to be set on a copy of a slice from a DataFrame.\n",
      "Try using .loc[row_indexer,col_indexer] = value instead\n",
      "\n",
      "See the caveats in the documentation: https://pandas.pydata.org/pandas-docs/stable/user_guide/indexing.html#returning-a-view-versus-a-copy\n",
      "  self._set_item(key, value)\n"
     ]
    }
   ],
   "source": [
    "dfupdate=X_raw.sample(5000)  #Number of sample you want to update\n",
    "\n",
    "dfupdate.race=\"Black\" #Assigning new category\n",
    "\n",
    "X_raw.update(dfupdate)\n",
    "#update_list = dfupdate.index.tolist()\n",
    "print(X_raw[\"race\"].value_counts())\n",
    "\n",
    "for col in ['workclass', 'education', 'marital-status', 'occupation', 'relationship', 'race', 'sex', 'native-country' ]:\n",
    "    X_raw[col] = X_raw[col].astype('category')\n",
    "X_raw.dtypes\n",
    "print(X_raw)"
   ]
  },
  {
   "cell_type": "markdown",
   "metadata": {},
   "source": [
    "We are going to treat the sex and race of each individual as protected attributes, and in this particular case we are going to remove these attributes from the main data. Protected attributes are often denoted by 'A' in the literature, and we follow that convention here:"
   ]
  },
  {
   "cell_type": "code",
   "execution_count": 5,
   "metadata": {
    "gather": {
     "logged": 1628167191309
    }
   },
   "outputs": [],
   "source": [
    "A = X_raw[['sex','race']]\n",
    "X_raw = X_raw.drop(labels=['sex', 'race'], axis = 1)"
   ]
  },
  {
   "cell_type": "markdown",
   "metadata": {},
   "source": [
    "We now preprocess our data. To avoid the problem of data leakage, we split our data into training and test sets before performing any other transformations. Subsequent transformations (such as scalings) will be fit to the training data set, and then applied to the test dataset."
   ]
  },
  {
   "cell_type": "code",
   "execution_count": 6,
   "metadata": {
    "gather": {
     "logged": 1628167191420
    }
   },
   "outputs": [],
   "source": [
    "(X_train, X_test, y_train, y_test, A_train, A_test) = train_test_split(\n",
    "    X_raw, y, A, test_size=0.3, random_state=12345, stratify=y)\n",
    "\n",
    "# Ensure indices are aligned between X, y and A,\n",
    "# after all the slicing and splitting of DataFrames\n",
    "# and Series\n",
    "\n",
    "X_train = X_train.reset_index(drop=True)\n",
    "X_test = X_test.reset_index(drop=True)\n",
    "y_train = y_train.reset_index(drop=True)\n",
    "y_test = y_test.reset_index(drop=True)\n",
    "A_train = A_train.reset_index(drop=True)\n",
    "A_test = A_test.reset_index(drop=True)"
   ]
  },
  {
   "cell_type": "markdown",
   "metadata": {},
   "source": [
    "We have two types of column in the dataset - categorical columns which will need to be one-hot encoded, and numeric ones which will need to be rescaled. We also need to take care of missing values. We use a simple approach here, but please bear in mind that this is another way that bias could be introduced (especially if one subgroup tends to have more missing values).\n",
    "\n",
    "For this preprocessing, we make use of `Pipeline` objects from `sklearn`:"
   ]
  },
  {
   "cell_type": "code",
   "execution_count": 7,
   "metadata": {
    "gather": {
     "logged": 1628167191537
    }
   },
   "outputs": [],
   "source": [
    "numeric_transformer = Pipeline(\n",
    "    steps=[\n",
    "        (\"impute\", SimpleImputer()),\n",
    "        (\"scaler\", StandardScaler()),\n",
    "    ]\n",
    ")\n",
    "\n",
    "categorical_transformer = Pipeline(\n",
    "    [\n",
    "        (\"impute\", SimpleImputer(strategy=\"most_frequent\")),\n",
    "        (\"ohe\", OneHotEncoder(handle_unknown=\"ignore\", sparse=False)),\n",
    "    ]\n",
    ")\n",
    "\n",
    "preprocessor = ColumnTransformer(\n",
    "    transformers=[\n",
    "        (\"num\", numeric_transformer, selector(dtype_exclude=\"category\")),\n",
    "        (\"cat\", categorical_transformer, selector(dtype_include=\"category\")),\n",
    "    ]\n",
    ")"
   ]
  },
  {
   "cell_type": "markdown",
   "metadata": {},
   "source": [
    "Now, the preprocessing pipeline is defined, we can run it on our training data, and apply the generated transform to our test data:"
   ]
  },
  {
   "cell_type": "code",
   "execution_count": 8,
   "metadata": {
    "gather": {
     "logged": 1628167191721
    }
   },
   "outputs": [],
   "source": [
    "X_train = preprocessor.fit_transform(X_train)\n",
    "X_test = preprocessor.transform(X_test)"
   ]
  },
  {
   "cell_type": "markdown",
   "metadata": {},
   "source": [
    "<a id=\"UnmitigatedModel\"></a>\n",
    "## Training an Unmitigated Model\n",
    "\n",
    "So we have a point of comparison, we first train a model (specifically, logistic regression from scikit-learn) on the raw data, without applying any mitigation algorithm:"
   ]
  },
  {
   "cell_type": "code",
   "execution_count": 9,
   "metadata": {
    "gather": {
     "logged": 1628167191871
    }
   },
   "outputs": [
    {
     "data": {
      "text/plain": [
       "LogisticRegression(solver='liblinear')"
      ]
     },
     "execution_count": 9,
     "metadata": {},
     "output_type": "execute_result"
    }
   ],
   "source": [
    "unmitigated_predictor = LogisticRegression(solver='liblinear', fit_intercept=True)\n",
    "\n",
    "unmitigated_predictor.fit(X_train, y_train)"
   ]
  },
  {
   "cell_type": "markdown",
   "metadata": {},
   "source": [
    "We can view this model in the fairness dashboard, and see the disparities which appear:"
   ]
  },
  {
   "cell_type": "markdown",
   "metadata": {
    "nteract": {
     "transient": {
      "deleting": false
     }
    }
   },
   "source": [
    "<a id=\"AzureUpload\"></a>\n",
    "## Uploading a Fairness Dashboard to Azure (one time job)\n",
    "\n",
    "Uploading a fairness dashboard to Azure is a two stage process. The `FairlearnDashboard` invoked in the previous section relies on the underlying Python kernel to compute metrics on demand. This is obviously not available when the fairness dashboard is rendered in AzureML Studio. By default, the dashboard in Azure Machine Learning Studio also requires the models to be registered. The required stages are therefore:\n",
    "1. Register the dominant models\n",
    "1. Precompute all the required metrics\n",
    "1. Upload to Azure\n",
    "\n",
    "Before that, we need to connect to Azure Machine Learning Studio:"
   ]
  },
  {
   "cell_type": "code",
   "execution_count": 10,
   "metadata": {
    "collapsed": true,
    "gather": {
     "logged": 1628167201460
    },
    "jupyter": {
     "outputs_hidden": false,
     "source_hidden": false
    },
    "nteract": {
     "transient": {
      "deleting": false
     }
    }
   },
   "outputs": [
    {
     "name": "stdout",
     "output_type": "stream",
     "text": [
      "Registering  unfairness_model_for_race_v2\n",
      "Registering model unfairness_model_for_race_v2\n",
      "Registered  unfairness_model_for_race_v2:2\n",
      "Experiment(Name: Unfairness_Experiment_for_Race_v2,\n",
      "Workspace: amlws-sufse2t562jqy-pm0508)\n",
      "\n",
      "Uploaded to id: 6c5bbbac-0d00-4153-bb84-09a8dad5966a\n",
      "\n"
     ]
    },
    {
     "name": "stderr",
     "output_type": "stream",
     "text": [
      "INFO:/anaconda/envs/azureml_py38/lib/python3.8/site-packages/azureml/contrib/fairness/_dashboard_validation.py:Starting validation of dashboard dictionary\n",
      "INFO:/anaconda/envs/azureml_py38/lib/python3.8/site-packages/azureml/contrib/fairness/_dashboard_validation.py:Validation of dashboard dictionary successful\n",
      "INFO:/anaconda/envs/azureml_py38/lib/python3.8/site-packages/azureml/contrib/fairness/_azureml_validation.py:Validating model ids exist\n",
      "INFO:/anaconda/envs/azureml_py38/lib/python3.8/site-packages/azureml/contrib/fairness/_azureml_validation.py:Checking unfairness_model_for_race_v2:2\n",
      "INFO:/anaconda/envs/azureml_py38/lib/python3.8/site-packages/azureml/contrib/fairness/_azureml_validation.py:Validation of model ids complete\n",
      "INFO:/anaconda/envs/azureml_py38/lib/python3.8/site-packages/azureml/contrib/fairness/_fairness_client.py:Uploading y_true\n",
      "INFO:azureml.FairnessArtifactClient:Uploading to azureml.fairness/dashboard.metrics/6c5bbbac-0d00-4153-bb84-09a8dad5966a/y_true/433111cb-778c-463d-ae91-c60433ef4ef2.json\n",
      "INFO:/anaconda/envs/azureml_py38/lib/python3.8/site-packages/azureml/contrib/fairness/_specific_uploaders.py:Uploaded y_true to prefix azureml.fairness/dashboard.metrics/6c5bbbac-0d00-4153-bb84-09a8dad5966a/y_true/433111cb-778c-463d-ae91-c60433ef4ef2.json\n",
      "INFO:/anaconda/envs/azureml_py38/lib/python3.8/site-packages/azureml/contrib/fairness/_fairness_client.py:Found 1 predictions\n",
      "INFO:azureml.FairnessArtifactClient:Uploading to azureml.fairness/dashboard.metrics/6c5bbbac-0d00-4153-bb84-09a8dad5966a/y_pred/add7ce4b-e2a8-471f-b05f-75ac1d1ea975.json\n",
      "INFO:/anaconda/envs/azureml_py38/lib/python3.8/site-packages/azureml/contrib/fairness/_specific_uploaders.py:Uploaded prediction to prefix azureml.fairness/dashboard.metrics/6c5bbbac-0d00-4153-bb84-09a8dad5966a/y_pred/add7ce4b-e2a8-471f-b05f-75ac1d1ea975.json\n",
      "INFO:/anaconda/envs/azureml_py38/lib/python3.8/site-packages/azureml/contrib/fairness/_specific_uploaders.py:Uploaded 1 predictions\n",
      "INFO:/anaconda/envs/azureml_py38/lib/python3.8/site-packages/azureml/contrib/fairness/_fairness_client.py:Found {0} sensitive features\n",
      "INFO:azureml.FairnessArtifactClient:Uploading to azureml.fairness/dashboard.metrics/6c5bbbac-0d00-4153-bb84-09a8dad5966a/sensitive_features_column/19935bf2-abf8-4ce7-b321-4872588550c4.json\n",
      "INFO:/anaconda/envs/azureml_py38/lib/python3.8/site-packages/azureml/contrib/fairness/_specific_uploaders.py:Uploaded sensitive feature column to prefix azureml.fairness/dashboard.metrics/6c5bbbac-0d00-4153-bb84-09a8dad5966a/sensitive_features_column/19935bf2-abf8-4ce7-b321-4872588550c4.json\n",
      "INFO:/anaconda/envs/azureml_py38/lib/python3.8/site-packages/azureml/contrib/fairness/_specific_uploaders.py:Uploaded 1 sensitive features\n",
      "INFO:/anaconda/envs/azureml_py38/lib/python3.8/site-packages/azureml/contrib/fairness/_fairness_client.py:Uploading metrics\n",
      "INFO:azureml.FairnessArtifactClient:Uploading to azureml.fairness/dashboard.metrics/6c5bbbac-0d00-4153-bb84-09a8dad5966a/metrics_set/5d93f96a-f162-4426-9813-8796e1bd9bd3.json\n",
      "INFO:/anaconda/envs/azureml_py38/lib/python3.8/site-packages/azureml/contrib/fairness/_specific_uploaders.py:Uploaded metrics data for prediction 0 and sensitive_feature 0\n",
      "INFO:/anaconda/envs/azureml_py38/lib/python3.8/site-packages/azureml/contrib/fairness/_fairness_client.py:Creating CUF Assets\n",
      "INFO:/anaconda/envs/azureml_py38/lib/python3.8/site-packages/azureml/contrib/fairness/_fairness_client.py:Asset uploaded with id 6b84bacaa06b4f28b4864a1217f6c824\n",
      "INFO:/anaconda/envs/azureml_py38/lib/python3.8/site-packages/azureml/contrib/fairness/_fairness_client.py:Fetching asset list\n",
      "INFO:/anaconda/envs/azureml_py38/lib/python3.8/site-packages/azureml/contrib/fairness/_fairness_client.py:Populating y_true\n",
      "INFO:azureml.FairnessArtifactClient:Downloading from azureml.fairness/dashboard.metrics/6c5bbbac-0d00-4153-bb84-09a8dad5966a/y_true/433111cb-778c-463d-ae91-c60433ef4ef2.json\n",
      "INFO:/anaconda/envs/azureml_py38/lib/python3.8/site-packages/azureml/contrib/fairness/_fairness_client.py:Populating y_pred\n",
      "INFO:azureml.FairnessArtifactClient:Downloading from azureml.fairness/dashboard.metrics/6c5bbbac-0d00-4153-bb84-09a8dad5966a/y_pred/add7ce4b-e2a8-471f-b05f-75ac1d1ea975.json\n",
      "INFO:/anaconda/envs/azureml_py38/lib/python3.8/site-packages/azureml/contrib/fairness/_fairness_client.py:Populating sensitive features\n",
      "INFO:azureml.FairnessArtifactClient:Downloading from azureml.fairness/dashboard.metrics/6c5bbbac-0d00-4153-bb84-09a8dad5966a/sensitive_features_column/19935bf2-abf8-4ce7-b321-4872588550c4.json\n",
      "INFO:/anaconda/envs/azureml_py38/lib/python3.8/site-packages/azureml/contrib/fairness/_fairness_client.py:Populating metrics\n",
      "INFO:azureml.FairnessArtifactClient:Downloading from azureml.fairness/dashboard.metrics/6c5bbbac-0d00-4153-bb84-09a8dad5966a/metrics_set/5d93f96a-f162-4426-9813-8796e1bd9bd3.json\n"
     ]
    }
   ],
   "source": [
    "from azureml.core import Workspace, Experiment, Model\n",
    "import joblib\n",
    "import os\n",
    "\n",
    "ws = Workspace.from_config()\n",
    "ws.get_details()\n",
    "\n",
    "os.makedirs('models', exist_ok=True)\n",
    "\n",
    "# Function to register models into Azure Machine Learning\n",
    "def register_model(name, model):\n",
    "    print(\"Registering \", name)\n",
    "    model_path = \"models/{0}.pkl\".format(name)\n",
    "    joblib.dump(value=model, filename=model_path)\n",
    "    registered_model = Model.register(model_path=model_path,\n",
    "                                    model_name=name,\n",
    "                                    workspace=ws)\n",
    "    print(\"Registered \", registered_model.id)\n",
    "    return registered_model.id\n",
    "\n",
    "# Call the register_model function \n",
    "lr_reg_id = register_model(\"unfairness_model_for_race_v2\", unmitigated_predictor)\n",
    "#  Create a dictionary of model(s) you want to assess for fairness \n",
    "sf = { 'Race': A_test.race}\n",
    "ys_pred = { lr_reg_id:unmitigated_predictor.predict(X_test) }\n",
    "from fairlearn.metrics._group_metric_set import _create_group_metric_set\n",
    "\n",
    "dash_dict = _create_group_metric_set(y_true=y_test,\n",
    "                                    predictions=ys_pred,\n",
    "                                    sensitive_features=sf,\n",
    "                                    prediction_type='binary_classification')\n",
    "\n",
    "from azureml.contrib.fairness import upload_dashboard_dictionary, download_dashboard_by_upload_id\n",
    "\n",
    "exp = Experiment(ws, \"Unfairness_Experiment_for_Race_v2\")\n",
    "print(exp)\n",
    "\n",
    "run = exp.start_logging()\n",
    "\n",
    "# Upload the dashboard to Azure Machine Learning\n",
    "try:\n",
    "    dashboard_title = \"Fairness insights of Regression Classifier for Race\"\n",
    "    # Set validate_model_ids parameter of upload_dashboard_dictionary to False if you have not registered your model(s)\n",
    "    upload_id = upload_dashboard_dictionary(run,\n",
    "                                            dash_dict,\n",
    "                                            dashboard_name=dashboard_title)\n",
    "    print(\"\\nUploaded to id: {0}\\n\".format(upload_id))\n",
    "\n",
    "    # To test the dashboard, you can download it back and ensure it contains the right information\n",
    "    downloaded_dict = download_dashboard_by_upload_id(run, upload_id)\n",
    "finally:\n",
    "    run.complete()"
   ]
  },
  {
   "cell_type": "markdown",
   "metadata": {},
   "source": [
    "<a id=\"Mitigation\"></a>\n",
    "## Mitigation with GridSearch\n",
    "\n",
    "The `GridSearch` class in `Fairlearn` implements a simplified version of the exponentiated gradient reduction. The user supplies a standard ML estimator, which is treated as a blackbox - for this simple example, we shall use the logistic regression estimator from scikit-learn. `GridSearch` works by generating a sequence of relabellings and reweightings, and trains a predictor for each.\n",
    "\n",
    "For this example, we specify demographic parity (on the protected attribute of race) as the fairness metric. Demographic parity requires that individuals are offered the opportunity (a loan in this example) independent of membership in the protected class (i.e., females and males should be offered loans at the same rate). *We are using this metric for the sake of simplicity* in this example; the appropriate fairness metric can only be selected after *careful examination of the broader context* in which the model is to be used.\n",
    "    "
   ]
  },
  {
   "cell_type": "code",
   "execution_count": 11,
   "metadata": {
    "gather": {
     "logged": 1628167201641
    }
   },
   "outputs": [],
   "source": [
    "sweep = GridSearch(LogisticRegression(solver='liblinear', fit_intercept=True),\n",
    "                   constraints=DemographicParity(),\n",
    "                   grid_size=71)"
   ]
  },
  {
   "cell_type": "markdown",
   "metadata": {},
   "source": [
    "With our estimator created, we can fit it to the data. After `fit()` completes, we extract the full set of predictors from the `GridSearch` object.\n",
    "\n",
    "The following cell trains a many copies of the underlying estimator, and may take a minute or two to run:"
   ]
  },
  {
   "cell_type": "code",
   "execution_count": 12,
   "metadata": {
    "gather": {
     "logged": 1628167339476
    }
   },
   "outputs": [
    {
     "name": "stderr",
     "output_type": "stream",
     "text": [
      "/anaconda/envs/azureml_py38/lib/python3.8/site-packages/fairlearn/reductions/_moments/utility_parity.py:251: FutureWarning: Using the level keyword in DataFrame and Series aggregations is deprecated and will be removed in a future version. Use groupby instead. df.sum(level=1) should use df.groupby(level=1).sum().\n",
      "  lambda_event = (lambda_vec[\"+\"] - self.ratio * lambda_vec[\"-\"]).sum(level=_EVENT) / \\\n",
      "/anaconda/envs/azureml_py38/lib/python3.8/site-packages/fairlearn/reductions/_moments/utility_parity.py:251: FutureWarning: Using the level keyword in DataFrame and Series aggregations is deprecated and will be removed in a future version. Use groupby instead. df.sum(level=1) should use df.groupby(level=1).sum().\n",
      "  lambda_event = (lambda_vec[\"+\"] - self.ratio * lambda_vec[\"-\"]).sum(level=_EVENT) / \\\n",
      "/anaconda/envs/azureml_py38/lib/python3.8/site-packages/fairlearn/reductions/_moments/utility_parity.py:251: FutureWarning: Using the level keyword in DataFrame and Series aggregations is deprecated and will be removed in a future version. Use groupby instead. df.sum(level=1) should use df.groupby(level=1).sum().\n",
      "  lambda_event = (lambda_vec[\"+\"] - self.ratio * lambda_vec[\"-\"]).sum(level=_EVENT) / \\\n",
      "/anaconda/envs/azureml_py38/lib/python3.8/site-packages/fairlearn/reductions/_moments/utility_parity.py:251: FutureWarning: Using the level keyword in DataFrame and Series aggregations is deprecated and will be removed in a future version. Use groupby instead. df.sum(level=1) should use df.groupby(level=1).sum().\n",
      "  lambda_event = (lambda_vec[\"+\"] - self.ratio * lambda_vec[\"-\"]).sum(level=_EVENT) / \\\n",
      "/anaconda/envs/azureml_py38/lib/python3.8/site-packages/fairlearn/reductions/_moments/utility_parity.py:251: FutureWarning: Using the level keyword in DataFrame and Series aggregations is deprecated and will be removed in a future version. Use groupby instead. df.sum(level=1) should use df.groupby(level=1).sum().\n",
      "  lambda_event = (lambda_vec[\"+\"] - self.ratio * lambda_vec[\"-\"]).sum(level=_EVENT) / \\\n",
      "/anaconda/envs/azureml_py38/lib/python3.8/site-packages/fairlearn/reductions/_moments/utility_parity.py:251: FutureWarning: Using the level keyword in DataFrame and Series aggregations is deprecated and will be removed in a future version. Use groupby instead. df.sum(level=1) should use df.groupby(level=1).sum().\n",
      "  lambda_event = (lambda_vec[\"+\"] - self.ratio * lambda_vec[\"-\"]).sum(level=_EVENT) / \\\n",
      "/anaconda/envs/azureml_py38/lib/python3.8/site-packages/fairlearn/reductions/_moments/utility_parity.py:251: FutureWarning: Using the level keyword in DataFrame and Series aggregations is deprecated and will be removed in a future version. Use groupby instead. df.sum(level=1) should use df.groupby(level=1).sum().\n",
      "  lambda_event = (lambda_vec[\"+\"] - self.ratio * lambda_vec[\"-\"]).sum(level=_EVENT) / \\\n",
      "/anaconda/envs/azureml_py38/lib/python3.8/site-packages/fairlearn/reductions/_moments/utility_parity.py:251: FutureWarning: Using the level keyword in DataFrame and Series aggregations is deprecated and will be removed in a future version. Use groupby instead. df.sum(level=1) should use df.groupby(level=1).sum().\n",
      "  lambda_event = (lambda_vec[\"+\"] - self.ratio * lambda_vec[\"-\"]).sum(level=_EVENT) / \\\n",
      "/anaconda/envs/azureml_py38/lib/python3.8/site-packages/fairlearn/reductions/_moments/utility_parity.py:251: FutureWarning: Using the level keyword in DataFrame and Series aggregations is deprecated and will be removed in a future version. Use groupby instead. df.sum(level=1) should use df.groupby(level=1).sum().\n",
      "  lambda_event = (lambda_vec[\"+\"] - self.ratio * lambda_vec[\"-\"]).sum(level=_EVENT) / \\\n",
      "/anaconda/envs/azureml_py38/lib/python3.8/site-packages/fairlearn/reductions/_moments/utility_parity.py:251: FutureWarning: Using the level keyword in DataFrame and Series aggregations is deprecated and will be removed in a future version. Use groupby instead. df.sum(level=1) should use df.groupby(level=1).sum().\n",
      "  lambda_event = (lambda_vec[\"+\"] - self.ratio * lambda_vec[\"-\"]).sum(level=_EVENT) / \\\n",
      "/anaconda/envs/azureml_py38/lib/python3.8/site-packages/fairlearn/reductions/_moments/utility_parity.py:251: FutureWarning: Using the level keyword in DataFrame and Series aggregations is deprecated and will be removed in a future version. Use groupby instead. df.sum(level=1) should use df.groupby(level=1).sum().\n",
      "  lambda_event = (lambda_vec[\"+\"] - self.ratio * lambda_vec[\"-\"]).sum(level=_EVENT) / \\\n",
      "/anaconda/envs/azureml_py38/lib/python3.8/site-packages/fairlearn/reductions/_moments/utility_parity.py:251: FutureWarning: Using the level keyword in DataFrame and Series aggregations is deprecated and will be removed in a future version. Use groupby instead. df.sum(level=1) should use df.groupby(level=1).sum().\n",
      "  lambda_event = (lambda_vec[\"+\"] - self.ratio * lambda_vec[\"-\"]).sum(level=_EVENT) / \\\n",
      "/anaconda/envs/azureml_py38/lib/python3.8/site-packages/fairlearn/reductions/_moments/utility_parity.py:251: FutureWarning: Using the level keyword in DataFrame and Series aggregations is deprecated and will be removed in a future version. Use groupby instead. df.sum(level=1) should use df.groupby(level=1).sum().\n",
      "  lambda_event = (lambda_vec[\"+\"] - self.ratio * lambda_vec[\"-\"]).sum(level=_EVENT) / \\\n",
      "/anaconda/envs/azureml_py38/lib/python3.8/site-packages/fairlearn/reductions/_moments/utility_parity.py:251: FutureWarning: Using the level keyword in DataFrame and Series aggregations is deprecated and will be removed in a future version. Use groupby instead. df.sum(level=1) should use df.groupby(level=1).sum().\n",
      "  lambda_event = (lambda_vec[\"+\"] - self.ratio * lambda_vec[\"-\"]).sum(level=_EVENT) / \\\n",
      "/anaconda/envs/azureml_py38/lib/python3.8/site-packages/fairlearn/reductions/_moments/utility_parity.py:251: FutureWarning: Using the level keyword in DataFrame and Series aggregations is deprecated and will be removed in a future version. Use groupby instead. df.sum(level=1) should use df.groupby(level=1).sum().\n",
      "  lambda_event = (lambda_vec[\"+\"] - self.ratio * lambda_vec[\"-\"]).sum(level=_EVENT) / \\\n",
      "/anaconda/envs/azureml_py38/lib/python3.8/site-packages/fairlearn/reductions/_moments/utility_parity.py:251: FutureWarning: Using the level keyword in DataFrame and Series aggregations is deprecated and will be removed in a future version. Use groupby instead. df.sum(level=1) should use df.groupby(level=1).sum().\n",
      "  lambda_event = (lambda_vec[\"+\"] - self.ratio * lambda_vec[\"-\"]).sum(level=_EVENT) / \\\n",
      "/anaconda/envs/azureml_py38/lib/python3.8/site-packages/fairlearn/reductions/_moments/utility_parity.py:251: FutureWarning: Using the level keyword in DataFrame and Series aggregations is deprecated and will be removed in a future version. Use groupby instead. df.sum(level=1) should use df.groupby(level=1).sum().\n",
      "  lambda_event = (lambda_vec[\"+\"] - self.ratio * lambda_vec[\"-\"]).sum(level=_EVENT) / \\\n",
      "/anaconda/envs/azureml_py38/lib/python3.8/site-packages/fairlearn/reductions/_moments/utility_parity.py:251: FutureWarning: Using the level keyword in DataFrame and Series aggregations is deprecated and will be removed in a future version. Use groupby instead. df.sum(level=1) should use df.groupby(level=1).sum().\n",
      "  lambda_event = (lambda_vec[\"+\"] - self.ratio * lambda_vec[\"-\"]).sum(level=_EVENT) / \\\n",
      "/anaconda/envs/azureml_py38/lib/python3.8/site-packages/fairlearn/reductions/_moments/utility_parity.py:251: FutureWarning: Using the level keyword in DataFrame and Series aggregations is deprecated and will be removed in a future version. Use groupby instead. df.sum(level=1) should use df.groupby(level=1).sum().\n",
      "  lambda_event = (lambda_vec[\"+\"] - self.ratio * lambda_vec[\"-\"]).sum(level=_EVENT) / \\\n",
      "/anaconda/envs/azureml_py38/lib/python3.8/site-packages/fairlearn/reductions/_moments/utility_parity.py:251: FutureWarning: Using the level keyword in DataFrame and Series aggregations is deprecated and will be removed in a future version. Use groupby instead. df.sum(level=1) should use df.groupby(level=1).sum().\n",
      "  lambda_event = (lambda_vec[\"+\"] - self.ratio * lambda_vec[\"-\"]).sum(level=_EVENT) / \\\n",
      "/anaconda/envs/azureml_py38/lib/python3.8/site-packages/fairlearn/reductions/_moments/utility_parity.py:251: FutureWarning: Using the level keyword in DataFrame and Series aggregations is deprecated and will be removed in a future version. Use groupby instead. df.sum(level=1) should use df.groupby(level=1).sum().\n",
      "  lambda_event = (lambda_vec[\"+\"] - self.ratio * lambda_vec[\"-\"]).sum(level=_EVENT) / \\\n",
      "/anaconda/envs/azureml_py38/lib/python3.8/site-packages/fairlearn/reductions/_moments/utility_parity.py:251: FutureWarning: Using the level keyword in DataFrame and Series aggregations is deprecated and will be removed in a future version. Use groupby instead. df.sum(level=1) should use df.groupby(level=1).sum().\n",
      "  lambda_event = (lambda_vec[\"+\"] - self.ratio * lambda_vec[\"-\"]).sum(level=_EVENT) / \\\n",
      "/anaconda/envs/azureml_py38/lib/python3.8/site-packages/fairlearn/reductions/_moments/utility_parity.py:251: FutureWarning: Using the level keyword in DataFrame and Series aggregations is deprecated and will be removed in a future version. Use groupby instead. df.sum(level=1) should use df.groupby(level=1).sum().\n",
      "  lambda_event = (lambda_vec[\"+\"] - self.ratio * lambda_vec[\"-\"]).sum(level=_EVENT) / \\\n",
      "/anaconda/envs/azureml_py38/lib/python3.8/site-packages/fairlearn/reductions/_moments/utility_parity.py:251: FutureWarning: Using the level keyword in DataFrame and Series aggregations is deprecated and will be removed in a future version. Use groupby instead. df.sum(level=1) should use df.groupby(level=1).sum().\n",
      "  lambda_event = (lambda_vec[\"+\"] - self.ratio * lambda_vec[\"-\"]).sum(level=_EVENT) / \\\n",
      "/anaconda/envs/azureml_py38/lib/python3.8/site-packages/fairlearn/reductions/_moments/utility_parity.py:251: FutureWarning: Using the level keyword in DataFrame and Series aggregations is deprecated and will be removed in a future version. Use groupby instead. df.sum(level=1) should use df.groupby(level=1).sum().\n",
      "  lambda_event = (lambda_vec[\"+\"] - self.ratio * lambda_vec[\"-\"]).sum(level=_EVENT) / \\\n",
      "/anaconda/envs/azureml_py38/lib/python3.8/site-packages/fairlearn/reductions/_moments/utility_parity.py:251: FutureWarning: Using the level keyword in DataFrame and Series aggregations is deprecated and will be removed in a future version. Use groupby instead. df.sum(level=1) should use df.groupby(level=1).sum().\n",
      "  lambda_event = (lambda_vec[\"+\"] - self.ratio * lambda_vec[\"-\"]).sum(level=_EVENT) / \\\n",
      "/anaconda/envs/azureml_py38/lib/python3.8/site-packages/fairlearn/reductions/_moments/utility_parity.py:251: FutureWarning: Using the level keyword in DataFrame and Series aggregations is deprecated and will be removed in a future version. Use groupby instead. df.sum(level=1) should use df.groupby(level=1).sum().\n",
      "  lambda_event = (lambda_vec[\"+\"] - self.ratio * lambda_vec[\"-\"]).sum(level=_EVENT) / \\\n",
      "/anaconda/envs/azureml_py38/lib/python3.8/site-packages/fairlearn/reductions/_moments/utility_parity.py:251: FutureWarning: Using the level keyword in DataFrame and Series aggregations is deprecated and will be removed in a future version. Use groupby instead. df.sum(level=1) should use df.groupby(level=1).sum().\n",
      "  lambda_event = (lambda_vec[\"+\"] - self.ratio * lambda_vec[\"-\"]).sum(level=_EVENT) / \\\n",
      "/anaconda/envs/azureml_py38/lib/python3.8/site-packages/fairlearn/reductions/_moments/utility_parity.py:251: FutureWarning: Using the level keyword in DataFrame and Series aggregations is deprecated and will be removed in a future version. Use groupby instead. df.sum(level=1) should use df.groupby(level=1).sum().\n",
      "  lambda_event = (lambda_vec[\"+\"] - self.ratio * lambda_vec[\"-\"]).sum(level=_EVENT) / \\\n",
      "/anaconda/envs/azureml_py38/lib/python3.8/site-packages/fairlearn/reductions/_moments/utility_parity.py:251: FutureWarning: Using the level keyword in DataFrame and Series aggregations is deprecated and will be removed in a future version. Use groupby instead. df.sum(level=1) should use df.groupby(level=1).sum().\n",
      "  lambda_event = (lambda_vec[\"+\"] - self.ratio * lambda_vec[\"-\"]).sum(level=_EVENT) / \\\n",
      "/anaconda/envs/azureml_py38/lib/python3.8/site-packages/fairlearn/reductions/_moments/utility_parity.py:251: FutureWarning: Using the level keyword in DataFrame and Series aggregations is deprecated and will be removed in a future version. Use groupby instead. df.sum(level=1) should use df.groupby(level=1).sum().\n",
      "  lambda_event = (lambda_vec[\"+\"] - self.ratio * lambda_vec[\"-\"]).sum(level=_EVENT) / \\\n",
      "/anaconda/envs/azureml_py38/lib/python3.8/site-packages/fairlearn/reductions/_moments/utility_parity.py:251: FutureWarning: Using the level keyword in DataFrame and Series aggregations is deprecated and will be removed in a future version. Use groupby instead. df.sum(level=1) should use df.groupby(level=1).sum().\n",
      "  lambda_event = (lambda_vec[\"+\"] - self.ratio * lambda_vec[\"-\"]).sum(level=_EVENT) / \\\n",
      "/anaconda/envs/azureml_py38/lib/python3.8/site-packages/fairlearn/reductions/_moments/utility_parity.py:251: FutureWarning: Using the level keyword in DataFrame and Series aggregations is deprecated and will be removed in a future version. Use groupby instead. df.sum(level=1) should use df.groupby(level=1).sum().\n",
      "  lambda_event = (lambda_vec[\"+\"] - self.ratio * lambda_vec[\"-\"]).sum(level=_EVENT) / \\\n",
      "/anaconda/envs/azureml_py38/lib/python3.8/site-packages/fairlearn/reductions/_moments/utility_parity.py:251: FutureWarning: Using the level keyword in DataFrame and Series aggregations is deprecated and will be removed in a future version. Use groupby instead. df.sum(level=1) should use df.groupby(level=1).sum().\n",
      "  lambda_event = (lambda_vec[\"+\"] - self.ratio * lambda_vec[\"-\"]).sum(level=_EVENT) / \\\n",
      "/anaconda/envs/azureml_py38/lib/python3.8/site-packages/fairlearn/reductions/_moments/utility_parity.py:251: FutureWarning: Using the level keyword in DataFrame and Series aggregations is deprecated and will be removed in a future version. Use groupby instead. df.sum(level=1) should use df.groupby(level=1).sum().\n",
      "  lambda_event = (lambda_vec[\"+\"] - self.ratio * lambda_vec[\"-\"]).sum(level=_EVENT) / \\\n",
      "/anaconda/envs/azureml_py38/lib/python3.8/site-packages/fairlearn/reductions/_moments/utility_parity.py:251: FutureWarning: Using the level keyword in DataFrame and Series aggregations is deprecated and will be removed in a future version. Use groupby instead. df.sum(level=1) should use df.groupby(level=1).sum().\n",
      "  lambda_event = (lambda_vec[\"+\"] - self.ratio * lambda_vec[\"-\"]).sum(level=_EVENT) / \\\n",
      "/anaconda/envs/azureml_py38/lib/python3.8/site-packages/fairlearn/reductions/_moments/utility_parity.py:251: FutureWarning: Using the level keyword in DataFrame and Series aggregations is deprecated and will be removed in a future version. Use groupby instead. df.sum(level=1) should use df.groupby(level=1).sum().\n",
      "  lambda_event = (lambda_vec[\"+\"] - self.ratio * lambda_vec[\"-\"]).sum(level=_EVENT) / \\\n",
      "/anaconda/envs/azureml_py38/lib/python3.8/site-packages/fairlearn/reductions/_moments/utility_parity.py:251: FutureWarning: Using the level keyword in DataFrame and Series aggregations is deprecated and will be removed in a future version. Use groupby instead. df.sum(level=1) should use df.groupby(level=1).sum().\n",
      "  lambda_event = (lambda_vec[\"+\"] - self.ratio * lambda_vec[\"-\"]).sum(level=_EVENT) / \\\n",
      "/anaconda/envs/azureml_py38/lib/python3.8/site-packages/fairlearn/reductions/_moments/utility_parity.py:251: FutureWarning: Using the level keyword in DataFrame and Series aggregations is deprecated and will be removed in a future version. Use groupby instead. df.sum(level=1) should use df.groupby(level=1).sum().\n",
      "  lambda_event = (lambda_vec[\"+\"] - self.ratio * lambda_vec[\"-\"]).sum(level=_EVENT) / \\\n",
      "/anaconda/envs/azureml_py38/lib/python3.8/site-packages/fairlearn/reductions/_moments/utility_parity.py:251: FutureWarning: Using the level keyword in DataFrame and Series aggregations is deprecated and will be removed in a future version. Use groupby instead. df.sum(level=1) should use df.groupby(level=1).sum().\n",
      "  lambda_event = (lambda_vec[\"+\"] - self.ratio * lambda_vec[\"-\"]).sum(level=_EVENT) / \\\n",
      "/anaconda/envs/azureml_py38/lib/python3.8/site-packages/fairlearn/reductions/_moments/utility_parity.py:251: FutureWarning: Using the level keyword in DataFrame and Series aggregations is deprecated and will be removed in a future version. Use groupby instead. df.sum(level=1) should use df.groupby(level=1).sum().\n",
      "  lambda_event = (lambda_vec[\"+\"] - self.ratio * lambda_vec[\"-\"]).sum(level=_EVENT) / \\\n",
      "/anaconda/envs/azureml_py38/lib/python3.8/site-packages/fairlearn/reductions/_moments/utility_parity.py:251: FutureWarning: Using the level keyword in DataFrame and Series aggregations is deprecated and will be removed in a future version. Use groupby instead. df.sum(level=1) should use df.groupby(level=1).sum().\n",
      "  lambda_event = (lambda_vec[\"+\"] - self.ratio * lambda_vec[\"-\"]).sum(level=_EVENT) / \\\n",
      "/anaconda/envs/azureml_py38/lib/python3.8/site-packages/fairlearn/reductions/_moments/utility_parity.py:251: FutureWarning: Using the level keyword in DataFrame and Series aggregations is deprecated and will be removed in a future version. Use groupby instead. df.sum(level=1) should use df.groupby(level=1).sum().\n",
      "  lambda_event = (lambda_vec[\"+\"] - self.ratio * lambda_vec[\"-\"]).sum(level=_EVENT) / \\\n",
      "/anaconda/envs/azureml_py38/lib/python3.8/site-packages/fairlearn/reductions/_moments/utility_parity.py:251: FutureWarning: Using the level keyword in DataFrame and Series aggregations is deprecated and will be removed in a future version. Use groupby instead. df.sum(level=1) should use df.groupby(level=1).sum().\n",
      "  lambda_event = (lambda_vec[\"+\"] - self.ratio * lambda_vec[\"-\"]).sum(level=_EVENT) / \\\n",
      "/anaconda/envs/azureml_py38/lib/python3.8/site-packages/fairlearn/reductions/_moments/utility_parity.py:251: FutureWarning: Using the level keyword in DataFrame and Series aggregations is deprecated and will be removed in a future version. Use groupby instead. df.sum(level=1) should use df.groupby(level=1).sum().\n",
      "  lambda_event = (lambda_vec[\"+\"] - self.ratio * lambda_vec[\"-\"]).sum(level=_EVENT) / \\\n",
      "/anaconda/envs/azureml_py38/lib/python3.8/site-packages/fairlearn/reductions/_moments/utility_parity.py:251: FutureWarning: Using the level keyword in DataFrame and Series aggregations is deprecated and will be removed in a future version. Use groupby instead. df.sum(level=1) should use df.groupby(level=1).sum().\n",
      "  lambda_event = (lambda_vec[\"+\"] - self.ratio * lambda_vec[\"-\"]).sum(level=_EVENT) / \\\n",
      "/anaconda/envs/azureml_py38/lib/python3.8/site-packages/fairlearn/reductions/_moments/utility_parity.py:251: FutureWarning: Using the level keyword in DataFrame and Series aggregations is deprecated and will be removed in a future version. Use groupby instead. df.sum(level=1) should use df.groupby(level=1).sum().\n",
      "  lambda_event = (lambda_vec[\"+\"] - self.ratio * lambda_vec[\"-\"]).sum(level=_EVENT) / \\\n",
      "/anaconda/envs/azureml_py38/lib/python3.8/site-packages/fairlearn/reductions/_moments/utility_parity.py:251: FutureWarning: Using the level keyword in DataFrame and Series aggregations is deprecated and will be removed in a future version. Use groupby instead. df.sum(level=1) should use df.groupby(level=1).sum().\n",
      "  lambda_event = (lambda_vec[\"+\"] - self.ratio * lambda_vec[\"-\"]).sum(level=_EVENT) / \\\n",
      "/anaconda/envs/azureml_py38/lib/python3.8/site-packages/fairlearn/reductions/_moments/utility_parity.py:251: FutureWarning: Using the level keyword in DataFrame and Series aggregations is deprecated and will be removed in a future version. Use groupby instead. df.sum(level=1) should use df.groupby(level=1).sum().\n",
      "  lambda_event = (lambda_vec[\"+\"] - self.ratio * lambda_vec[\"-\"]).sum(level=_EVENT) / \\\n",
      "/anaconda/envs/azureml_py38/lib/python3.8/site-packages/fairlearn/reductions/_moments/utility_parity.py:251: FutureWarning: Using the level keyword in DataFrame and Series aggregations is deprecated and will be removed in a future version. Use groupby instead. df.sum(level=1) should use df.groupby(level=1).sum().\n",
      "  lambda_event = (lambda_vec[\"+\"] - self.ratio * lambda_vec[\"-\"]).sum(level=_EVENT) / \\\n",
      "/anaconda/envs/azureml_py38/lib/python3.8/site-packages/fairlearn/reductions/_moments/utility_parity.py:251: FutureWarning: Using the level keyword in DataFrame and Series aggregations is deprecated and will be removed in a future version. Use groupby instead. df.sum(level=1) should use df.groupby(level=1).sum().\n",
      "  lambda_event = (lambda_vec[\"+\"] - self.ratio * lambda_vec[\"-\"]).sum(level=_EVENT) / \\\n",
      "/anaconda/envs/azureml_py38/lib/python3.8/site-packages/fairlearn/reductions/_moments/utility_parity.py:251: FutureWarning: Using the level keyword in DataFrame and Series aggregations is deprecated and will be removed in a future version. Use groupby instead. df.sum(level=1) should use df.groupby(level=1).sum().\n",
      "  lambda_event = (lambda_vec[\"+\"] - self.ratio * lambda_vec[\"-\"]).sum(level=_EVENT) / \\\n",
      "/anaconda/envs/azureml_py38/lib/python3.8/site-packages/fairlearn/reductions/_moments/utility_parity.py:251: FutureWarning: Using the level keyword in DataFrame and Series aggregations is deprecated and will be removed in a future version. Use groupby instead. df.sum(level=1) should use df.groupby(level=1).sum().\n",
      "  lambda_event = (lambda_vec[\"+\"] - self.ratio * lambda_vec[\"-\"]).sum(level=_EVENT) / \\\n",
      "/anaconda/envs/azureml_py38/lib/python3.8/site-packages/fairlearn/reductions/_moments/utility_parity.py:251: FutureWarning: Using the level keyword in DataFrame and Series aggregations is deprecated and will be removed in a future version. Use groupby instead. df.sum(level=1) should use df.groupby(level=1).sum().\n",
      "  lambda_event = (lambda_vec[\"+\"] - self.ratio * lambda_vec[\"-\"]).sum(level=_EVENT) / \\\n",
      "/anaconda/envs/azureml_py38/lib/python3.8/site-packages/fairlearn/reductions/_moments/utility_parity.py:251: FutureWarning: Using the level keyword in DataFrame and Series aggregations is deprecated and will be removed in a future version. Use groupby instead. df.sum(level=1) should use df.groupby(level=1).sum().\n",
      "  lambda_event = (lambda_vec[\"+\"] - self.ratio * lambda_vec[\"-\"]).sum(level=_EVENT) / \\\n",
      "/anaconda/envs/azureml_py38/lib/python3.8/site-packages/fairlearn/reductions/_moments/utility_parity.py:251: FutureWarning: Using the level keyword in DataFrame and Series aggregations is deprecated and will be removed in a future version. Use groupby instead. df.sum(level=1) should use df.groupby(level=1).sum().\n",
      "  lambda_event = (lambda_vec[\"+\"] - self.ratio * lambda_vec[\"-\"]).sum(level=_EVENT) / \\\n",
      "/anaconda/envs/azureml_py38/lib/python3.8/site-packages/fairlearn/reductions/_moments/utility_parity.py:251: FutureWarning: Using the level keyword in DataFrame and Series aggregations is deprecated and will be removed in a future version. Use groupby instead. df.sum(level=1) should use df.groupby(level=1).sum().\n",
      "  lambda_event = (lambda_vec[\"+\"] - self.ratio * lambda_vec[\"-\"]).sum(level=_EVENT) / \\\n",
      "/anaconda/envs/azureml_py38/lib/python3.8/site-packages/fairlearn/reductions/_moments/utility_parity.py:251: FutureWarning: Using the level keyword in DataFrame and Series aggregations is deprecated and will be removed in a future version. Use groupby instead. df.sum(level=1) should use df.groupby(level=1).sum().\n",
      "  lambda_event = (lambda_vec[\"+\"] - self.ratio * lambda_vec[\"-\"]).sum(level=_EVENT) / \\\n",
      "/anaconda/envs/azureml_py38/lib/python3.8/site-packages/fairlearn/reductions/_moments/utility_parity.py:251: FutureWarning: Using the level keyword in DataFrame and Series aggregations is deprecated and will be removed in a future version. Use groupby instead. df.sum(level=1) should use df.groupby(level=1).sum().\n",
      "  lambda_event = (lambda_vec[\"+\"] - self.ratio * lambda_vec[\"-\"]).sum(level=_EVENT) / \\\n",
      "/anaconda/envs/azureml_py38/lib/python3.8/site-packages/fairlearn/reductions/_moments/utility_parity.py:251: FutureWarning: Using the level keyword in DataFrame and Series aggregations is deprecated and will be removed in a future version. Use groupby instead. df.sum(level=1) should use df.groupby(level=1).sum().\n",
      "  lambda_event = (lambda_vec[\"+\"] - self.ratio * lambda_vec[\"-\"]).sum(level=_EVENT) / \\\n",
      "/anaconda/envs/azureml_py38/lib/python3.8/site-packages/fairlearn/reductions/_moments/utility_parity.py:251: FutureWarning: Using the level keyword in DataFrame and Series aggregations is deprecated and will be removed in a future version. Use groupby instead. df.sum(level=1) should use df.groupby(level=1).sum().\n",
      "  lambda_event = (lambda_vec[\"+\"] - self.ratio * lambda_vec[\"-\"]).sum(level=_EVENT) / \\\n",
      "/anaconda/envs/azureml_py38/lib/python3.8/site-packages/fairlearn/reductions/_moments/utility_parity.py:251: FutureWarning: Using the level keyword in DataFrame and Series aggregations is deprecated and will be removed in a future version. Use groupby instead. df.sum(level=1) should use df.groupby(level=1).sum().\n",
      "  lambda_event = (lambda_vec[\"+\"] - self.ratio * lambda_vec[\"-\"]).sum(level=_EVENT) / \\\n",
      "/anaconda/envs/azureml_py38/lib/python3.8/site-packages/fairlearn/reductions/_moments/utility_parity.py:251: FutureWarning: Using the level keyword in DataFrame and Series aggregations is deprecated and will be removed in a future version. Use groupby instead. df.sum(level=1) should use df.groupby(level=1).sum().\n",
      "  lambda_event = (lambda_vec[\"+\"] - self.ratio * lambda_vec[\"-\"]).sum(level=_EVENT) / \\\n",
      "/anaconda/envs/azureml_py38/lib/python3.8/site-packages/fairlearn/reductions/_moments/utility_parity.py:251: FutureWarning: Using the level keyword in DataFrame and Series aggregations is deprecated and will be removed in a future version. Use groupby instead. df.sum(level=1) should use df.groupby(level=1).sum().\n",
      "  lambda_event = (lambda_vec[\"+\"] - self.ratio * lambda_vec[\"-\"]).sum(level=_EVENT) / \\\n",
      "/anaconda/envs/azureml_py38/lib/python3.8/site-packages/fairlearn/reductions/_moments/utility_parity.py:251: FutureWarning: Using the level keyword in DataFrame and Series aggregations is deprecated and will be removed in a future version. Use groupby instead. df.sum(level=1) should use df.groupby(level=1).sum().\n",
      "  lambda_event = (lambda_vec[\"+\"] - self.ratio * lambda_vec[\"-\"]).sum(level=_EVENT) / \\\n",
      "/anaconda/envs/azureml_py38/lib/python3.8/site-packages/fairlearn/reductions/_moments/utility_parity.py:251: FutureWarning: Using the level keyword in DataFrame and Series aggregations is deprecated and will be removed in a future version. Use groupby instead. df.sum(level=1) should use df.groupby(level=1).sum().\n",
      "  lambda_event = (lambda_vec[\"+\"] - self.ratio * lambda_vec[\"-\"]).sum(level=_EVENT) / \\\n",
      "/anaconda/envs/azureml_py38/lib/python3.8/site-packages/fairlearn/reductions/_moments/utility_parity.py:251: FutureWarning: Using the level keyword in DataFrame and Series aggregations is deprecated and will be removed in a future version. Use groupby instead. df.sum(level=1) should use df.groupby(level=1).sum().\n",
      "  lambda_event = (lambda_vec[\"+\"] - self.ratio * lambda_vec[\"-\"]).sum(level=_EVENT) / \\\n",
      "/anaconda/envs/azureml_py38/lib/python3.8/site-packages/fairlearn/reductions/_moments/utility_parity.py:251: FutureWarning: Using the level keyword in DataFrame and Series aggregations is deprecated and will be removed in a future version. Use groupby instead. df.sum(level=1) should use df.groupby(level=1).sum().\n",
      "  lambda_event = (lambda_vec[\"+\"] - self.ratio * lambda_vec[\"-\"]).sum(level=_EVENT) / \\\n",
      "/anaconda/envs/azureml_py38/lib/python3.8/site-packages/fairlearn/reductions/_moments/utility_parity.py:251: FutureWarning: Using the level keyword in DataFrame and Series aggregations is deprecated and will be removed in a future version. Use groupby instead. df.sum(level=1) should use df.groupby(level=1).sum().\n",
      "  lambda_event = (lambda_vec[\"+\"] - self.ratio * lambda_vec[\"-\"]).sum(level=_EVENT) / \\\n",
      "/anaconda/envs/azureml_py38/lib/python3.8/site-packages/fairlearn/reductions/_moments/utility_parity.py:251: FutureWarning: Using the level keyword in DataFrame and Series aggregations is deprecated and will be removed in a future version. Use groupby instead. df.sum(level=1) should use df.groupby(level=1).sum().\n",
      "  lambda_event = (lambda_vec[\"+\"] - self.ratio * lambda_vec[\"-\"]).sum(level=_EVENT) / \\\n",
      "/anaconda/envs/azureml_py38/lib/python3.8/site-packages/fairlearn/reductions/_moments/utility_parity.py:251: FutureWarning: Using the level keyword in DataFrame and Series aggregations is deprecated and will be removed in a future version. Use groupby instead. df.sum(level=1) should use df.groupby(level=1).sum().\n",
      "  lambda_event = (lambda_vec[\"+\"] - self.ratio * lambda_vec[\"-\"]).sum(level=_EVENT) / \\\n"
     ]
    }
   ],
   "source": [
    "sweep.fit(X_train, y_train,\n",
    "          sensitive_features=A_train.sex)\n",
    "\n",
    "# For Fairlearn v0.5.0, need sweep.predictors_\n",
    "predictors = sweep.predictors_"
   ]
  },
  {
   "cell_type": "markdown",
   "metadata": {},
   "source": [
    "We could load these predictors into the Fairness dashboard now. However, the plot would be somewhat confusing due to their number. In this case, we are going to remove the predictors which are dominated in the error-disparity space by others from the sweep (note that the disparity will only be calculated for the protected attribute; other potentially protected attributes will *not* be mitigated). In general, one might not want to do this, since there may be other considerations beyond the strict optimisation of error and disparity (of the given protected attribute)."
   ]
  },
  {
   "cell_type": "code",
   "execution_count": 13,
   "metadata": {
    "gather": {
     "logged": 1628167343923
    }
   },
   "outputs": [],
   "source": [
    "errors, disparities = [], []\n",
    "for m in predictors:\n",
    "    classifier = lambda X: m.predict(X)\n",
    "    \n",
    "    error = ErrorRate()\n",
    "    error.load_data(X_train, pd.Series(y_train), sensitive_features=A_train.sex)\n",
    "    disparity = DemographicParity()\n",
    "    disparity.load_data(X_train, pd.Series(y_train), sensitive_features=A_train.sex)\n",
    "    \n",
    "    errors.append(error.gamma(classifier)[0])\n",
    "    disparities.append(disparity.gamma(classifier).max())\n",
    "    \n",
    "all_results = pd.DataFrame( {\"predictor\": predictors, \"error\": errors, \"disparity\": disparities})\n",
    "\n",
    "dominant_models_dict = dict()\n",
    "base_name_format = \"census_gs_model_{0}\"\n",
    "row_id = 0\n",
    "for row in all_results.itertuples():\n",
    "    model_name = base_name_format.format(row_id)\n",
    "    errors_for_lower_or_eq_disparity = all_results[\"error\"][all_results[\"disparity\"]<=row.disparity]\n",
    "    if row.error <= errors_for_lower_or_eq_disparity.min():\n",
    "        dominant_models_dict[model_name] = row.predictor\n",
    "    row_id = row_id + 1"
   ]
  },
  {
   "cell_type": "markdown",
   "metadata": {},
   "source": [
    "We can construct predictions for the dominant models (we include the unmitigated predictor as well, for comparison):"
   ]
  },
  {
   "cell_type": "code",
   "execution_count": 14,
   "metadata": {
    "gather": {
     "logged": 1628167344100
    }
   },
   "outputs": [],
   "source": [
    "predictions_dominant = {\"census_unmitigated\": unmitigated_predictor.predict(X_test)}\n",
    "models_dominant = {\"census_unmitigated\": unmitigated_predictor}\n",
    "for name, predictor in dominant_models_dict.items():\n",
    "    value = predictor.predict(X_test)\n",
    "    predictions_dominant[name] = value\n",
    "    models_dominant[name] = predictor"
   ]
  },
  {
   "cell_type": "markdown",
   "metadata": {},
   "source": [
    "These predictions may then be viewed in the fairness dashboard. We include the race column from the dataset, as an alternative basis for assessing the models. However, since we have not based our mitigation on it, the variation in the models with respect to race can be large."
   ]
  },
  {
   "cell_type": "markdown",
   "metadata": {},
   "source": [
    "When using sex as the sensitive feature and accuracy as the metric, we see a Pareto front forming - the set of predictors which represent optimal tradeoffs between accuracy and disparity in predictions. In the ideal case, we would have a predictor at (1,0) - perfectly accurate and without any unfairness under demographic parity (with respect to the protected attribute \"sex\"). The Pareto front represents the closest we can come to this ideal based on our data and choice of estimator. Note the range of the axes - the disparity axis covers more values than the accuracy, so we can reduce disparity substantially for a small loss in accuracy. Finally, we also see that the unmitigated model is towards the top right of the plot, with high accuracy, but worst disparity.\n",
    "\n",
    "By clicking on individual models on the plot, we can inspect their metrics for disparity and accuracy in greater detail. In a real example, we would then pick the model which represented the best trade-off between accuracy and disparity given the relevant business constraints."
   ]
  },
  {
   "cell_type": "markdown",
   "metadata": {},
   "source": [
    "<a id=\"AzureUpload\"></a>\n",
    "## Uploading a Fairness Dashboard to Azure (one time job)\n",
    "\n",
    "Uploading a fairness dashboard to Azure is a two stage process. The `FairlearnDashboard` invoked in the previous section relies on the underlying Python kernel to compute metrics on demand. This is obviously not available when the fairness dashboard is rendered in AzureML Studio. By default, the dashboard in Azure Machine Learning Studio also requires the models to be registered. The required stages are therefore:\n",
    "1. Register the dominant models\n",
    "1. Precompute all the required metrics\n",
    "1. Upload to Azure\n",
    "\n",
    "Before that, we need to connect to Azure Machine Learning Studio:"
   ]
  },
  {
   "cell_type": "code",
   "execution_count": 15,
   "metadata": {
    "gather": {
     "logged": 1628167345140
    }
   },
   "outputs": [
    {
     "name": "stderr",
     "output_type": "stream",
     "text": [
      "INFO:azureml.core.workspace:Found the config file in: /config.json\n"
     ]
    },
    {
     "data": {
      "text/plain": [
       "{'id': '/subscriptions/3f01ab49-a56f-4ee7-97fa-d23155156b42/resourceGroups/media-test/providers/Microsoft.MachineLearningServices/workspaces/amlws-sufse2t562jqy-pm0508',\n",
       " 'name': 'amlws-sufse2t562jqy-pm0508',\n",
       " 'identity': {'principal_id': 'b65f34f9-0b69-4071-8136-f5b5eb9ba2ed',\n",
       "  'tenant_id': 'f94768c8-8714-4abe-8e2d-37a64b18216a',\n",
       "  'type': 'SystemAssigned'},\n",
       " 'location': 'westus2',\n",
       " 'type': 'Microsoft.MachineLearningServices/workspaces',\n",
       " 'tags': {},\n",
       " 'sku': 'Basic',\n",
       " 'workspaceid': '43a51ee5-20a5-46a8-ad4b-030b3ad5d13e',\n",
       " 'sdkTelemetryAppInsightsKey': '19f24253-9564-406c-9a1e-a48a21b145aa',\n",
       " 'description': '',\n",
       " 'friendlyName': 'amlws-sufse2t562jqy-pm0508',\n",
       " 'creationTime': '2021-08-05T05:40:36.5152006+00:00',\n",
       " 'keyVault': '/subscriptions/3f01ab49-a56f-4ee7-97fa-d23155156b42/resourcegroups/media-test/providers/microsoft.keyvault/vaults/amlwssufkeyvault6fbb802e',\n",
       " 'applicationInsights': '/subscriptions/3f01ab49-a56f-4ee7-97fa-d23155156b42/resourcegroups/media-test/providers/microsoft.insights/components/amlwssufinsightse782c135',\n",
       " 'storageAccount': '/subscriptions/3f01ab49-a56f-4ee7-97fa-d23155156b42/resourcegroups/media-test/providers/microsoft.storage/storageaccounts/amlwssufstorage648ba5856',\n",
       " 'hbiWorkspace': False,\n",
       " 'allowPublicAccessWhenBehindVnet': False,\n",
       " 'provisioningState': 'Succeeded',\n",
       " 'imageBuildCompute': '',\n",
       " 'discoveryUrl': 'https://westus2.api.azureml.ms/discovery',\n",
       " 'notebookInfo': {'fqdn': 'ml-amlws-sufse2t56-westus2-43a51ee5-20a5-46a8-ad4b-030b3ad5d13e.notebooks.azure.net',\n",
       "  'resource_id': '9dbdb5b06d0f4727a056848a62cec061'}}"
      ]
     },
     "execution_count": 15,
     "metadata": {},
     "output_type": "execute_result"
    }
   ],
   "source": [
    "from azureml.core import Workspace, Experiment, Model\n",
    "\n",
    "ws = Workspace.from_config()\n",
    "ws.get_details()"
   ]
  },
  {
   "cell_type": "markdown",
   "metadata": {},
   "source": [
    "<a id=\"RegisterModels\"></a>\n",
    "### Registering Models\n",
    "\n",
    "The fairness dashboard is designed to integrate with registered models, so we need to do this for the models we want in the Studio portal. The assumption is that the names of the models specified in the dashboard dictionary correspond to the `id`s (i.e. `<name>:<version>` pairs) of registered models in the workspace. We register each of the models in the `models_dominant` dictionary into the workspace. For this, we have to save each model to a file, and then register that file:"
   ]
  },
  {
   "cell_type": "code",
   "execution_count": 16,
   "metadata": {
    "gather": {
     "logged": 1628167359304
    }
   },
   "outputs": [
    {
     "name": "stdout",
     "output_type": "stream",
     "text": [
      "Registering  census_unmitigated\n",
      "Registering model census_unmitigated\n",
      "Registered  census_unmitigated:2\n",
      "Registering  census_gs_model_34\n",
      "Registering model census_gs_model_34\n",
      "Registered  census_gs_model_34:2\n",
      "Registering  census_gs_model_35\n",
      "Registering model census_gs_model_35\n",
      "Registered  census_gs_model_35:2\n",
      "Registering  census_gs_model_36\n",
      "Registering model census_gs_model_36\n",
      "Registered  census_gs_model_36:2\n",
      "Registering  census_gs_model_37\n",
      "Registering model census_gs_model_37\n",
      "Registered  census_gs_model_37:2\n",
      "Registering  census_gs_model_38\n",
      "Registering model census_gs_model_38\n",
      "Registered  census_gs_model_38:2\n",
      "Registering  census_gs_model_39\n",
      "Registering model census_gs_model_39\n",
      "Registered  census_gs_model_39:2\n",
      "Registering  census_gs_model_40\n",
      "Registering model census_gs_model_40\n",
      "Registered  census_gs_model_40:2\n",
      "Registering  census_gs_model_41\n",
      "Registering model census_gs_model_41\n",
      "Registered  census_gs_model_41:2\n",
      "Registering  census_gs_model_42\n",
      "Registering model census_gs_model_42\n",
      "Registered  census_gs_model_42:2\n",
      "Registering  census_gs_model_43\n",
      "Registering model census_gs_model_43\n",
      "Registered  census_gs_model_43:2\n",
      "Registering  census_gs_model_44\n",
      "Registering model census_gs_model_44\n",
      "Registered  census_gs_model_44:2\n",
      "Registering  census_gs_model_45\n",
      "Registering model census_gs_model_45\n",
      "Registered  census_gs_model_45:2\n",
      "Registering  census_gs_model_46\n",
      "Registering model census_gs_model_46\n",
      "Registered  census_gs_model_46:2\n",
      "Registering  census_gs_model_47\n",
      "Registering model census_gs_model_47\n",
      "Registered  census_gs_model_47:2\n",
      "Registering  census_gs_model_48\n",
      "Registering model census_gs_model_48\n",
      "Registered  census_gs_model_48:2\n"
     ]
    }
   ],
   "source": [
    "import joblib\n",
    "import os\n",
    "\n",
    "os.makedirs('models', exist_ok=True)\n",
    "def register_model(name, model):\n",
    "    print(\"Registering \", name)\n",
    "    model_path = \"models/{0}.pkl\".format(name)\n",
    "    joblib.dump(value=model, filename=model_path)\n",
    "    registered_model = Model.register(model_path=model_path,\n",
    "                                      model_name=name,\n",
    "                                      workspace=ws)\n",
    "    print(\"Registered \", registered_model.id)\n",
    "    return registered_model.id\n",
    "\n",
    "model_name_id_mapping = dict()\n",
    "for name, model in models_dominant.items():\n",
    "    m_id = register_model(name, model)\n",
    "    model_name_id_mapping[name] = m_id"
   ]
  },
  {
   "cell_type": "markdown",
   "metadata": {},
   "source": [
    "Now, produce new predictions dictionaries, with the updated names:"
   ]
  },
  {
   "cell_type": "code",
   "execution_count": 17,
   "metadata": {
    "gather": {
     "logged": 1628167359431
    }
   },
   "outputs": [],
   "source": [
    "predictions_dominant_ids = dict()\n",
    "for name, y_pred in predictions_dominant.items():\n",
    "    predictions_dominant_ids[model_name_id_mapping[name]] = y_pred"
   ]
  },
  {
   "cell_type": "markdown",
   "metadata": {},
   "source": [
    "<a id=\"PrecomputeMetrics\"></a>\n",
    "### Precomputing Metrics\n",
    "\n",
    "We create a _dashboard dictionary_ using Fairlearn's `metrics` package. The `_create_group_metric_set` method has arguments similar to the Dashboard constructor, except that the sensitive features are passed as a dictionary (to ensure that names are available), and we must specify the type of prediction. Note that we use the `predictions_dominant_ids` dictionary we just created:"
   ]
  },
  {
   "cell_type": "code",
   "execution_count": 18,
   "metadata": {
    "gather": {
     "logged": 1628167393886
    }
   },
   "outputs": [],
   "source": [
    "sf = {'race': A_test.race }\n",
    "\n",
    "from fairlearn.metrics._group_metric_set import _create_group_metric_set\n",
    "\n",
    "\n",
    "dash_dict = _create_group_metric_set(y_true=y_test,\n",
    "                                     predictions=predictions_dominant_ids,\n",
    "                                     sensitive_features=sf,\n",
    "                                     prediction_type='binary_classification')"
   ]
  },
  {
   "cell_type": "markdown",
   "metadata": {},
   "source": [
    "<a id=\"DashboardUpload\"></a>\n",
    "### Uploading the Dashboard\n",
    "\n",
    "Now, we import our `contrib` package which contains the routine to perform the upload:"
   ]
  },
  {
   "cell_type": "code",
   "execution_count": 19,
   "metadata": {
    "gather": {
     "logged": 1628167394061
    }
   },
   "outputs": [],
   "source": [
    "from azureml.contrib.fairness import upload_dashboard_dictionary, download_dashboard_by_upload_id"
   ]
  },
  {
   "cell_type": "markdown",
   "metadata": {},
   "source": [
    "Now we can create an Experiment, then a Run, and upload our dashboard to it:"
   ]
  },
  {
   "cell_type": "code",
   "execution_count": 20,
   "metadata": {
    "gather": {
     "logged": 1628167411665
    }
   },
   "outputs": [
    {
     "name": "stdout",
     "output_type": "stream",
     "text": [
      "Experiment(Name: Fairlearn_GridSearch_Experiment_for_Race_v2,\n",
      "Workspace: amlws-sufse2t562jqy-pm0508)\n",
      "\n",
      "Uploaded to id: 68f28752-ce7a-4552-a50b-f4f92b993900\n",
      "\n"
     ]
    },
    {
     "name": "stderr",
     "output_type": "stream",
     "text": [
      "INFO:/anaconda/envs/azureml_py38/lib/python3.8/site-packages/azureml/contrib/fairness/_dashboard_validation.py:Starting validation of dashboard dictionary\n",
      "INFO:/anaconda/envs/azureml_py38/lib/python3.8/site-packages/azureml/contrib/fairness/_dashboard_validation.py:Validation of dashboard dictionary successful\n",
      "INFO:/anaconda/envs/azureml_py38/lib/python3.8/site-packages/azureml/contrib/fairness/_azureml_validation.py:Validating model ids exist\n",
      "INFO:/anaconda/envs/azureml_py38/lib/python3.8/site-packages/azureml/contrib/fairness/_azureml_validation.py:Checking census_gs_model_34:2\n",
      "INFO:/anaconda/envs/azureml_py38/lib/python3.8/site-packages/azureml/contrib/fairness/_azureml_validation.py:Checking census_gs_model_35:2\n",
      "INFO:/anaconda/envs/azureml_py38/lib/python3.8/site-packages/azureml/contrib/fairness/_azureml_validation.py:Checking census_gs_model_36:2\n",
      "INFO:/anaconda/envs/azureml_py38/lib/python3.8/site-packages/azureml/contrib/fairness/_azureml_validation.py:Checking census_gs_model_37:2\n",
      "INFO:/anaconda/envs/azureml_py38/lib/python3.8/site-packages/azureml/contrib/fairness/_azureml_validation.py:Checking census_gs_model_38:2\n",
      "INFO:/anaconda/envs/azureml_py38/lib/python3.8/site-packages/azureml/contrib/fairness/_azureml_validation.py:Checking census_gs_model_39:2\n",
      "INFO:/anaconda/envs/azureml_py38/lib/python3.8/site-packages/azureml/contrib/fairness/_azureml_validation.py:Checking census_gs_model_40:2\n",
      "INFO:/anaconda/envs/azureml_py38/lib/python3.8/site-packages/azureml/contrib/fairness/_azureml_validation.py:Checking census_gs_model_41:2\n",
      "INFO:/anaconda/envs/azureml_py38/lib/python3.8/site-packages/azureml/contrib/fairness/_azureml_validation.py:Checking census_gs_model_42:2\n",
      "INFO:/anaconda/envs/azureml_py38/lib/python3.8/site-packages/azureml/contrib/fairness/_azureml_validation.py:Checking census_gs_model_43:2\n",
      "INFO:/anaconda/envs/azureml_py38/lib/python3.8/site-packages/azureml/contrib/fairness/_azureml_validation.py:Checking census_gs_model_44:2\n",
      "INFO:/anaconda/envs/azureml_py38/lib/python3.8/site-packages/azureml/contrib/fairness/_azureml_validation.py:Checking census_gs_model_45:2\n",
      "INFO:/anaconda/envs/azureml_py38/lib/python3.8/site-packages/azureml/contrib/fairness/_azureml_validation.py:Checking census_gs_model_46:2\n",
      "INFO:/anaconda/envs/azureml_py38/lib/python3.8/site-packages/azureml/contrib/fairness/_azureml_validation.py:Checking census_gs_model_47:2\n",
      "INFO:/anaconda/envs/azureml_py38/lib/python3.8/site-packages/azureml/contrib/fairness/_azureml_validation.py:Checking census_gs_model_48:2\n",
      "INFO:/anaconda/envs/azureml_py38/lib/python3.8/site-packages/azureml/contrib/fairness/_azureml_validation.py:Checking census_unmitigated:2\n",
      "INFO:/anaconda/envs/azureml_py38/lib/python3.8/site-packages/azureml/contrib/fairness/_azureml_validation.py:Validation of model ids complete\n",
      "INFO:/anaconda/envs/azureml_py38/lib/python3.8/site-packages/azureml/contrib/fairness/_fairness_client.py:Uploading y_true\n",
      "INFO:azureml.FairnessArtifactClient:Uploading to azureml.fairness/dashboard.metrics/68f28752-ce7a-4552-a50b-f4f92b993900/y_true/a6157aec-846e-4005-87c6-664249210bf2.json\n",
      "INFO:/anaconda/envs/azureml_py38/lib/python3.8/site-packages/azureml/contrib/fairness/_specific_uploaders.py:Uploaded y_true to prefix azureml.fairness/dashboard.metrics/68f28752-ce7a-4552-a50b-f4f92b993900/y_true/a6157aec-846e-4005-87c6-664249210bf2.json\n",
      "INFO:/anaconda/envs/azureml_py38/lib/python3.8/site-packages/azureml/contrib/fairness/_fairness_client.py:Found 16 predictions\n",
      "INFO:azureml.FairnessArtifactClient:Uploading to azureml.fairness/dashboard.metrics/68f28752-ce7a-4552-a50b-f4f92b993900/y_pred/f89c7cae-c1b5-46e5-a5ad-fd672195012f.json\n",
      "INFO:/anaconda/envs/azureml_py38/lib/python3.8/site-packages/azureml/contrib/fairness/_specific_uploaders.py:Uploaded prediction to prefix azureml.fairness/dashboard.metrics/68f28752-ce7a-4552-a50b-f4f92b993900/y_pred/f89c7cae-c1b5-46e5-a5ad-fd672195012f.json\n",
      "INFO:azureml.FairnessArtifactClient:Uploading to azureml.fairness/dashboard.metrics/68f28752-ce7a-4552-a50b-f4f92b993900/y_pred/6af7ce81-e14d-4f52-9c05-2bef2e00c440.json\n",
      "INFO:/anaconda/envs/azureml_py38/lib/python3.8/site-packages/azureml/contrib/fairness/_specific_uploaders.py:Uploaded prediction to prefix azureml.fairness/dashboard.metrics/68f28752-ce7a-4552-a50b-f4f92b993900/y_pred/6af7ce81-e14d-4f52-9c05-2bef2e00c440.json\n",
      "INFO:azureml.FairnessArtifactClient:Uploading to azureml.fairness/dashboard.metrics/68f28752-ce7a-4552-a50b-f4f92b993900/y_pred/c0f726df-b7d5-4aaa-b26e-8e44b5eee7ff.json\n",
      "INFO:/anaconda/envs/azureml_py38/lib/python3.8/site-packages/azureml/contrib/fairness/_specific_uploaders.py:Uploaded prediction to prefix azureml.fairness/dashboard.metrics/68f28752-ce7a-4552-a50b-f4f92b993900/y_pred/c0f726df-b7d5-4aaa-b26e-8e44b5eee7ff.json\n",
      "INFO:azureml.FairnessArtifactClient:Uploading to azureml.fairness/dashboard.metrics/68f28752-ce7a-4552-a50b-f4f92b993900/y_pred/34d211f9-5e92-4b71-8fca-a4e44c9491dd.json\n",
      "INFO:/anaconda/envs/azureml_py38/lib/python3.8/site-packages/azureml/contrib/fairness/_specific_uploaders.py:Uploaded prediction to prefix azureml.fairness/dashboard.metrics/68f28752-ce7a-4552-a50b-f4f92b993900/y_pred/34d211f9-5e92-4b71-8fca-a4e44c9491dd.json\n",
      "INFO:azureml.FairnessArtifactClient:Uploading to azureml.fairness/dashboard.metrics/68f28752-ce7a-4552-a50b-f4f92b993900/y_pred/b6eff478-0c56-4d51-bd34-70fd3e76e743.json\n",
      "INFO:/anaconda/envs/azureml_py38/lib/python3.8/site-packages/azureml/contrib/fairness/_specific_uploaders.py:Uploaded prediction to prefix azureml.fairness/dashboard.metrics/68f28752-ce7a-4552-a50b-f4f92b993900/y_pred/b6eff478-0c56-4d51-bd34-70fd3e76e743.json\n",
      "INFO:azureml.FairnessArtifactClient:Uploading to azureml.fairness/dashboard.metrics/68f28752-ce7a-4552-a50b-f4f92b993900/y_pred/b2790e3d-9543-4f02-a0d0-42da6184af0f.json\n",
      "INFO:/anaconda/envs/azureml_py38/lib/python3.8/site-packages/azureml/contrib/fairness/_specific_uploaders.py:Uploaded prediction to prefix azureml.fairness/dashboard.metrics/68f28752-ce7a-4552-a50b-f4f92b993900/y_pred/b2790e3d-9543-4f02-a0d0-42da6184af0f.json\n",
      "INFO:azureml.FairnessArtifactClient:Uploading to azureml.fairness/dashboard.metrics/68f28752-ce7a-4552-a50b-f4f92b993900/y_pred/531d0739-149c-4d4c-a60e-c842a7dcae8c.json\n",
      "INFO:/anaconda/envs/azureml_py38/lib/python3.8/site-packages/azureml/contrib/fairness/_specific_uploaders.py:Uploaded prediction to prefix azureml.fairness/dashboard.metrics/68f28752-ce7a-4552-a50b-f4f92b993900/y_pred/531d0739-149c-4d4c-a60e-c842a7dcae8c.json\n",
      "INFO:azureml.FairnessArtifactClient:Uploading to azureml.fairness/dashboard.metrics/68f28752-ce7a-4552-a50b-f4f92b993900/y_pred/34541089-00e5-4c11-a802-e34f759882e7.json\n",
      "INFO:/anaconda/envs/azureml_py38/lib/python3.8/site-packages/azureml/contrib/fairness/_specific_uploaders.py:Uploaded prediction to prefix azureml.fairness/dashboard.metrics/68f28752-ce7a-4552-a50b-f4f92b993900/y_pred/34541089-00e5-4c11-a802-e34f759882e7.json\n",
      "INFO:azureml.FairnessArtifactClient:Uploading to azureml.fairness/dashboard.metrics/68f28752-ce7a-4552-a50b-f4f92b993900/y_pred/f8118126-efba-4535-944b-4fb4e1a037c1.json\n",
      "INFO:/anaconda/envs/azureml_py38/lib/python3.8/site-packages/azureml/contrib/fairness/_specific_uploaders.py:Uploaded prediction to prefix azureml.fairness/dashboard.metrics/68f28752-ce7a-4552-a50b-f4f92b993900/y_pred/f8118126-efba-4535-944b-4fb4e1a037c1.json\n",
      "INFO:azureml.FairnessArtifactClient:Uploading to azureml.fairness/dashboard.metrics/68f28752-ce7a-4552-a50b-f4f92b993900/y_pred/4eb4322a-9bd0-4772-9cf9-c4536e12625e.json\n",
      "INFO:/anaconda/envs/azureml_py38/lib/python3.8/site-packages/azureml/contrib/fairness/_specific_uploaders.py:Uploaded prediction to prefix azureml.fairness/dashboard.metrics/68f28752-ce7a-4552-a50b-f4f92b993900/y_pred/4eb4322a-9bd0-4772-9cf9-c4536e12625e.json\n",
      "INFO:azureml.FairnessArtifactClient:Uploading to azureml.fairness/dashboard.metrics/68f28752-ce7a-4552-a50b-f4f92b993900/y_pred/9e9fc9d3-35a1-4189-a91c-e13caea11fc2.json\n",
      "INFO:/anaconda/envs/azureml_py38/lib/python3.8/site-packages/azureml/contrib/fairness/_specific_uploaders.py:Uploaded prediction to prefix azureml.fairness/dashboard.metrics/68f28752-ce7a-4552-a50b-f4f92b993900/y_pred/9e9fc9d3-35a1-4189-a91c-e13caea11fc2.json\n",
      "INFO:azureml.FairnessArtifactClient:Uploading to azureml.fairness/dashboard.metrics/68f28752-ce7a-4552-a50b-f4f92b993900/y_pred/b95c4a9c-bae3-4499-828b-2aff46f5dac8.json\n",
      "INFO:/anaconda/envs/azureml_py38/lib/python3.8/site-packages/azureml/contrib/fairness/_specific_uploaders.py:Uploaded prediction to prefix azureml.fairness/dashboard.metrics/68f28752-ce7a-4552-a50b-f4f92b993900/y_pred/b95c4a9c-bae3-4499-828b-2aff46f5dac8.json\n",
      "INFO:azureml.FairnessArtifactClient:Uploading to azureml.fairness/dashboard.metrics/68f28752-ce7a-4552-a50b-f4f92b993900/y_pred/3051ee34-a387-4be1-b735-d981112a0631.json\n",
      "INFO:/anaconda/envs/azureml_py38/lib/python3.8/site-packages/azureml/contrib/fairness/_specific_uploaders.py:Uploaded prediction to prefix azureml.fairness/dashboard.metrics/68f28752-ce7a-4552-a50b-f4f92b993900/y_pred/3051ee34-a387-4be1-b735-d981112a0631.json\n",
      "INFO:azureml.FairnessArtifactClient:Uploading to azureml.fairness/dashboard.metrics/68f28752-ce7a-4552-a50b-f4f92b993900/y_pred/36918f59-ad81-416f-abd2-70e2df4e9940.json\n",
      "INFO:/anaconda/envs/azureml_py38/lib/python3.8/site-packages/azureml/contrib/fairness/_specific_uploaders.py:Uploaded prediction to prefix azureml.fairness/dashboard.metrics/68f28752-ce7a-4552-a50b-f4f92b993900/y_pred/36918f59-ad81-416f-abd2-70e2df4e9940.json\n",
      "INFO:azureml.FairnessArtifactClient:Uploading to azureml.fairness/dashboard.metrics/68f28752-ce7a-4552-a50b-f4f92b993900/y_pred/74a507a3-15f0-477c-b4ab-6138d006b69c.json\n",
      "INFO:/anaconda/envs/azureml_py38/lib/python3.8/site-packages/azureml/contrib/fairness/_specific_uploaders.py:Uploaded prediction to prefix azureml.fairness/dashboard.metrics/68f28752-ce7a-4552-a50b-f4f92b993900/y_pred/74a507a3-15f0-477c-b4ab-6138d006b69c.json\n",
      "INFO:azureml.FairnessArtifactClient:Uploading to azureml.fairness/dashboard.metrics/68f28752-ce7a-4552-a50b-f4f92b993900/y_pred/894fb308-49e7-4086-b8a8-9cc23fca0404.json\n",
      "INFO:/anaconda/envs/azureml_py38/lib/python3.8/site-packages/azureml/contrib/fairness/_specific_uploaders.py:Uploaded prediction to prefix azureml.fairness/dashboard.metrics/68f28752-ce7a-4552-a50b-f4f92b993900/y_pred/894fb308-49e7-4086-b8a8-9cc23fca0404.json\n",
      "INFO:/anaconda/envs/azureml_py38/lib/python3.8/site-packages/azureml/contrib/fairness/_specific_uploaders.py:Uploaded 16 predictions\n",
      "INFO:/anaconda/envs/azureml_py38/lib/python3.8/site-packages/azureml/contrib/fairness/_fairness_client.py:Found {0} sensitive features\n",
      "INFO:azureml.FairnessArtifactClient:Uploading to azureml.fairness/dashboard.metrics/68f28752-ce7a-4552-a50b-f4f92b993900/sensitive_features_column/9f293157-6618-4a5b-bbca-1052386adfc0.json\n",
      "INFO:/anaconda/envs/azureml_py38/lib/python3.8/site-packages/azureml/contrib/fairness/_specific_uploaders.py:Uploaded sensitive feature column to prefix azureml.fairness/dashboard.metrics/68f28752-ce7a-4552-a50b-f4f92b993900/sensitive_features_column/9f293157-6618-4a5b-bbca-1052386adfc0.json\n",
      "INFO:/anaconda/envs/azureml_py38/lib/python3.8/site-packages/azureml/contrib/fairness/_specific_uploaders.py:Uploaded 1 sensitive features\n",
      "INFO:/anaconda/envs/azureml_py38/lib/python3.8/site-packages/azureml/contrib/fairness/_fairness_client.py:Uploading metrics\n",
      "INFO:azureml.FairnessArtifactClient:Uploading to azureml.fairness/dashboard.metrics/68f28752-ce7a-4552-a50b-f4f92b993900/metrics_set/5aa9ccdb-804a-4434-a8cd-552fe0dd53b8.json\n",
      "INFO:/anaconda/envs/azureml_py38/lib/python3.8/site-packages/azureml/contrib/fairness/_specific_uploaders.py:Uploaded metrics data for prediction 0 and sensitive_feature 0\n",
      "INFO:azureml.FairnessArtifactClient:Uploading to azureml.fairness/dashboard.metrics/68f28752-ce7a-4552-a50b-f4f92b993900/metrics_set/a1566c1f-3560-4907-9970-587d8199f9dd.json\n",
      "INFO:/anaconda/envs/azureml_py38/lib/python3.8/site-packages/azureml/contrib/fairness/_specific_uploaders.py:Uploaded metrics data for prediction 1 and sensitive_feature 0\n",
      "INFO:azureml.FairnessArtifactClient:Uploading to azureml.fairness/dashboard.metrics/68f28752-ce7a-4552-a50b-f4f92b993900/metrics_set/40db41cd-5708-4955-865d-2d5743e8fad7.json\n",
      "INFO:/anaconda/envs/azureml_py38/lib/python3.8/site-packages/azureml/contrib/fairness/_specific_uploaders.py:Uploaded metrics data for prediction 2 and sensitive_feature 0\n",
      "INFO:azureml.FairnessArtifactClient:Uploading to azureml.fairness/dashboard.metrics/68f28752-ce7a-4552-a50b-f4f92b993900/metrics_set/23fc2e85-037a-4e90-b125-be0a40c7174a.json\n",
      "INFO:/anaconda/envs/azureml_py38/lib/python3.8/site-packages/azureml/contrib/fairness/_specific_uploaders.py:Uploaded metrics data for prediction 3 and sensitive_feature 0\n",
      "INFO:azureml.FairnessArtifactClient:Uploading to azureml.fairness/dashboard.metrics/68f28752-ce7a-4552-a50b-f4f92b993900/metrics_set/c8933b4c-7fe0-47cc-899a-c6e953a9d15e.json\n",
      "INFO:/anaconda/envs/azureml_py38/lib/python3.8/site-packages/azureml/contrib/fairness/_specific_uploaders.py:Uploaded metrics data for prediction 4 and sensitive_feature 0\n",
      "INFO:azureml.FairnessArtifactClient:Uploading to azureml.fairness/dashboard.metrics/68f28752-ce7a-4552-a50b-f4f92b993900/metrics_set/0be06c51-0eb1-4fc3-b7f5-e92f9b12103b.json\n",
      "INFO:/anaconda/envs/azureml_py38/lib/python3.8/site-packages/azureml/contrib/fairness/_specific_uploaders.py:Uploaded metrics data for prediction 5 and sensitive_feature 0\n",
      "INFO:azureml.FairnessArtifactClient:Uploading to azureml.fairness/dashboard.metrics/68f28752-ce7a-4552-a50b-f4f92b993900/metrics_set/27b7207a-c40a-485d-a76f-47d502a76852.json\n",
      "INFO:/anaconda/envs/azureml_py38/lib/python3.8/site-packages/azureml/contrib/fairness/_specific_uploaders.py:Uploaded metrics data for prediction 6 and sensitive_feature 0\n",
      "INFO:azureml.FairnessArtifactClient:Uploading to azureml.fairness/dashboard.metrics/68f28752-ce7a-4552-a50b-f4f92b993900/metrics_set/b2dc5b7a-f4c9-4022-91a8-c8088fb21c04.json\n",
      "INFO:/anaconda/envs/azureml_py38/lib/python3.8/site-packages/azureml/contrib/fairness/_specific_uploaders.py:Uploaded metrics data for prediction 7 and sensitive_feature 0\n",
      "INFO:azureml.FairnessArtifactClient:Uploading to azureml.fairness/dashboard.metrics/68f28752-ce7a-4552-a50b-f4f92b993900/metrics_set/ec1ad3a2-cfa5-4a6c-af7c-b12cee77dae0.json\n",
      "INFO:/anaconda/envs/azureml_py38/lib/python3.8/site-packages/azureml/contrib/fairness/_specific_uploaders.py:Uploaded metrics data for prediction 8 and sensitive_feature 0\n",
      "INFO:azureml.FairnessArtifactClient:Uploading to azureml.fairness/dashboard.metrics/68f28752-ce7a-4552-a50b-f4f92b993900/metrics_set/72d7e5d2-c60b-4cc5-a6fa-f01725572cda.json\n",
      "INFO:/anaconda/envs/azureml_py38/lib/python3.8/site-packages/azureml/contrib/fairness/_specific_uploaders.py:Uploaded metrics data for prediction 9 and sensitive_feature 0\n",
      "INFO:azureml.FairnessArtifactClient:Uploading to azureml.fairness/dashboard.metrics/68f28752-ce7a-4552-a50b-f4f92b993900/metrics_set/b2508d78-51c3-4c54-9255-48287b4c52aa.json\n",
      "INFO:/anaconda/envs/azureml_py38/lib/python3.8/site-packages/azureml/contrib/fairness/_specific_uploaders.py:Uploaded metrics data for prediction 10 and sensitive_feature 0\n",
      "INFO:azureml.FairnessArtifactClient:Uploading to azureml.fairness/dashboard.metrics/68f28752-ce7a-4552-a50b-f4f92b993900/metrics_set/286ed89b-77a4-4df8-9dea-66acad752982.json\n",
      "INFO:/anaconda/envs/azureml_py38/lib/python3.8/site-packages/azureml/contrib/fairness/_specific_uploaders.py:Uploaded metrics data for prediction 11 and sensitive_feature 0\n",
      "INFO:azureml.FairnessArtifactClient:Uploading to azureml.fairness/dashboard.metrics/68f28752-ce7a-4552-a50b-f4f92b993900/metrics_set/b2b99a30-c6d9-4a27-932f-64e5e88017a2.json\n",
      "INFO:/anaconda/envs/azureml_py38/lib/python3.8/site-packages/azureml/contrib/fairness/_specific_uploaders.py:Uploaded metrics data for prediction 12 and sensitive_feature 0\n",
      "INFO:azureml.FairnessArtifactClient:Uploading to azureml.fairness/dashboard.metrics/68f28752-ce7a-4552-a50b-f4f92b993900/metrics_set/4f348738-2383-4740-93bb-53daf657314c.json\n",
      "INFO:/anaconda/envs/azureml_py38/lib/python3.8/site-packages/azureml/contrib/fairness/_specific_uploaders.py:Uploaded metrics data for prediction 13 and sensitive_feature 0\n",
      "INFO:azureml.FairnessArtifactClient:Uploading to azureml.fairness/dashboard.metrics/68f28752-ce7a-4552-a50b-f4f92b993900/metrics_set/2c347e41-7b22-4a92-bf8b-5e0a53afa534.json\n",
      "INFO:/anaconda/envs/azureml_py38/lib/python3.8/site-packages/azureml/contrib/fairness/_specific_uploaders.py:Uploaded metrics data for prediction 14 and sensitive_feature 0\n",
      "INFO:azureml.FairnessArtifactClient:Uploading to azureml.fairness/dashboard.metrics/68f28752-ce7a-4552-a50b-f4f92b993900/metrics_set/bbc23deb-b541-4006-ad1b-d9119e38813b.json\n",
      "INFO:/anaconda/envs/azureml_py38/lib/python3.8/site-packages/azureml/contrib/fairness/_specific_uploaders.py:Uploaded metrics data for prediction 15 and sensitive_feature 0\n",
      "INFO:/anaconda/envs/azureml_py38/lib/python3.8/site-packages/azureml/contrib/fairness/_fairness_client.py:Creating CUF Assets\n",
      "INFO:/anaconda/envs/azureml_py38/lib/python3.8/site-packages/azureml/contrib/fairness/_fairness_client.py:Asset uploaded with id cd8c17ac05cc44979edb3746a5d2b482\n",
      "INFO:/anaconda/envs/azureml_py38/lib/python3.8/site-packages/azureml/contrib/fairness/_fairness_client.py:Asset uploaded with id 5640efde70054743a1cfd804f5264bb1\n",
      "INFO:/anaconda/envs/azureml_py38/lib/python3.8/site-packages/azureml/contrib/fairness/_fairness_client.py:Asset uploaded with id 2cb31fad08c2489aaf6c55e393a38aee\n",
      "INFO:/anaconda/envs/azureml_py38/lib/python3.8/site-packages/azureml/contrib/fairness/_fairness_client.py:Asset uploaded with id b578bae8f79a4cf1912bb9039b68ac4c\n",
      "INFO:/anaconda/envs/azureml_py38/lib/python3.8/site-packages/azureml/contrib/fairness/_fairness_client.py:Asset uploaded with id 3ef23b91500546e28200bb794cdcb07e\n",
      "INFO:/anaconda/envs/azureml_py38/lib/python3.8/site-packages/azureml/contrib/fairness/_fairness_client.py:Asset uploaded with id b46d486be561481fbc689e223aa38d40\n",
      "INFO:/anaconda/envs/azureml_py38/lib/python3.8/site-packages/azureml/contrib/fairness/_fairness_client.py:Asset uploaded with id 71bf6db3b8834dbe8694df5c8d2c3853\n",
      "INFO:/anaconda/envs/azureml_py38/lib/python3.8/site-packages/azureml/contrib/fairness/_fairness_client.py:Asset uploaded with id a41e1ced9e1e42558dcc519ff332b1b4\n",
      "INFO:/anaconda/envs/azureml_py38/lib/python3.8/site-packages/azureml/contrib/fairness/_fairness_client.py:Asset uploaded with id aca7fc8ccba34540b57da17acf1e4c39\n",
      "INFO:/anaconda/envs/azureml_py38/lib/python3.8/site-packages/azureml/contrib/fairness/_fairness_client.py:Asset uploaded with id 75059be61ec348688964fbc62dfbff0c\n",
      "INFO:/anaconda/envs/azureml_py38/lib/python3.8/site-packages/azureml/contrib/fairness/_fairness_client.py:Asset uploaded with id 4b4df5273a944b82a549b26fd7ad4155\n",
      "INFO:/anaconda/envs/azureml_py38/lib/python3.8/site-packages/azureml/contrib/fairness/_fairness_client.py:Asset uploaded with id 739313a6bfdc4031b43876319898e83d\n",
      "INFO:/anaconda/envs/azureml_py38/lib/python3.8/site-packages/azureml/contrib/fairness/_fairness_client.py:Asset uploaded with id 7212aa0759b943e5862e1924dfb83e69\n",
      "INFO:/anaconda/envs/azureml_py38/lib/python3.8/site-packages/azureml/contrib/fairness/_fairness_client.py:Asset uploaded with id 4bbc9c2d2ac14a1b858b901e09af00c6\n",
      "INFO:/anaconda/envs/azureml_py38/lib/python3.8/site-packages/azureml/contrib/fairness/_fairness_client.py:Asset uploaded with id 7398752abcce413d802b61eae30ea888\n",
      "INFO:/anaconda/envs/azureml_py38/lib/python3.8/site-packages/azureml/contrib/fairness/_fairness_client.py:Asset uploaded with id f07b443115cf4bf4ba175cc791aa6090\n",
      "INFO:/anaconda/envs/azureml_py38/lib/python3.8/site-packages/azureml/contrib/fairness/_fairness_client.py:Fetching asset list\n",
      "INFO:/anaconda/envs/azureml_py38/lib/python3.8/site-packages/azureml/contrib/fairness/_fairness_client.py:Populating y_true\n",
      "INFO:azureml.FairnessArtifactClient:Downloading from azureml.fairness/dashboard.metrics/68f28752-ce7a-4552-a50b-f4f92b993900/y_true/a6157aec-846e-4005-87c6-664249210bf2.json\n",
      "INFO:/anaconda/envs/azureml_py38/lib/python3.8/site-packages/azureml/contrib/fairness/_fairness_client.py:Populating y_pred\n",
      "INFO:azureml.FairnessArtifactClient:Downloading from azureml.fairness/dashboard.metrics/68f28752-ce7a-4552-a50b-f4f92b993900/y_pred/f89c7cae-c1b5-46e5-a5ad-fd672195012f.json\n",
      "INFO:azureml.FairnessArtifactClient:Downloading from azureml.fairness/dashboard.metrics/68f28752-ce7a-4552-a50b-f4f92b993900/y_pred/6af7ce81-e14d-4f52-9c05-2bef2e00c440.json\n",
      "INFO:azureml.FairnessArtifactClient:Downloading from azureml.fairness/dashboard.metrics/68f28752-ce7a-4552-a50b-f4f92b993900/y_pred/c0f726df-b7d5-4aaa-b26e-8e44b5eee7ff.json\n",
      "INFO:azureml.FairnessArtifactClient:Downloading from azureml.fairness/dashboard.metrics/68f28752-ce7a-4552-a50b-f4f92b993900/y_pred/34d211f9-5e92-4b71-8fca-a4e44c9491dd.json\n",
      "INFO:azureml.FairnessArtifactClient:Downloading from azureml.fairness/dashboard.metrics/68f28752-ce7a-4552-a50b-f4f92b993900/y_pred/b6eff478-0c56-4d51-bd34-70fd3e76e743.json\n",
      "INFO:azureml.FairnessArtifactClient:Downloading from azureml.fairness/dashboard.metrics/68f28752-ce7a-4552-a50b-f4f92b993900/y_pred/b2790e3d-9543-4f02-a0d0-42da6184af0f.json\n",
      "INFO:azureml.FairnessArtifactClient:Downloading from azureml.fairness/dashboard.metrics/68f28752-ce7a-4552-a50b-f4f92b993900/y_pred/531d0739-149c-4d4c-a60e-c842a7dcae8c.json\n",
      "INFO:azureml.FairnessArtifactClient:Downloading from azureml.fairness/dashboard.metrics/68f28752-ce7a-4552-a50b-f4f92b993900/y_pred/34541089-00e5-4c11-a802-e34f759882e7.json\n",
      "INFO:azureml.FairnessArtifactClient:Downloading from azureml.fairness/dashboard.metrics/68f28752-ce7a-4552-a50b-f4f92b993900/y_pred/f8118126-efba-4535-944b-4fb4e1a037c1.json\n",
      "INFO:azureml.FairnessArtifactClient:Downloading from azureml.fairness/dashboard.metrics/68f28752-ce7a-4552-a50b-f4f92b993900/y_pred/4eb4322a-9bd0-4772-9cf9-c4536e12625e.json\n",
      "INFO:azureml.FairnessArtifactClient:Downloading from azureml.fairness/dashboard.metrics/68f28752-ce7a-4552-a50b-f4f92b993900/y_pred/9e9fc9d3-35a1-4189-a91c-e13caea11fc2.json\n",
      "INFO:azureml.FairnessArtifactClient:Downloading from azureml.fairness/dashboard.metrics/68f28752-ce7a-4552-a50b-f4f92b993900/y_pred/b95c4a9c-bae3-4499-828b-2aff46f5dac8.json\n",
      "INFO:azureml.FairnessArtifactClient:Downloading from azureml.fairness/dashboard.metrics/68f28752-ce7a-4552-a50b-f4f92b993900/y_pred/3051ee34-a387-4be1-b735-d981112a0631.json\n",
      "INFO:azureml.FairnessArtifactClient:Downloading from azureml.fairness/dashboard.metrics/68f28752-ce7a-4552-a50b-f4f92b993900/y_pred/36918f59-ad81-416f-abd2-70e2df4e9940.json\n",
      "INFO:azureml.FairnessArtifactClient:Downloading from azureml.fairness/dashboard.metrics/68f28752-ce7a-4552-a50b-f4f92b993900/y_pred/74a507a3-15f0-477c-b4ab-6138d006b69c.json\n",
      "INFO:azureml.FairnessArtifactClient:Downloading from azureml.fairness/dashboard.metrics/68f28752-ce7a-4552-a50b-f4f92b993900/y_pred/894fb308-49e7-4086-b8a8-9cc23fca0404.json\n",
      "INFO:/anaconda/envs/azureml_py38/lib/python3.8/site-packages/azureml/contrib/fairness/_fairness_client.py:Populating sensitive features\n",
      "INFO:azureml.FairnessArtifactClient:Downloading from azureml.fairness/dashboard.metrics/68f28752-ce7a-4552-a50b-f4f92b993900/sensitive_features_column/9f293157-6618-4a5b-bbca-1052386adfc0.json\n",
      "INFO:/anaconda/envs/azureml_py38/lib/python3.8/site-packages/azureml/contrib/fairness/_fairness_client.py:Populating metrics\n",
      "INFO:azureml.FairnessArtifactClient:Downloading from azureml.fairness/dashboard.metrics/68f28752-ce7a-4552-a50b-f4f92b993900/metrics_set/5aa9ccdb-804a-4434-a8cd-552fe0dd53b8.json\n",
      "INFO:azureml.FairnessArtifactClient:Downloading from azureml.fairness/dashboard.metrics/68f28752-ce7a-4552-a50b-f4f92b993900/metrics_set/a1566c1f-3560-4907-9970-587d8199f9dd.json\n",
      "INFO:azureml.FairnessArtifactClient:Downloading from azureml.fairness/dashboard.metrics/68f28752-ce7a-4552-a50b-f4f92b993900/metrics_set/40db41cd-5708-4955-865d-2d5743e8fad7.json\n",
      "INFO:azureml.FairnessArtifactClient:Downloading from azureml.fairness/dashboard.metrics/68f28752-ce7a-4552-a50b-f4f92b993900/metrics_set/23fc2e85-037a-4e90-b125-be0a40c7174a.json\n",
      "INFO:azureml.FairnessArtifactClient:Downloading from azureml.fairness/dashboard.metrics/68f28752-ce7a-4552-a50b-f4f92b993900/metrics_set/c8933b4c-7fe0-47cc-899a-c6e953a9d15e.json\n",
      "INFO:azureml.FairnessArtifactClient:Downloading from azureml.fairness/dashboard.metrics/68f28752-ce7a-4552-a50b-f4f92b993900/metrics_set/0be06c51-0eb1-4fc3-b7f5-e92f9b12103b.json\n",
      "INFO:azureml.FairnessArtifactClient:Downloading from azureml.fairness/dashboard.metrics/68f28752-ce7a-4552-a50b-f4f92b993900/metrics_set/27b7207a-c40a-485d-a76f-47d502a76852.json\n",
      "INFO:azureml.FairnessArtifactClient:Downloading from azureml.fairness/dashboard.metrics/68f28752-ce7a-4552-a50b-f4f92b993900/metrics_set/b2dc5b7a-f4c9-4022-91a8-c8088fb21c04.json\n",
      "INFO:azureml.FairnessArtifactClient:Downloading from azureml.fairness/dashboard.metrics/68f28752-ce7a-4552-a50b-f4f92b993900/metrics_set/ec1ad3a2-cfa5-4a6c-af7c-b12cee77dae0.json\n",
      "INFO:azureml.FairnessArtifactClient:Downloading from azureml.fairness/dashboard.metrics/68f28752-ce7a-4552-a50b-f4f92b993900/metrics_set/72d7e5d2-c60b-4cc5-a6fa-f01725572cda.json\n",
      "INFO:azureml.FairnessArtifactClient:Downloading from azureml.fairness/dashboard.metrics/68f28752-ce7a-4552-a50b-f4f92b993900/metrics_set/b2508d78-51c3-4c54-9255-48287b4c52aa.json\n",
      "INFO:azureml.FairnessArtifactClient:Downloading from azureml.fairness/dashboard.metrics/68f28752-ce7a-4552-a50b-f4f92b993900/metrics_set/286ed89b-77a4-4df8-9dea-66acad752982.json\n",
      "INFO:azureml.FairnessArtifactClient:Downloading from azureml.fairness/dashboard.metrics/68f28752-ce7a-4552-a50b-f4f92b993900/metrics_set/b2b99a30-c6d9-4a27-932f-64e5e88017a2.json\n",
      "INFO:azureml.FairnessArtifactClient:Downloading from azureml.fairness/dashboard.metrics/68f28752-ce7a-4552-a50b-f4f92b993900/metrics_set/4f348738-2383-4740-93bb-53daf657314c.json\n",
      "INFO:azureml.FairnessArtifactClient:Downloading from azureml.fairness/dashboard.metrics/68f28752-ce7a-4552-a50b-f4f92b993900/metrics_set/2c347e41-7b22-4a92-bf8b-5e0a53afa534.json\n",
      "INFO:azureml.FairnessArtifactClient:Downloading from azureml.fairness/dashboard.metrics/68f28752-ce7a-4552-a50b-f4f92b993900/metrics_set/bbc23deb-b541-4006-ad1b-d9119e38813b.json\n"
     ]
    }
   ],
   "source": [
    "exp = Experiment(ws, \"Fairlearn_GridSearch_Experiment_for_Race_v2\")\n",
    "print(exp)\n",
    "\n",
    "run = exp.start_logging()\n",
    "try:\n",
    "    dashboard_title = \"Dominant Models from GridSearch\"\n",
    "    upload_id = upload_dashboard_dictionary(run,\n",
    "                                            dash_dict,\n",
    "                                            dashboard_name=dashboard_title)\n",
    "    print(\"\\nUploaded to id: {0}\\n\".format(upload_id))\n",
    "\n",
    "    downloaded_dict = download_dashboard_by_upload_id(run, upload_id)\n",
    "finally:\n",
    "    run.complete()"
   ]
  },
  {
   "cell_type": "markdown",
   "metadata": {},
   "source": [
    "The dashboard can be viewed in the Run Details page.\n",
    "\n",
    "Finally, we can verify that the dashboard dictionary which we downloaded matches our upload:"
   ]
  },
  {
   "cell_type": "code",
   "execution_count": 21,
   "metadata": {
    "gather": {
     "logged": 1628167411844
    }
   },
   "outputs": [
    {
     "name": "stdout",
     "output_type": "stream",
     "text": [
      "True\n"
     ]
    }
   ],
   "source": [
    "print(dash_dict == downloaded_dict)"
   ]
  },
  {
   "cell_type": "markdown",
   "metadata": {},
   "source": [
    "<a id=\"Conclusion\"></a>\n",
    "## Conclusion\n",
    "\n",
    "In this notebook we have demonstrated how to use the `GridSearch` algorithm from Fairlearn to generate a collection of models, and then present them in the fairness dashboard in Azure Machine Learning Studio. Please remember that this notebook has not attempted to discuss the many considerations which should be part of any approach to unfairness mitigation. The [Fairlearn website](http://fairlearn.org/) provides that discussion"
   ]
  }
 ],
 "metadata": {
  "authors": [
   {
    "name": "riedgar"
   }
  ],
  "kernel_info": {
   "name": "python38-azureml"
  },
  "kernelspec": {
   "display_name": "Python 3.8 - AzureML",
   "language": "python",
   "name": "python38-azureml"
  },
  "language_info": {
   "codemirror_mode": {
    "name": "ipython",
    "version": 3
   },
   "file_extension": ".py",
   "mimetype": "text/x-python",
   "name": "python",
   "nbconvert_exporter": "python",
   "pygments_lexer": "ipython3",
   "version": "3.8.1"
  },
  "microsoft": {
   "host": {
    "AzureML": {
     "notebookHasBeenCompleted": true
    }
   }
  },
  "nteract": {
   "version": "nteract-front-end@1.0.0"
  }
 },
 "nbformat": 4,
 "nbformat_minor": 2
}
