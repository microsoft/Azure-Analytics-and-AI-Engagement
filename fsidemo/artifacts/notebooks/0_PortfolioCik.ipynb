{
  "nbformat": 4,
  "nbformat_minor": 2,
  "cells": [
  {
      "cell_type": "markdown",
      "metadata": {},
      "source": [
        "## *****For Demonstration purpose only, Please customize as per your enterprise security needs and compliances***** \n"
		"Disclaimer: By accessing this code, you acknowledge the code is made available for presentation and demonstration purposes only and that the code: (1) is not subject to SOC 1 and SOC 2 compliance audits; (2) is not designed or intended to be a substitute for the professional advice, diagnosis, treatment, or judgment of a certified financial services professional; (3) is not designed, intended or made available as a medical device; and (4) is not designed or intended to be a substitute for professional medical advice, diagnosis, treatment or judgement. Do not use this code to replace, substitute, or provide professional financial advice or judgment, or to replace, substitute or provide medical advice, diagnosis, treatment or judgement. You are solely responsible for ensuring the regulatory, legal, and/or contractual compliance of any use of the code, including obtaining any authorizations or consents, and any solution you choose to build that incorporates this code in whole or in part. \n"
      ]
    },
    {
      "cell_type": "code",
      "execution_count": 1,
      "outputs": [
        {
          "output_type": "display_data",
          "data": {
            "application/vnd.livy.statement-meta+json": {
              "spark_pool": "FinanceSpk",
              "session_id": 8,
              "statement_id": 1,
              "state": "finished",
              "livy_statement_state": "available",
              "queued_time": "2021-06-01T10:48:10.1798265Z",
              "execution_start_time": "2021-06-01T10:50:59.8983698Z",
              "execution_finish_time": "2021-06-01T10:51:01.9645054Z"
            },
            "text/plain": "StatementMeta(FinanceSpk, 8, 1, Finished, Available)"
          },
          "metadata": {}
        },
        {
          "output_type": "stream",
          "name": "stdout",
          "text": ""
        }
      ],
      "metadata": {},
      "source": [
        "# Required packages\n",
        "import re\n",
        "import requests\n",
        "import pandas as pd"
      ]
    },
    {
      "cell_type": "code",
      "execution_count": 2,
      "outputs": [
        {
          "output_type": "display_data",
          "data": {
            "application/vnd.livy.statement-meta+json": {
              "spark_pool": "FinanceSpk",
              "session_id": 8,
              "statement_id": 2,
              "state": "finished",
              "livy_statement_state": "available",
              "queued_time": "2021-06-01T10:48:10.181869Z",
              "execution_start_time": "2021-06-01T10:51:02.0513463Z",
              "execution_finish_time": "2021-06-01T10:51:02.0513489Z"
            },
            "text/plain": "StatementMeta(FinanceSpk, 8, 2, Finished, Available)"
          },
          "metadata": {}
        },
        {
          "output_type": "stream",
          "name": "stdout",
          "text": ""
        }
      ],
      "metadata": {},
      "source": [
        "#Define the secURL and the regex to be used\n",
        "secUrl = 'http://www.sec.gov/cgi-bin/browse-edgar?CIK={}&Find=Search&owner=exclude&action=getcompany'\n",
        "cikRegEx = re.compile(r'.CIK=(\\d{10}).')"
      ]
    },
    {
      "cell_type": "code",
      "execution_count": 3,
      "outputs": [
        {
          "output_type": "display_data",
          "data": {
            "application/vnd.livy.statement-meta+json": {
              "spark_pool": "FinanceSpk",
              "session_id": 8,
              "statement_id": 3,
              "state": "finished",
              "livy_statement_state": "available",
              "queued_time": "2021-06-01T10:48:10.1944065Z",
              "execution_start_time": "2021-06-01T10:51:02.1368515Z",
              "execution_finish_time": "2021-06-01T10:52:26.7660406Z"
            },
            "text/plain": "StatementMeta(FinanceSpk, 8, 3, Finished, Available)"
          },
          "metadata": {}
        },
        {
          "output_type": "stream",
          "name": "stdout",
          "text": ""
        }
      ],
      "metadata": {},
      "source": [
        "# Load our data into Dataframe\n",
        "nqSdf = spark.read.load('abfss://risk@#STORAGE_ACCOUNT_NAME#.dfs.core.windows.net/Portfolio/Portfolio.csv', \n",
        "    format='csv', \n",
        "    sep=\",\",\n",
        "    header=True)\n",
        "\n",
        "nqPdf = nqSdf.toPandas()"
      ]
    },
    {
      "cell_type": "code",
      "execution_count": 4,
      "outputs": [
        {
          "output_type": "display_data",
          "data": {
            "application/vnd.livy.statement-meta+json": {
              "spark_pool": "FinanceSpk",
              "session_id": 8,
              "statement_id": 4,
              "state": "finished",
              "livy_statement_state": "available",
              "queued_time": "2021-06-01T10:48:10.195779Z",
              "execution_start_time": "2021-06-01T10:52:26.8632365Z",
              "execution_finish_time": "2021-06-01T10:52:33.0432058Z"
            },
            "text/plain": "StatementMeta(FinanceSpk, 8, 4, Finished, Available)"
          },
          "metadata": {}
        },
        {
          "output_type": "display_data",
          "data": {
            "application/vnd.synapse.widget-view+json": {
              "widget_id": "f19eb3d6-4b4e-4481-b3ce-61e0b236bb54",
              "widget_type": "Synapse.DataFrame"
            },
            "text/plain": "SynapseWidget(Synapse.DataFrame, f19eb3d6-4b4e-4481-b3ce-61e0b236bb54)"
          },
          "metadata": {}
        },
        {
          "output_type": "display_data",
          "data": {
            "text/plain": "\n/opt/spark/python/lib/pyspark.zip/pyspark/sql/session.py:714: UserWarning: createDataFrame attempted Arrow optimization because 'spark.sql.execution.arrow.enabled' is set to true; however, failed by the reason below:\n  'JavaPackage' object is not callable\nAttempting non-optimization as 'spark.sql.execution.arrow.fallback.enabled' is set to true."
          },
          "metadata": {}
        },
        {
          "output_type": "execute_result",
          "data": {},
          "execution_count": 4,
          "metadata": {}
        }
      ],
      "metadata": {
        "collapsed": false,
        "diagram": {
          "activateDiagramType": 1,
          "chartConfig": {
            "category": "bar",
            "keys": [
              "Portfolio"
            ],
            "values": [
              "Portfolio"
            ],
            "yLabel": "Portfolio",
            "xLabel": "Portfolio",
            "aggregation": "COUNT",
            "aggByBackend": false
          },
          "aggData": "{\"Portfolio\":{\"Covid\":15,\"LongTerm\":9}}",
          "isSummary": false,
          "previewData": {
            "filter": null
          },
          "isSql": false
        }
      },
      "source": [
        "display(nqPdf)"
      ]
    },
    {
      "cell_type": "code",
      "execution_count": 5,
      "outputs": [
        {
          "output_type": "display_data",
          "data": {
            "application/vnd.livy.statement-meta+json": {
              "spark_pool": "FinanceSpk",
              "session_id": 8,
              "statement_id": 5,
              "state": "finished",
              "livy_statement_state": "available",
              "queued_time": "2021-06-01T10:48:10.2400358Z",
              "execution_start_time": "2021-06-01T10:52:33.1381475Z",
              "execution_finish_time": "2021-06-01T10:52:35.2110464Z"
            },
            "text/plain": "StatementMeta(FinanceSpk, 8, 5, Finished, Available)"
          },
          "metadata": {}
        },
        {
          "output_type": "error",
          "ename": "ImportError",
          "evalue": "cannot import name 'BlockBlobService'",
          "traceback": [
            "ImportError: cannot import name 'BlockBlobService'",
            "Traceback (most recent call last):\n",
            "ImportError: cannot import name 'BlockBlobService'\n"
          ]
        }
      ],
      "metadata": {},
      "source": [
        "from time import sleep\n",
        "from azure.storage.blob import (\n",
        "    BlockBlobService\n",
        ")\n",
        "\n",
        "# Create empty data frame\n",
        "finalColNames = [\"Portfolio\", \"Sector\", \"Ticker\", \"CreatedDate\", \"CIK\"]\n",
        "finalDf = pd.DataFrame(columns = finalColNames)\n",
        "\n",
        "# Iterate through all ticker data to find out the CIK from sec website\n",
        "for index, ticker in nqPdf.iterrows():\n",
        "    sleep(2)\n",
        "    f = requests.get(secUrl.format(ticker['Ticker']), stream=True);\n",
        "    results = cikRegEx.findall(f.text)\n",
        "    if len(results):\n",
        "        finalDf = finalDf.append({'Portfolio' : str(ticker['Portfolio']) , 'Sector' : ticker['Sector'], 'Ticker' : ticker['Ticker'], 'CreatedDate' : ticker['CreatedDate'], 'CIK' : str(results[0]) } , ignore_index=True)\n",
        "\n",
        "# Write CSV file \n",
        "# storage_path = 'abfss://risk@#DATA_LAKE_NAME#.dfs.core.windows.net/Portfolio/PortfolioCik.csv'\n",
        "# sDf = spark.createDataFrame(finalDf)\n",
        "# sDf.coalesce(1).write.mode(\"overwrite\").csv(storage_path, header=\"true\")\n",
        "output = finalDf.to_csv(index=False, encoding = \"utf-8\")\n",
        "accountName = \"#STORAGE_ACCOUNT_NAME#\"\n",
        "accountKey = \"#STORAGE_ACCOUNT_KEY#\"\n",
        "containerName = \"risk\"\n",
        "blobName = \"Portfolio/PortfolioCik.csv\"\n",
        "\n",
        "blobService = BlockBlobService(account_name=accountName, account_key=accountKey)\n",
        "\n",
        "# Delete existing blob\n",
        "blobService.delete_blob(containerName,blobName,snapshot=None)\n",
        "\n",
        "blobService.create_blob_from_text(containerName, blobName, output)\n",
        ""
      ]
    },
    {
      "cell_type": "code",
      "execution_count": null,
      "outputs": [],
      "metadata": {},
      "source": [
        ""
      ]
    }
  ],
  "metadata": {
    "save_output": true,
    "kernelspec": {
      "name": "synapse_pyspark",
      "display_name": "Synapse PySpark"
    },
    "language_info": {
      "name": "python"
    },
    "synapse_widget": {
      "version": "0.1",
      "state": {
        "f19eb3d6-4b4e-4481-b3ce-61e0b236bb54": {
          "type": "Synapse.DataFrame",
          "sync_state": {
            "table": {
              "rows": [
                {
                  "Portfolio": "Covid",
                  "Sector": "Retail",
                  "Ticker": "AMZN",
                  "CreatedDate": "09262020"
                },
                {
                  "Portfolio": "Covid",
                  "Sector": "Retail",
                  "Ticker": "WMT",
                  "CreatedDate": "09262020"
                },
                {
                  "Portfolio": "Covid",
                  "Sector": "Retail",
                  "Ticker": "COST",
                  "CreatedDate": "09262020"
                },
                {
                  "Portfolio": "Covid",
                  "Sector": "Retail",
                  "Ticker": "TGT",
                  "CreatedDate": "09262020"
                },
                {
                  "Portfolio": "Covid",
                  "Sector": "ConsumerGoods",
                  "Ticker": "KMB",
                  "CreatedDate": "09262020"
                },
                {
                  "Portfolio": "Covid",
                  "Sector": "ConsumerGoods",
                  "Ticker": "PG",
                  "CreatedDate": "09262020"
                },
                {
                  "Portfolio": "Covid",
                  "Sector": "Pantry",
                  "Ticker": "HRL",
                  "CreatedDate": "09262020"
                },
                {
                  "Portfolio": "Covid",
                  "Sector": "Pantry",
                  "Ticker": "GIS",
                  "CreatedDate": "09262020"
                },
                {
                  "Portfolio": "Covid",
                  "Sector": "Pantry",
                  "Ticker": "MDLZ",
                  "CreatedDate": "09262020"
                },
                {
                  "Portfolio": "Covid",
                  "Sector": "Pantry",
                  "Ticker": "MKC",
                  "CreatedDate": "09262020"
                },
                {
                  "Portfolio": "Covid",
                  "Sector": "StayHome",
                  "Ticker": "ZM",
                  "CreatedDate": "09262020"
                },
                {
                  "Portfolio": "Covid",
                  "Sector": "StayHome",
                  "Ticker": "ZS",
                  "CreatedDate": "09262020"
                },
                {
                  "Portfolio": "Covid",
                  "Sector": "StayHome",
                  "Ticker": "RNG",
                  "CreatedDate": "09262020"
                },
                {
                  "Portfolio": "Covid",
                  "Sector": "StayHome",
                  "Ticker": "DPZ",
                  "CreatedDate": "09262020"
                },
                {
                  "Portfolio": "Covid",
                  "Sector": "StayHome",
                  "Ticker": "NFLX",
                  "CreatedDate": "09262020"
                },
                {
                  "Portfolio": "LongTerm",
                  "Sector": "RealEstate",
                  "Ticker": "ARE",
                  "CreatedDate": "09262020"
                },
                {
                  "Portfolio": "LongTerm",
                  "Sector": "Energy",
                  "Ticker": "CNP",
                  "CreatedDate": "09262020"
                },
                {
                  "Portfolio": "LongTerm",
                  "Sector": "Healthcare",
                  "Ticker": "CVS",
                  "CreatedDate": "09262020"
                },
                {
                  "Portfolio": "LongTerm",
                  "Sector": "FSI",
                  "Ticker": "FISV",
                  "CreatedDate": "09262020"
                },
                {
                  "Portfolio": "LongTerm",
                  "Sector": "Agriculture",
                  "Ticker": "FMC",
                  "CreatedDate": "09262020"
                },
                {
                  "Portfolio": "LongTerm",
                  "Sector": "Defense",
                  "Ticker": "LMT",
                  "CreatedDate": "09262020"
                },
                {
                  "Portfolio": "LongTerm",
                  "Sector": "Technology",
                  "Ticker": "CRM",
                  "CreatedDate": "09262020"
                },
                {
                  "Portfolio": "LongTerm",
                  "Sector": "Technology",
                  "Ticker": "MSFT",
                  "CreatedDate": "09262020"
                },
                {
                  "Portfolio": "LongTerm",
                  "Sector": "Consumer",
                  "Ticker": "DIS",
                  "CreatedDate": "09262020"
                }
              ],
              "schema": {
                "Portfolio": "string",
                "Sector": "string",
                "Ticker": "string",
                "CreatedDate": "string"
              }
            },
            "isSummary": false,
            "language": "scala"
          },
          "persist_state": {
            "view": {
              "type": "details",
              "tableOptions": {},
              "chartOptions": {
                "chartType": "bar",
                "aggregationType": "count",
                "categoryFieldKeys": [
                  "Portfolio"
                ],
                "seriesFieldKeys": [
                  "Portfolio"
                ],
                "isStacked": false
              }
            }
          }
        }
      }
    }
  }
}