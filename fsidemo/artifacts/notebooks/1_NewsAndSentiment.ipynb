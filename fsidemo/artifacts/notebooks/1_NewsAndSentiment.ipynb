{
  "nbformat": 4,
  "nbformat_minor": 2,
  "cells": [
  {
      "cell_type": "markdown",
      "metadata": {},
      "source": [
        "## *****For Demonstration purpose only, Please customize as per your enterprise security needs and compliances***** \n"
		"Disclaimer: By accessing this code, you acknowledge the code is made available for presentation and demonstration purposes only and that the code: (1) is not subject to SOC 1 and SOC 2 compliance audits; (2) is not designed or intended to be a substitute for the professional advice, diagnosis, treatment, or judgment of a certified financial services professional; (3) is not designed, intended or made available as a medical device; and (4) is not designed or intended to be a substitute for professional medical advice, diagnosis, treatment or judgement. Do not use this code to replace, substitute, or provide professional financial advice or judgment, or to replace, substitute or provide medical advice, diagnosis, treatment or judgement. You are solely responsible for ensuring the regulatory, legal, and/or contractual compliance of any use of the code, including obtaining any authorizations or consents, and any solution you choose to build that incorporates this code in whole or in part. \n"
      ]
    },
    {
      "cell_type": "code",
      "execution_count": 1,
      "outputs": [
        {
          "output_type": "display_data",
          "data": {
            "application/vnd.livy.statement-meta+json": {
              "spark_pool": "FinanceSpk",
              "session_id": 56,
              "statement_id": 1,
              "state": "finished",
              "livy_statement_state": "available",
              "queued_time": "2021-07-14T11:29:40.0643445Z",
              "session_start_time": "2021-07-14T11:29:40.0913905Z",
              "execution_start_time": "2021-07-14T11:32:37.805369Z",
              "execution_finish_time": "2021-07-14T11:34:18.6782895Z"
            },
            "text/plain": "StatementMeta(FinanceSpk, 56, 1, Finished, Available)"
          },
          "metadata": {}
        },
        {
          "output_type": "display_data",
          "data": {
            "application/vnd.synapse.widget-view+json": {
              "widget_id": "0c0d2d48-23ea-4919-a4be-7486b93e31cc",
              "widget_type": "Synapse.DataFrame"
            },
            "text/plain": "SynapseWidget(Synapse.DataFrame, 0c0d2d48-23ea-4919-a4be-7486b93e31cc)"
          },
          "metadata": {}
        },
        {
          "output_type": "stream",
          "name": "stdout",
          "text": "\n/opt/spark/python/lib/pyspark.zip/pyspark/sql/session.py:714: UserWarning: createDataFrame attempted Arrow optimization because 'spark.sql.execution.arrow.enabled' is set to true; however, failed by the reason below:\n  'JavaPackage' object is not callable\nAttempting non-optimization as 'spark.sql.execution.arrow.fallback.enabled' is set to true."
        },
        {
          "output_type": "execute_result",
          "data": {},
          "execution_count": 1,
          "metadata": {}
        }
      ],
      "metadata": {
        "collapsed": false,
        "diagram": {
          "activateDiagramType": 1,
          "chartConfig": {
            "category": "bar",
            "keys": [
              "Portfolio"
            ],
            "values": [
              "Portfolio"
            ],
            "yLabel": "Portfolio",
            "xLabel": "Portfolio",
            "aggregation": "COUNT",
            "aggByBackend": false
          },
          "aggData": "{\"Portfolio\":{\"Covid\":15,\"LongTerm\":9}}",
          "isSummary": false,
          "previewData": {
            "filter": null
          },
          "isSql": false
        }
      },
      "source": [
        "# Read out CSV file with list of all tickers\n",
        "nqSdf = spark.read.load('abfss://risk@#STORAGE_ACCOUNT_NAME#.dfs.core.windows.net/Portfolio/PortfolioCik.csv', \n",
        "    format='csv', \n",
        "    sep=\",\",\n",
        "    header=True)\n",
        "\n",
        "portfolioData = nqSdf.toPandas()\n",
        "display(portfolioData)"
      ]
    },
    {
      "cell_type": "code",
      "execution_count": 2,
      "outputs": [
        {
          "output_type": "display_data",
          "data": {
            "application/vnd.livy.statement-meta+json": {
              "spark_pool": "FinanceSpk",
              "session_id": 56,
              "statement_id": 2,
              "state": "finished",
              "livy_statement_state": "available",
              "queued_time": "2021-07-14T11:29:40.0660101Z",
              "session_start_time": null,
              "execution_start_time": "2021-07-14T11:34:18.7608186Z",
              "execution_finish_time": "2021-07-14T11:34:22.8590876Z"
            },
            "text/plain": "StatementMeta(FinanceSpk, 56, 2, Finished, Available)"
          },
          "metadata": {}
        },
        {
          "output_type": "stream",
          "name": "stdout",
          "text": ""
        }
      ],
      "metadata": {},
      "source": [
        "from azure.storage.blob import BlobServiceClient, ContainerClient\n",
        "from azure.storage.blob import BlobClient\n",
        "\n",
        "accountName = \"#STORAGE_ACCOUNT_NAME#\"\n",
        "accountKey = \"#STORAGE_ACCOUNT_KEY#\"\n",
        "containerName = \"risk\"\n",
        "connectionString = \"DefaultEndpointsProtocol=https;AccountName=#STORAGE_ACCOUNT_NAME#;AccountKey=#STORAGE_ACCOUNT_KEY#;EndpointSuffix=core.windows.net\""
      ]
    },
    {
      "cell_type": "markdown",
      "metadata": {
        "nteract": {
          "transient": {
            "deleting": false
          }
        }
      },
      "source": [
        "## Pulling News Sentiment Data From Bing Api (Azure Cognitive)\r\n",
        ""
      ]
    },
    {
      "cell_type": "code",
      "execution_count": 3,
      "outputs": [
        {
          "output_type": "display_data",
          "data": {
            "application/vnd.livy.statement-meta+json": {
              "spark_pool": "FinanceSpk",
              "session_id": 56,
              "statement_id": 3,
              "state": "finished",
              "livy_statement_state": "available",
              "queued_time": "2021-07-14T11:29:40.0673969Z",
              "session_start_time": null,
              "execution_start_time": "2021-07-14T11:34:23.0176372Z",
              "execution_finish_time": "2021-07-14T11:34:25.063918Z"
            },
            "text/plain": "StatementMeta(FinanceSpk, 56, 3, Finished, Available)"
          },
          "metadata": {}
        },
        {
          "output_type": "error",
          "ename": "ModuleNotFoundError",
          "evalue": "No module named 'azure.ai'",
          "traceback": [
            "ModuleNotFoundError: No module named 'azure.ai'",
            "Traceback (most recent call last):\n",
            "ModuleNotFoundError: No module named 'azure.ai'\n"
          ]
        }
      ],
      "metadata": {},
      "source": [
        "import urllib.parse, base64\n",
        "import json\n",
        "import requests\n",
        "import pandas as pd\n",
        "import datetime\n",
        "import pytz\n",
        "from azure.core.credentials import AzureKeyCredential\n",
        "from azure.ai.textanalytics import TextAnalyticsClient\n",
        "\n",
        "#Pulling News Sentement Data From Bing Api\n",
        "search_url = \"https://api.bing.microsoft.com/v7.0/news/search\"\n",
        "sentiment_url = 'https://#COGNITIVE_SERVICE_NAME#.cognitiveservices.azure.com/'\n",
        "sentimentKey = '#COGNITIVE_SERVICE_KEY#'          # Azure Cognitive API Key, replace with your own key\n",
        "searchKey = '#SEARCH_KEY#'\n",
        "\n",
        "credential = AzureKeyCredential(sentimentKey)\n",
        "text_analytics_client = TextAnalyticsClient(endpoint=sentiment_url, credential=credential)"
      ]
    },
    {
      "cell_type": "code",
      "execution_count": null,
      "outputs": [
        {
          "output_type": "display_data",
          "data": {
            "application/vnd.livy.statement-meta+json": {
              "spark_pool": null,
              "session_id": null,
              "statement_id": null,
              "state": "cancelled",
              "livy_statement_state": null,
              "queued_time": "2021-07-14T11:29:40.0691396Z",
              "session_start_time": null,
              "execution_start_time": null,
              "execution_finish_time": "2021-07-14T11:34:25.0732728Z"
            },
            "text/plain": "StatementMeta(, , , Cancelled, )"
          },
          "metadata": {}
        }
      ],
      "metadata": {},
      "source": [
        "#for row in nqDf.rdd.collect():\n",
        "for index, ticker in portfolioData.iterrows():\n",
        "\n",
        "    dfObj = pd.DataFrame(columns=['Symbol', 'Name', 'Url', 'Date_Published', 'Description', 'Sentiment', 'Positive_Score', 'Negative_Score', 'Neutral_Score'])\n",
        "\n",
        "    headers = {'Ocp-Apim-Subscription-Key':searchKey, \\\n",
        "                'Content-type': 'application/json',\\\n",
        "                'Accept': 'application/json'}\n",
        "\n",
        "    symbol = ticker['Ticker']\n",
        "\n",
        "    params = urllib.parse.urlencode({\n",
        "        # Request parameters\n",
        "        'q': ticker['Ticker'],\n",
        "        'offset': '0',\n",
        "        'mkt': 'en-us',\n",
        "        'freshness': 'Day',\n",
        "        'count' : 100\n",
        "    })\n",
        "\n",
        "    response = requests.get(search_url, headers=headers, params=params)\n",
        "    response.raise_for_status()\n",
        "    search_results = response.json()\n",
        "    #print(json.dumps(search_results['value'], indent=2, sort_keys=True))\n",
        "    for value in search_results['value']:\n",
        "        description = value['description']\n",
        "        url = value['url']\n",
        "        name = value['name']\n",
        "        publishedDate = value['datePublished']\n",
        "    \n",
        "        documents = [\"'\" + description + \"'\"]\n",
        "\n",
        "        response = text_analytics_client.analyze_sentiment(documents, language=\"en\")\n",
        "        result = [doc for doc in response if not doc.is_error]\n",
        "        #print(result)\n",
        "\n",
        "        for doc in result:\n",
        "            #print(\"Overall sentiment: {}\".format(doc.sentiment))\n",
        "            #print(\"Scores: positive={}; neutral={}; negative={} \\n\".format(\n",
        "            #    doc.confidence_scores.positive,\n",
        "            #    doc.confidence_scores.neutral,\n",
        "            #    doc.confidence_scores.negative,\n",
        "            #))\n",
        "            dfObj = dfObj.append({'Symbol': symbol, 'Name': name, 'Url': url, 'Date_Published': publishedDate, 'Description' : description, 'Sentiment': doc.sentiment, 'Positive_Score':doc.confidence_scores.positive, 'Negative_Score': doc.confidence_scores.negative, 'Neutral_Score': doc.confidence_scores.neutral}, ignore_index=True)\n",
        "    \n",
        "    currDate = datetime.datetime.now(pytz.timezone('US/Central'))\n",
        "    output = dfObj.to_csv (index=False, header=True, encoding = \"utf-8\")\n",
        "    blobName = \"News/DailyData/\" + str(currDate.year) + \"/\" + str(currDate.strftime(\"%m\")) + \"/\" + str(currDate.strftime(\"%d\")) + \"/\" + ticker['Ticker'] + \".csv\"\n",
        "    blob = BlobClient.from_connection_string(conn_str=connectionString, container_name=containerName, blob_name=blobName)\n",
        "    blob.upload_blob(output)"
      ]
    },
    {
      "cell_type": "code",
      "execution_count": null,
      "outputs": [],
      "metadata": {},
      "source": [
        ""
      ]
    }
  ],
  "metadata": {
    "save_output": true,
    "kernelspec": {
      "name": "synapse_pyspark",
      "display_name": "Synapse PySpark"
    },
    "language_info": {
      "name": "python"
    },
    "synapse_widget": {
      "version": "0.1",
      "state": {
        "0c0d2d48-23ea-4919-a4be-7486b93e31cc": {
          "type": "Synapse.DataFrame",
          "sync_state": {
            "table": {
              "rows": [
                {
                  "Sector": "Retail",
                  "CreatedDate": "09262020",
                  "Portfolio": "Covid",
                  "CIK": "0001018724",
                  "Ticker": "AMZN"
                },
                {
                  "Sector": "Retail",
                  "CreatedDate": "09262020",
                  "Portfolio": "Covid",
                  "CIK": "0000104169",
                  "Ticker": "WMT"
                },
                {
                  "Sector": "Retail",
                  "CreatedDate": "09262020",
                  "Portfolio": "Covid",
                  "CIK": "0000909832",
                  "Ticker": "COST"
                },
                {
                  "Sector": "Retail",
                  "CreatedDate": "09262020",
                  "Portfolio": "Covid",
                  "CIK": "0000027419",
                  "Ticker": "TGT"
                },
                {
                  "Sector": "ConsumerGoods",
                  "CreatedDate": "09262020",
                  "Portfolio": "Covid",
                  "CIK": "0000055785",
                  "Ticker": "KMB"
                },
                {
                  "Sector": "ConsumerGoods",
                  "CreatedDate": "09262020",
                  "Portfolio": "Covid",
                  "CIK": "0000080424",
                  "Ticker": "PG"
                },
                {
                  "Sector": "Pantry",
                  "CreatedDate": "09262020",
                  "Portfolio": "Covid",
                  "CIK": "0000048465",
                  "Ticker": "HRL"
                },
                {
                  "Sector": "Pantry",
                  "CreatedDate": "09262020",
                  "Portfolio": "Covid",
                  "CIK": "0000040704",
                  "Ticker": "GIS"
                },
                {
                  "Sector": "Pantry",
                  "CreatedDate": "09262020",
                  "Portfolio": "Covid",
                  "CIK": "0001103982",
                  "Ticker": "MDLZ"
                },
                {
                  "Sector": "Pantry",
                  "CreatedDate": "09262020",
                  "Portfolio": "Covid",
                  "CIK": "0000063754",
                  "Ticker": "MKC"
                },
                {
                  "Sector": "StayHome",
                  "CreatedDate": "09262020",
                  "Portfolio": "Covid",
                  "CIK": "0001585521",
                  "Ticker": "ZM"
                },
                {
                  "Sector": "StayHome",
                  "CreatedDate": "09262020",
                  "Portfolio": "Covid",
                  "CIK": "0001713683",
                  "Ticker": "ZS"
                },
                {
                  "Sector": "StayHome",
                  "CreatedDate": "09262020",
                  "Portfolio": "Covid",
                  "CIK": "0001384905",
                  "Ticker": "RNG"
                },
                {
                  "Sector": "StayHome",
                  "CreatedDate": "09262020",
                  "Portfolio": "Covid",
                  "CIK": "0001286681",
                  "Ticker": "DPZ"
                },
                {
                  "Sector": "StayHome",
                  "CreatedDate": "09262020",
                  "Portfolio": "Covid",
                  "CIK": "0001065280",
                  "Ticker": "NFLX"
                },
                {
                  "Sector": "RealEstate",
                  "CreatedDate": "09262020",
                  "Portfolio": "LongTerm",
                  "CIK": "0001035443",
                  "Ticker": "ARE"
                },
                {
                  "Sector": "Energy",
                  "CreatedDate": "09262020",
                  "Portfolio": "LongTerm",
                  "CIK": "0001130310",
                  "Ticker": "CNP"
                },
                {
                  "Sector": "Healthcare",
                  "CreatedDate": "09262020",
                  "Portfolio": "LongTerm",
                  "CIK": "0000064803",
                  "Ticker": "CVS"
                },
                {
                  "Sector": "FSI",
                  "CreatedDate": "09262020",
                  "Portfolio": "LongTerm",
                  "CIK": "0000798354",
                  "Ticker": "FISV"
                },
                {
                  "Sector": "Agriculture",
                  "CreatedDate": "09262020",
                  "Portfolio": "LongTerm",
                  "CIK": "0000037785",
                  "Ticker": "FMC"
                },
                {
                  "Sector": "Defense",
                  "CreatedDate": "09262020",
                  "Portfolio": "LongTerm",
                  "CIK": "0000936468",
                  "Ticker": "LMT"
                },
                {
                  "Sector": "Technology",
                  "CreatedDate": "09262020",
                  "Portfolio": "LongTerm",
                  "CIK": "0001108524",
                  "Ticker": "CRM"
                },
                {
                  "Sector": "Technology",
                  "CreatedDate": "09262020",
                  "Portfolio": "LongTerm",
                  "CIK": "0000789019",
                  "Ticker": "MSFT"
                },
                {
                  "Sector": "Consumer",
                  "CreatedDate": "09262020",
                  "Portfolio": "LongTerm",
                  "CIK": "0001744489",
                  "Ticker": "DIS"
                }
              ],
              "schema": {
                "Portfolio": "string",
                "Sector": "string",
                "Ticker": "string",
                "CreatedDate": "string",
                "CIK": "string"
              }
            },
            "isSummary": false,
            "language": "scala"
          },
          "persist_state": {
            "view": {
              "type": "details",
              "tableOptions": {},
              "chartOptions": {
                "chartType": "bar",
                "aggregationType": "count",
                "categoryFieldKeys": [
                  "Portfolio"
                ],
                "seriesFieldKeys": [
                  "Portfolio"
                ],
                "isStacked": false
              }
            }
          }
        }
      }
    }
  }
}