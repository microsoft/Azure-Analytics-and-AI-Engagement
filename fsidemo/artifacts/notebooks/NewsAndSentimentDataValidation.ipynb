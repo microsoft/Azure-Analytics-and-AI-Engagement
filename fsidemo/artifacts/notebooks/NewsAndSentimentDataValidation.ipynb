{
  "nbformat": 4,
  "nbformat_minor": 2,
  "metadata": {
    "kernelspec": {
      "name": "synapse_pyspark",
      "display_name": "python"
    },
    "language_info": {
      "name": "python"
    },
    "save_output": true,
    "synapse_widget": {
      "version": "0.1",
      "state": {}
    }
  },
  "cells": [
  {
      "cell_type": "markdown",
      "metadata": {},
      "source": [
        "## *****For Demonstration purpose only, Please customize as per your enterprise security needs and compliances***** \n"
		"Disclaimer: By accessing this code, you acknowledge the code is made available for presentation and demonstration purposes only and that the code: (1) is not subject to SOC 1 and SOC 2 compliance audits; (2) is not designed or intended to be a substitute for the professional advice, diagnosis, treatment, or judgment of a certified financial services professional; (3) is not designed, intended or made available as a medical device; and (4) is not designed or intended to be a substitute for professional medical advice, diagnosis, treatment or judgement. Do not use this code to replace, substitute, or provide professional financial advice or judgment, or to replace, substitute or provide medical advice, diagnosis, treatment or judgement. You are solely responsible for ensuring the regulatory, legal, and/or contractual compliance of any use of the code, including obtaining any authorizations or consents, and any solution you choose to build that incorporates this code in whole or in part. \n"
      ]
    },
    {
      "cell_type": "code",
      "execution_count": 4,
      "outputs": [
        {
          "output_type": "display_data",
          "data": {
            "application/vnd.livy.statement-meta+json": {
              "spark_pool": "marketdataspksm",
              "session_id": 97,
              "statement_id": 3,
              "state": "finished",
              "livy_statement_state": "available",
              "queued_time": "2021-03-15T14:18:38.2307067Z",
              "execution_start_time": "2021-03-15T14:18:38.4457527Z",
              "execution_finish_time": "2021-03-15T14:18:40.5198552Z"
            },
            "text/plain": "StatementMeta(marketdataspksm, 97, 3, Finished, Available)"
          },
          "metadata": {}
        },
        {
          "output_type": "error",
          "ename": "AnalysisException",
          "evalue": "Path does not exist: abfss://risk@#STORAGE_ACCOUNT_NAME#.dfs.core.windows.net/News/DailyData/2021/03/15/AMZN.csv;",
          "traceback": [
            "AnalysisException: Path does not exist: abfss://risk@#STORAGE_ACCOUNT_NAME#.dfs.core.windows.net/News/DailyData/2021/03/15/AMZN.csv;",
            "Traceback (most recent call last):\n",
            "  File \"/opt/spark/python/lib/pyspark.zip/pyspark/sql/readwriter.py\", line 170, in load\n    return self._df(self._jreader.load(self._spark._sc._jvm.PythonUtils.toSeq(path)))\n",
            "  File \"/opt/spark/python/lib/py4j-0.10.7-src.zip/py4j/java_gateway.py\", line 1257, in __call__\n    answer, self.gateway_client, self.target_id, self.name)\n",
            "  File \"/opt/spark/python/lib/pyspark.zip/pyspark/sql/utils.py\", line 75, in deco\n    raise AnalysisException(s.split(': ', 1)[1], stackTrace)\n",
            "pyspark.sql.utils.AnalysisException: Path does not exist: abfss://risk@#STORAGE_ACCOUNT_NAME#.dfs.core.windows.net/News/DailyData/2021/03/15/AMZN.csv;\n"
          ]
        }
      ],
      "metadata": {
        "microsoft": {
          "language": "python"
        },
        "collapsed": false
      },
      "source": [
        "%%pyspark\r\n",
        "import urllib.parse, base64\r\n",
        "import json\r\n",
        "import requests\r\n",
        "import pandas as pd\r\n",
        "import datetime\r\n",
        "import pytz\r\n",
        "currDate = datetime.datetime.now(pytz.timezone('US/Central'))\r\n",
        "#output = dfObj.to_csv (index=False, header=True, encoding = \"utf-8\")\r\n",
        "blobName = \"News/DailyData/\" + str(currDate.year) + \"/\" + str(currDate.strftime(\"%m\")) + \"/\" + str(currDate.strftime(\"%d\"))\r\n",
        "print(blobName)\r\n",
        "df = spark.read.load([\r\n",
        "    'abfss://risk@#STORAGE_ACCOUNT_NAME#.dfs.core.windows.net/News/DailyData/'+str(currDate.year) + \"/\" + str(currDate.strftime(\"%m\")) + \"/\" + str(currDate.strftime(\"%d\"))+'/AMZN.csv',\r\n",
        "    'abfss://risk@#STORAGE_ACCOUNT_NAME#.dfs.core.windows.net/News/DailyData/'+str(currDate.year) + \"/\" + str(currDate.strftime(\"%m\")) + \"/\" + str(currDate.strftime(\"%d\"))+'/ARE.csv',\r\n",
        "    'abfss://risk@#STORAGE_ACCOUNT_NAME#.dfs.core.windows.net/News/DailyData/'+str(currDate.year) + \"/\" + str(currDate.strftime(\"%m\")) + \"/\" + str(currDate.strftime(\"%d\"))+'/CNP.csv',\r\n",
        "    'abfss://risk@#STORAGE_ACCOUNT_NAME#.dfs.core.windows.net/News/DailyData/'+str(currDate.year) + \"/\" + str(currDate.strftime(\"%m\")) + \"/\" + str(currDate.strftime(\"%d\"))+'/COST.csv',\r\n",
        "    'abfss://risk@#STORAGE_ACCOUNT_NAME#.dfs.core.windows.net/News/DailyData/'+str(currDate.year) + \"/\" + str(currDate.strftime(\"%m\")) + \"/\" + str(currDate.strftime(\"%d\"))+'/CRM.csv',\r\n",
        "    'abfss://risk@#STORAGE_ACCOUNT_NAME#.dfs.core.windows.net/News/DailyData/'+str(currDate.year) + \"/\" + str(currDate.strftime(\"%m\")) + \"/\" + str(currDate.strftime(\"%d\"))+'/CVS.csv',\r\n",
        "    'abfss://risk@#STORAGE_ACCOUNT_NAME#.dfs.core.windows.net/News/DailyData/'+str(currDate.year) + \"/\" + str(currDate.strftime(\"%m\")) + \"/\" + str(currDate.strftime(\"%d\"))+'/DIS.csv',\r\n",
        "    'abfss://risk@#STORAGE_ACCOUNT_NAME#.dfs.core.windows.net/News/DailyData/'+str(currDate.year) + \"/\" + str(currDate.strftime(\"%m\")) + \"/\" + str(currDate.strftime(\"%d\"))+'/DPZ.csv',\r\n",
        "    'abfss://risk@#STORAGE_ACCOUNT_NAME#.dfs.core.windows.net/News/DailyData/'+str(currDate.year) + \"/\" + str(currDate.strftime(\"%m\")) + \"/\" + str(currDate.strftime(\"%d\"))+'/FISV.csv',\r\n",
        "    'abfss://risk@#STORAGE_ACCOUNT_NAME#.dfs.core.windows.net/News/DailyData/'+str(currDate.year) + \"/\" + str(currDate.strftime(\"%m\")) + \"/\" + str(currDate.strftime(\"%d\"))+'/FMC.csv',\r\n",
        "    'abfss://risk@#STORAGE_ACCOUNT_NAME#.dfs.core.windows.net/News/DailyData/'+str(currDate.year) + \"/\" + str(currDate.strftime(\"%m\")) + \"/\" + str(currDate.strftime(\"%d\"))+'/GIS.csv',\r\n",
        "    'abfss://risk@#STORAGE_ACCOUNT_NAME#.dfs.core.windows.net/News/DailyData/'+str(currDate.year) + \"/\" + str(currDate.strftime(\"%m\")) + \"/\" + str(currDate.strftime(\"%d\"))+'/HRL.csv',\r\n",
        "    'abfss://risk@#STORAGE_ACCOUNT_NAME#.dfs.core.windows.net/News/DailyData/'+str(currDate.year) + \"/\" + str(currDate.strftime(\"%m\")) + \"/\" + str(currDate.strftime(\"%d\"))+'/KMB.csv',\r\n",
        "    'abfss://risk@#STORAGE_ACCOUNT_NAME#.dfs.core.windows.net/News/DailyData/'+str(currDate.year) + \"/\" + str(currDate.strftime(\"%m\")) + \"/\" + str(currDate.strftime(\"%d\"))+'/LMT.csv',\r\n",
        "    'abfss://risk@#STORAGE_ACCOUNT_NAME#.dfs.core.windows.net/News/DailyData/'+str(currDate.year) + \"/\" + str(currDate.strftime(\"%m\")) + \"/\" + str(currDate.strftime(\"%d\"))+'/MDLZ.csv',\r\n",
        "    'abfss://risk@#STORAGE_ACCOUNT_NAME#.dfs.core.windows.net/News/DailyData/'+str(currDate.year) + \"/\" + str(currDate.strftime(\"%m\")) + \"/\" + str(currDate.strftime(\"%d\"))+'/MKC.csv',\r\n",
        "    'abfss://risk@#STORAGE_ACCOUNT_NAME#.dfs.core.windows.net/News/DailyData/'+str(currDate.year) + \"/\" + str(currDate.strftime(\"%m\")) + \"/\" + str(currDate.strftime(\"%d\"))+'/MSFT.csv',\r\n",
        "    'abfss://risk@#STORAGE_ACCOUNT_NAME#.dfs.core.windows.net/News/DailyData/'+str(currDate.year) + \"/\" + str(currDate.strftime(\"%m\")) + \"/\" + str(currDate.strftime(\"%d\"))+'/NFLX.csv',\r\n",
        "    'abfss://risk@#STORAGE_ACCOUNT_NAME#.dfs.core.windows.net/News/DailyData/'+str(currDate.year) + \"/\" + str(currDate.strftime(\"%m\")) + \"/\" + str(currDate.strftime(\"%d\"))+'/PG.csv',\r\n",
        "    'abfss://risk@#STORAGE_ACCOUNT_NAME#.dfs.core.windows.net/News/DailyData/'+str(currDate.year) + \"/\" + str(currDate.strftime(\"%m\")) + \"/\" + str(currDate.strftime(\"%d\"))+'/RNG.csv',\r\n",
        "    'abfss://risk@#STORAGE_ACCOUNT_NAME#.dfs.core.windows.net/News/DailyData/'+str(currDate.year) + \"/\" + str(currDate.strftime(\"%m\")) + \"/\" + str(currDate.strftime(\"%d\"))+'/TGT.csv',\r\n",
        "    'abfss://risk@#STORAGE_ACCOUNT_NAME#.dfs.core.windows.net/News/DailyData/'+str(currDate.year) + \"/\" + str(currDate.strftime(\"%m\")) + \"/\" + str(currDate.strftime(\"%d\"))+'/WMT.csv',\r\n",
        "    'abfss://risk@#STORAGE_ACCOUNT_NAME#.dfs.core.windows.net/News/DailyData/'+str(currDate.year) + \"/\" + str(currDate.strftime(\"%m\")) + \"/\" + str(currDate.strftime(\"%d\"))+'/ZM.csv',\r\n",
        "    'abfss://risk@#STORAGE_ACCOUNT_NAME#.dfs.core.windows.net/News/DailyData/'+str(currDate.year) + \"/\" + str(currDate.strftime(\"%m\")) + \"/\" + str(currDate.strftime(\"%d\"))+'/ZS.csv'\r\n",
        "    ], format='csv'\r\n",
        "## If header exists uncomment line below\r\n",
        ", header=True\r\n",
        ")\r\n",
        "display(df.limit(10))\r\n",
        ""
      ]
    },
    {
      "cell_type": "code",
      "execution_count": null,
      "outputs": [
        {
          "output_type": "display_data",
          "data": {
            "application/vnd.livy.statement-meta+json": {
              "spark_pool": null,
              "session_id": null,
              "statement_id": null,
              "state": "cancelled",
              "livy_statement_state": null,
              "queued_time": "2021-03-15T13:56:42.18367Z",
              "execution_start_time": null,
              "execution_finish_time": "2021-03-15T14:00:55.8675153Z"
            },
            "text/plain": "StatementMeta(, , , Cancelled, )"
          },
          "metadata": {}
        }
      ],
      "metadata": {
        "jupyter": {
          "source_hidden": false,
          "outputs_hidden": false
        },
        "nteract": {
          "transient": {
            "deleting": false
          }
        },
        "microsoft": {
          "language": "python"
        },
        "collapsed": true
      },
      "source": [
        "%%pyspark\r\n",
        "from pyspark.sql.functions import *\r\n",
        "from pyspark.sql.types import *\r\n",
        "\r\n",
        "import numpy as np\r\n",
        "\r\n",
        "pd_df = df.select(\"Symbol\", \"Name\", \"Url\", \"Date_Published\", \"Description\", \"Sentiment\", \"Positive_Score\", \"Negative_Score\", \"Neutral_Score\").toPandas()\r\n",
        "\r\n",
        "pd_df.head(10)\r\n",
        "\r\n",
        "print(pd_df)\r\n",
        "\r\n",
        "\r\n",
        "pd_df = df.select(\"*\").toPandas()\r\n",
        "dfjson=pd_df.to_json(orient='records')\r\n",
        "\r\n",
        "#print(dfjson)\r\n",
        ""
      ]
    },
    {
      "cell_type": "code",
      "execution_count": null,
      "outputs": [
        {
          "output_type": "display_data",
          "data": {
            "application/vnd.livy.statement-meta+json": {
              "spark_pool": null,
              "session_id": null,
              "statement_id": null,
              "state": "cancelled",
              "livy_statement_state": null,
              "queued_time": "2021-03-15T13:56:42.2533721Z",
              "execution_start_time": null,
              "execution_finish_time": "2021-03-15T14:00:55.8680536Z"
            },
            "text/plain": "StatementMeta(, , , Cancelled, )"
          },
          "metadata": {}
        }
      ],
      "metadata": {
        "jupyter": {
          "source_hidden": false,
          "outputs_hidden": false
        },
        "nteract": {
          "transient": {
            "deleting": false
          }
        },
        "microsoft": {
          "language": "python"
        },
        "collapsed": true
      },
      "source": [
        "%%pyspark\r\n",
        "df = spark.createDataFrame(pd_df)\r\n",
        "df.show(5)\r\n",
        "\r\n",
        "(df\r\n",
        " .coalesce(1)\r\n",
        " .write\r\n",
        " .mode(\"overwrite\")\r\n",
        " .option(\"header\", \"true\")\r\n",
        " .format(\"com.databricks.spark.csv\")\r\n",
        " .save('abfss://risk@#STORAGE_ACCOUNT_NAME#.dfs.core.windows.net/News/DailyDataNew/'+str(currDate.year) + \"/\" + str(currDate.strftime(\"%m\")) + \"/\" + str(currDate.strftime(\"%d\"))))"
      ]
    },
    {
      "cell_type": "code",
      "execution_count": null,
      "outputs": [],
      "metadata": {
        "jupyter": {
          "source_hidden": false,
          "outputs_hidden": false
        },
        "nteract": {
          "transient": {
            "deleting": false
          }
        },
        "collapsed": true
      },
      "source": []
    }
  ]
}