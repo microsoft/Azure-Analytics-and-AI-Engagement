{
  "nbformat": 4,
  "nbformat_minor": 2,
  "cells": [
  {
      "cell_type": "markdown",
      "metadata": {},
      "source": [
        "## *****For Demonstration purpose only, Please customize as per your enterprise security needs and compliances***** \n"
		"Disclaimer: By accessing this code, you acknowledge the code is made available for presentation and demonstration purposes only and that the code: (1) is not subject to SOC 1 and SOC 2 compliance audits; (2) is not designed or intended to be a substitute for the professional advice, diagnosis, treatment, or judgment of a certified financial services professional; (3) is not designed, intended or made available as a medical device; and (4) is not designed or intended to be a substitute for professional medical advice, diagnosis, treatment or judgement. Do not use this code to replace, substitute, or provide professional financial advice or judgment, or to replace, substitute or provide medical advice, diagnosis, treatment or judgement. You are solely responsible for ensuring the regulatory, legal, and/or contractual compliance of any use of the code, including obtaining any authorizations or consents, and any solution you choose to build that incorporates this code in whole or in part. \n"
      ]
    },
    {
      "cell_type": "markdown",
      "metadata": {},
      "source": [
        "## Please don't run / don't click \"Run all\" the notebook:\n",
        "At the time of writing of this document, the current core limit is 200 cores per workspace and depending upon number of concurrent users, you may end up with core capacity being exceeded or maximum number of parallel jobs being exceeded error. \n",
        "## Fetch Marketing Campaigns data into DataFrame and Calculate Revenue Variance        "
      ]
    },
    {
      "cell_type": "code",
      "execution_count": 7,
      "outputs": [
        {
          "output_type": "display_data",
          "data": {
            "application/vnd.livy.statement-meta+json": {
              "spark_pool": "FinanceSpk",
              "session_id": 1,
              "statement_id": 7,
              "state": "finished",
              "livy_statement_state": "available",
              "queued_time": "2021-05-25T13:30:59.7575029Z",
              "execution_start_time": "2021-05-25T13:30:59.921785Z",
              "execution_finish_time": "2021-05-25T13:31:12.3070962Z"
            },
            "text/plain": "StatementMeta(FinanceSpk, 1, 7, Finished, Available)"
          },
          "metadata": {}
        },
        {
          "output_type": "stream",
          "name": "stdout",
          "text": "+-------------------+-------+---------------+-----------+--------------+-----------+----------+------+\n|             Region|Country|  Campaign_Name|    Revenue|Revenue_Target|       City|     State|RoleID|\n+-------------------+-------+---------------+-----------+--------------+-----------+----------+------+\n|         South East|     US|Patient Stories|$11,564.00 |   $19,306.00 |      Miami|   Florida|  NULL|\n|Southern California|     US|  For Your Life| $6,497.00 |    $6,147.00 |Los Angeles|California|  NULL|\n|         South East|     US|  Hit the track|$11,620.00 |   $17,230.00 |      Miami|   Florida|    20|\n|         South East|     US|Patient Stories| $9,963.00 |   $18,377.00 |      Miami|   Florida|  NULL|\n|Southern California|     US|  For Your Life|$16,850.00 |   $15,753.00 |Los Angeles|California|  NULL|\n|         South East|     US|  Hit the track| $5,333.00 |    $7,346.00 |      Miami|   Florida|    20|\n|         South East|     US|Patient Stories|$17,488.00 |    $9,941.00 |      Miami|   Florida|  NULL|\n|Southern California|     US|  For Your Life| $7,264.00 |    $9,868.00 |Los Angeles|California|  NULL|\n|         South East|     US|  Hit the track|$14,114.00 |   $15,482.00 |      Miami|   Florida|    20|\n|         South East|     US|Patient Stories| $8,628.00 |   $12,622.00 |      Miami|   Florida|  NULL|\n+-------------------+-------+---------------+-----------+--------------+-----------+----------+------+\nonly showing top 10 rows"
        }
      ],
      "metadata": {
        "microsoft": {
          "language": "python"
        }
      },
      "source": [
        "%%pyspark\n",
        "data_path = spark.read.load('abfss://marketing-data@#DATA_LAKE_NAME#.dfs.core.windows.net/CampaignData.csv', format='csv',header=True)\n",
        "data_path.show(10)"
      ]
    },
    {
      "cell_type": "markdown",
      "metadata": {},
      "source": [
        "## Load into Pandas and Perform Cleansing Operations\n",
        ""
      ]
    },
    {
      "cell_type": "code",
      "execution_count": 8,
      "outputs": [
        {
          "output_type": "display_data",
          "data": {
            "application/vnd.livy.statement-meta+json": {
              "spark_pool": "FinanceSpk",
              "session_id": 1,
              "statement_id": 8,
              "state": "finished",
              "livy_statement_state": "available",
              "queued_time": "2021-05-25T13:32:42.4571081Z",
              "execution_start_time": "2021-05-25T13:32:42.5518658Z",
              "execution_finish_time": "2021-05-25T13:32:44.6130409Z"
            },
            "text/plain": "StatementMeta(FinanceSpk, 1, 8, Finished, Available)"
          },
          "metadata": {}
        },
        {
          "output_type": "stream",
          "name": "stdout",
          "text": ""
        }
      ],
      "metadata": {
        "microsoft": {
          "language": "python"
        }
      },
      "source": [
        "%%pyspark\n",
        "from pyspark.sql.functions import *\n",
        "from pyspark.sql.types import *\n",
        "\n",
        "import numpy as np\n",
        "\n",
        "pd_df = data_path.select(\"*\").toPandas()\n",
        "\n",
        "'''Cleansing Operations: \n",
        "1. Columns Revenue, Revenue_Target: Remove '$' symbol and convert datatype to float\n",
        "2. Columns Revenue, Revenue_Target: Replace null values with 0\n",
        "3. Columns Region, Country, Product_Category, Campaign_Name: Convert columns to Camel Case\n",
        "'''\n",
        "pd_df['Revenue']= pd_df['Revenue'].replace('[\\$,]', '', regex=True).astype(float)\n",
        "pd_df['Revenue_Target']= pd_df['Revenue_Target'].replace('[\\$,]', '', regex=True).astype(float)\n",
        "pd_df['Revenue'].fillna(value=0, inplace=True)\n",
        "pd_df['Revenue_Target'].fillna(value=0, inplace=True)\n",
        "\n",
        "pd_df['Region'] = pd_df.Region.str.title()\n",
        "pd_df['Country'] = pd_df.Country.str.title()\n",
        "\n",
        "pd_df['Campaign_Name'] = pd_df.Campaign_Name.str.title()"
      ]
    },
    {
      "cell_type": "markdown",
      "metadata": {},
      "source": [
        "## Data Transformation - Calculate Revenue Variance"
      ]
    },
    {
      "cell_type": "code",
      "execution_count": 9,
      "outputs": [
        {
          "output_type": "display_data",
          "data": {
            "application/vnd.livy.statement-meta+json": {
              "spark_pool": "FinanceSpk",
              "session_id": 1,
              "statement_id": 9,
              "state": "finished",
              "livy_statement_state": "available",
              "queued_time": "2021-05-25T13:32:50.4745823Z",
              "execution_start_time": "2021-05-25T13:32:50.5937684Z",
              "execution_finish_time": "2021-05-25T13:32:52.6574437Z"
            },
            "text/plain": "StatementMeta(FinanceSpk, 1, 9, Finished, Available)"
          },
          "metadata": {}
        },
        {
          "output_type": "stream",
          "name": "stdout",
          "text": "                Region Country  ... RoleID  Revenue_Variance\n1  Southern California      Us  ...   NULL            -350.0\n2           South East      Us  ...     20            5610.0\n3           South East      Us  ...   NULL            8414.0\n4  Southern California      Us  ...   NULL           -1097.0\n\n[4 rows x 9 columns]"
        }
      ],
      "metadata": {},
      "source": [
        "#Create new column\n",
        "pd_df['Revenue_Variance'] = pd_df['Revenue_Target'] - pd_df['Revenue']\n",
        "\n",
        "print(pd_df[1:5])"
      ]
    },
    {
      "cell_type": "markdown",
      "metadata": {},
      "source": [
        "## Move data to Azure Data Lake Gen2\n",
        ""
      ]
    },
    {
      "cell_type": "code",
      "execution_count": 10,
      "outputs": [
        {
          "output_type": "display_data",
          "data": {
            "application/vnd.livy.statement-meta+json": {
              "spark_pool": "FinanceSpk",
              "session_id": 1,
              "statement_id": 10,
              "state": "finished",
              "livy_statement_state": "available",
              "queued_time": "2021-05-25T13:32:56.6042497Z",
              "execution_start_time": "2021-05-25T13:32:56.6958577Z",
              "execution_finish_time": "2021-05-25T13:33:04.9370103Z"
            },
            "text/plain": "StatementMeta(FinanceSpk, 1, 10, Finished, Available)"
          },
          "metadata": {}
        },
        {
          "output_type": "stream",
          "name": "stdout",
          "text": "+-------------------+-------+---------------+-------+--------------+-----------+----------+------+----------------+\n|             Region|Country|  Campaign_Name|Revenue|Revenue_Target|       City|     State|RoleID|Revenue_Variance|\n+-------------------+-------+---------------+-------+--------------+-----------+----------+------+----------------+\n|         South East|     Us|Patient Stories|11564.0|       19306.0|      Miami|   Florida|  NULL|          7742.0|\n|Southern California|     Us|  For Your Life| 6497.0|        6147.0|Los Angeles|California|  NULL|          -350.0|\n|         South East|     Us|  Hit The Track|11620.0|       17230.0|      Miami|   Florida|    20|          5610.0|\n|         South East|     Us|Patient Stories| 9963.0|       18377.0|      Miami|   Florida|  NULL|          8414.0|\n|Southern California|     Us|  For Your Life|16850.0|       15753.0|Los Angeles|California|  NULL|         -1097.0|\n+-------------------+-------+---------------+-------+--------------+-----------+----------+------+----------------+\nonly showing top 5 rows\n\n/opt/spark/python/lib/pyspark.zip/pyspark/sql/session.py:714: UserWarning: createDataFrame attempted Arrow optimization because 'spark.sql.execution.arrow.enabled' is set to true; however, failed by the reason below:\n  'JavaPackage' object is not callable\nAttempting non-optimization as 'spark.sql.execution.arrow.fallback.enabled' is set to true."
        }
      ],
      "metadata": {
        "microsoft": {
          "language": "python"
        }
      },
      "source": [
        "%%pyspark\n",
        "df = spark.createDataFrame(pd_df)\n",
        "df.show(5)\n",
        "\n",
        "(df\n",
        " .coalesce(1)\n",
        " .write\n",
        " .mode(\"overwrite\")\n",
        " .option(\"header\", \"true\")\n",
        " .format(\"com.databricks.spark.csv\")\n",
        " .save('abfss://marketing-data@#DATA_LAKE_NAME#.dfs.core.windows.net/Campaignsdata'))"
      ]
    }
  ],
  "metadata": {
    "save_output": true,
    "kernelspec": {
      "name": "synapse_pyspark",
      "display_name": "Synapse PySpark"
    },
    "language_info": {
      "name": "python"
    },
    "synapse_widget": {
      "version": "0.1",
      "state": {}
    }
  }
}