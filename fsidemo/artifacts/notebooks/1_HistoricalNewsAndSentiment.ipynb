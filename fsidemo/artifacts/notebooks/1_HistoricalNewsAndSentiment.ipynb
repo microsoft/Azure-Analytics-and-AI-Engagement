{
  "nbformat": 4,
  "nbformat_minor": 2,
  "metadata": {
    "kernelspec": {
      "name": "synapse_pyspark",
      "display_name": "python"
    },
    "language_info": {
      "name": "python"
    },
    "save_output": true,
    "synapse_widget": {
      "version": "0.1",
      "state": {}
    }
  },
  "cells": [
  {
      "cell_type": "markdown",
      "metadata": {},
      "source": [
        "## *****For Demonstration purpose only, Please customize as per your enterprise security needs and compliances***** \n"
		"Disclaimer: By accessing this code, you acknowledge the code is made available for presentation and demonstration purposes only and that the code: (1) is not subject to SOC 1 and SOC 2 compliance audits; (2) is not designed or intended to be a substitute for the professional advice, diagnosis, treatment, or judgment of a certified financial services professional; (3) is not designed, intended or made available as a medical device; and (4) is not designed or intended to be a substitute for professional medical advice, diagnosis, treatment or judgement. Do not use this code to replace, substitute, or provide professional financial advice or judgment, or to replace, substitute or provide medical advice, diagnosis, treatment or judgement. You are solely responsible for ensuring the regulatory, legal, and/or contractual compliance of any use of the code, including obtaining any authorizations or consents, and any solution you choose to build that incorporates this code in whole or in part. \n"
      ]
    },
    {
      "cell_type": "code",
      "execution_count": 2,
      "outputs": [
        {
          "output_type": "execute_result",
          "data": {
            "application/json": {
              "table": {
                "rows": [
                  {
                    "Sector": "Retail",
                    "CreatedDate": "09262020",
                    "Portfolio": "Covid",
                    "CIK": "0001018724",
                    "Ticker": "AMZN"
                  },
                  {
                    "Sector": "Retail",
                    "CreatedDate": "09262020",
                    "Portfolio": "Covid",
                    "CIK": "0000104169",
                    "Ticker": "WMT"
                  },
                  {
                    "Sector": "Retail",
                    "CreatedDate": "09262020",
                    "Portfolio": "Covid",
                    "CIK": "0000909832",
                    "Ticker": "COST"
                  },
                  {
                    "Sector": "Retail",
                    "CreatedDate": "09262020",
                    "Portfolio": "Covid",
                    "CIK": "0000027419",
                    "Ticker": "TGT"
                  },
                  {
                    "Sector": "ConsumerGoods",
                    "CreatedDate": "09262020",
                    "Portfolio": "Covid",
                    "CIK": "0000055785",
                    "Ticker": "KMB"
                  },
                  {
                    "Sector": "ConsumerGoods",
                    "CreatedDate": "09262020",
                    "Portfolio": "Covid",
                    "CIK": "0000080424",
                    "Ticker": "PG"
                  },
                  {
                    "Sector": "Pantry",
                    "CreatedDate": "09262020",
                    "Portfolio": "Covid",
                    "CIK": "0000048465",
                    "Ticker": "HRL"
                  },
                  {
                    "Sector": "Pantry",
                    "CreatedDate": "09262020",
                    "Portfolio": "Covid",
                    "CIK": "0000040704",
                    "Ticker": "GIS"
                  },
                  {
                    "Sector": "Pantry",
                    "CreatedDate": "09262020",
                    "Portfolio": "Covid",
                    "CIK": "0001103982",
                    "Ticker": "MDLZ"
                  },
                  {
                    "Sector": "Pantry",
                    "CreatedDate": "09262020",
                    "Portfolio": "Covid",
                    "CIK": "0000063754",
                    "Ticker": "MKC"
                  },
                  {
                    "Sector": "StayHome",
                    "CreatedDate": "09262020",
                    "Portfolio": "Covid",
                    "CIK": "0001585521",
                    "Ticker": "ZM"
                  },
                  {
                    "Sector": "StayHome",
                    "CreatedDate": "09262020",
                    "Portfolio": "Covid",
                    "CIK": "0001713683",
                    "Ticker": "ZS"
                  },
                  {
                    "Sector": "StayHome",
                    "CreatedDate": "09262020",
                    "Portfolio": "Covid",
                    "CIK": "0001384905",
                    "Ticker": "RNG"
                  },
                  {
                    "Sector": "StayHome",
                    "CreatedDate": "09262020",
                    "Portfolio": "Covid",
                    "CIK": "0001286681",
                    "Ticker": "DPZ"
                  },
                  {
                    "Sector": "StayHome",
                    "CreatedDate": "09262020",
                    "Portfolio": "Covid",
                    "CIK": "0001065280",
                    "Ticker": "NFLX"
                  },
                  {
                    "Sector": "RealEstate",
                    "CreatedDate": "09262020",
                    "Portfolio": "LongTerm",
                    "CIK": "0001035443",
                    "Ticker": "ARE"
                  },
                  {
                    "Sector": "Energy",
                    "CreatedDate": "09262020",
                    "Portfolio": "LongTerm",
                    "CIK": "0001130310",
                    "Ticker": "CNP"
                  },
                  {
                    "Sector": "Healthcare",
                    "CreatedDate": "09262020",
                    "Portfolio": "LongTerm",
                    "CIK": "0000064803",
                    "Ticker": "CVS"
                  },
                  {
                    "Sector": "FSI",
                    "CreatedDate": "09262020",
                    "Portfolio": "LongTerm",
                    "CIK": "0000798354",
                    "Ticker": "FISV"
                  },
                  {
                    "Sector": "Agriculture",
                    "CreatedDate": "09262020",
                    "Portfolio": "LongTerm",
                    "CIK": "0000037785",
                    "Ticker": "FMC"
                  },
                  {
                    "Sector": "Defense",
                    "CreatedDate": "09262020",
                    "Portfolio": "LongTerm",
                    "CIK": "0000936468",
                    "Ticker": "LMT"
                  },
                  {
                    "Sector": "Technology",
                    "CreatedDate": "09262020",
                    "Portfolio": "LongTerm",
                    "CIK": "0001108524",
                    "Ticker": "CRM"
                  },
                  {
                    "Sector": "Technology",
                    "CreatedDate": "09262020",
                    "Portfolio": "LongTerm",
                    "CIK": "0000789019",
                    "Ticker": "MSFT"
                  },
                  {
                    "Sector": "Consumer",
                    "CreatedDate": "09262020",
                    "Portfolio": "LongTerm",
                    "CIK": "0001744489",
                    "Ticker": "DIS"
                  }
                ],
                "schema": {
                  "Portfolio": "string",
                  "Sector": "string",
                  "Ticker": "string",
                  "CreatedDate": "string",
                  "CIK": "string"
                }
              },
              "isSummary": false,
              "language": "scala"
            }
          },
          "execution_count": 2,
          "metadata": {}
        }
      ],
      "metadata": {
        "collapsed": false,
        "diagram": {
          "activateDiagramType": 1,
          "chartConfig": {
            "category": "bar",
            "keys": [
              "Portfolio"
            ],
            "values": [
              "Portfolio"
            ],
            "yLabel": "Portfolio",
            "xLabel": "Portfolio",
            "aggregation": "COUNT",
            "aggByBackend": false
          },
          "aggData": "{\"Portfolio\":{\"Covid\":15,\"LongTerm\":9}}",
          "isSummary": false,
          "previewData": {
            "filter": null
          },
          "isSql": false
        }
      },
      "source": [
        "# Read out CSV file with list of all tickers\n",
        "nqSdf = spark.read.load('abfss://risk@#STORAGE_ACCOUNT_NAME#.dfs.core.windows.net/Portfolio/PortfolioCik.csv', \n",
        "    format='csv', \n",
        "    sep=\",\",\n",
        "    header=True)\n",
        "\n",
        "portfolioData = nqSdf.toPandas()\n",
        "display(portfolioData)"
      ]
    },
    {
      "cell_type": "code",
      "execution_count": 3,
      "outputs": [],
      "metadata": {},
      "source": [
        "from azure.storage.blob import BlobServiceClient, ContainerClient\n",
        "from azure.storage.blob import BlobClient\n",
        "\n",
        "accountName = \"#STORAGE_ACCOUNT_NAME#\"\n",
        "accountKey = \"#STORAGE_ACCOUNT_KEY#\"\n",
        "containerName = \"risk\"\n",
        "connectionString = \"DefaultEndpointsProtocol=https;AccountName=#STORAGE_ACCOUNT_NAME#;AccountKey=#STORAGE_ACCOUNT_KEY#;EndpointSuffix=core.windows.net\""
      ]
    },
    {
      "cell_type": "code",
      "execution_count": 4,
      "outputs": [],
      "metadata": {},
      "source": [
        "import urllib.parse, base64\n",
        "import json\n",
        "import requests\n",
        "import pandas as pd\n",
        "import datetime\n",
        "import pytz\n",
        "from azure.core.credentials import AzureKeyCredential\n",
        "from azure.ai.textanalytics import TextAnalyticsClient\n",
        "\n",
        "search_url = \"https://api.bing.microsoft.com/v7.0/news/search\"\n",
        "sentiment_url = 'https://#COGNITIVE_SERVICE_NAME#.cognitiveservices.azure.com/'\n",
        "sentimentKey = '#COGNITIVE_SERVICE_KEY#'          # Azure Cognitive API Key, replace with your own key\n",
        "searchKey = '#SEARCH_KEY#'\n",
        "\n",
        "credential = AzureKeyCredential(sentimentKey)\n",
        "text_analytics_client = TextAnalyticsClient(endpoint=sentiment_url, credential=credential)"
      ]
    },
    {
      "cell_type": "code",
      "execution_count": 5,
      "outputs": [
        {
          "output_type": "execute_result",
          "data": {
            "text/plain": "{'etag': '\"0x8D8CC44863A77C5\"', 'last_modified': datetime.datetime(2021, 2, 8, 15, 16, 35, tzinfo=datetime.timezone.utc), 'content_md5': bytearray(b'jj\\xcfnZx~1\\xd5\\xd1\\x04+x\\xe3,\\xd6'), 'client_request_id': 'a1cadbd9-6a20-11eb-b1e7-000d3ac2e4a5', 'request_id': '2308b791-401e-004b-222d-fe1401000000', 'version': '2019-12-12', 'version_id': None, 'date': datetime.datetime(2021, 2, 8, 15, 16, 34, tzinfo=datetime.timezone.utc), 'request_server_encrypted': True, 'encryption_key_sha256': None, 'encryption_scope': None, 'error_code': None}\n{'etag': '\"0x8D8CC448D979E70\"', 'last_modified': datetime.datetime(2021, 2, 8, 15, 16, 47, tzinfo=datetime.timezone.utc), 'content_md5': bytearray(b'Z&>\\xd6\\xf4\\xc8}\\x95\\xb3\\x19\\t\\xad\\x1cs\\xc5\\xf2'), 'client_request_id': 'a8f575fc-6a20-11eb-b1e7-000d3ac2e4a5', 'request_id': '55aea29f-001e-0017-5e2d-fe4159000000', 'version': '2019-12-12', 'version_id': None, 'date': datetime.datetime(2021, 2, 8, 15, 16, 47, tzinfo=datetime.timezone.utc), 'request_server_encrypted': True, 'encryption_key_sha256': None, 'encryption_scope': None, 'error_code': None}\n{'etag': '\"0x8D8CC44943C9487\"', 'last_modified': datetime.datetime(2021, 2, 8, 15, 16, 58, tzinfo=datetime.timezone.utc), 'content_md5': bytearray(b'\\x81\\x82\\x16\\x86\\xc3\\xf1\\x99*\\xf3\\xdaS\\xa1\\xa5\\x94<\\xc7'), 'client_request_id': 'aee0502f-6a20-11eb-b1e7-000d3ac2e4a5', 'request_id': '0fa952bb-401e-0029-632d-fed626000000', 'version': '2019-12-12', 'version_id': None, 'date': datetime.datetime(2021, 2, 8, 15, 16, 58, tzinfo=datetime.timezone.utc), 'request_server_encrypted': True, 'encryption_key_sha256': None, 'encryption_scope': None, 'error_code': None}\n{'etag': '\"0x8D8CC449ABCFD5C\"', 'last_modified': datetime.datetime(2021, 2, 8, 15, 17, 9, tzinfo=datetime.timezone.utc), 'content_md5': bytearray(b\"w\\'\\xc0\\xb3y\\x14\\xf5\\x88t\\x88<\\xe0\\x8d]\\xdd\\xb7\"), 'client_request_id': 'b609f60b-6a20-11eb-b1e7-000d3ac2e4a5', 'request_id': '8c1c9c48-601e-0097-582d-febe5f000000', 'version': '2019-12-12', 'version_id': None, 'date': datetime.datetime(2021, 2, 8, 15, 17, 9, tzinfo=datetime.timezone.utc), 'request_server_encrypted': True, 'encryption_key_sha256': None, 'encryption_scope': None, 'error_code': None}\n{'etag': '\"0x8D8CC44A1E3CA50\"', 'last_modified': datetime.datetime(2021, 2, 8, 15, 17, 21, tzinfo=datetime.timezone.utc), 'content_md5': bytearray(b'E\\xc7_^q\\x8c\\xdf\\x9358\\x15\\xb3\\x07\\xe1F\\xa2'), 'client_request_id': 'bd319713-6a20-11eb-b1e7-000d3ac2e4a5', 'request_id': '43ee1351-d01e-0049-562d-feaab9000000', 'version': '2019-12-12', 'version_id': None, 'date': datetime.datetime(2021, 2, 8, 15, 17, 21, tzinfo=datetime.timezone.utc), 'request_server_encrypted': True, 'encryption_key_sha256': None, 'encryption_scope': None, 'error_code': None}\n{'etag': '\"0x8D8CC44A99A6FD0\"', 'last_modified': datetime.datetime(2021, 2, 8, 15, 17, 34, tzinfo=datetime.timezone.utc), 'content_md5': bytearray(b'*\\xe7\\xf8\\xf1\\xd5\\x00\\x9e\\x1b\\x1e>\\x89\\xbdb\\xe45\\xda'), 'client_request_id': 'c45b6f2b-6a20-11eb-b1e7-000d3ac2e4a5', 'request_id': 'cf6a73cd-d01e-0014-1a2d-fea03d000000', 'version': '2019-12-12', 'version_id': None, 'date': datetime.datetime(2021, 2, 8, 15, 17, 34, tzinfo=datetime.timezone.utc), 'request_server_encrypted': True, 'encryption_key_sha256': None, 'encryption_scope': None, 'error_code': None}\n{'etag': '\"0x8D8CC44B08ECD8D\"', 'last_modified': datetime.datetime(2021, 2, 8, 15, 17, 46, tzinfo=datetime.timezone.utc), 'content_md5': bytearray(b'\\xb3\\xe4\\xda\\xd7\\xc8|C\\xf0\\xa1\\xf3\\xb8\\xdb\\x90\\xe4b\\xcc'), 'client_request_id': 'cb7a0904-6a20-11eb-b1e7-000d3ac2e4a5', 'request_id': 'd8be24f5-c01e-009e-282d-fefb8c000000', 'version': '2019-12-12', 'version_id': None, 'date': datetime.datetime(2021, 2, 8, 15, 17, 45, tzinfo=datetime.timezone.utc), 'request_server_encrypted': True, 'encryption_key_sha256': None, 'encryption_scope': None, 'error_code': None}\n{'etag': '\"0x8D8CC44B7FB56EA\"', 'last_modified': datetime.datetime(2021, 2, 8, 15, 17, 58, tzinfo=datetime.timezone.utc), 'content_md5': bytearray(b\"\\xef\\xf3\\xdf\\xeb-\\x84c\\xaf\\'\\x1a\\xc6\\x02\\x0f\\xa3=\\x95\"), 'client_request_id': 'd2a2d052-6a20-11eb-b1e7-000d3ac2e4a5', 'request_id': '5f0a5be4-601e-005c-6b2d-febd0a000000', 'version': '2019-12-12', 'version_id': None, 'date': datetime.datetime(2021, 2, 8, 15, 17, 58, tzinfo=datetime.timezone.utc), 'request_server_encrypted': True, 'encryption_key_sha256': None, 'encryption_scope': None, 'error_code': None}\n{'etag': '\"0x8D8CC44BEFC89F2\"', 'last_modified': datetime.datetime(2021, 2, 8, 15, 18, 10, tzinfo=datetime.timezone.utc), 'content_md5': bytearray(b'l9\\x86I\\xc2O\\xfb<\\xb6\\x04\\xa0\\x859\\xaai\\x16'), 'client_request_id': 'd9c69629-6a20-11eb-b1e7-000d3ac2e4a5', 'request_id': '7cb76685-401e-0039-212d-fe134e000000', 'version': '2019-12-12', 'version_id': None, 'date': datetime.datetime(2021, 2, 8, 15, 18, 9, tzinfo=datetime.timezone.utc), 'request_server_encrypted': True, 'encryption_key_sha256': None, 'encryption_scope': None, 'error_code': None}\n{'etag': '\"0x8D8CC44C52E8B4D\"', 'last_modified': datetime.datetime(2021, 2, 8, 15, 18, 21, tzinfo=datetime.timezone.utc), 'content_md5': bytearray(b't\\x97\\x86\\xea\\xf7\\x9b\\x19\\x13\\xafN\\xcf\\xdc\\xab2~\\xdd'), 'client_request_id': 'e0f44a4a-6a20-11eb-b1e7-000d3ac2e4a5', 'request_id': '2309befa-401e-004b-3c2d-fe1401000000', 'version': '2019-12-12', 'version_id': None, 'date': datetime.datetime(2021, 2, 8, 15, 18, 20, tzinfo=datetime.timezone.utc), 'request_server_encrypted': True, 'encryption_key_sha256': None, 'encryption_scope': None, 'error_code': None}\n{'etag': '\"0x8D8CC44CC3144E2\"', 'last_modified': datetime.datetime(2021, 2, 8, 15, 18, 32, tzinfo=datetime.timezone.utc), 'content_md5': bytearray(b'q\\x10TQ\\x83k\\xe5__y\\xdb\\x84i\\x1cZ\\x81'), 'client_request_id': 'e6f3573d-6a20-11eb-b1e7-000d3ac2e4a5', 'request_id': 'a3e50200-201e-0062-5e2d-fe2a75000000', 'version': '2019-12-12', 'version_id': None, 'date': datetime.datetime(2021, 2, 8, 15, 18, 32, tzinfo=datetime.timezone.utc), 'request_server_encrypted': True, 'encryption_key_sha256': None, 'encryption_scope': None, 'error_code': None}\n{'etag': '\"0x8D8CC44D2BC3F3A\"', 'last_modified': datetime.datetime(2021, 2, 8, 15, 18, 43, tzinfo=datetime.timezone.utc), 'content_md5': bytearray(b'|\\xbc\\xfc\\xa2E\\xd4\\xa3\\x1aF\\xd2\\xf3X\\xd3\\xe0o\\xde'), 'client_request_id': 'ee140339-6a20-11eb-b1e7-000d3ac2e4a5', 'request_id': 'f6399ab9-701e-008b-192d-feec3f000000', 'version': '2019-12-12', 'version_id': None, 'date': datetime.datetime(2021, 2, 8, 15, 18, 42, tzinfo=datetime.timezone.utc), 'request_server_encrypted': True, 'encryption_key_sha256': None, 'encryption_scope': None, 'error_code': None}\n{'etag': '\"0x8D8CC44D945AA66\"', 'last_modified': datetime.datetime(2021, 2, 8, 15, 18, 54, tzinfo=datetime.timezone.utc), 'content_md5': bytearray(b'\\xc8X\\x9c\\x14\\xf4|\\xe3\\xb3\\xd7w2\\x18\\xd6\\xc6\\xa6\\xed'), 'client_request_id': 'f4071e60-6a20-11eb-b1e7-000d3ac2e4a5', 'request_id': '9c24170f-c01e-0008-1e2d-fef25d000000', 'version': '2019-12-12', 'version_id': None, 'date': datetime.datetime(2021, 2, 8, 15, 18, 53, tzinfo=datetime.timezone.utc), 'request_server_encrypted': True, 'encryption_key_sha256': None, 'encryption_scope': None, 'error_code': None}\n{'etag': '\"0x8D8CC44DDC428FC\"', 'last_modified': datetime.datetime(2021, 2, 8, 15, 19, 2, tzinfo=datetime.timezone.utc), 'content_md5': bytearray(b'V\\x93\\x84\\xc5_k\\xad\\xf5m#U\\xbf\\xea`\\xd6\\x19'), 'client_request_id': 'f8c46347-6a20-11eb-b1e7-000d3ac2e4a5', 'request_id': '1d37bcf0-b01e-003d-772d-fe9e49000000', 'version': '2019-12-12', 'version_id': None, 'date': datetime.datetime(2021, 2, 8, 15, 19, 2, tzinfo=datetime.timezone.utc), 'request_server_encrypted': True, 'encryption_key_sha256': None, 'encryption_scope': None, 'error_code': None}\n{'etag': '\"0x8D8CC44E2FF4E15\"', 'last_modified': datetime.datetime(2021, 2, 8, 15, 19, 11, tzinfo=datetime.timezone.utc), 'content_md5': bytearray(b'=]\\xa7\\x18HN\\x85g\\xdaP>U\\xfe\\x81s\\x9d'), 'client_request_id': 'fec52012-6a20-11eb-b1e7-000d3ac2e4a5', 'request_id': '55afd8ba-001e-0017-722d-fe4159000000', 'version': '2019-12-12', 'version_id': None, 'date': datetime.datetime(2021, 2, 8, 15, 19, 10, tzinfo=datetime.timezone.utc), 'request_server_encrypted': True, 'encryption_key_sha256': None, 'encryption_scope': None, 'error_code': None}\n{'etag': '\"0x8D8CC44E9B9ECA9\"', 'last_modified': datetime.datetime(2021, 2, 8, 15, 19, 22, tzinfo=datetime.timezone.utc), 'content_md5': bytearray(b'\\xed{\\xa4\\x8d\\xeb\\xe1J/\\x17\\x9aoP\\x8e\\xa7\\x9a7'), 'client_request_id': '04b04c39-6a21-11eb-b1e7-000d3ac2e4a5', 'request_id': 'd750ab10-901e-0048-5f2d-fef565000000', 'version': '2019-12-12', 'version_id': None, 'date': datetime.datetime(2021, 2, 8, 15, 19, 21, tzinfo=datetime.timezone.utc), 'request_server_encrypted': True, 'encryption_key_sha256': None, 'encryption_scope': None, 'error_code': None}\n{'etag': '\"0x8D8CC44F03AF8A8\"', 'last_modified': datetime.datetime(2021, 2, 8, 15, 19, 33, tzinfo=datetime.timezone.utc), 'content_md5': bytearray(b'\\xbd\\x90\\x8f\\x1c\\x8e G\\xcb\\xb7\\xc6\\xaf\\x9eU\\xec\\xd45'), 'client_request_id': '0bdc812a-6a21-11eb-b1e7-000d3ac2e4a5', 'request_id': 'e0f023bf-901e-002a-632d-fe3742000000', 'version': '2019-12-12', 'version_id': None, 'date': datetime.datetime(2021, 2, 8, 15, 19, 32, tzinfo=datetime.timezone.utc), 'request_server_encrypted': True, 'encryption_key_sha256': None, 'encryption_scope': None, 'error_code': None}\n{'etag': '\"0x8D8CC44F6BBBB16\"', 'last_modified': datetime.datetime(2021, 2, 8, 15, 19, 44, tzinfo=datetime.timezone.utc), 'content_md5': bytearray(b\"\\xc3\\x15\\xce\\xcb\\xfcD+\\xb4-\\x17\\'\\xb3U$A,\"), 'client_request_id': '11cf8c08-6a21-11eb-b1e7-000d3ac2e4a5', 'request_id': '9ab96d9e-f01e-0013-5a2d-fecc5e000000', 'version': '2019-12-12', 'version_id': None, 'date': datetime.datetime(2021, 2, 8, 15, 19, 43, tzinfo=datetime.timezone.utc), 'request_server_encrypted': True, 'encryption_key_sha256': None, 'encryption_scope': None, 'error_code': None}\n{'etag': '\"0x8D8CC44FCB642DF\"', 'last_modified': datetime.datetime(2021, 2, 8, 15, 19, 54, tzinfo=datetime.timezone.utc), 'content_md5': bytearray(b'\\x8an\\xcfGq,\\xaf\\xcf\\x8a\\x17\\x99\\xf9\\xeb\\x03\\xe6\\x15'), 'client_request_id': '17c6c4b4-6a21-11eb-b1e7-000d3ac2e4a5', 'request_id': 'a52c34df-301e-008a-342d-feb3e3000000', 'version': '2019-12-12', 'version_id': None, 'date': datetime.datetime(2021, 2, 8, 15, 19, 54, tzinfo=datetime.timezone.utc), 'request_server_encrypted': True, 'encryption_key_sha256': None, 'encryption_scope': None, 'error_code': None}\n{'etag': '\"0x8D8CC450354AC6A\"', 'last_modified': datetime.datetime(2021, 2, 8, 15, 20, 5, tzinfo=datetime.timezone.utc), 'content_md5': bytearray(b't)MAv\\x06hM>\"\\x89\\xf6\\xb9*7U'), 'client_request_id': '1ef22648-6a21-11eb-b1e7-000d3ac2e4a5', 'request_id': 'c241d565-801e-0054-4a2d-fea705000000', 'version': '2019-12-12', 'version_id': None, 'date': datetime.datetime(2021, 2, 8, 15, 20, 4, tzinfo=datetime.timezone.utc), 'request_server_encrypted': True, 'encryption_key_sha256': None, 'encryption_scope': None, 'error_code': None}\n{'etag': '\"0x8D8CC4509A5F3E4\"', 'last_modified': datetime.datetime(2021, 2, 8, 15, 20, 15, tzinfo=datetime.timezone.utc), 'content_md5': bytearray(b'\\x9bR\\xc1\\xb1\\xc4>\\xa1+s\\x08\\xf5\\x94\\xd2\\xfd\\xb3\\xbd'), 'client_request_id': '24ee3bdb-6a21-11eb-b1e7-000d3ac2e4a5', 'request_id': 'eb638838-a01e-00a7-5d2d-fe0090000000', 'version': '2019-12-12', 'version_id': None, 'date': datetime.datetime(2021, 2, 8, 15, 20, 15, tzinfo=datetime.timezone.utc), 'request_server_encrypted': True, 'encryption_key_sha256': None, 'encryption_scope': None, 'error_code': None}\n{'etag': '\"0x8D8CC450FE5CB89\"', 'last_modified': datetime.datetime(2021, 2, 8, 15, 20, 26, tzinfo=datetime.timezone.utc), 'content_md5': bytearray(b'\\xff\\x12\\xb1\\xfe\\x8ap\\x9d\\xda\\xd3\\x1f\\xfdS\\xd8\\x8b\\xe2\\xc0'), 'client_request_id': '2addefd4-6a21-11eb-b1e7-000d3ac2e4a5', 'request_id': '555fa896-401e-0064-342d-fe19ca000000', 'version': '2019-12-12', 'version_id': None, 'date': datetime.datetime(2021, 2, 8, 15, 20, 25, tzinfo=datetime.timezone.utc), 'request_server_encrypted': True, 'encryption_key_sha256': None, 'encryption_scope': None, 'error_code': None}\n{'etag': '\"0x8D8CC4515CA6A65\"', 'last_modified': datetime.datetime(2021, 2, 8, 15, 20, 36, tzinfo=datetime.timezone.utc), 'content_md5': bytearray(b'\\xf4\\xfd\\xbc+\\xc4\\x0e\\xfb4K\\x9c1vU\\x0c\\x0cp'), 'client_request_id': '30cd5d07-6a21-11eb-b1e7-000d3ac2e4a5', 'request_id': 'e0f0a2dd-901e-002a-2f2d-fe3742000000', 'version': '2019-12-12', 'version_id': None, 'date': datetime.datetime(2021, 2, 8, 15, 20, 36, tzinfo=datetime.timezone.utc), 'request_server_encrypted': True, 'encryption_key_sha256': None, 'encryption_scope': None, 'error_code': None}\n{'etag': '\"0x8D8CC451CA535C8\"', 'last_modified': datetime.datetime(2021, 2, 8, 15, 20, 47, tzinfo=datetime.timezone.utc), 'content_md5': bytearray(b'\\xb8\\x0b.\\x07\\x8f\\xa1\\xe7K+\\xa8\\x19\\x8bE\\x15s\\\\'), 'client_request_id': '37fb965a-6a21-11eb-b1e7-000d3ac2e4a5', 'request_id': 'd6aa7da4-301e-0041-212d-feb0b6000000', 'version': '2019-12-12', 'version_id': None, 'date': datetime.datetime(2021, 2, 8, 15, 20, 47, tzinfo=datetime.timezone.utc), 'request_server_encrypted': True, 'encryption_key_sha256': None, 'encryption_scope': None, 'error_code': None}"
          },
          "execution_count": 5,
          "metadata": {}
        }
      ],
      "metadata": {},
      "source": [
        "#for row in nqDf.rdd.collect():\n",
        "for index, ticker in portfolioData.iterrows():\n",
        "\n",
        "    dfObj = pd.DataFrame(columns=['Symbol', 'Name', 'Url', 'Date_Published', 'Description', 'Sentiment', 'Positive_Score', 'Negative_Score', 'Neutral_Score'])\n",
        "\n",
        "    headers = {'Ocp-Apim-Subscription-Key':searchKey, \\\n",
        "                'Content-type': 'application/json',\\\n",
        "                'Accept': 'application/json'}\n",
        "\n",
        "    symbol = ticker['Ticker']\n",
        "\n",
        "    params = urllib.parse.urlencode({\n",
        "        # Request parameters\n",
        "        'q': ticker['Ticker'],\n",
        "        'offset': '0',\n",
        "        'mkt': 'en-us',\n",
        "        'freshness': 'Month',\n",
        "        'count' : 100\n",
        "    })\n",
        "\n",
        "    response = requests.get(search_url, headers=headers, params=params)\n",
        "    response.raise_for_status()\n",
        "    search_results = response.json()\n",
        "    #print(json.dumps(search_results['value'], indent=2, sort_keys=True))\n",
        "    for value in search_results['value']:\n",
        "        description = value['description']\n",
        "        url = value['url']\n",
        "        name = value['name']\n",
        "        publishedDate = value['datePublished']\n",
        "    \n",
        "        documents = [\"'\" + description + \"'\"]\n",
        "\n",
        "        response = text_analytics_client.analyze_sentiment(documents, language=\"en\")\n",
        "        result = [doc for doc in response if not doc.is_error]\n",
        "        #print(result)\n",
        "\n",
        "        for doc in result:\n",
        "            #print(\"Overall sentiment: {}\".format(doc.sentiment))\n",
        "            #print(\"Scores: positive={}; neutral={}; negative={} \\n\".format(\n",
        "            #    doc.confidence_scores.positive,\n",
        "            #    doc.confidence_scores.neutral,\n",
        "            #    doc.confidence_scores.negative,\n",
        "            #))\n",
        "            dfObj = dfObj.append({'Symbol': symbol, 'Name': name, 'Url': url, 'Date_Published': publishedDate, 'Description' : description, 'Sentiment': doc.sentiment, 'Positive_Score':doc.confidence_scores.positive, 'Negative_Score': doc.confidence_scores.negative, 'Neutral_Score': doc.confidence_scores.neutral}, ignore_index=True)\n",
        "    \n",
        "    currDate = datetime.datetime.now(pytz.timezone('US/Central'))\n",
        "    output = dfObj.to_csv (index=False, header=True, encoding = \"utf-8\")\n",
        "    blobName = \"News/HistoricalData/\" + ticker['Ticker'] + \".csv\"\n",
        "    blob = BlobClient.from_connection_string(conn_str=connectionString, container_name=containerName, blob_name=blobName)\n",
        "    blob.upload_blob(output)"
      ]
    },
    {
      "cell_type": "code",
      "execution_count": null,
      "outputs": [],
      "metadata": {},
      "source": []
    }
  ]
}