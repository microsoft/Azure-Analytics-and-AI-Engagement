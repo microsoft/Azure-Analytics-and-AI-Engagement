{
  "nbformat": 4,
  "nbformat_minor": 2,
  "metadata": {
    "kernelspec": {
      "name": "synapse_pyspark",
      "display_name": "Synapse PySpark"
    },
    "language_info": {
      "name": "python"
    },
    "save_output": true,
    "synapse_widget": {
      "version": "0.1",
      "state": {
        "09e61815-27f5-40c6-90b0-9a6073bfcd16": {
          "type": "Synapse.DataFrame",
          "sync_state": {
            "table": {
              "rows": [
                {
                  "Sector": "Retail",
                  "CreatedDate": "09262020",
                  "Portfolio": "Covid",
                  "CIK": "0001018724",
                  "Ticker": "AMZN"
                },
                {
                  "Sector": "Retail",
                  "CreatedDate": "09262020",
                  "Portfolio": "Covid",
                  "CIK": "0000104169",
                  "Ticker": "WMT"
                },
                {
                  "Sector": "Retail",
                  "CreatedDate": "09262020",
                  "Portfolio": "Covid",
                  "CIK": "0000909832",
                  "Ticker": "COST"
                },
                {
                  "Sector": "Retail",
                  "CreatedDate": "09262020",
                  "Portfolio": "Covid",
                  "CIK": "0000027419",
                  "Ticker": "TGT"
                },
                {
                  "Sector": "ConsumerGoods",
                  "CreatedDate": "09262020",
                  "Portfolio": "Covid",
                  "CIK": "0000055785",
                  "Ticker": "KMB"
                },
                {
                  "Sector": "ConsumerGoods",
                  "CreatedDate": "09262020",
                  "Portfolio": "Covid",
                  "CIK": "0000080424",
                  "Ticker": "PG"
                },
                {
                  "Sector": "Pantry",
                  "CreatedDate": "09262020",
                  "Portfolio": "Covid",
                  "CIK": "0000048465",
                  "Ticker": "HRL"
                },
                {
                  "Sector": "Pantry",
                  "CreatedDate": "09262020",
                  "Portfolio": "Covid",
                  "CIK": "0000040704",
                  "Ticker": "GIS"
                },
                {
                  "Sector": "Pantry",
                  "CreatedDate": "09262020",
                  "Portfolio": "Covid",
                  "CIK": "0001103982",
                  "Ticker": "MDLZ"
                },
                {
                  "Sector": "Pantry",
                  "CreatedDate": "09262020",
                  "Portfolio": "Covid",
                  "CIK": "0000063754",
                  "Ticker": "MKC"
                },
                {
                  "Sector": "StayHome",
                  "CreatedDate": "09262020",
                  "Portfolio": "Covid",
                  "CIK": "0001585521",
                  "Ticker": "ZM"
                },
                {
                  "Sector": "StayHome",
                  "CreatedDate": "09262020",
                  "Portfolio": "Covid",
                  "CIK": "0001713683",
                  "Ticker": "ZS"
                },
                {
                  "Sector": "StayHome",
                  "CreatedDate": "09262020",
                  "Portfolio": "Covid",
                  "CIK": "0001384905",
                  "Ticker": "RNG"
                },
                {
                  "Sector": "StayHome",
                  "CreatedDate": "09262020",
                  "Portfolio": "Covid",
                  "CIK": "0001286681",
                  "Ticker": "DPZ"
                },
                {
                  "Sector": "StayHome",
                  "CreatedDate": "09262020",
                  "Portfolio": "Covid",
                  "CIK": "0001065280",
                  "Ticker": "NFLX"
                },
                {
                  "Sector": "RealEstate",
                  "CreatedDate": "09262020",
                  "Portfolio": "LongTerm",
                  "CIK": "0001035443",
                  "Ticker": "ARE"
                },
                {
                  "Sector": "Energy",
                  "CreatedDate": "09262020",
                  "Portfolio": "LongTerm",
                  "CIK": "0001130310",
                  "Ticker": "CNP"
                },
                {
                  "Sector": "Healthcare",
                  "CreatedDate": "09262020",
                  "Portfolio": "LongTerm",
                  "CIK": "0000064803",
                  "Ticker": "CVS"
                },
                {
                  "Sector": "FSI",
                  "CreatedDate": "09262020",
                  "Portfolio": "LongTerm",
                  "CIK": "0000798354",
                  "Ticker": "FISV"
                },
                {
                  "Sector": "Agriculture",
                  "CreatedDate": "09262020",
                  "Portfolio": "LongTerm",
                  "CIK": "0000037785",
                  "Ticker": "FMC"
                },
                {
                  "Sector": "Defense",
                  "CreatedDate": "09262020",
                  "Portfolio": "LongTerm",
                  "CIK": "0000936468",
                  "Ticker": "LMT"
                },
                {
                  "Sector": "Technology",
                  "CreatedDate": "09262020",
                  "Portfolio": "LongTerm",
                  "CIK": "0001108524",
                  "Ticker": "CRM"
                },
                {
                  "Sector": "Technology",
                  "CreatedDate": "09262020",
                  "Portfolio": "LongTerm",
                  "CIK": "0000789019",
                  "Ticker": "MSFT"
                },
                {
                  "Sector": "Consumer",
                  "CreatedDate": "09262020",
                  "Portfolio": "LongTerm",
                  "CIK": "0001744489",
                  "Ticker": "DIS"
                }
              ],
              "schema": {
                "Portfolio": "string",
                "Sector": "string",
                "Ticker": "string",
                "CreatedDate": "string",
                "CIK": "string"
              }
            },
            "isSummary": false,
            "language": "scala"
          },
          "persist_state": {
            "view": {
              "type": "details",
              "tableOptions": {},
              "chartOptions": {
                "chartType": "bar",
                "aggregationType": "count",
                "categoryFieldKeys": [
                  "Portfolio"
                ],
                "seriesFieldKeys": [
                  "Portfolio"
                ],
                "isStacked": false
              }
            }
          }
        }
      }
    }
  },
  "cells": [
  {
      "cell_type": "markdown",
      "metadata": {},
      "source": [
        "## *****For Demonstration purpose only, Please customize as per your enterprise security needs and compliances***** \n",
		"Disclaimer: By accessing this code, you acknowledge the code is made available for presentation and demonstration purposes only and that the code: (1) is not subject to SOC 1 and SOC 2 compliance audits; (2) is not designed or intended to be a substitute for the professional advice, diagnosis, treatment, or judgment of a certified financial services professional; (3) is not designed, intended or made available as a medical device; and (4) is not designed or intended to be a substitute for professional medical advice, diagnosis, treatment or judgement. Do not use this code to replace, substitute, or provide professional financial advice or judgment, or to replace, substitute or provide medical advice, diagnosis, treatment or judgement. You are solely responsible for ensuring the regulatory, legal, and/or contractual compliance of any use of the code, including obtaining any authorizations or consents, and any solution you choose to build that incorporates this code in whole or in part. \n"
      ]
    },
    {
      "cell_type": "code",
      "execution_count": 1,
      "outputs": [
        {
          "output_type": "display_data",
          "data": {
            "application/vnd.livy.statement-meta+json": {
              "spark_pool": "FinanceSpk",
              "session_id": 7,
              "statement_id": 1,
              "state": "finished",
              "livy_statement_state": "available",
              "queued_time": "2021-06-01T10:44:28.1029547Z",
              "execution_start_time": "2021-06-01T10:47:05.0996961Z",
              "execution_finish_time": "2021-06-01T10:47:07.1604295Z"
            },
            "text/plain": "StatementMeta(FinanceSpk, 7, 1, Finished, Available)"
          },
          "metadata": {}
        },
        {
          "output_type": "stream",
          "name": "stdout",
          "text": []
        }
      ],
      "metadata": {},
      "source": [
        "#Import the required libraries\n",
        "import pandas as pd\n",
        "import yfinance as yf\n",
        "#from yahoofinancials import YahooFinancials\n",
        "from datetime import datetime"
      ]
    },
    {
      "cell_type": "code",
      "execution_count": 2,
      "outputs": [
        {
          "output_type": "display_data",
          "data": {
            "application/vnd.livy.statement-meta+json": {
              "spark_pool": "FinanceSpk",
              "session_id": 7,
              "statement_id": 2,
              "state": "finished",
              "livy_statement_state": "available",
              "queued_time": "2021-06-01T10:44:28.1047075Z",
              "execution_start_time": "2021-06-01T10:47:07.2588385Z",
              "execution_finish_time": "2021-06-01T10:47:25.9284818Z"
            },
            "text/plain": "StatementMeta(FinanceSpk, 7, 2, Finished, Available)"
          },
          "metadata": {}
        },
        {
          "output_type": "display_data",
          "data": {
            "application/vnd.synapse.widget-view+json": {
              "widget_id": "09e61815-27f5-40c6-90b0-9a6073bfcd16",
              "widget_type": "Synapse.DataFrame"
            },
            "text/plain": "SynapseWidget(Synapse.DataFrame, 09e61815-27f5-40c6-90b0-9a6073bfcd16)"
          },
          "metadata": {}
        },
        {
          "output_type": "display_data",
          "data": {
            "text/plain": "\n/opt/spark/python/lib/pyspark.zip/pyspark/sql/session.py:714: UserWarning: createDataFrame attempted Arrow optimization because 'spark.sql.execution.arrow.enabled' is set to true; however, failed by the reason below:\n  'JavaPackage' object is not callable\nAttempting non-optimization as 'spark.sql.execution.arrow.fallback.enabled' is set to true."
          },
          "metadata": {}
        },
        {
          "output_type": "execute_result",
          "data": {},
          "execution_count": 2,
          "metadata": {}
        }
      ],
      "metadata": {
        "collapsed": false,
        "diagram": {
          "activateDiagramType": 1,
          "chartConfig": {
            "category": "bar",
            "keys": [
              "Portfolio"
            ],
            "values": [
              "Portfolio"
            ],
            "yLabel": "Portfolio",
            "xLabel": "Portfolio",
            "aggregation": "COUNT",
            "aggByBackend": false
          },
          "aggData": "{\"Portfolio\":{\"Covid\":15,\"LongTerm\":9}}",
          "isSummary": false,
          "previewData": {
            "filter": null
          },
          "isSql": false
        }
      },
      "source": [
        "# Read out CSV file with list of all tickers\n",
        "nqSdf = spark.read.load('abfss://risk@#STORAGE_ACCOUNT_NAME#.dfs.core.windows.net/Portfolio/PortfolioCik.csv', \n",
        "    format='csv', \n",
        "    sep=\",\",\n",
        "    header=True)\n",
        "\n",
        "portfolioData = nqSdf.toPandas()\n",
        "display(portfolioData)"
      ]
    },
    {
      "cell_type": "code",
      "execution_count": 3,
      "outputs": [
        {
          "output_type": "display_data",
          "data": {
            "application/vnd.livy.statement-meta+json": {
              "spark_pool": "FinanceSpk",
              "session_id": 7,
              "statement_id": 3,
              "state": "finished",
              "livy_statement_state": "available",
              "queued_time": "2021-06-01T10:44:28.1140187Z",
              "execution_start_time": "2021-06-01T10:47:26.034538Z",
              "execution_finish_time": "2021-06-01T10:47:28.1070284Z"
            },
            "text/plain": "StatementMeta(FinanceSpk, 7, 3, Finished, Available)"
          },
          "metadata": {}
        },
        {
          "output_type": "stream",
          "name": "stdout",
          "text": []
        }
      ],
      "metadata": {},
      "source": [
        "from azure.storage.blob import BlobServiceClient, ContainerClient\n",
        "from azure.storage.blob import BlobClient\n",
        "\n",
        "accountName = \"#STORAGE_ACCOUNT_NAME#\"\n",
        "accountKey = \"#STORAGE_ACCOUNT_KEY#\"\n",
        "containerName = \"risk\"\n",
        "connectionString = \"DefaultEndpointsProtocol=https;AccountName=#STORAGE_ACCOUNT_NAME#;AccountKey=#STORAGE_ACCOUNT_KEY#;EndpointSuffix=core.windows.net\""
      ]
    },
    {
      "cell_type": "code",
      "execution_count": 4,
      "outputs": [
        {
          "output_type": "display_data",
          "data": {
            "application/vnd.livy.statement-meta+json": {
              "spark_pool": "FinanceSpk",
              "session_id": 7,
              "statement_id": 4,
              "state": "finished",
              "livy_statement_state": "available",
              "queued_time": "2021-06-01T10:44:28.1374107Z",
              "execution_start_time": "2021-06-01T10:47:28.1962178Z",
              "execution_finish_time": "2021-06-01T10:47:44.699237Z"
            },
            "text/plain": "StatementMeta(FinanceSpk, 7, 4, Finished, Available)"
          },
          "metadata": {}
        },
        {
          "output_type": "error",
          "ename": "ClientAuthenticationError",
          "evalue": "Server failed to authenticate the request. Make sure the value of Authorization header is formed correctly including the signature.\nRequestId:f4db2c04-001e-008a-1ed3-568195000000\nTime:2021-06-01T10:47:42.7857588Z\nErrorCode:AuthenticationFailed\nError:None\nAuthenticationErrorDetail:The MAC signature found in the HTTP request '4Pnl7E1FI6Uh62JyaePVF9WGh0BghyWccXR0buLGOUU=' is not the same as any computed signature. Server used following string to sign: 'PUT\n\n\n341110\n\napplication/octet-stream\n\n\n\n*\n\n\nx-ms-blob-type:BlockBlob\nx-ms-client-request-id:cad642dc-c2c6-11eb-9419-000d3afcab19\nx-ms-date:Tue, 01 Jun 2021 10:47:42 GMT\nx-ms-version:2019-12-12\n/stfsiprod/risk/PortfolioQuotes/HistoricalData/AMZN.csv'.",
          "traceback": [
            "ClientAuthenticationError: Server failed to authenticate the request. Make sure the value of Authorization header is formed correctly including the signature.\nRequestId:f4db2c04-001e-008a-1ed3-568195000000\nTime:2021-06-01T10:47:42.7857588Z\nErrorCode:AuthenticationFailed\nError:None\nAuthenticationErrorDetail:The MAC signature found in the HTTP request '4Pnl7E1FI6Uh62JyaePVF9WGh0BghyWccXR0buLGOUU=' is not the same as any computed signature. Server used following string to sign: 'PUT\n\n\n341110\n\napplication/octet-stream\n\n\n\n*\n\n\nx-ms-blob-type:BlockBlob\nx-ms-client-request-id:cad642dc-c2c6-11eb-9419-000d3afcab19\nx-ms-date:Tue, 01 Jun 2021 10:47:42 GMT\nx-ms-version:2019-12-12\n/stfsiprod/risk/PortfolioQuotes/HistoricalData/AMZN.csv'.",
            "Traceback (most recent call last):\n",
            "  File \"/home/trusted-service-user/cluster-env/env/lib/python3.6/site-packages/azure/core/tracing/decorator.py\", line 83, in wrapper_use_tracer\n    return func(*args, **kwargs)\n",
            "  File \"/home/trusted-service-user/cluster-env/env/lib/python3.6/site-packages/azure/storage/blob/_blob_client.py\", line 539, in upload_blob\n    return upload_block_blob(**options)\n",
            "  File \"/home/trusted-service-user/cluster-env/env/lib/python3.6/site-packages/azure/storage/blob/_upload_helpers.py\", line 156, in upload_block_blob\n    process_storage_error(error)\n",
            "  File \"/home/trusted-service-user/cluster-env/env/lib/python3.6/site-packages/azure/storage/blob/_shared/response_handlers.py\", line 147, in process_storage_error\n    raise error\n",
            "azure.core.exceptions.ClientAuthenticationError: Server failed to authenticate the request. Make sure the value of Authorization header is formed correctly including the signature.\nRequestId:f4db2c04-001e-008a-1ed3-568195000000\nTime:2021-06-01T10:47:42.7857588Z\nErrorCode:AuthenticationFailed\nError:None\nAuthenticationErrorDetail:The MAC signature found in the HTTP request '4Pnl7E1FI6Uh62JyaePVF9WGh0BghyWccXR0buLGOUU=' is not the same as any computed signature. Server used following string to sign: 'PUT\n\n\n341110\n\napplication/octet-stream\n\n\n\n*\n\n\nx-ms-blob-type:BlockBlob\nx-ms-client-request-id:cad642dc-c2c6-11eb-9419-000d3afcab19\nx-ms-date:Tue, 01 Jun 2021 10:47:42 GMT\nx-ms-version:2019-12-12\n/stfsiprod/risk/PortfolioQuotes/HistoricalData/AMZN.csv'.\n"
          ]
        }
      ],
      "metadata": {},
      "source": [
        "# Get the stock price for all tickers and write it to CSV file\n",
        "#yahoo_financials = YahooFinancials(tickerTop10)\n",
        "\n",
        "#data = yahoo_financials.get_historical_price_data(start_date='2019-01-01', \n",
        "#                                                  end_date='2019-01-31', \n",
        "#                                                  time_interval='daily')\n",
        "finalColNames = [\"Portfolio\", \"Sector\", \"Cik\", \"Date\", \"Ticker\", \"AdjClose\"]\n",
        "\n",
        "for index, ticker in portfolioData.iterrows():\n",
        "    finalDf = pd.DataFrame(columns = finalColNames)\n",
        "    stockData = yf.download(ticker['Ticker'], period=\"max\", interval='1d', group_by='ticker', threads=True, progress=True)\n",
        "    for index, row in stockData.iterrows():\n",
        "        finalDf = finalDf.append({'Portfolio' : str(ticker['Portfolio']), 'Sector' : ticker['Sector'], 'Cik' : ticker['CIK'], 'Date' : index.date() , 'Ticker' : ticker['Ticker'], 'AdjClose' : row['Adj Close'] } , ignore_index=True)\n",
        "    output = finalDf.to_csv (index=False, header=True, encoding = \"utf-8\")\n",
        "    blobName = \"PortfolioQuotes/HistoricalData/\" + ticker['Ticker'] + \".csv\"\n",
        "    blob = BlobClient.from_connection_string(conn_str=connectionString, container_name=containerName, blob_name=blobName)\n",
        "    blob.upload_blob(output)\n",
        "    #blobService.create_blob_from_text(containerName, blobName, output)\n",
        "\n",
        ""
      ]
    },
    {
      "cell_type": "code",
      "execution_count": null,
      "outputs": [],
      "metadata": {},
      "source": []
    }
  ]
}