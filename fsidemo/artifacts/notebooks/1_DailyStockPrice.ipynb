{
  "nbformat": 4,
  "nbformat_minor": 2,
  "cells": [
  {
      "cell_type": "markdown",
      "metadata": {},
      "source": [
        "## *****For Demonstration purpose only, Please customize as per your enterprise security needs and compliances***** \n"
		"Disclaimer: By accessing this code, you acknowledge the code is made available for presentation and demonstration purposes only and that the code: (1) is not subject to SOC 1 and SOC 2 compliance audits; (2) is not designed or intended to be a substitute for the professional advice, diagnosis, treatment, or judgment of a certified financial services professional; (3) is not designed, intended or made available as a medical device; and (4) is not designed or intended to be a substitute for professional medical advice, diagnosis, treatment or judgement. Do not use this code to replace, substitute, or provide professional financial advice or judgment, or to replace, substitute or provide medical advice, diagnosis, treatment or judgement. You are solely responsible for ensuring the regulatory, legal, and/or contractual compliance of any use of the code, including obtaining any authorizations or consents, and any solution you choose to build that incorporates this code in whole or in part. \n"
      ]
    },
    {
      "cell_type": "code",
      "execution_count": 7,
      "outputs": [
        {
          "output_type": "display_data",
          "data": {
            "application/vnd.livy.statement-meta+json": {
              "spark_pool": "FinanceSpk",
              "session_id": 55,
              "statement_id": 1,
              "state": "finished",
              "livy_statement_state": "available",
              "queued_time": "2021-07-14T11:24:17.9718586Z",
              "session_start_time": "2021-07-14T11:24:18.0017271Z",
              "execution_start_time": "2021-07-14T11:26:54.7287346Z",
              "execution_finish_time": "2021-07-14T11:26:56.7883346Z"
            },
            "text/plain": "StatementMeta(FinanceSpk, 55, 1, Finished, Available)"
          },
          "metadata": {}
        },
        {
          "output_type": "stream",
          "name": "stdout",
          "text": ""
        }
      ],
      "metadata": {},
      "source": [
        "#Import the required libraries\n",
        "import pandas as pd\n",
        "import yfinance as yf\n",
        "#from yahoofinancials import YahooFinancials\n",
        "from datetime import datetime"
      ]
    },
    {
      "cell_type": "code",
      "execution_count": 8,
      "outputs": [
        {
          "output_type": "display_data",
          "data": {
            "application/vnd.livy.statement-meta+json": {
              "spark_pool": "FinanceSpk",
              "session_id": 55,
              "statement_id": 2,
              "state": "finished",
              "livy_statement_state": "available",
              "queued_time": "2021-07-14T11:24:18.0309376Z",
              "session_start_time": null,
              "execution_start_time": "2021-07-14T11:26:56.8815576Z",
              "execution_finish_time": "2021-07-14T11:27:15.7288338Z"
            },
            "text/plain": "StatementMeta(FinanceSpk, 55, 2, Finished, Available)"
          },
          "metadata": {}
        },
        {
          "output_type": "display_data",
          "data": {
            "application/vnd.synapse.widget-view+json": {
              "widget_id": "5e603b67-a03e-4990-95f6-5b641f51a01a",
              "widget_type": "Synapse.DataFrame"
            },
            "text/plain": "SynapseWidget(Synapse.DataFrame, 5e603b67-a03e-4990-95f6-5b641f51a01a)"
          },
          "metadata": {}
        },
        {
          "output_type": "stream",
          "name": "stdout",
          "text": "\n/opt/spark/python/lib/pyspark.zip/pyspark/sql/session.py:714: UserWarning: createDataFrame attempted Arrow optimization because 'spark.sql.execution.arrow.enabled' is set to true; however, failed by the reason below:\n  'JavaPackage' object is not callable\nAttempting non-optimization as 'spark.sql.execution.arrow.fallback.enabled' is set to true."
        },
        {
          "output_type": "execute_result",
          "data": {},
          "execution_count": 8,
          "metadata": {}
        }
      ],
      "metadata": {
        "collapsed": false,
        "diagram": {
          "activateDiagramType": 1,
          "chartConfig": {
            "category": "bar",
            "keys": [
              "Portfolio"
            ],
            "values": [
              "Portfolio"
            ],
            "yLabel": "Portfolio",
            "xLabel": "Portfolio",
            "aggregation": "COUNT",
            "aggByBackend": false
          },
          "aggData": "{\"Portfolio\":{\"Covid\":15,\"LongTerm\":9}}",
          "isSummary": false,
          "previewData": {
            "filter": null
          },
          "isSql": false
        }
      },
      "source": [
        "# Read out CSV file with list of all tickers\n",
        "nqSdf = spark.read.load('abfss://risk@#STORAGE_ACCOUNT_NAME#.dfs.core.windows.net/Portfolio/PortfolioCik.csv', \n",
        "    format='csv', \n",
        "    sep=\",\",\n",
        "    header=True)\n",
        "\n",
        "portfolioData = nqSdf.toPandas()\n",
        "display(portfolioData)"
      ]
    },
    {
      "cell_type": "code",
      "execution_count": 9,
      "outputs": [
        {
          "output_type": "display_data",
          "data": {
            "application/vnd.livy.statement-meta+json": {
              "spark_pool": "FinanceSpk",
              "session_id": 55,
              "statement_id": 3,
              "state": "finished",
              "livy_statement_state": "available",
              "queued_time": "2021-07-14T11:24:18.0881303Z",
              "session_start_time": null,
              "execution_start_time": "2021-07-14T11:27:15.8170424Z",
              "execution_finish_time": "2021-07-14T11:27:17.8687461Z"
            },
            "text/plain": "StatementMeta(FinanceSpk, 55, 3, Finished, Available)"
          },
          "metadata": {}
        },
        {
          "output_type": "stream",
          "name": "stdout",
          "text": ""
        }
      ],
      "metadata": {},
      "source": [
        "from azure.storage.blob import BlobServiceClient, ContainerClient\n",
        "from azure.storage.blob import BlobClient\n",
        "\n",
        "accountName = \"#STORAGE_ACCOUNT_NAME#\" \n",
        "accountKey = \"#STORAGE_ACCOUNT_KEY#\"\n",
        "containerName = \"risk\"\n",
        "connectionString = \"DefaultEndpointsProtocol=https;AccountName=#STORAGE_ACCOUNT_NAME#;AccountKey=#STORAGE_ACCOUNT_KEY#;EndpointSuffix=core.windows.net\""
      ]
    },
    {
      "cell_type": "code",
      "execution_count": 10,
      "outputs": [
        {
          "output_type": "display_data",
          "data": {
            "application/vnd.livy.statement-meta+json": {
              "spark_pool": "FinanceSpk",
              "session_id": 55,
              "statement_id": 4,
              "state": "finished",
              "livy_statement_state": "available",
              "queued_time": "2021-07-14T11:24:18.1228565Z",
              "session_start_time": null,
              "execution_start_time": "2021-07-14T11:27:17.9657009Z",
              "execution_finish_time": "2021-07-14T11:27:20.0243094Z"
            },
            "text/plain": "StatementMeta(FinanceSpk, 55, 4, Finished, Available)"
          },
          "metadata": {}
        },
        {
          "output_type": "error",
          "ename": "JSONDecodeError",
          "evalue": "Expecting value: line 1 column 1 (char 0)",
          "traceback": [
            "JSONDecodeError: Expecting value: line 1 column 1 (char 0)",
            "Traceback (most recent call last):\n",
            "  File \"/home/trusted-service-user/cluster-env/env/lib/python3.6/site-packages/yfinance/base.py\", line 155, in history\n    data = data.json()\n",
            "  File \"/home/trusted-service-user/cluster-env/env/lib/python3.6/site-packages/requests/models.py\", line 898, in json\n    return complexjson.loads(self.text, **kwargs)\n",
            "  File \"/home/trusted-service-user/cluster-env/env/lib/python3.6/json/__init__.py\", line 354, in loads\n    return _default_decoder.decode(s)\n",
            "  File \"/home/trusted-service-user/cluster-env/env/lib/python3.6/json/decoder.py\", line 339, in decode\n    obj, end = self.raw_decode(s, idx=_w(s, 0).end())\n",
            "  File \"/home/trusted-service-user/cluster-env/env/lib/python3.6/json/decoder.py\", line 357, in raw_decode\n    raise JSONDecodeError(\"Expecting value\", s, err.value) from None\n",
            "json.decoder.JSONDecodeError: Expecting value: line 1 column 1 (char 0)\n"
          ]
        }
      ],
      "metadata": {},
      "source": [
        "# Get the stock price for all tickers and write it to CSV file\n",
        "#yahoo_financials = YahooFinancials(tickerTop10)\n",
        "\n",
        "#data = yahoo_financials.get_historical_price_data(start_date='2019-01-01', \n",
        "#                                                  end_date='2019-01-31', \n",
        "#                                                  time_interval='daily')\n",
        "import datetime\n",
        "\n",
        "finalColNames = [\"Portfolio\", \"Sector\", \"Cik\", \"Date\", \"Ticker\", \"AdjClose\"]\n",
        "\n",
        "for index, ticker in portfolioData.iterrows():\n",
        "    finalDf = pd.DataFrame(columns = finalColNames)\n",
        "    #stockData = yf.download(ticker['Ticker'], start='1994-01-01', end='2020-03-31', time_interval='daily', progress=True)\n",
        "    #stockData = yf.download(ticker['Ticker'], start='2020-10-20', end='2020-10-21', time_interval='daily', progress=True)\n",
        "    stockData = yf.Ticker(ticker['Ticker']).history(period=\"1d\", interval=\"1d\").tail(1)\n",
        "    totalRows = len(stockData.index)\n",
        "    if (totalRows > 0):\n",
        "        for index, row in stockData.iterrows():\n",
        "            finalDf = finalDf.append({'Portfolio' : str(ticker['Portfolio']), 'Sector' : ticker['Sector'], 'Cik' : ticker['CIK'], 'Date' : index.date() , 'Ticker' : ticker['Ticker'], 'AdjClose' : row['Close'] } , ignore_index=True)\n",
        "            date = datetime.datetime.strptime(str(index.date()), \"%Y-%m-%d\")\n",
        "        output = finalDf.to_csv (index=False, header=True, encoding = \"utf-8\")\n",
        "        blobName = \"PortfolioQuotes/DailyData/\" + str(date.year) + \"/\" + str(date.strftime(\"%m\")) + \"/\" + str(date.strftime(\"%d\")) + \"/\" + ticker['Ticker'] + \".csv\"\n",
        "        blob = BlobClient.from_connection_string(conn_str=connectionString, container_name=containerName, blob_name=blobName)\n",
        "        blob.upload_blob(output)\n",
        "\n",
        ""
      ]
    },
    {
      "cell_type": "code",
      "execution_count": null,
      "outputs": [],
      "metadata": {},
      "source": [
        ""
      ]
    }
  ],
  "metadata": {
    "save_output": true,
    "kernelspec": {
      "name": "synapse_pyspark",
      "display_name": "Synapse PySpark"
    },
    "language_info": {
      "name": "python"
    },
    "synapse_widget": {
      "version": "0.1",
      "state": {
        "5e603b67-a03e-4990-95f6-5b641f51a01a": {
          "type": "Synapse.DataFrame",
          "sync_state": {
            "table": {
              "rows": [
                {
                  "Sector": "Retail",
                  "CreatedDate": "09262020",
                  "Portfolio": "Covid",
                  "CIK": "0001018724",
                  "Ticker": "AMZN"
                },
                {
                  "Sector": "Retail",
                  "CreatedDate": "09262020",
                  "Portfolio": "Covid",
                  "CIK": "0000104169",
                  "Ticker": "WMT"
                },
                {
                  "Sector": "Retail",
                  "CreatedDate": "09262020",
                  "Portfolio": "Covid",
                  "CIK": "0000909832",
                  "Ticker": "COST"
                },
                {
                  "Sector": "Retail",
                  "CreatedDate": "09262020",
                  "Portfolio": "Covid",
                  "CIK": "0000027419",
                  "Ticker": "TGT"
                },
                {
                  "Sector": "ConsumerGoods",
                  "CreatedDate": "09262020",
                  "Portfolio": "Covid",
                  "CIK": "0000055785",
                  "Ticker": "KMB"
                },
                {
                  "Sector": "ConsumerGoods",
                  "CreatedDate": "09262020",
                  "Portfolio": "Covid",
                  "CIK": "0000080424",
                  "Ticker": "PG"
                },
                {
                  "Sector": "Pantry",
                  "CreatedDate": "09262020",
                  "Portfolio": "Covid",
                  "CIK": "0000048465",
                  "Ticker": "HRL"
                },
                {
                  "Sector": "Pantry",
                  "CreatedDate": "09262020",
                  "Portfolio": "Covid",
                  "CIK": "0000040704",
                  "Ticker": "GIS"
                },
                {
                  "Sector": "Pantry",
                  "CreatedDate": "09262020",
                  "Portfolio": "Covid",
                  "CIK": "0001103982",
                  "Ticker": "MDLZ"
                },
                {
                  "Sector": "Pantry",
                  "CreatedDate": "09262020",
                  "Portfolio": "Covid",
                  "CIK": "0000063754",
                  "Ticker": "MKC"
                },
                {
                  "Sector": "StayHome",
                  "CreatedDate": "09262020",
                  "Portfolio": "Covid",
                  "CIK": "0001585521",
                  "Ticker": "ZM"
                },
                {
                  "Sector": "StayHome",
                  "CreatedDate": "09262020",
                  "Portfolio": "Covid",
                  "CIK": "0001713683",
                  "Ticker": "ZS"
                },
                {
                  "Sector": "StayHome",
                  "CreatedDate": "09262020",
                  "Portfolio": "Covid",
                  "CIK": "0001384905",
                  "Ticker": "RNG"
                },
                {
                  "Sector": "StayHome",
                  "CreatedDate": "09262020",
                  "Portfolio": "Covid",
                  "CIK": "0001286681",
                  "Ticker": "DPZ"
                },
                {
                  "Sector": "StayHome",
                  "CreatedDate": "09262020",
                  "Portfolio": "Covid",
                  "CIK": "0001065280",
                  "Ticker": "NFLX"
                },
                {
                  "Sector": "RealEstate",
                  "CreatedDate": "09262020",
                  "Portfolio": "LongTerm",
                  "CIK": "0001035443",
                  "Ticker": "ARE"
                },
                {
                  "Sector": "Energy",
                  "CreatedDate": "09262020",
                  "Portfolio": "LongTerm",
                  "CIK": "0001130310",
                  "Ticker": "CNP"
                },
                {
                  "Sector": "Healthcare",
                  "CreatedDate": "09262020",
                  "Portfolio": "LongTerm",
                  "CIK": "0000064803",
                  "Ticker": "CVS"
                },
                {
                  "Sector": "FSI",
                  "CreatedDate": "09262020",
                  "Portfolio": "LongTerm",
                  "CIK": "0000798354",
                  "Ticker": "FISV"
                },
                {
                  "Sector": "Agriculture",
                  "CreatedDate": "09262020",
                  "Portfolio": "LongTerm",
                  "CIK": "0000037785",
                  "Ticker": "FMC"
                },
                {
                  "Sector": "Defense",
                  "CreatedDate": "09262020",
                  "Portfolio": "LongTerm",
                  "CIK": "0000936468",
                  "Ticker": "LMT"
                },
                {
                  "Sector": "Technology",
                  "CreatedDate": "09262020",
                  "Portfolio": "LongTerm",
                  "CIK": "0001108524",
                  "Ticker": "CRM"
                },
                {
                  "Sector": "Technology",
                  "CreatedDate": "09262020",
                  "Portfolio": "LongTerm",
                  "CIK": "0000789019",
                  "Ticker": "MSFT"
                },
                {
                  "Sector": "Consumer",
                  "CreatedDate": "09262020",
                  "Portfolio": "LongTerm",
                  "CIK": "0001744489",
                  "Ticker": "DIS"
                }
              ],
              "schema": {
                "Portfolio": "string",
                "Sector": "string",
                "Ticker": "string",
                "CreatedDate": "string",
                "CIK": "string"
              }
            },
            "isSummary": false,
            "language": "scala"
          },
          "persist_state": {
            "view": {
              "type": "details",
              "tableOptions": {},
              "chartOptions": {
                "chartType": "bar",
                "aggregationType": "count",
                "categoryFieldKeys": [
                  "Portfolio"
                ],
                "seriesFieldKeys": [
                  "Portfolio"
                ],
                "isStacked": false
              }
            }
          }
        }
      }
    }
  }
}