{
 "cells": [
  {
   "cell_type": "code",
   "execution_count": 0,
   "metadata": {
    "application/vnd.databricks.v1+cell": {
     "cellMetadata": {
      "byteLimit": 2048000,
      "rowLimit": 10000
     },
     "inputWidgets": {},
     "nuid": "f2ffc456-e464-47ff-ab12-2478d055bbb9",
     "showTitle": false,
     "tableResultSettingsMap": {},
     "title": ""
    },
    "jupyter": {
     "outputs_hidden": true
    }
   },
   "outputs": [
    {
     "output_type": "stream",
     "name": "stdout",
     "output_type": "stream",
     "text": [
      "Collecting mlflow==2.10.1\n  Obtaining dependency information for mlflow==2.10.1 from https://files.pythonhosted.org/packages/e5/10/27177dedbe4ea5ffd81bd90a0149d069f6ba431767f490702198c5021cd5/mlflow-2.10.1-py3-none-any.whl.metadata\n  Using cached mlflow-2.10.1-py3-none-any.whl.metadata (13 kB)\nRequirement already satisfied: langchain in /databricks/python3/lib/python3.11/site-packages (0.1.20)\nCollecting databricks-vectorsearch==0.22\n  Obtaining dependency information for databricks-vectorsearch==0.22 from https://files.pythonhosted.org/packages/81/37/3106dc8dedbab9b7560f65088aa7f2894ffa75b5f1928bc472bf42f3b936/databricks_vectorsearch-0.22-py3-none-any.whl.metadata\n  Using cached databricks_vectorsearch-0.22-py3-none-any.whl.metadata (401 bytes)\nCollecting databricks-sdk==0.18.0\n  Obtaining dependency information for databricks-sdk==0.18.0 from https://files.pythonhosted.org/packages/16/2c/c7920b3806d0c651934a24510f6305958c85df04bacfa65ada3a6cb22e53/databricks_sdk-0.18.0-py3-none-any.whl.metadata\n  Using cached databricks_sdk-0.18.0-py3-none-any.whl.metadata (34 kB)\nCollecting mlflow[databricks]\n  Obtaining dependency information for mlflow[databricks] from https://files.pythonhosted.org/packages/df/4e/f558c87edb2f31d3c6d31dcab57eb50fbf842f21a1520826a20e5b67ed26/mlflow-3.1.4-py3-none-any.whl.metadata\n  Using cached mlflow-3.1.4-py3-none-any.whl.metadata (29 kB)\nRequirement already satisfied: click<9,>=7.0 in /databricks/python3/lib/python3.11/site-packages (from mlflow==2.10.1) (8.0.4)\nRequirement already satisfied: cloudpickle<4 in /databricks/python3/lib/python3.11/site-packages (from mlflow==2.10.1) (2.2.1)\nCollecting databricks-cli<1,>=0.8.7 (from mlflow==2.10.1)\n  Obtaining dependency information for databricks-cli<1,>=0.8.7 from https://files.pythonhosted.org/packages/ae/a3/d56f8382c40899301f327d1c881278b09c9b8bc301c2c111633a0346d06e/databricks_cli-0.18.0-py2.py3-none-any.whl.metadata\n  Using cached databricks_cli-0.18.0-py2.py3-none-any.whl.metadata (4.0 kB)\nRequirement already satisfied: entrypoints<1 in /databricks/python3/lib/python3.11/site-packages (from mlflow==2.10.1) (0.4)\nRequirement already satisfied: gitpython<4,>=2.1.0 in /databricks/python3/lib/python3.11/site-packages (from mlflow==2.10.1) (3.1.27)\nRequirement already satisfied: pyyaml<7,>=5.1 in /databricks/python3/lib/python3.11/site-packages (from mlflow==2.10.1) (6.0)\nRequirement already satisfied: protobuf<5,>=3.12.0 in /databricks/python3/lib/python3.11/site-packages (from mlflow==2.10.1) (4.24.1)\nRequirement already satisfied: pytz<2024 in /databricks/python3/lib/python3.11/site-packages (from mlflow==2.10.1) (2022.7)\nRequirement already satisfied: requests<3,>=2.17.3 in /databricks/python3/lib/python3.11/site-packages (from mlflow==2.10.1) (2.31.0)\nRequirement already satisfied: packaging<24 in /databricks/python3/lib/python3.11/site-packages (from mlflow==2.10.1) (23.2)\nRequirement already satisfied: importlib-metadata!=4.7.0,<8,>=3.7.0 in /databricks/python3/lib/python3.11/site-packages (from mlflow==2.10.1) (6.0.0)\nRequirement already satisfied: sqlparse<1,>=0.4.0 in /databricks/python3/lib/python3.11/site-packages (from mlflow==2.10.1) (0.4.2)\nCollecting alembic!=1.10.0,<2 (from mlflow==2.10.1)\n  Obtaining dependency information for alembic!=1.10.0,<2 from https://files.pythonhosted.org/packages/c2/62/96b5217b742805236614f05904541000f55422a6060a90d7fd4ce26c172d/alembic-1.16.4-py3-none-any.whl.metadata\n  Using cached alembic-1.16.4-py3-none-any.whl.metadata (7.3 kB)\nCollecting docker<8,>=4.0.0 (from mlflow==2.10.1)\n  Obtaining dependency information for docker<8,>=4.0.0 from https://files.pythonhosted.org/packages/e3/26/57c6fb270950d476074c087527a558ccb6f4436657314bfb6cdf484114c4/docker-7.1.0-py3-none-any.whl.metadata\n  Using cached docker-7.1.0-py3-none-any.whl.metadata (3.8 kB)\nRequirement already satisfied: Flask<4 in /databricks/python3/lib/python3.11/site-packages (from mlflow==2.10.1) (2.2.5)\nRequirement already satisfied: numpy<2 in /databricks/python3/lib/python3.11/site-packages (from mlflow==2.10.1) (1.23.5)\nRequirement already satisfied: scipy<2 in /databricks/python3/lib/python3.11/site-packages (from mlflow==2.10.1) (1.11.1)\nRequirement already satisfied: pandas<3 in /databricks/python3/lib/python3.11/site-packages (from mlflow==2.10.1) (1.5.3)\nCollecting querystring-parser<2 (from mlflow==2.10.1)\n  Obtaining dependency information for querystring-parser<2 from https://files.pythonhosted.org/packages/88/6b/572b2590fd55114118bf08bde63c0a421dcc82d593700f3e2ad89908a8a9/querystring_parser-1.2.4-py2.py3-none-any.whl.metadata\n  Using cached querystring_parser-1.2.4-py2.py3-none-any.whl.metadata (559 bytes)\nRequirement already satisfied: sqlalchemy<3,>=1.4.0 in /databricks/python3/lib/python3.11/site-packages (from mlflow==2.10.1) (1.4.39)\nRequirement already satisfied: scikit-learn<2 in /databricks/python3/lib/python3.11/site-packages (from mlflow==2.10.1) (1.3.0)\nRequirement already satisfied: pyarrow<16,>=4.0.0 in /databricks/python3/lib/python3.11/site-packages (from mlflow==2.10.1) (14.0.1)\nRequirement already satisfied: markdown<4,>=3.3 in /databricks/python3/lib/python3.11/site-packages (from mlflow==2.10.1) (3.4.1)\nRequirement already satisfied: matplotlib<4 in /databricks/python3/lib/python3.11/site-packages (from mlflow==2.10.1) (3.7.2)\nRequirement already satisfied: gunicorn<22 in /databricks/python3/lib/python3.11/site-packages (from mlflow==2.10.1) (20.1.0)\nRequirement already satisfied: Jinja2<4,>=2.11 in /databricks/python3/lib/python3.11/site-packages (from mlflow==2.10.1) (3.1.2)\nRequirement already satisfied: mlflow-skinny<3,>=2.4.0 in /databricks/python3/lib/python3.11/site-packages (from databricks-vectorsearch==0.22) (2.19.0)\nRequirement already satisfied: google-auth~=2.0 in /databricks/python3/lib/python3.11/site-packages (from databricks-sdk==0.18.0) (2.21.0)\nRequirement already satisfied: aiohttp<4.0.0,>=3.8.3 in /databricks/python3/lib/python3.11/site-packages (from langchain) (3.8.5)\nRequirement already satisfied: dataclasses-json<0.7,>=0.5.7 in /databricks/python3/lib/python3.11/site-packages (from langchain) (0.6.7)\nRequirement already satisfied: langchain-community<0.1,>=0.0.38 in /databricks/python3/lib/python3.11/site-packages (from langchain) (0.0.38)\nRequirement already satisfied: langchain-core<0.2.0,>=0.1.52 in /databricks/python3/lib/python3.11/site-packages (from langchain) (0.1.52)\nRequirement already satisfied: langchain-text-splitters<0.1,>=0.0.1 in /databricks/python3/lib/python3.11/site-packages (from langchain) (0.0.2)\nRequirement already satisfied: langsmith<0.2.0,>=0.1.17 in /databricks/python3/lib/python3.11/site-packages (from langchain) (0.1.63)\nRequirement already satisfied: pydantic<3,>=1 in /databricks/python3/lib/python3.11/site-packages (from langchain) (1.10.6)\nRequirement already satisfied: tenacity<9.0.0,>=8.1.0 in /databricks/python3/lib/python3.11/site-packages (from langchain) (8.2.2)\nINFO: pip is looking at multiple versions of mlflow[databricks] to determine which version is compatible with other requirements. This could take a while.\nCollecting mlflow[databricks]\n  Obtaining dependency information for mlflow[databricks] from https://files.pythonhosted.org/packages/53/4d/b0c24eb35109f7ea7695a665beb661b5b5076c279b97b04fa587d5a6d319/mlflow-3.1.3-py3-none-any.whl.metadata\n  Using cached mlflow-3.1.3-py3-none-any.whl.metadata (29 kB)\n  Obtaining dependency information for mlflow[databricks] from https://files.pythonhosted.org/packages/a2/07/9f28e7e2b1c9552e64e6161cd3943b02349f8164176cea6b75e69d7df94a/mlflow-3.1.1-py3-none-any.whl.metadata\n  Using cached mlflow-3.1.1-py3-none-any.whl.metadata (29 kB)\n  Obtaining dependency information for mlflow[databricks] from https://files.pythonhosted.org/packages/2d/8f/108be720d392b0785156a3911ea24843f890178a647b5a7f1fe569fa1e26/mlflow-3.1.0-py3-none-any.whl.metadata\n  Using cached mlflow-3.1.0-py3-none-any.whl.metadata (29 kB)\n  Obtaining dependency information for mlflow[databricks] from https://files.pythonhosted.org/packages/38/78/c577eeb8dd3d3932de05ffe67cbf6ff4b52182ee44852cdfba9a5e2f14a4/mlflow-3.0.1-py3-none-any.whl.metadata\n  Using cached mlflow-3.0.1-py3-none-any.whl.metadata (29 kB)\n  Obtaining dependency information for mlflow[databricks] from https://files.pythonhosted.org/packages/8f/eb/0d3fbdaac2877811cbdca3eb101af5e9b74bf468f34bc6b1986310085f86/mlflow-3.0.0-py3-none-any.whl.metadata\n  Using cached mlflow-3.0.0-py3-none-any.whl.metadata (29 kB)\n  Obtaining dependency information for mlflow[databricks] from https://files.pythonhosted.org/packages/8d/a2/f6c729f071437712bc1c0e181ab07260395fb4e6ffcbc66d1c814e625713/mlflow-2.22.1-py3-none-any.whl.metadata\n  Using cached mlflow-2.22.1-py3-none-any.whl.metadata (30 kB)\n  Obtaining dependency information for mlflow[databricks] from https://files.pythonhosted.org/packages/28/8f/b3bdbaf3f060801e5d8b7b7f3b67c79e3d12939c67002f9a618150317a29/mlflow-2.22.0-py3-none-any.whl.metadata\n  Using cached mlflow-2.22.0-py3-none-any.whl.metadata (30 kB)\nINFO: pip is still looking at multiple versions of mlflow[databricks] to determine which version is compatible with other requirements. This could take a while.\n  Obtaining dependency information for mlflow[databricks] from https://files.pythonhosted.org/packages/72/f1/be329ef23da1933135afc5e493cbe1b7ecf5302890f2a7ac2124b64c01bd/mlflow-2.21.3-py3-none-any.whl.metadata\n  Using cached mlflow-2.21.3-py3-none-any.whl.metadata (30 kB)\n  Obtaining dependency information for mlflow[databricks] from https://files.pythonhosted.org/packages/72/9c/08620b82d822eca5ed6054e8cc6d0fa4c46b2e883db9f7ddd3ac470339fb/mlflow-2.21.2-py3-none-any.whl.metadata\n  Using cached mlflow-2.21.2-py3-none-any.whl.metadata (30 kB)\n  Obtaining dependency information for mlflow[databricks] from https://files.pythonhosted.org/packages/79/14/a7e3f043ee54d14826d2b551fff4ee5b5cf91d04904604bc478913e63e50/mlflow-2.21.1-py3-none-any.whl.metadata\n  Using cached mlflow-2.21.1-py3-none-any.whl.metadata (30 kB)\n  Obtaining dependency information for mlflow[databricks] from https://files.pythonhosted.org/packages/e4/b2/f7ea0714d3ffaaa4f997111ad9638f6719b1c3d6168b9f936290e4de3118/mlflow-2.21.0-py3-none-any.whl.metadata\n  Using cached mlflow-2.21.0-py3-none-any.whl.metadata (30 kB)\n  Obtaining dependency information for mlflow[databricks] from https://files.pythonhosted.org/packages/18/61/a5f444df2bb3247cd536b4287e9b7894e82f6b6d2a027e4ad60a3fa9a7c2/mlflow-2.20.4-py3-none-any.whl.metadata\n  Using cached mlflow-2.20.4-py3-none-any.whl.metadata (30 kB)\nINFO: This is taking longer than usual. You might need to provide the dependency resolver with stricter constraints to reduce runtime. See https://pip.pypa.io/warnings/backtracking for guidance. If you want to abort this run, press Ctrl + C.\n  Obtaining dependency information for mlflow[databricks] from https://files.pythonhosted.org/packages/b8/f3/89dc9daf896ec5caea037dfc8cd24bcef69995aed2d30164afd69af5ec8d/mlflow-2.20.3-py3-none-any.whl.metadata\n  Using cached mlflow-2.20.3-py3-none-any.whl.metadata (30 kB)\n  Obtaining dependency information for mlflow[databricks] from https://files.pythonhosted.org/packages/99/8b/b294608b0ac8d4a049fb4438bce4507229b763c389b65c063d03eec54f55/mlflow-2.20.2-py3-none-any.whl.metadata\n  Using cached mlflow-2.20.2-py3-none-any.whl.metadata (30 kB)\n  Obtaining dependency information for mlflow[databricks] from https://files.pythonhosted.org/packages/e7/b7/f8d41dafefb11a58ee88082ebfe0bc8dab17f293609f8b546d86168ec934/mlflow-2.20.1-py3-none-any.whl.metadata\n  Using cached mlflow-2.20.1-py3-none-any.whl.metadata (30 kB)\n  Obtaining dependency information for mlflow[databricks] from https://files.pythonhosted.org/packages/4a/90/6a3fdb305729f67dcd7a5f29f509852f67191a21e1c7eebe8e29a97a878f/mlflow-2.20.0-py3-none-any.whl.metadata\n  Using cached mlflow-2.20.0-py3-none-any.whl.metadata (30 kB)\n  Obtaining dependency information for mlflow[databricks] from https://files.pythonhosted.org/packages/c2/39/e051e58f35077500fea62adb67c0ff32cab768a5bbc1e0d8c682e30d56ee/mlflow-2.19.0-py3-none-any.whl.metadata\n  Using cached mlflow-2.19.0-py3-none-any.whl.metadata (30 kB)\n  Obtaining dependency information for mlflow[databricks] from https://files.pythonhosted.org/packages/f2/17/d24ec693ef27ce33f68414872f1f79ad3da62922edc6c6239a6de5336e5a/mlflow-2.18.0-py3-none-any.whl.metadata\n  Using cached mlflow-2.18.0-py3-none-any.whl.metadata (29 kB)\n  Obtaining dependency information for mlflow[databricks] from https://files.pythonhosted.org/packages/ea/58/70867ecef084eed5dc89a016824238eb096947c840dc484828e93a510530/mlflow-2.17.2-py3-none-any.whl.metadata\n  Using cached mlflow-2.17.2-py3-none-any.whl.metadata (29 kB)\n  Obtaining dependency information for mlflow[databricks] from https://files.pythonhosted.org/packages/56/22/f59c721bb35c5df26c5c8af87cc6e2b325a3a5ad057960aa2a1b13f55f14/mlflow-2.17.1-py3-none-any.whl.metadata\n  Using cached mlflow-2.17.1-py3-none-any.whl.metadata (29 kB)\n  Obtaining dependency information for mlflow[databricks] from https://files.pythonhosted.org/packages/bd/af/fdf92ad9f654f2210f225a56b4d45698f6f171d69c1195461b9fa18c5543/mlflow-2.17.0-py3-none-any.whl.metadata\n  Using cached mlflow-2.17.0-py3-none-any.whl.metadata (29 kB)\n  Obtaining dependency information for mlflow[databricks] from https://files.pythonhosted.org/packages/e5/0f/a1fbf8aa0040244a51464ca97fd554e1a8728727caf7e312f4b9b2f8b1fa/mlflow-2.16.2-py3-none-any.whl.metadata\n  Using cached mlflow-2.16.2-py3-none-any.whl.metadata (29 kB)\n  Obtaining dependency information for mlflow[databricks] from https://files.pythonhosted.org/packages/d8/60/3ef89db438347b2daa02b7f4957fee6c0d7e3a75a0fa3cf54c2a32eade71/mlflow-2.16.1-py3-none-any.whl.metadata\n  Using cached mlflow-2.16.1-py3-none-any.whl.metadata (29 kB)\n  Obtaining dependency information for mlflow[databricks] from https://files.pythonhosted.org/packages/ce/2b/fd258716f219b22890bcbfe829bc6a2ecac56acf5e473bf236d27ee54c8a/mlflow-2.16.0-py3-none-any.whl.metadata\n  Using cached mlflow-2.16.0-py3-none-any.whl.metadata (29 kB)\n  Obtaining dependency information for mlflow[databricks] from https://files.pythonhosted.org/packages/19/7a/7d5594ddcaaff7a92caed1d7822cfe52ed01fe06c94b4ad88bcfef579c32/mlflow-2.15.1-py3-none-any.whl.metadata\n  Using cached mlflow-2.15.1-py3-none-any.whl.metadata (29 kB)\n  Obtaining dependency information for mlflow[databricks] from https://files.pythonhosted.org/packages/76/d9/6ec0b635fcd0eb46d5a671bb5f350defb656a3b925bd780786f9fac0da12/mlflow-2.15.0-py3-none-any.whl.metadata\n  Using cached mlflow-2.15.0-py3-none-any.whl.metadata (29 kB)\n  Obtaining dependency information for mlflow[databricks] from https://files.pythonhosted.org/packages/97/a7/76efb3bf8d326cf3e3a700297fe6e10efa125b0b66ada6f79da8b03daabf/mlflow-2.14.3-py3-none-any.whl.metadata\n  Using cached mlflow-2.14.3-py3-none-any.whl.metadata (29 kB)\n  Obtaining dependency information for mlflow[databricks] from https://files.pythonhosted.org/packages/39/45/179a9b23644b72fa68857660d771e540055914f2c15199795b216e9c24d1/mlflow-2.14.2-py3-none-any.whl.metadata\n  Using cached mlflow-2.14.2-py3-none-any.whl.metadata (29 kB)\n  Obtaining dependency information for mlflow[databricks] from https://files.pythonhosted.org/packages/4f/9a/cfad2206b8745a65284d24dd8b397836c7641db1bf226c3fb111c17a17fa/mlflow-2.14.1-py3-none-any.whl.metadata\n  Using cached mlflow-2.14.1-py3-none-any.whl.metadata (29 kB)\n  Obtaining dependency information for mlflow[databricks] from https://files.pythonhosted.org/packages/b1/76/0a5a5d7f0026d696b23befa59bed9d8ed29f3cd61a6a670bedb73923a78f/mlflow-2.14.0-py3-none-any.whl.metadata\n  Using cached mlflow-2.14.0-py3-none-any.whl.metadata (29 kB)\n  Obtaining dependency information for mlflow[databricks] from https://files.pythonhosted.org/packages/5c/84/1afd80b82bbb47ff5eb25e26d68f77b972480e26a290ef3c4f3aa066bbed/mlflow-2.13.2-py3-none-any.whl.metadata\n  Using cached mlflow-2.13.2-py3-none-any.whl.metadata (29 kB)\n  Obtaining dependency information for mlflow[databricks] from https://files.pythonhosted.org/packages/1c/f8/4f07bf047578fab69ea60be3baa362f2623871e863bd1c73f9b8b1a24c8c/mlflow-2.13.1-py3-none-any.whl.metadata\n  Using cached mlflow-2.13.1-py3-none-any.whl.metadata (29 kB)\n  Obtaining dependency information for mlflow[databricks] from https://files.pythonhosted.org/packages/4d/d0/dee95ec859f16db2bf6761c66d1a28914f64d1d1a2d7cc249dffc77f39ab/mlflow-2.13.0-py3-none-any.whl.metadata\n  Using cached mlflow-2.13.0-py3-none-any.whl.metadata (29 kB)\n  Obtaining dependency information for mlflow[databricks] from https://files.pythonhosted.org/packages/9b/d6/8d025b82f1b3b6b2e8d9dfa04f9a57834ba3ec5d2d0d3e47c125e877a67a/mlflow-2.12.2-py3-none-any.whl.metadata\n  Using cached mlflow-2.12.2-py3-none-any.whl.metadata (29 kB)\n  Obtaining dependency information for mlflow[databricks] from https://files.pythonhosted.org/packages/54/93/0cd6533717c9e0b590d97887c0f9b0cea6185546e993e25098c09c13fa23/mlflow-2.12.1-py3-none-any.whl.metadata\n  Using cached mlflow-2.12.1-py3-none-any.whl.metadata (29 kB)\n  Obtaining dependency information for mlflow[databricks] from https://files.pythonhosted.org/packages/9c/62/45a1ae4036b35bc7f975fa76ea021e28157cf4594985ad7f96342452d847/mlflow-2.11.4-py3-none-any.whl.metadata\n  Using cached mlflow-2.11.4-py3-none-any.whl.metadata (15 kB)\n  Obtaining dependency information for mlflow[databricks] from https://files.pythonhosted.org/packages/be/89/cf804940358c535987dae24bc3c259f2bca7d2601a568e9451757107fbbf/mlflow-2.11.3-py3-none-any.whl.metadata\n  Using cached mlflow-2.11.3-py3-none-any.whl.metadata (15 kB)\n  Obtaining dependency information for mlflow[databricks] from https://files.pythonhosted.org/packages/45/06/bed9724c186cfa20af308c35811df61b59993cd2652a9f8dde6fe163f9fe/mlflow-2.11.2-py3-none-any.whl.metadata\n  Using cached mlflow-2.11.2-py3-none-any.whl.metadata (15 kB)\n  Obtaining dependency information for mlflow[databricks] from https://files.pythonhosted.org/packages/d7/70/167ba0b7bf8912571af0f22711122ed5eb0c71c250e0d9e8c045b60b4a62/mlflow-2.11.1-py3-none-any.whl.metadata\n  Using cached mlflow-2.11.1-py3-none-any.whl.metadata (15 kB)\n  Obtaining dependency information for mlflow[databricks] from https://files.pythonhosted.org/packages/da/fc/1ef59c3b06c8c033bb62c2aefc66a8f69b0582f254eb99bb3b78e65dcf1d/mlflow-2.11.0-py3-none-any.whl.metadata\n  Using cached mlflow-2.11.0-py3-none-any.whl.metadata (15 kB)\n  Obtaining dependency information for mlflow[databricks] from https://files.pythonhosted.org/packages/ce/d4/756d5cd1304fbbaac8624ce93cedba804237586d69c17ac1cdaf6daefd52/mlflow-2.10.2-py3-none-any.whl.metadata\n  Using cached mlflow-2.10.2-py3-none-any.whl.metadata (13 kB)\nRequirement already satisfied: azure-storage-file-datalake>12 in /databricks/python3/lib/python3.11/site-packages (from mlflow==2.10.1) (12.14.0)\nRequirement already satisfied: google-cloud-storage>=1.30.0 in /databricks/python3/lib/python3.11/site-packages (from mlflow==2.10.1) (2.10.0)\nRequirement already satisfied: boto3>1 in /databricks/python3/lib/python3.11/site-packages (from mlflow==2.10.1) (1.34.39)\nRequirement already satisfied: botocore>1.34 in /databricks/python3/lib/python3.11/site-packages (from mlflow==2.10.1) (1.34.39)\nRequirement already satisfied: attrs>=17.3.0 in /databricks/python3/lib/python3.11/site-packages (from aiohttp<4.0.0,>=3.8.3->langchain) (22.1.0)\nRequirement already satisfied: charset-normalizer<4.0,>=2.0 in /databricks/python3/lib/python3.11/site-packages (from aiohttp<4.0.0,>=3.8.3->langchain) (2.0.4)\nRequirement already satisfied: multidict<7.0,>=4.5 in /databricks/python3/lib/python3.11/site-packages (from aiohttp<4.0.0,>=3.8.3->langchain) (6.0.2)\nRequirement already satisfied: async-timeout<5.0,>=4.0.0a3 in /databricks/python3/lib/python3.11/site-packages (from aiohttp<4.0.0,>=3.8.3->langchain) (4.0.2)\nRequirement already satisfied: yarl<2.0,>=1.0 in /databricks/python3/lib/python3.11/site-packages (from aiohttp<4.0.0,>=3.8.3->langchain) (1.8.1)\nRequirement already satisfied: frozenlist>=1.1.1 in /databricks/python3/lib/python3.11/site-packages (from aiohttp<4.0.0,>=3.8.3->langchain) (1.3.3)\nRequirement already satisfied: aiosignal>=1.1.2 in /databricks/python3/lib/python3.11/site-packages (from aiohttp<4.0.0,>=3.8.3->langchain) (1.2.0)\nRequirement already satisfied: Mako in /databricks/python3/lib/python3.11/site-packages (from alembic!=1.10.0,<2->mlflow==2.10.1) (1.2.0)\nCollecting typing-extensions>=4.12 (from alembic!=1.10.0,<2->mlflow==2.10.1)\n  Obtaining dependency information for typing-extensions>=4.12 from https://files.pythonhosted.org/packages/b5/00/d631e67a838026495268c2f6884f3711a15a9a2a96cd244fdaea53b823fb/typing_extensions-4.14.1-py3-none-any.whl.metadata\n  Using cached typing_extensions-4.14.1-py3-none-any.whl.metadata (3.0 kB)\nRequirement already satisfied: azure-core<2.0.0,>=1.28.0 in /databricks/python3/lib/python3.11/site-packages (from azure-storage-file-datalake>12->mlflow==2.10.1) (1.30.2)\nRequirement already satisfied: azure-storage-blob<13.0.0,>=12.19.0 in /databricks/python3/lib/python3.11/site-packages (from azure-storage-file-datalake>12->mlflow==2.10.1) (12.19.1)\nRequirement already satisfied: isodate>=0.6.1 in /databricks/python3/lib/python3.11/site-packages (from azure-storage-file-datalake>12->mlflow==2.10.1) (0.6.1)\nRequirement already satisfied: jmespath<2.0.0,>=0.7.1 in /databricks/python3/lib/python3.11/site-packages (from boto3>1->mlflow==2.10.1) (0.10.0)\nRequirement already satisfied: s3transfer<0.11.0,>=0.10.0 in /databricks/python3/lib/python3.11/site-packages (from boto3>1->mlflow==2.10.1) (0.10.2)\nRequirement already satisfied: python-dateutil<3.0.0,>=2.1 in /databricks/python3/lib/python3.11/site-packages (from botocore>1.34->mlflow==2.10.1) (2.8.2)\nRequirement already satisfied: urllib3<2.1,>=1.25.4 in /databricks/python3/lib/python3.11/site-packages (from botocore>1.34->mlflow==2.10.1) (1.26.16)\nRequirement already satisfied: pyjwt>=1.7.0 in /usr/lib/python3/dist-packages (from databricks-cli<1,>=0.8.7->mlflow==2.10.1) (2.3.0)\nRequirement already satisfied: oauthlib>=3.1.0 in /usr/lib/python3/dist-packages (from databricks-cli<1,>=0.8.7->mlflow==2.10.1) (3.2.0)\nCollecting tabulate>=0.7.7 (from databricks-cli<1,>=0.8.7->mlflow==2.10.1)\n  Obtaining dependency information for tabulate>=0.7.7 from https://files.pythonhosted.org/packages/40/44/4a5f08c96eb108af5cb50b41f76142f0afa346dfa99d5296fe7202a11854/tabulate-0.9.0-py3-none-any.whl.metadata\n  Using cached tabulate-0.9.0-py3-none-any.whl.metadata (34 kB)\nRequirement already satisfied: six>=1.10.0 in /usr/lib/python3/dist-packages (from databricks-cli<1,>=0.8.7->mlflow==2.10.1) (1.16.0)\nRequirement already satisfied: marshmallow<4.0.0,>=3.18.0 in /databricks/python3/lib/python3.11/site-packages (from dataclasses-json<0.7,>=0.5.7->langchain) (3.21.2)\nRequirement already satisfied: typing-inspect<1,>=0.4.0 in /databricks/python3/lib/python3.11/site-packages (from dataclasses-json<0.7,>=0.5.7->langchain) (0.9.0)\nRequirement already satisfied: Werkzeug>=2.2.2 in /databricks/python3/lib/python3.11/site-packages (from Flask<4->mlflow==2.10.1) (2.2.3)\nRequirement already satisfied: itsdangerous>=2.0 in /databricks/python3/lib/python3.11/site-packages (from Flask<4->mlflow==2.10.1) (2.0.1)\nRequirement already satisfied: gitdb<5,>=4.0.1 in /databricks/python3/lib/python3.11/site-packages (from gitpython<4,>=2.1.0->mlflow==2.10.1) (4.0.11)\nRequirement already satisfied: cachetools<6.0,>=2.0.0 in /databricks/python3/lib/python3.11/site-packages (from google-auth~=2.0->databricks-sdk==0.18.0) (5.4.0)\nRequirement already satisfied: pyasn1-modules>=0.2.1 in /databricks/python3/lib/python3.11/site-packages (from google-auth~=2.0->databricks-sdk==0.18.0) (0.2.8)\nRequirement already satisfied: rsa<5,>=3.1.4 in /databricks/python3/lib/python3.11/site-packages (from google-auth~=2.0->databricks-sdk==0.18.0) (4.9)\nRequirement already satisfied: google-api-core!=2.0.*,!=2.1.*,!=2.2.*,!=2.3.0,<3.0.0dev,>=1.31.5 in /databricks/python3/lib/python3.11/site-packages (from google-cloud-storage>=1.30.0->mlflow==2.10.1) (2.18.0)\nRequirement already satisfied: google-cloud-core<3.0dev,>=2.3.0 in /databricks/python3/lib/python3.11/site-packages (from google-cloud-storage>=1.30.0->mlflow==2.10.1) (2.4.1)\nRequirement already satisfied: google-resumable-media>=2.3.2 in /databricks/python3/lib/python3.11/site-packages (from google-cloud-storage>=1.30.0->mlflow==2.10.1) (2.7.1)\nRequirement already satisfied: setuptools>=3.0 in /databricks/python3/lib/python3.11/site-packages (from gunicorn<22->mlflow==2.10.1) (68.0.0)\nRequirement already satisfied: zipp>=0.5 in /databricks/python3/lib/python3.11/site-packages (from importlib-metadata!=4.7.0,<8,>=3.7.0->mlflow==2.10.1) (3.11.0)\nRequirement already satisfied: MarkupSafe>=2.0 in /databricks/python3/lib/python3.11/site-packages (from Jinja2<4,>=2.11->mlflow==2.10.1) (2.1.1)\nRequirement already satisfied: jsonpatch<2.0,>=1.33 in /databricks/python3/lib/python3.11/site-packages (from langchain-core<0.2.0,>=0.1.52->langchain) (1.33)\nRequirement already satisfied: orjson<4.0.0,>=3.9.14 in /databricks/python3/lib/python3.11/site-packages (from langsmith<0.2.0,>=0.1.17->langchain) (3.10.6)\nRequirement already satisfied: contourpy>=1.0.1 in /databricks/python3/lib/python3.11/site-packages (from matplotlib<4->mlflow==2.10.1) (1.0.5)\nRequirement already satisfied: cycler>=0.10 in /databricks/python3/lib/python3.11/site-packages (from matplotlib<4->mlflow==2.10.1) (0.11.0)\nRequirement already satisfied: fonttools>=4.22.0 in /databricks/python3/lib/python3.11/site-packages (from matplotlib<4->mlflow==2.10.1) (4.25.0)\nRequirement already satisfied: kiwisolver>=1.0.1 in /databricks/python3/lib/python3.11/site-packages (from matplotlib<4->mlflow==2.10.1) (1.4.4)\nRequirement already satisfied: pillow>=6.2.0 in /databricks/python3/lib/python3.11/site-packages (from matplotlib<4->mlflow==2.10.1) (9.4.0)\nRequirement already satisfied: pyparsing<3.1,>=2.3.1 in /databricks/python3/lib/python3.11/site-packages (from matplotlib<4->mlflow==2.10.1) (3.0.9)\nINFO: pip is looking at multiple versions of mlflow-skinny to determine which version is compatible with other requirements. This could take a while.\nCollecting mlflow-skinny<3,>=2.4.0 (from databricks-vectorsearch==0.22)\n  Obtaining dependency information for mlflow-skinny<3,>=2.4.0 from https://files.pythonhosted.org/packages/75/da/8f77cbbd6c5f38a295d1ad2bc58805bd789fabd24d6d482b2aa19e9eb9fd/mlflow_skinny-2.22.1-py3-none-any.whl.metadata\n  Using cached mlflow_skinny-2.22.1-py3-none-any.whl.metadata (31 kB)\n  Obtaining dependency information for mlflow-skinny<3,>=2.4.0 from https://files.pythonhosted.org/packages/f4/eb/53dd2a5db1040a21da2980c382ebe3a9bda2d8af8365c2d01053c924b150/mlflow_skinny-2.22.0-py3-none-any.whl.metadata\n  Using cached mlflow_skinny-2.22.0-py3-none-any.whl.metadata (31 kB)\n  Obtaining dependency information for mlflow-skinny<3,>=2.4.0 from https://files.pythonhosted.org/packages/2d/f8/b71f88ca373f248fd7fdf3751f74c7b36a71b7ee2b5f4b803ee053ac963a/mlflow_skinny-2.21.3-py3-none-any.whl.metadata\n  Using cached mlflow_skinny-2.21.3-py3-none-any.whl.metadata (31 kB)\n  Obtaining dependency information for mlflow-skinny<3,>=2.4.0 from https://files.pythonhosted.org/packages/e2/ec/adfbccfac31e0d85003d74e03694a30ba54b5e0e3c7783de64952e9c3b84/mlflow_skinny-2.21.2-py3-none-any.whl.metadata\n  Using cached mlflow_skinny-2.21.2-py3-none-any.whl.metadata (31 kB)\n  Obtaining dependency information for mlflow-skinny<3,>=2.4.0 from https://files.pythonhosted.org/packages/f4/5b/866da8a061105a382eafef79da6926314b3e324b9f6a6db244a1c0376253/mlflow_skinny-2.21.1-py3-none-any.whl.metadata\n  Using cached mlflow_skinny-2.21.1-py3-none-any.whl.metadata (31 kB)\n  Obtaining dependency information for mlflow-skinny<3,>=2.4.0 from https://files.pythonhosted.org/packages/a3/a9/4295421f222308da8b78c749756a835e292dcda94a01f4710c7ca457adf2/mlflow_skinny-2.21.0-py3-none-any.whl.metadata\n  Using cached mlflow_skinny-2.21.0-py3-none-any.whl.metadata (31 kB)\n  Obtaining dependency information for mlflow-skinny<3,>=2.4.0 from https://files.pythonhosted.org/packages/85/56/342f8c4393c84404ed7234d80f9dc274141aab465befa921ae957dac8c8d/mlflow_skinny-2.20.4-py3-none-any.whl.metadata\n  Using cached mlflow_skinny-2.20.4-py3-none-any.whl.metadata (31 kB)\nINFO: pip is still looking at multiple versions of mlflow-skinny to determine which version is compatible with other requirements. This could take a while.\n  Obtaining dependency information for mlflow-skinny<3,>=2.4.0 from https://files.pythonhosted.org/packages/39/f6/c55a49753098ae8469bb5c1b177298b65ac68f4a7334dd37b727cdcd72eb/mlflow_skinny-2.20.3-py3-none-any.whl.metadata\n  Using cached mlflow_skinny-2.20.3-py3-none-any.whl.metadata (31 kB)\n  Obtaining dependency information for mlflow-skinny<3,>=2.4.0 from https://files.pythonhosted.org/packages/7b/95/2c1f8a1f02fc581e0fd46725facae2ff647e947323867e579f1f8178c01c/mlflow_skinny-2.20.2-py3-none-any.whl.metadata\n  Using cached mlflow_skinny-2.20.2-py3-none-any.whl.metadata (31 kB)\n  Obtaining dependency information for mlflow-skinny<3,>=2.4.0 from https://files.pythonhosted.org/packages/b4/43/4e633b6141930c8dffb72ef597e9ad687b5cf5b443d6c924520850129721/mlflow_skinny-2.20.1-py3-none-any.whl.metadata\n  Using cached mlflow_skinny-2.20.1-py3-none-any.whl.metadata (31 kB)\n  Obtaining dependency information for mlflow-skinny<3,>=2.4.0 from https://files.pythonhosted.org/packages/28/e7/c00b1a7a594200f3bce448a18a0f26da9cd4939cbf08b19f93135d2204ab/mlflow_skinny-2.20.0-py3-none-any.whl.metadata\n  Using cached mlflow_skinny-2.20.0-py3-none-any.whl.metadata (31 kB)\n  Obtaining dependency information for mlflow-skinny<3,>=2.4.0 from https://files.pythonhosted.org/packages/2e/1b/20128a015405fdfda2dce38b975acf19cd532f4c8dc4231fd088fb8553dd/mlflow_skinny-2.18.0-py3-none-any.whl.metadata\n  Using cached mlflow_skinny-2.18.0-py3-none-any.whl.metadata (30 kB)\nINFO: This is taking longer than usual. You might need to provide the dependency resolver with stricter constraints to reduce runtime. See https://pip.pypa.io/warnings/backtracking for guidance. If you want to abort this run, press Ctrl + C.\n  Obtaining dependency information for mlflow-skinny<3,>=2.4.0 from https://files.pythonhosted.org/packages/51/66/47784192b65ba3b5a48b2a1b2d0f42d211db0bfb799183b64fdcdd5d24e1/mlflow_skinny-2.17.2-py3-none-any.whl.metadata\n  Using cached mlflow_skinny-2.17.2-py3-none-any.whl.metadata (30 kB)\n  Obtaining dependency information for mlflow-skinny<3,>=2.4.0 from https://files.pythonhosted.org/packages/73/7b/9a2088bf3b294c9195920a2dbbc3d4bcb6b6cbe0085e6ea5fb98ba529791/mlflow_skinny-2.17.1-py3-none-any.whl.metadata\n  Using cached mlflow_skinny-2.17.1-py3-none-any.whl.metadata (30 kB)\n  Obtaining dependency information for mlflow-skinny<3,>=2.4.0 from https://files.pythonhosted.org/packages/a3/35/2821869a7c78e50148e460406834c4d8aa863d361b7084a8e923f18be474/mlflow_skinny-2.17.0-py3-none-any.whl.metadata\n  Using cached mlflow_skinny-2.17.0-py3-none-any.whl.metadata (30 kB)\n  Obtaining dependency information for mlflow-skinny<3,>=2.4.0 from https://files.pythonhosted.org/packages/46/ba/2300ec30b6425507fface15601a6e20320ace45586d9a66339ac19644381/mlflow_skinny-2.16.2-py3-none-any.whl.metadata\n  Using cached mlflow_skinny-2.16.2-py3-none-any.whl.metadata (30 kB)\n  Obtaining dependency information for mlflow-skinny<3,>=2.4.0 from https://files.pythonhosted.org/packages/de/ac/e85f32b8003e8770a988eb8662a2b12efd7618261e6095df3109d07b5893/mlflow_skinny-2.16.1-py3-none-any.whl.metadata\n  Using cached mlflow_skinny-2.16.1-py3-none-any.whl.metadata (30 kB)\n  Obtaining dependency information for mlflow-skinny<3,>=2.4.0 from https://files.pythonhosted.org/packages/2b/13/95c8ead52e2ec19b8130868b39bd6d72fa26b4321a0bb47cdc0ff9be6d06/mlflow_skinny-2.16.0-py3-none-any.whl.metadata\n  Using cached mlflow_skinny-2.16.0-py3-none-any.whl.metadata (30 kB)\n  Obtaining dependency information for mlflow-skinny<3,>=2.4.0 from https://files.pythonhosted.org/packages/ec/a1/3812743e5dd83317d0469a46d737f0ab5c084fecfecc03a1ac8a7e7ec0d8/mlflow_skinny-2.15.1-py3-none-any.whl.metadata\n  Using cached mlflow_skinny-2.15.1-py3-none-any.whl.metadata (30 kB)\n  Obtaining dependency information for mlflow-skinny<3,>=2.4.0 from https://files.pythonhosted.org/packages/a2/0e/4dab2a4a1eba4f05de80cf7f21e5ac166dc4ee338aaf6878d1b3c570c0e4/mlflow_skinny-2.15.0-py3-none-any.whl.metadata\n  Using cached mlflow_skinny-2.15.0-py3-none-any.whl.metadata (30 kB)\n  Obtaining dependency information for mlflow-skinny<3,>=2.4.0 from https://files.pythonhosted.org/packages/c3/b0/28fd410336a536451fe2967c3ba383305621ad42c8dca27e1f86383ab7d7/mlflow_skinny-2.14.3-py3-none-any.whl.metadata\n  Using cached mlflow_skinny-2.14.3-py3-none-any.whl.metadata (30 kB)\nRequirement already satisfied: opentelemetry-api<3,>=1.9.0 in /databricks/python3/lib/python3.11/site-packages (from mlflow-skinny<3,>=2.4.0->databricks-vectorsearch==0.22) (1.25.0)\nRequirement already satisfied: opentelemetry-sdk<3,>=1.9.0 in /databricks/python3/lib/python3.11/site-packages (from mlflow-skinny<3,>=2.4.0->databricks-vectorsearch==0.22) (1.25.0)\nRequirement already satisfied: idna<4,>=2.5 in /databricks/python3/lib/python3.11/site-packages (from requests<3,>=2.17.3->mlflow==2.10.1) (3.4)\nRequirement already satisfied: certifi>=2017.4.17 in /databricks/python3/lib/python3.11/site-packages (from requests<3,>=2.17.3->mlflow==2.10.1) (2023.7.22)\nRequirement already satisfied: joblib>=1.1.1 in /databricks/python3/lib/python3.11/site-packages (from scikit-learn<2->mlflow==2.10.1) (1.2.0)\nRequirement already satisfied: threadpoolctl>=2.0.0 in /databricks/python3/lib/python3.11/site-packages (from scikit-learn<2->mlflow==2.10.1) (2.2.0)\nRequirement already satisfied: greenlet!=0.4.17 in /databricks/python3/lib/python3.11/site-packages (from sqlalchemy<3,>=1.4.0->mlflow==2.10.1) (2.0.1)\nRequirement already satisfied: cryptography>=2.1.4 in /databricks/python3/lib/python3.11/site-packages (from azure-storage-blob<13.0.0,>=12.19.0->azure-storage-file-datalake>12->mlflow==2.10.1) (41.0.3)\nRequirement already satisfied: smmap<6,>=3.0.1 in /databricks/python3/lib/python3.11/site-packages (from gitdb<5,>=4.0.1->gitpython<4,>=2.1.0->mlflow==2.10.1) (5.0.0)\nRequirement already satisfied: googleapis-common-protos<2.0.dev0,>=1.56.2 in /databricks/python3/lib/python3.11/site-packages (from google-api-core!=2.0.*,!=2.1.*,!=2.2.*,!=2.3.0,<3.0.0dev,>=1.31.5->google-cloud-storage>=1.30.0->mlflow==2.10.1) (1.63.0)\nRequirement already satisfied: proto-plus<2.0.0dev,>=1.22.3 in /databricks/python3/lib/python3.11/site-packages (from google-api-core!=2.0.*,!=2.1.*,!=2.2.*,!=2.3.0,<3.0.0dev,>=1.31.5->google-cloud-storage>=1.30.0->mlflow==2.10.1) (1.24.0)\nRequirement already satisfied: google-crc32c<2.0dev,>=1.0 in /databricks/python3/lib/python3.11/site-packages (from google-resumable-media>=2.3.2->google-cloud-storage>=1.30.0->mlflow==2.10.1) (1.5.0)\nRequirement already satisfied: jsonpointer>=1.9 in /databricks/python3/lib/python3.11/site-packages (from jsonpatch<2.0,>=1.33->langchain-core<0.2.0,>=0.1.52->langchain) (3.0.0)\nRequirement already satisfied: deprecated>=1.2.6 in /databricks/python3/lib/python3.11/site-packages (from opentelemetry-api<3,>=1.9.0->mlflow-skinny<3,>=2.4.0->databricks-vectorsearch==0.22) (1.2.14)\nRequirement already satisfied: opentelemetry-semantic-conventions==0.46b0 in /databricks/python3/lib/python3.11/site-packages (from opentelemetry-sdk<3,>=1.9.0->mlflow-skinny<3,>=2.4.0->databricks-vectorsearch==0.22) (0.46b0)\nRequirement already satisfied: pyasn1<0.5.0,>=0.4.6 in /databricks/python3/lib/python3.11/site-packages (from pyasn1-modules>=0.2.1->google-auth~=2.0->databricks-sdk==0.18.0) (0.4.8)\nRequirement already satisfied: mypy-extensions>=0.3.0 in /databricks/python3/lib/python3.11/site-packages (from typing-inspect<1,>=0.4.0->dataclasses-json<0.7,>=0.5.7->langchain) (0.4.3)\nRequirement already satisfied: cffi>=1.12 in /databricks/python3/lib/python3.11/site-packages (from cryptography>=2.1.4->azure-storage-blob<13.0.0,>=12.19.0->azure-storage-file-datalake>12->mlflow==2.10.1) (1.15.1)\nRequirement already satisfied: wrapt<2,>=1.10 in /databricks/python3/lib/python3.11/site-packages (from deprecated>=1.2.6->opentelemetry-api<3,>=1.9.0->mlflow-skinny<3,>=2.4.0->databricks-vectorsearch==0.22) (1.14.1)\nRequirement already satisfied: pycparser in /databricks/python3/lib/python3.11/site-packages (from cffi>=1.12->cryptography>=2.1.4->azure-storage-blob<13.0.0,>=12.19.0->azure-storage-file-datalake>12->mlflow==2.10.1) (2.21)\nUsing cached mlflow-2.10.1-py3-none-any.whl (19.5 MB)\nUsing cached databricks_vectorsearch-0.22-py3-none-any.whl (8.5 kB)\nUsing cached databricks_sdk-0.18.0-py3-none-any.whl (439 kB)\nUsing cached alembic-1.16.4-py3-none-any.whl (247 kB)\nUsing cached databricks_cli-0.18.0-py2.py3-none-any.whl (150 kB)\nUsing cached docker-7.1.0-py3-none-any.whl (147 kB)\nUsing cached mlflow_skinny-2.14.3-py3-none-any.whl (5.3 MB)\nUsing cached querystring_parser-1.2.4-py2.py3-none-any.whl (7.9 kB)\nUsing cached tabulate-0.9.0-py3-none-any.whl (35 kB)\nUsing cached typing_extensions-4.14.1-py3-none-any.whl (43 kB)\nInstalling collected packages: typing-extensions, tabulate, querystring-parser, docker, databricks-cli, alembic, mlflow, databricks-sdk, mlflow-skinny, databricks-vectorsearch\n  Attempting uninstall: typing-extensions\n    Found existing installation: typing_extensions 4.10.0\n    Not uninstalling typing-extensions at /databricks/python3/lib/python3.11/site-packages, outside environment /local_disk0/.ephemeral_nfs/envs/pythonEnv-200d17e3-bae9-4198-b5c2-07f31a82489d\n    Can't uninstall 'typing_extensions'. No files were found to uninstall.\n  Attempting uninstall: databricks-sdk\n    Found existing installation: databricks-sdk 0.20.0\n    Not uninstalling databricks-sdk at /databricks/python3/lib/python3.11/site-packages, outside environment /local_disk0/.ephemeral_nfs/envs/pythonEnv-200d17e3-bae9-4198-b5c2-07f31a82489d\n    Can't uninstall 'databricks-sdk'. No files were found to uninstall.\n  Attempting uninstall: mlflow-skinny\n    Found existing installation: mlflow-skinny 2.19.0\n    Not uninstalling mlflow-skinny at /databricks/python3/lib/python3.11/site-packages, outside environment /local_disk0/.ephemeral_nfs/envs/pythonEnv-200d17e3-bae9-4198-b5c2-07f31a82489d\n    Can't uninstall 'mlflow-skinny'. No files were found to uninstall.\nSuccessfully installed alembic-1.16.4 databricks-cli-0.18.0 databricks-sdk-0.18.0 databricks-vectorsearch-0.22 docker-7.1.0 mlflow-2.10.1 mlflow-skinny-2.14.3 querystring-parser-1.2.4 tabulate-0.9.0 typing-extensions-4.14.1\n\u001B[43mNote: you may need to restart the kernel using %restart_python or dbutils.library.restartPython() to use updated packages.\u001B[0m\n"
     ]
    }
   ],
   "source": [
    "%pip install mlflow==2.10.1 langchain databricks-vectorsearch==0.22 databricks-sdk==0.18.0 mlflow[databricks]\n",
    "dbutils.library.restartPython()"
   ]
  },
  {
   "cell_type": "code",
   "execution_count": 0,
   "metadata": {
    "application/vnd.databricks.v1+cell": {
     "cellMetadata": {
      "byteLimit": 2048000,
      "rowLimit": 10000
     },
     "inputWidgets": {},
     "nuid": "e4aec6e4-d820-47e4-acc3-0f7ed1bad114",
     "showTitle": false,
     "tableResultSettingsMap": {},
     "title": ""
    }
   },
   "outputs": [],
   "source": [
    "%run ./00-init $reset_all_data=false"
   ]
  },
  {
   "cell_type": "code",
   "execution_count": 0,
   "metadata": {
    "application/vnd.databricks.v1+cell": {
     "cellMetadata": {
      "byteLimit": 2048000,
      "rowLimit": 10000
     },
     "inputWidgets": {},
     "nuid": "dc2d69ac-b856-4f6c-bbed-1371f7dc53ac",
     "showTitle": false,
     "tableResultSettingsMap": {},
     "title": ""
    }
   },
   "outputs": [],
   "source": [
    "index_name=f\"{catalog}.{db}.vector_search_index\"\n",
    "host = \"https://\" + spark.conf.get(\"spark.databricks.workspaceUrl\")"
   ]
  },
  {
   "cell_type": "code",
   "execution_count": 0,
   "metadata": {
    "application/vnd.databricks.v1+cell": {
     "cellMetadata": {
      "byteLimit": 2048000,
      "rowLimit": 10000
     },
     "inputWidgets": {},
     "nuid": "2fef10dd-83b1-4652-b090-de9569a4ca1e",
     "showTitle": false,
     "tableResultSettingsMap": {},
     "title": ""
    }
   },
   "outputs": [],
   "source": [
    "# url used to send the request to your model from the serverless endpoint\n",
    "import os\n",
    "host = \"https://\" + spark.conf.get(\"spark.databricks.workspaceUrl\")\n",
    "os.environ['DATABRICKS_TOKEN'] = dbutils.secrets.get('databricksscope', 'databricks-token') \n",
    "#os.environ['DATABRICKS_TOKEN'] = \"\""
   ]
  },
  {
   "cell_type": "code",
   "execution_count": 0,
   "metadata": {
    "application/vnd.databricks.v1+cell": {
     "cellMetadata": {
      "byteLimit": 2048000,
      "rowLimit": 10000
     },
     "inputWidgets": {},
     "nuid": "3f215827-be93-4442-9bf2-922a6637eb36",
     "showTitle": false,
     "tableResultSettingsMap": {},
     "title": ""
    }
   },
   "outputs": [
    {
     "output_type": "stream",
     "name": "stdout",
     "output_type": "stream",
     "text": [
      "Test embeddings: [0.0185699462890625, -0.01395416259765625, -0.0576171875, 0.00344085693359375, 0.00856781005859375, -0.021697998046875, -0.024810791015625, -0.00472259521484375, 0.0136260986328125, 0.050323486328125, -0.0275115966796875, -0.01470184326171875, 0.0546875, -0.0538330078125, -0.0102386474609375, -0.0161895751953125, -0.01873779296875, -0.0171356201171875, -0.051177978515625, 0.0179290771484375]...\n[NOTICE] Using a Personal Authentication Token (PAT). Recommended for development only. For improved performance, please use Service Principal based authentication. To disable this message, pass disable_notice=True to VectorSearchClient().\n"
     ]
    },
    {
     "output_type": "stream",
     "name": "stderr",
     "output_type": "stream",
     "text": [
      "WARNING:langchain_community.vectorstores.databricks_vector_search:embedding model is not used in delta-sync index with Databricks-managed embeddings.\n"
     ]
    },
    {
     "output_type": "stream",
     "name": "stdout",
     "output_type": "stream",
     "text": [
      "Relevant documents: page_content=\"Quarterly Market Sentiment Report March 2024\\nSummary:\\nContoso, a retail company headquartered in the US, took a strategic step to improve its market sentiment and customer satisfaction by acquiring LitWare, a European retail company based in the UK. This acquisition has significantly enhanced Contoso's market sentiment score, which has now risen to an impressive 70%. Moreover, the acquisition has resulted in high customer satisfaction and positive reviews, marking a notable turnaround in Contoso's performance.\\n© 2023 Contoso Confidential\\nPrior to the acquisition, Contoso faced challenges with a market sentiment that was below average compared to industry trends. The lack of focus on Environmental, Social, and Governance (ESG) initiatives led to poor customer satisfaction and lower market sentiment ratings, especially among Millennials, a key market segment for Contoso.\\nHowever, with the integration of LitWare, Contoso has successfully addressed these concerns and transformed its market sentiment. Customer reviews reflect a remarkable improvement in satisfaction levels, with customers expressing extreme happiness and satisfaction with their purchases. The product quality, performance, and customer service provided by Contoso post-acquisition have exceeded expectations, leading to highly positive feedback from consumers.\\nCustomers highlight the exceptional quality of products, prompt and helpful customer service, and overall fantastic experience with Contoso's offerings. These positive reviews have contributed to a significant boost in market sentiment and have positioned Contoso as a preferred choice among consumers, especially Millennials.\\nThe acquisition of LitWare has been a strategic move for Contoso to enhance its market sentiment, improve customer satisfaction, and strengthen its position in the retail industry. By prioritizing ESG initiatives and delivering exceptional products and services, Contoso has successfully regained investor confidence and garnered positive feedback from customers, paving the way for continued growth and success in the future.\\n© 2023 Contoso Confidential\\nCustomer Reviews: March 2024\\nCustomerID\\nCustomer Reviews\\nHow Satisfied Are You with Contoso?\" metadata={'id': 42.0}\n"
     ]
    }
   ],
   "source": [
    "from databricks.vector_search.client import VectorSearchClient\n",
    "from langchain_community.vectorstores import DatabricksVectorSearch\n",
    "from langchain_community.embeddings import DatabricksEmbeddings\n",
    "\n",
    "# Test embedding Langchain model\n",
    "#NOTE: your question embedding model must match the one used in the chunk in the previous model \n",
    "embedding_model = DatabricksEmbeddings(endpoint=\"databricks-bge-large-en\")\n",
    "print(f\"Test embeddings: {embedding_model.embed_query('What is Apache Spark?')[:20]}...\")\n",
    "\n",
    "def get_retriever(persist_dir: str = None):\n",
    "    os.environ[\"DATABRICKS_HOST\"] = host\n",
    "    #Get the vector search index\n",
    "    vsc = VectorSearchClient(workspace_url=host, personal_access_token=os.environ[\"DATABRICKS_TOKEN\"])\n",
    "    vs_index = vsc.get_index(\n",
    "        endpoint_name=VECTOR_SEARCH_ENDPOINT_NAME,\n",
    "        index_name=index_name\n",
    "    )\n",
    "\n",
    "    # Create the retriever\n",
    "    vectorstore = DatabricksVectorSearch(\n",
    "        vs_index, text_column=\"content\", embedding=embedding_model\n",
    "    )\n",
    "    return vectorstore.as_retriever()\n",
    "\n",
    "# test our retriever\n",
    "vectorstore = get_retriever()\n",
    "similar_documents = vectorstore.get_relevant_documents(\"What is the current Market Sentiment for Zava following its acquisition of Litware and explain the reasons for it?\")\n",
    "print(f\"Relevant documents: {similar_documents[0]}\")"
   ]
  },
  {
   "cell_type": "code",
   "execution_count": 0,
   "metadata": {
    "application/vnd.databricks.v1+cell": {
     "cellMetadata": {
      "byteLimit": 2048000,
      "rowLimit": 10000
     },
     "inputWidgets": {},
     "nuid": "84a30777-d203-46ca-ac0d-22a442f5f49c",
     "showTitle": false,
     "tableResultSettingsMap": {},
     "title": ""
    }
   },
   "outputs": [
    {
     "output_type": "stream",
     "name": "stderr",
     "output_type": "stream",
     "text": [
      "/databricks/python/lib/python3.11/site-packages/langchain_core/_api/deprecation.py:119: LangChainDeprecationWarning: The method `BaseChatModel.predict` was deprecated in langchain-core 0.1.7 and will be removed in 0.3.0. Use invoke instead.\n  warn_deprecated(\n"
     ]
    },
    {
     "output_type": "stream",
     "name": "stdout",
     "output_type": "stream",
     "text": [
      "Test chat model: I don't have access to current market data or recent information about a company called Zava acquiring Litware. To provide you with accurate market sentiment analysis, I would need:\n\n1. **Current market data** - Stock prices, trading volumes, analyst ratings\n2. **Recent news and reports** - Press releases, financial filings, analyst coverage\n3. **Company details** - Which specific companies these are, as there may be multiple companies with similar names\n\nTo get the current market sentiment, I'd recommend:\n\n- **Financial news sources**: Bloomberg, Reuters, Financial Times\n- **Stock analysis platforms**: Yahoo Finance, Google Finance, MarketWatch\n- **Analyst reports**: From investment banks and research firms\n- **Company investor relations**: Official press releases and earnings calls\n\nIf you can provide more context about which specific companies you're referring to, or if you have access to recent news about this acquisition, I'd be happy to help analyze what factors typically drive market sentiment in similar M&A situations.\n\nWould you like me to explain what factors generally influence market sentiment following acquisitions instead?\n"
     ]
    }
   ],
   "source": [
    "# Test Databricks Foundation LLM model\n",
    "from langchain_community.chat_models import ChatDatabricks\n",
    "chat_model = ChatDatabricks(endpoint=\"databricks-claude-sonnet-4\", max_tokens = 2000)\n",
    "print(f\"Test chat model: {chat_model.predict('What is the current Market Sentiment for Zava following its acquisition of Litware and explain the reasons for it?')}\")"
   ]
  },
  {
   "cell_type": "code",
   "execution_count": 0,
   "metadata": {
    "application/vnd.databricks.v1+cell": {
     "cellMetadata": {
      "byteLimit": 2048000,
      "rowLimit": 10000
     },
     "inputWidgets": {},
     "nuid": "b7f60363-72ec-427c-ab28-6eecde57e393",
     "showTitle": false,
     "tableResultSettingsMap": {},
     "title": ""
    }
   },
   "outputs": [
    {
     "output_type": "stream",
     "name": "stdout",
     "output_type": "stream",
     "text": [
      "[NOTICE] Using a Personal Authentication Token (PAT). Recommended for development only. For improved performance, please use Service Principal based authentication. To disable this message, pass disable_notice=True to VectorSearchClient().\n"
     ]
    },
    {
     "output_type": "stream",
     "name": "stderr",
     "output_type": "stream",
     "text": [
      "WARNING:langchain_community.vectorstores.databricks_vector_search:embedding model is not used in delta-sync index with Databricks-managed embeddings.\n"
     ]
    }
   ],
   "source": [
    "from langchain.chains import RetrievalQA\n",
    "from langchain.prompts import PromptTemplate\n",
    "from langchain_community.chat_models import ChatDatabricks\n",
    "\n",
    "TEMPLATE = \"\"\"You are an assistant for Databricks users. You are answering Zava's market sentiment churn and Market sentiments. If the question is not related to one of these topics, kindly decline to answer. If you don't know the answer, just say that you don't know, don't try to make up an answer. Keep the answer as concise as possible.\n",
    "Use the following pieces of context to answer the question at the end:\n",
    "{context}\n",
    "Question: {question}\n",
    "Answer:\n",
    "\"\"\"\n",
    "prompt = PromptTemplate(template=TEMPLATE, input_variables=[\"context\", \"question\"])\n",
    "\n",
    "chain = RetrievalQA.from_chain_type(\n",
    "    llm=chat_model,\n",
    "    chain_type=\"stuff\",\n",
    "    retriever=get_retriever(),\n",
    "    chain_type_kwargs={\"prompt\": prompt}\n",
    ")"
   ]
  },
  {
   "cell_type": "code",
   "execution_count": 0,
   "metadata": {
    "application/vnd.databricks.v1+cell": {
     "cellMetadata": {
      "byteLimit": 2048000,
      "rowLimit": 10000
     },
     "inputWidgets": {},
     "nuid": "b1f93914-0c73-4bab-8e5d-ccc039652a9c",
     "showTitle": false,
     "tableResultSettingsMap": {},
     "title": ""
    }
   },
   "outputs": [
    {
     "output_type": "stream",
     "name": "stderr",
     "output_type": "stream",
     "text": [
      "/databricks/python/lib/python3.11/site-packages/langchain_core/_api/deprecation.py:119: LangChainDeprecationWarning: The method `Chain.run` was deprecated in langchain 0.1.0 and will be removed in 0.3.0. Use invoke instead.\n  warn_deprecated(\n"
     ]
    },
    {
     "output_type": "stream",
     "name": "stdout",
     "output_type": "stream",
     "text": [
      "I don't see any information about Zava's market sentiment in the provided context. The documents discuss Contoso's market sentiment following its acquisition of LitWare, but there's no mention of a company called Zava or its acquisition activities. \n\nIf you're asking about Contoso instead, I'd be happy to provide that information based on the available data.\n"
     ]
    }
   ],
   "source": [
    "# langchain.debug = True #uncomment to see the chain details and the full prompt being sent\n",
    "question = {\"query\": \"What is the current Market Sentiment for Zava following its acquisition of Litware and explain the reasons for it?\"}\n",
    "answer = chain.run(question)\n",
    "print(answer)\n"
   ]
  },
  {
   "cell_type": "code",
   "execution_count": 0,
   "metadata": {
    "application/vnd.databricks.v1+cell": {
     "cellMetadata": {
      "byteLimit": 2048000,
      "rowLimit": 10000
     },
     "inputWidgets": {},
     "nuid": "798616b1-5e45-4061-90ef-2140f60de0ff",
     "showTitle": false,
     "tableResultSettingsMap": {},
     "title": ""
    }
   },
   "outputs": [
    {
     "output_type": "stream",
     "name": "stderr",
     "output_type": "stream",
     "text": [
      "/local_disk0/.ephemeral_nfs/envs/pythonEnv-200d17e3-bae9-4198-b5c2-07f31a82489d/lib/python3.11/site-packages/mlflow/langchain/utils/__init__.py:670: UserWarning: Using custom serializer to pickle pydantic.fields.ModelField classes, this might miss some fields and validators. To avoid this, please upgrade pydantic to v2 using `pip install pydantic -U` with langchain 0.0.267 and above.\n  warnings.warn(\n2025/07/31 17:46:38 WARNING mlflow.utils.requirements_utils: Detected one or more mismatches between the model's dependencies and the current Python environment:\n - mlflow (current: 2.10.1, required: mlflow==2.14.3)\nTo fix the mismatches, call `mlflow.pyfunc.get_model_dependencies(model_uri)` to fetch the model's environment and install dependencies using the resulting environment file.\n/databricks/python/lib/python3.11/site-packages/_distutils_hack/__init__.py:33: UserWarning: Setuptools is replacing distutils.\n  warnings.warn(\"Setuptools is replacing distutils.\")\n"
     ]
    },
    {
     "output_type": "display_data",
     "data": {
      "application/vnd.jupyter.widget-view+json": {
       "model_id": "d997f6dc735b464299b91a020c294769",
       "version_major": 2,
       "version_minor": 0
      },
      "text/plain": [
       "Uploading artifacts:   0%|          | 0/11 [00:00<?, ?it/s]"
      ]
     },
     "metadata": {},
     "output_type": "display_data"
    },
    {
     "output_type": "stream",
     "name": "stderr",
     "output_type": "stream",
     "text": [
      "Successfully registered model 'litware_unity_catalog.rag.rag_chatbot_model'.\n"
     ]
    },
    {
     "output_type": "display_data",
     "data": {
      "application/vnd.jupyter.widget-view+json": {
       "model_id": "b2ad67c6adce4840a00e1f8505a2a791",
       "version_major": 2,
       "version_minor": 0
      },
      "text/plain": [
       "Uploading artifacts:   0%|          | 0/11 [00:00<?, ?it/s]"
      ]
     },
     "metadata": {},
     "output_type": "display_data"
    },
    {
     "output_type": "stream",
     "name": "stderr",
     "output_type": "stream",
     "text": [
      "Created version '1' of model 'litware_unity_catalog.rag.rag_chatbot_model'.\n"
     ]
    }
   ],
   "source": [
    "from mlflow.models import infer_signature\n",
    "import mlflow\n",
    "import langchain\n",
    "\n",
    "mlflow.set_registry_uri(\"databricks-uc\")\n",
    "model_name = f\"{catalog}.{db}.rag_chatbot_model\"\n",
    "\n",
    "with mlflow.start_run(run_name=\"chatbot_rag\") as run:\n",
    "    signature = infer_signature(question, answer)\n",
    "    model_info = mlflow.langchain.log_model(\n",
    "        chain,\n",
    "        loader_fn=get_retriever,  # Load the retriever with DATABRICKS_TOKEN env as secret (for authentication).\n",
    "        artifact_path=\"chain\",\n",
    "        registered_model_name=model_name,\n",
    "        pip_requirements=[\n",
    "            \"mlflow==\" + mlflow.__version__,\n",
    "            \"langchain==\" + langchain.__version__,\n",
    "            \"databricks-vectorsearch\",\n",
    "        ],\n",
    "        input_example=question,\n",
    "        signature=signature\n",
    "    )"
   ]
  },
  {
   "cell_type": "code",
   "execution_count": 0,
   "metadata": {
    "application/vnd.databricks.v1+cell": {
     "cellMetadata": {
      "byteLimit": 2048000,
      "rowLimit": 10000
     },
     "inputWidgets": {},
     "nuid": "db57075d-86e1-422e-bf5e-bd2bde4e6338",
     "showTitle": false,
     "tableResultSettingsMap": {},
     "title": ""
    }
   },
   "outputs": [
    {
     "output_type": "display_data",
     "data": {
      "application/vnd.jupyter.widget-view+json": {
       "model_id": "7e5e48ff1a7c4101ad896ebcd6decec7",
       "version_major": 2,
       "version_minor": 0
      },
      "text/plain": [
       "Downloading artifacts:   0%|          | 0/11 [00:00<?, ?it/s]"
      ]
     },
     "metadata": {},
     "output_type": "display_data"
    },
    {
     "output_type": "stream",
     "name": "stderr",
     "output_type": "stream",
     "text": [
      "/local_disk0/.ephemeral_nfs/envs/pythonEnv-200d17e3-bae9-4198-b5c2-07f31a82489d/lib/python3.11/site-packages/mlflow/langchain/utils/__init__.py:670: UserWarning: Using custom serializer to pickle pydantic.fields.ModelField classes, this might miss some fields and validators. To avoid this, please upgrade pydantic to v2 using `pip install pydantic -U` with langchain 0.0.267 and above.\n  warnings.warn(\n"
     ]
    },
    {
     "output_type": "stream",
     "name": "stdout",
     "output_type": "stream",
     "text": [
      "[NOTICE] Using a Personal Authentication Token (PAT). Recommended for development only. For improved performance, please use Service Principal based authentication. To disable this message, pass disable_notice=True to VectorSearchClient().\n"
     ]
    },
    {
     "output_type": "stream",
     "name": "stderr",
     "output_type": "stream",
     "text": [
      "WARNING:langchain_community.vectorstores.databricks_vector_search:embedding model is not used in delta-sync index with Databricks-managed embeddings.\n/databricks/python/lib/python3.11/site-packages/langchain_community/llms/__init__.py:173: LangChainDeprecationWarning: `` was deprecated in LangChain 0.0.22 and will be removed in 0.3. An updated version of the  exists in the langchain-community package and should be used instead. To use it run `pip install -U langchain-community` and import as `from langchain_community.chat_models import ChatDatabricks`.\n  warn_deprecated(\n"
     ]
    },
    {
     "output_type": "execute_result",
     "data": {
      "text/plain": [
       "{'query': 'What is the current Market Sentiment for Zava following its acquisition of Litware and explain the reasons for it?',\n",
       " 'result': \"I don't see any information about Zava's market sentiment in the provided context. The documents discuss Contoso's market sentiment following its acquisition of LitWare, but there's no mention of a company called Zava or its acquisition activities. \\n\\nIf you're asking about Contoso instead, I'd be happy to provide that information based on the available data.\"}"
      ]
     },
     "execution_count": 10,
     "metadata": {},
     "output_type": "execute_result"
    }
   ],
   "source": [
    "model = mlflow.langchain.load_model(model_info.model_uri)\n",
    "model.invoke(question)"
   ]
  },
  {
   "cell_type": "markdown",
   "metadata": {
    "application/vnd.databricks.v1+cell": {
     "cellMetadata": {
      "byteLimit": 2048000,
      "rowLimit": 10000
     },
     "inputWidgets": {},
     "nuid": "43496922-f85c-4eba-9425-b21ed5aa701f",
     "showTitle": false,
     "tableResultSettingsMap": {},
     "title": ""
    }
   },
   "source": [
    "### Deploying our Chat Model as a Serverless Model Endpoint\n"
   ]
  },
  {
   "cell_type": "code",
   "execution_count": 0,
   "metadata": {
    "application/vnd.databricks.v1+cell": {
     "cellMetadata": {
      "byteLimit": 2048000,
      "rowLimit": 10000
     },
     "inputWidgets": {},
     "nuid": "c9245e8b-8138-4bf1-866e-905251d84683",
     "showTitle": false,
     "tableResultSettingsMap": {},
     "title": ""
    }
   },
   "outputs": [],
   "source": [
    "import mlflow\n",
    "from mlflow.tracking import MlflowClient\n",
    "from databricks.sdk.service.serving import EndpointCoreConfigInput, ServedModelInput, ServedModelInputWorkloadSize"
   ]
  },
  {
   "cell_type": "code",
   "execution_count": 0,
   "metadata": {
    "application/vnd.databricks.v1+cell": {
     "cellMetadata": {
      "byteLimit": 2048000,
      "rowLimit": 10000
     },
     "inputWidgets": {},
     "nuid": "f447e337-c36b-4528-95f2-76917f767206",
     "showTitle": false,
     "tableResultSettingsMap": {},
     "title": ""
    }
   },
   "outputs": [],
   "source": [
    "mlflow.set_registry_uri('databricks-uc')\n",
    "model_name = f\"{catalog}.{db}.rag_chatbot_model\"\n",
    "serving_endpoint_name = \"rag-chatbot-model-endpoint\"\n",
    "latest_model_version = 1"
   ]
  },
  {
   "cell_type": "code",
   "execution_count": 0,
   "metadata": {
    "application/vnd.databricks.v1+cell": {
     "cellMetadata": {
      "byteLimit": 2048000,
      "rowLimit": 10000
     },
     "inputWidgets": {},
     "nuid": "9e15921b-7b79-4dc5-b007-e45e6b31780a",
     "showTitle": false,
     "tableResultSettingsMap": {},
     "title": ""
    }
   },
   "outputs": [],
   "source": [
    "# Create or update serving endpoint\n",
    "from databricks.sdk import WorkspaceClient\n",
    "from databricks.sdk.service.serving import EndpointCoreConfigInput, ServedModelInput, ServedModelInputWorkloadSize\n",
    "\n",
    "endpoint_config = EndpointCoreConfigInput(\n",
    "    name=serving_endpoint_name,\n",
    "    served_models=[\n",
    "        ServedModelInput(\n",
    "            model_name=model_name,\n",
    "            model_version=latest_model_version,\n",
    "            workload_size=ServedModelInputWorkloadSize.LARGE,\n",
    "            scale_to_zero_enabled=True,\n",
    "            environment_vars={\n",
    "                \"DATABRICKS_TOKEN\": \"{{secrets/databricksscope/databricks-token}}\" ,\n",
    "            }\n",
    "        )\n",
    "    ]\n",
    ")"
   ]
  },
  {
   "cell_type": "code",
   "execution_count": 0,
   "metadata": {
    "application/vnd.databricks.v1+cell": {
     "cellMetadata": {
      "byteLimit": 2048000,
      "rowLimit": 10000
     },
     "inputWidgets": {},
     "nuid": "cbcf731d-5d50-463d-95f5-cdf89f66663c",
     "showTitle": false,
     "tableResultSettingsMap": {},
     "title": ""
    }
   },
   "outputs": [
    {
     "output_type": "stream",
     "name": "stdout",
     "output_type": "stream",
     "text": [
      "Creating the endpoint https://adb-2273246882692142.2.azuredatabricks.net/ml/endpoints/rag-chatbot-model-endpoint, this will take a few minutes to package and deploy the endpoint...\n"
     ]
    }
   ],
   "source": [
    "from databricks.sdk import WorkspaceClient\n",
    "w = WorkspaceClient()\n",
    "\n",
    "existing_endpoint = next(\n",
    "    (e for e in w.serving_endpoints.list() if e.name == serving_endpoint_name), None\n",
    ")\n",
    "serving_endpoint_url = f\"{host}/ml/endpoints/{serving_endpoint_name}\"\n",
    "if existing_endpoint == None:\n",
    "    print(f\"Creating the endpoint {serving_endpoint_url}, this will take a few minutes to package and deploy the endpoint...\")\n",
    "    w.serving_endpoints.create_and_wait(name=serving_endpoint_name, config=endpoint_config)\n",
    "else:\n",
    "    print(f\"Updating the endpoint {serving_endpoint_url} to version {latest_model_version}, this will take a few minutes to package and deploy the endpoint...\")\n",
    "    w.serving_endpoints.update_config_and_wait(served_models=endpoint_config.served_models, name=serving_endpoint_name)"
   ]
  }
 ],
 "metadata": {
  "application/vnd.databricks.v1+notebook": {
   "computePreferences": null,
   "dashboards": [],
   "environmentMetadata": null,
   "inputWidgetPreferences": null,
   "language": "python",
   "notebookMetadata": {
    "mostRecentlyExecutedCommandWithImplicitDF": {
     "commandId": -1,
     "dataframes": [
      "_sqldf"
     ]
    },
    "pythonIndentUnit": 4
   },
   "notebookName": "3. Register and Deploy RAG model as Endpoint",
   "widgets": {}
  },
  "language_info": {
   "name": "python"
  }
 },
 "nbformat": 4,
 "nbformat_minor": 0
}