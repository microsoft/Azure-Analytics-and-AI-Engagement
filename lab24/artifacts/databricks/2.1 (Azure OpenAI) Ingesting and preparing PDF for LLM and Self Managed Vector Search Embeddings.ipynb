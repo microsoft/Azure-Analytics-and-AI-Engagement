{
 "cells": [
  {
   "cell_type": "markdown",
   "metadata": {
    "application/vnd.databricks.v1+cell": {
     "cellMetadata": {
      "byteLimit": 2048000,
      "rowLimit": 10000
     },
     "inputWidgets": {},
     "nuid": "1faae499-09a2-4921-aeec-19c548bd1a9b",
     "showTitle": false,
     "tableResultSettingsMap": {},
     "title": ""
    }
   },
   "source": [
    "### Install required external libraries "
   ]
  },
  {
   "cell_type": "code",
   "execution_count": 0,
   "metadata": {
    "application/vnd.databricks.v1+cell": {
     "cellMetadata": {
      "byteLimit": 2048000,
      "rowLimit": 10000
     },
     "inputWidgets": {},
     "nuid": "ecf893f3-0eb4-4386-b3b6-6f68224452b8",
     "showTitle": false,
     "tableResultSettingsMap": {},
     "title": ""
    },
    "jupyter": {
     "outputs_hidden": true
    }
   },
   "outputs": [
    {
     "output_type": "stream",
     "name": "stdout",
     "output_type": "stream",
     "text": [
      "Collecting transformers==4.30.2\n  Obtaining dependency information for transformers==4.30.2 from https://files.pythonhosted.org/packages/5b/0b/e45d26ccd28568013523e04f325432ea88a442b4e3020b757cf4361f0120/transformers-4.30.2-py3-none-any.whl.metadata\n  Using cached transformers-4.30.2-py3-none-any.whl.metadata (113 kB)\nCollecting unstructured[docx,pdf]==0.10.30\n  Obtaining dependency information for unstructured[docx,pdf]==0.10.30 from https://files.pythonhosted.org/packages/e3/95/28c08bbdd98a9bdbb7f52c07c0e81090ea5f89af5b6cac7c7c6d86ce2a5e/unstructured-0.10.30-py3-none-any.whl.metadata\n  Using cached unstructured-0.10.30-py3-none-any.whl.metadata (25 kB)\nCollecting langchain==0.1.5\n  Obtaining dependency information for langchain==0.1.5 from https://files.pythonhosted.org/packages/c1/c3/0e59a0c24e0c61b52271445df55302ab2f3dd8489a365721c7ef7ecaba24/langchain-0.1.5-py3-none-any.whl.metadata\n  Using cached langchain-0.1.5-py3-none-any.whl.metadata (13 kB)\nCollecting llama-index==0.9.3\n  Obtaining dependency information for llama-index==0.9.3 from https://files.pythonhosted.org/packages/e3/fa/94e09b6b35efa90451e060cc1ac1a32c91a13d65fee6371bf7c401aa971a/llama_index-0.9.3-py3-none-any.whl.metadata\n  Using cached llama_index-0.9.3-py3-none-any.whl.metadata (8.2 kB)\nCollecting databricks-vectorsearch==0.22\n  Obtaining dependency information for databricks-vectorsearch==0.22 from https://files.pythonhosted.org/packages/81/37/3106dc8dedbab9b7560f65088aa7f2894ffa75b5f1928bc472bf42f3b936/databricks_vectorsearch-0.22-py3-none-any.whl.metadata\n  Using cached databricks_vectorsearch-0.22-py3-none-any.whl.metadata (401 bytes)\nCollecting pydantic==1.10.9\n  Obtaining dependency information for pydantic==1.10.9 from https://files.pythonhosted.org/packages/ce/80/92bdb68e1fda29be502adfd0b95c4cdef41f498a35125d0d540d4696c091/pydantic-1.10.9-cp311-cp311-manylinux_2_17_x86_64.manylinux2014_x86_64.whl.metadata\n  Using cached pydantic-1.10.9-cp311-cp311-manylinux_2_17_x86_64.manylinux2014_x86_64.whl.metadata (147 kB)\nCollecting mlflow==2.10.1\n  Obtaining dependency information for mlflow==2.10.1 from https://files.pythonhosted.org/packages/e5/10/27177dedbe4ea5ffd81bd90a0149d069f6ba431767f490702198c5021cd5/mlflow-2.10.1-py3-none-any.whl.metadata\n  Using cached mlflow-2.10.1-py3-none-any.whl.metadata (13 kB)\nRequirement already satisfied: filelock in /databricks/python3/lib/python3.11/site-packages (from transformers==4.30.2) (3.13.4)\nRequirement already satisfied: huggingface-hub<1.0,>=0.14.1 in /databricks/python3/lib/python3.11/site-packages (from transformers==4.30.2) (0.27.1)\nRequirement already satisfied: numpy>=1.17 in /databricks/python3/lib/python3.11/site-packages (from transformers==4.30.2) (1.23.5)\nRequirement already satisfied: packaging>=20.0 in /databricks/python3/lib/python3.11/site-packages (from transformers==4.30.2) (23.2)\nRequirement already satisfied: pyyaml>=5.1 in /databricks/python3/lib/python3.11/site-packages (from transformers==4.30.2) (6.0)\nRequirement already satisfied: regex!=2019.12.17 in /databricks/python3/lib/python3.11/site-packages (from transformers==4.30.2) (2022.7.9)\nRequirement already satisfied: requests in /databricks/python3/lib/python3.11/site-packages (from transformers==4.30.2) (2.31.0)\nCollecting tokenizers!=0.11.3,<0.14,>=0.11.1 (from transformers==4.30.2)\n  Obtaining dependency information for tokenizers!=0.11.3,<0.14,>=0.11.1 from https://files.pythonhosted.org/packages/e9/d9/660f08ecd88bed54df9f85cab44e01184733c8e42d79b583fb985f1dc412/tokenizers-0.13.3-cp311-cp311-manylinux_2_17_x86_64.manylinux2014_x86_64.whl.metadata\n  Using cached tokenizers-0.13.3-cp311-cp311-manylinux_2_17_x86_64.manylinux2014_x86_64.whl.metadata (6.7 kB)\nRequirement already satisfied: safetensors>=0.3.1 in /databricks/python3/lib/python3.11/site-packages (from transformers==4.30.2) (0.4.2)\nRequirement already satisfied: tqdm>=4.27 in /databricks/python3/lib/python3.11/site-packages (from transformers==4.30.2) (4.65.0)\nRequirement already satisfied: chardet in /databricks/python3/lib/python3.11/site-packages (from unstructured[docx,pdf]==0.10.30) (4.0.0)\nCollecting filetype (from unstructured[docx,pdf]==0.10.30)\n  Obtaining dependency information for filetype from https://files.pythonhosted.org/packages/18/79/1b8fa1bb3568781e84c9200f951c735f3f157429f44be0495da55894d620/filetype-1.2.0-py2.py3-none-any.whl.metadata\n  Using cached filetype-1.2.0-py2.py3-none-any.whl.metadata (6.5 kB)\nCollecting python-magic (from unstructured[docx,pdf]==0.10.30)\n  Obtaining dependency information for python-magic from https://files.pythonhosted.org/packages/6c/73/9f872cb81fc5c3bb48f7227872c28975f998f3e7c2b1c16e95e6432bbb90/python_magic-0.4.27-py2.py3-none-any.whl.metadata\n  Using cached python_magic-0.4.27-py2.py3-none-any.whl.metadata (5.8 kB)\nRequirement already satisfied: lxml in /databricks/python3/lib/python3.11/site-packages (from unstructured[docx,pdf]==0.10.30) (4.9.2)\nRequirement already satisfied: nltk in /databricks/python3/lib/python3.11/site-packages (from unstructured[docx,pdf]==0.10.30) (3.8.1)\nCollecting tabulate (from unstructured[docx,pdf]==0.10.30)\n  Obtaining dependency information for tabulate from https://files.pythonhosted.org/packages/40/44/4a5f08c96eb108af5cb50b41f76142f0afa346dfa99d5296fe7202a11854/tabulate-0.9.0-py3-none-any.whl.metadata\n  Using cached tabulate-0.9.0-py3-none-any.whl.metadata (34 kB)\nRequirement already satisfied: beautifulsoup4 in /databricks/python3/lib/python3.11/site-packages (from unstructured[docx,pdf]==0.10.30) (4.12.2)\nCollecting emoji (from unstructured[docx,pdf]==0.10.30)\n  Obtaining dependency information for emoji from https://files.pythonhosted.org/packages/91/db/a0335710caaa6d0aebdaa65ad4df789c15d89b7babd9a30277838a7d9aac/emoji-2.14.1-py3-none-any.whl.metadata\n  Using cached emoji-2.14.1-py3-none-any.whl.metadata (5.7 kB)\nRequirement already satisfied: dataclasses-json in /databricks/python3/lib/python3.11/site-packages (from unstructured[docx,pdf]==0.10.30) (0.6.7)\nCollecting python-iso639 (from unstructured[docx,pdf]==0.10.30)\n  Obtaining dependency information for python-iso639 from https://files.pythonhosted.org/packages/54/a3/3ceaf89a17a1e1d5e7bbdfe5514aa3055d91285b37a5c8fed662969e3d56/python_iso639-2025.2.18-py3-none-any.whl.metadata\n  Using cached python_iso639-2025.2.18-py3-none-any.whl.metadata (14 kB)\nCollecting langdetect (from unstructured[docx,pdf]==0.10.30)\n  Using cached langdetect-1.0.9-py3-none-any.whl\nCollecting rapidfuzz (from unstructured[docx,pdf]==0.10.30)\n  Obtaining dependency information for rapidfuzz from https://files.pythonhosted.org/packages/3d/2c/4b2f8aafdf9400e5599b6ed2f14bc26ca75f5a923571926ccbc998d4246a/rapidfuzz-3.13.0-cp311-cp311-manylinux_2_17_x86_64.manylinux2014_x86_64.whl.metadata\n  Using cached rapidfuzz-3.13.0-cp311-cp311-manylinux_2_17_x86_64.manylinux2014_x86_64.whl.metadata (12 kB)\nCollecting backoff (from unstructured[docx,pdf]==0.10.30)\n  Obtaining dependency information for backoff from https://files.pythonhosted.org/packages/df/73/b6e24bd22e6720ca8ee9a85a0c4a2971af8497d8f3193fa05390cbd46e09/backoff-2.2.1-py3-none-any.whl.metadata\n  Using cached backoff-2.2.1-py3-none-any.whl.metadata (14 kB)\nRequirement already satisfied: typing-extensions in /databricks/python3/lib/python3.11/site-packages (from unstructured[docx,pdf]==0.10.30) (4.10.0)\nCollecting onnx (from unstructured[docx,pdf]==0.10.30)\n  Obtaining dependency information for onnx from https://files.pythonhosted.org/packages/cf/03/5eb5e9ef446ed9e78c4627faf3c1bc25e0f707116dd00e9811de232a8df5/onnx-1.18.0-cp311-cp311-manylinux_2_17_x86_64.manylinux2014_x86_64.whl.metadata\n  Using cached onnx-1.18.0-cp311-cp311-manylinux_2_17_x86_64.manylinux2014_x86_64.whl.metadata (6.9 kB)\nCollecting pdf2image (from unstructured[docx,pdf]==0.10.30)\n  Obtaining dependency information for pdf2image from https://files.pythonhosted.org/packages/62/33/61766ae033518957f877ab246f87ca30a85b778ebaad65b7f74fa7e52988/pdf2image-1.17.0-py3-none-any.whl.metadata\n  Using cached pdf2image-1.17.0-py3-none-any.whl.metadata (6.2 kB)\nCollecting pdfminer.six (from unstructured[docx,pdf]==0.10.30)\n  Obtaining dependency information for pdfminer.six from https://files.pythonhosted.org/packages/73/16/7a432c0101fa87457e75cb12c879e1749c5870a786525e2e0f42871d6462/pdfminer_six-20250506-py3-none-any.whl.metadata\n  Using cached pdfminer_six-20250506-py3-none-any.whl.metadata (4.2 kB)\nCollecting unstructured-inference==0.7.11 (from unstructured[docx,pdf]==0.10.30)\n  Obtaining dependency information for unstructured-inference==0.7.11 from https://files.pythonhosted.org/packages/3d/81/d0fa72a8d5a4b6f8f46bde27935f49eae5038c6f8c2dee2a08efbac8921c/unstructured_inference-0.7.11-py3-none-any.whl.metadata\n  Using cached unstructured_inference-0.7.11-py3-none-any.whl.metadata (6.8 kB)\nCollecting unstructured.pytesseract>=0.3.12 (from unstructured[docx,pdf]==0.10.30)\n  Obtaining dependency information for unstructured.pytesseract>=0.3.12 from https://files.pythonhosted.org/packages/10/6d/adb955ecf60811a3735d508974bbb5358e7745b635dc001329267529c6f2/unstructured.pytesseract-0.3.15-py3-none-any.whl.metadata\n  Using cached unstructured.pytesseract-0.3.15-py3-none-any.whl.metadata (11 kB)\nCollecting python-docx>=1.1.0 (from unstructured[docx,pdf]==0.10.30)\n  Obtaining dependency information for python-docx>=1.1.0 from https://files.pythonhosted.org/packages/d0/00/1e03a4989fa5795da308cd774f05b704ace555a70f9bf9d3be057b680bcf/python_docx-1.2.0-py3-none-any.whl.metadata\n  Using cached python_docx-1.2.0-py3-none-any.whl.metadata (2.0 kB)\nRequirement already satisfied: SQLAlchemy<3,>=1.4 in /databricks/python3/lib/python3.11/site-packages (from langchain==0.1.5) (1.4.39)\nRequirement already satisfied: aiohttp<4.0.0,>=3.8.3 in /databricks/python3/lib/python3.11/site-packages (from langchain==0.1.5) (3.8.5)\nRequirement already satisfied: jsonpatch<2.0,>=1.33 in /databricks/python3/lib/python3.11/site-packages (from langchain==0.1.5) (1.33)\nRequirement already satisfied: langchain-community<0.1,>=0.0.17 in /databricks/python3/lib/python3.11/site-packages (from langchain==0.1.5) (0.0.38)\nRequirement already satisfied: langchain-core<0.2,>=0.1.16 in /databricks/python3/lib/python3.11/site-packages (from langchain==0.1.5) (0.1.52)\nCollecting langsmith<0.1,>=0.0.83 (from langchain==0.1.5)\n  Obtaining dependency information for langsmith<0.1,>=0.0.83 from https://files.pythonhosted.org/packages/97/cd/1c618f89d3fcbb375c99a3ea950bffba8a01862cc0f0ab5032dfb95e8d1e/langsmith-0.0.92-py3-none-any.whl.metadata\n  Using cached langsmith-0.0.92-py3-none-any.whl.metadata (9.9 kB)\nRequirement already satisfied: tenacity<9.0.0,>=8.1.0 in /databricks/python3/lib/python3.11/site-packages (from langchain==0.1.5) (8.2.2)\nCollecting SQLAlchemy[asyncio]>=1.4.49 (from llama-index==0.9.3)\n  Obtaining dependency information for SQLAlchemy[asyncio]>=1.4.49 from https://files.pythonhosted.org/packages/b9/81/421efc09837104cd1a267d68b470e5b7b6792c2963b8096ca1e060ba0975/sqlalchemy-2.0.42-cp311-cp311-manylinux_2_17_x86_64.manylinux2014_x86_64.whl.metadata\n  Using cached sqlalchemy-2.0.42-cp311-cp311-manylinux_2_17_x86_64.manylinux2014_x86_64.whl.metadata (9.6 kB)\nCollecting aiohttp<4.0.0,>=3.8.3 (from langchain==0.1.5)\n  Obtaining dependency information for aiohttp<4.0.0,>=3.8.3 from https://files.pythonhosted.org/packages/c6/82/1ddf0ea4f2f3afe79dffed5e8a246737cff6cbe781887a6a170299e33204/aiohttp-3.12.15-cp311-cp311-manylinux_2_17_x86_64.manylinux2014_x86_64.whl.metadata\n  Using cached aiohttp-3.12.15-cp311-cp311-manylinux_2_17_x86_64.manylinux2014_x86_64.whl.metadata (7.7 kB)\nCollecting aiostream<0.6.0,>=0.5.2 (from llama-index==0.9.3)\n  Obtaining dependency information for aiostream<0.6.0,>=0.5.2 from https://files.pythonhosted.org/packages/b3/2a/4140da24a81adce23b79e4fdc3fc722c9ff698460c1b9f8f7bd3742eb02e/aiostream-0.5.2-py3-none-any.whl.metadata\n  Using cached aiostream-0.5.2-py3-none-any.whl.metadata (9.9 kB)\nCollecting dataclasses-json (from unstructured[docx,pdf]==0.10.30)\n  Obtaining dependency information for dataclasses-json from https://files.pythonhosted.org/packages/97/5f/e7cc90f36152810cab08b6c9c1125e8bcb9d76f8b3018d101b5f877b386c/dataclasses_json-0.5.14-py3-none-any.whl.metadata\n  Using cached dataclasses_json-0.5.14-py3-none-any.whl.metadata (22 kB)\nRequirement already satisfied: deprecated>=1.2.9.3 in /databricks/python3/lib/python3.11/site-packages (from llama-index==0.9.3) (1.2.14)\nRequirement already satisfied: fsspec>=2023.5.0 in /databricks/python3/lib/python3.11/site-packages (from llama-index==0.9.3) (2023.5.0)\nRequirement already satisfied: httpx in /databricks/python3/lib/python3.11/site-packages (from llama-index==0.9.3) (0.27.0)\nCollecting nest-asyncio<2.0.0,>=1.5.8 (from llama-index==0.9.3)\n  Obtaining dependency information for nest-asyncio<2.0.0,>=1.5.8 from https://files.pythonhosted.org/packages/a0/c4/c2971a3ba4c6103a3d10c4b0f24f461ddc027f0f09763220cf35ca1401b3/nest_asyncio-1.6.0-py3-none-any.whl.metadata\n  Using cached nest_asyncio-1.6.0-py3-none-any.whl.metadata (2.8 kB)\nRequirement already satisfied: openai>=1.1.0 in /databricks/python3/lib/python3.11/site-packages (from llama-index==0.9.3) (1.35.3)\nRequirement already satisfied: pandas[jinja2] in /databricks/python3/lib/python3.11/site-packages (from llama-index==0.9.3) (1.5.3)\nRequirement already satisfied: tiktoken>=0.3.3 in /databricks/python3/lib/python3.11/site-packages (from llama-index==0.9.3) (0.5.2)\nRequirement already satisfied: typing-inspect>=0.8.0 in /databricks/python3/lib/python3.11/site-packages (from llama-index==0.9.3) (0.9.0)\nRequirement already satisfied: urllib3<2 in /databricks/python3/lib/python3.11/site-packages (from llama-index==0.9.3) (1.26.16)\nRequirement already satisfied: mlflow-skinny<3,>=2.4.0 in /databricks/python3/lib/python3.11/site-packages (from databricks-vectorsearch==0.22) (2.19.0)\nRequirement already satisfied: protobuf<5,>=3.12.0 in /databricks/python3/lib/python3.11/site-packages (from databricks-vectorsearch==0.22) (4.24.1)\nRequirement already satisfied: click<9,>=7.0 in /databricks/python3/lib/python3.11/site-packages (from mlflow==2.10.1) (8.0.4)\nRequirement already satisfied: cloudpickle<4 in /databricks/python3/lib/python3.11/site-packages (from mlflow==2.10.1) (2.2.1)\nCollecting databricks-cli<1,>=0.8.7 (from mlflow==2.10.1)\n  Obtaining dependency information for databricks-cli<1,>=0.8.7 from https://files.pythonhosted.org/packages/ae/a3/d56f8382c40899301f327d1c881278b09c9b8bc301c2c111633a0346d06e/databricks_cli-0.18.0-py2.py3-none-any.whl.metadata\n  Using cached databricks_cli-0.18.0-py2.py3-none-any.whl.metadata (4.0 kB)\nRequirement already satisfied: entrypoints<1 in /databricks/python3/lib/python3.11/site-packages (from mlflow==2.10.1) (0.4)\nRequirement already satisfied: gitpython<4,>=2.1.0 in /databricks/python3/lib/python3.11/site-packages (from mlflow==2.10.1) (3.1.27)\nRequirement already satisfied: pytz<2024 in /databricks/python3/lib/python3.11/site-packages (from mlflow==2.10.1) (2022.7)\nRequirement already satisfied: importlib-metadata!=4.7.0,<8,>=3.7.0 in /databricks/python3/lib/python3.11/site-packages (from mlflow==2.10.1) (6.0.0)\nRequirement already satisfied: sqlparse<1,>=0.4.0 in /databricks/python3/lib/python3.11/site-packages (from mlflow==2.10.1) (0.4.2)\nCollecting alembic!=1.10.0,<2 (from mlflow==2.10.1)\n  Obtaining dependency information for alembic!=1.10.0,<2 from https://files.pythonhosted.org/packages/c2/62/96b5217b742805236614f05904541000f55422a6060a90d7fd4ce26c172d/alembic-1.16.4-py3-none-any.whl.metadata\n  Using cached alembic-1.16.4-py3-none-any.whl.metadata (7.3 kB)\nCollecting docker<8,>=4.0.0 (from mlflow==2.10.1)\n  Obtaining dependency information for docker<8,>=4.0.0 from https://files.pythonhosted.org/packages/e3/26/57c6fb270950d476074c087527a558ccb6f4436657314bfb6cdf484114c4/docker-7.1.0-py3-none-any.whl.metadata\n  Using cached docker-7.1.0-py3-none-any.whl.metadata (3.8 kB)\nRequirement already satisfied: Flask<4 in /databricks/python3/lib/python3.11/site-packages (from mlflow==2.10.1) (2.2.5)\nRequirement already satisfied: scipy<2 in /databricks/python3/lib/python3.11/site-packages (from mlflow==2.10.1) (1.11.1)\nCollecting querystring-parser<2 (from mlflow==2.10.1)\n  Obtaining dependency information for querystring-parser<2 from https://files.pythonhosted.org/packages/88/6b/572b2590fd55114118bf08bde63c0a421dcc82d593700f3e2ad89908a8a9/querystring_parser-1.2.4-py2.py3-none-any.whl.metadata\n  Using cached querystring_parser-1.2.4-py2.py3-none-any.whl.metadata (559 bytes)\nRequirement already satisfied: scikit-learn<2 in /databricks/python3/lib/python3.11/site-packages (from mlflow==2.10.1) (1.3.0)\nRequirement already satisfied: pyarrow<16,>=4.0.0 in /databricks/python3/lib/python3.11/site-packages (from mlflow==2.10.1) (14.0.1)\nRequirement already satisfied: markdown<4,>=3.3 in /databricks/python3/lib/python3.11/site-packages (from mlflow==2.10.1) (3.4.1)\nRequirement already satisfied: matplotlib<4 in /databricks/python3/lib/python3.11/site-packages (from mlflow==2.10.1) (3.7.2)\nRequirement already satisfied: gunicorn<22 in /databricks/python3/lib/python3.11/site-packages (from mlflow==2.10.1) (20.1.0)\nRequirement already satisfied: Jinja2<4,>=2.11 in /databricks/python3/lib/python3.11/site-packages (from mlflow==2.10.1) (3.1.2)\nCollecting layoutparser[layoutmodels,tesseract] (from unstructured-inference==0.7.11->unstructured[docx,pdf]==0.10.30)\n  Obtaining dependency information for layoutparser[layoutmodels,tesseract] from https://files.pythonhosted.org/packages/08/cf/0bfbea1b2ace91af45e15bdec885e05992dc9150907a8398b3d305eddfd2/layoutparser-0.3.4-py3-none-any.whl.metadata\n  Using cached layoutparser-0.3.4-py3-none-any.whl.metadata (7.7 kB)\nCollecting python-multipart (from unstructured-inference==0.7.11->unstructured[docx,pdf]==0.10.30)\n  Obtaining dependency information for python-multipart from https://files.pythonhosted.org/packages/45/58/38b5afbc1a800eeea951b9285d3912613f2603bdf897a4ab0f4bd7f405fc/python_multipart-0.0.20-py3-none-any.whl.metadata\n  Using cached python_multipart-0.0.20-py3-none-any.whl.metadata (1.8 kB)\nCollecting opencv-python!=4.7.0.68 (from unstructured-inference==0.7.11->unstructured[docx,pdf]==0.10.30)\n  Obtaining dependency information for opencv-python!=4.7.0.68 from https://files.pythonhosted.org/packages/68/1f/795e7f4aa2eacc59afa4fb61a2e35e510d06414dd5a802b51a012d691b37/opencv_python-4.12.0.88-cp37-abi3-manylinux2014_x86_64.manylinux_2_17_x86_64.whl.metadata\n  Using cached opencv_python-4.12.0.88-cp37-abi3-manylinux2014_x86_64.manylinux_2_17_x86_64.whl.metadata (19 kB)\nCollecting onnxruntime<1.16 (from unstructured-inference==0.7.11->unstructured[docx,pdf]==0.10.30)\n  Obtaining dependency information for onnxruntime<1.16 from https://files.pythonhosted.org/packages/3f/89/1310c2607e6531ff358409961e9413dcbde7a878fea4f4608c67dd405add/onnxruntime-1.15.1-cp311-cp311-manylinux_2_17_x86_64.manylinux2014_x86_64.whl.metadata\n  Using cached onnxruntime-1.15.1-cp311-cp311-manylinux_2_17_x86_64.manylinux2014_x86_64.whl.metadata (4.0 kB)\nCollecting aiohappyeyeballs>=2.5.0 (from aiohttp<4.0.0,>=3.8.3->langchain==0.1.5)\n  Obtaining dependency information for aiohappyeyeballs>=2.5.0 from https://files.pythonhosted.org/packages/0f/15/5bf3b99495fb160b63f95972b81750f18f7f4e02ad051373b669d17d44f2/aiohappyeyeballs-2.6.1-py3-none-any.whl.metadata\n  Using cached aiohappyeyeballs-2.6.1-py3-none-any.whl.metadata (5.9 kB)\nCollecting aiosignal>=1.4.0 (from aiohttp<4.0.0,>=3.8.3->langchain==0.1.5)\n  Obtaining dependency information for aiosignal>=1.4.0 from https://files.pythonhosted.org/packages/fb/76/641ae371508676492379f16e2fa48f4e2c11741bd63c48be4b12a6b09cba/aiosignal-1.4.0-py3-none-any.whl.metadata\n  Using cached aiosignal-1.4.0-py3-none-any.whl.metadata (3.7 kB)\nRequirement already satisfied: attrs>=17.3.0 in /databricks/python3/lib/python3.11/site-packages (from aiohttp<4.0.0,>=3.8.3->langchain==0.1.5) (22.1.0)\nRequirement already satisfied: frozenlist>=1.1.1 in /databricks/python3/lib/python3.11/site-packages (from aiohttp<4.0.0,>=3.8.3->langchain==0.1.5) (1.3.3)\nRequirement already satisfied: multidict<7.0,>=4.5 in /databricks/python3/lib/python3.11/site-packages (from aiohttp<4.0.0,>=3.8.3->langchain==0.1.5) (6.0.2)\nCollecting propcache>=0.2.0 (from aiohttp<4.0.0,>=3.8.3->langchain==0.1.5)\n  Obtaining dependency information for propcache>=0.2.0 from https://files.pythonhosted.org/packages/5d/e6/116ba39448753b1330f48ab8ba927dcd6cf0baea8a0ccbc512dfb49ba670/propcache-0.3.2-cp311-cp311-manylinux_2_17_x86_64.manylinux2014_x86_64.whl.metadata\n  Using cached propcache-0.3.2-cp311-cp311-manylinux_2_17_x86_64.manylinux2014_x86_64.whl.metadata (12 kB)\nCollecting yarl<2.0,>=1.17.0 (from aiohttp<4.0.0,>=3.8.3->langchain==0.1.5)\n  Obtaining dependency information for yarl<2.0,>=1.17.0 from https://files.pythonhosted.org/packages/00/70/8f78a95d6935a70263d46caa3dd18e1f223cf2f2ff2037baa01a22bc5b22/yarl-1.20.1-cp311-cp311-manylinux_2_17_x86_64.manylinux2014_x86_64.whl.metadata\n  Using cached yarl-1.20.1-cp311-cp311-manylinux_2_17_x86_64.manylinux2014_x86_64.whl.metadata (73 kB)\nRequirement already satisfied: Mako in /databricks/python3/lib/python3.11/site-packages (from alembic!=1.10.0,<2->mlflow==2.10.1) (1.2.0)\nCollecting typing-extensions (from unstructured[docx,pdf]==0.10.30)\n  Obtaining dependency information for typing-extensions from https://files.pythonhosted.org/packages/b5/00/d631e67a838026495268c2f6884f3711a15a9a2a96cd244fdaea53b823fb/typing_extensions-4.14.1-py3-none-any.whl.metadata\n  Using cached typing_extensions-4.14.1-py3-none-any.whl.metadata (3.0 kB)\nRequirement already satisfied: soupsieve>1.2 in /databricks/python3/lib/python3.11/site-packages (from beautifulsoup4->unstructured[docx,pdf]==0.10.30) (2.4)\nRequirement already satisfied: pyjwt>=1.7.0 in /usr/lib/python3/dist-packages (from databricks-cli<1,>=0.8.7->mlflow==2.10.1) (2.3.0)\nRequirement already satisfied: oauthlib>=3.1.0 in /usr/lib/python3/dist-packages (from databricks-cli<1,>=0.8.7->mlflow==2.10.1) (3.2.0)\nRequirement already satisfied: six>=1.10.0 in /usr/lib/python3/dist-packages (from databricks-cli<1,>=0.8.7->mlflow==2.10.1) (1.16.0)\nRequirement already satisfied: marshmallow<4.0.0,>=3.18.0 in /databricks/python3/lib/python3.11/site-packages (from dataclasses-json->unstructured[docx,pdf]==0.10.30) (3.21.2)\nRequirement already satisfied: wrapt<2,>=1.10 in /databricks/python3/lib/python3.11/site-packages (from deprecated>=1.2.9.3->llama-index==0.9.3) (1.14.1)\nRequirement already satisfied: Werkzeug>=2.2.2 in /databricks/python3/lib/python3.11/site-packages (from Flask<4->mlflow==2.10.1) (2.2.3)\nRequirement already satisfied: itsdangerous>=2.0 in /databricks/python3/lib/python3.11/site-packages (from Flask<4->mlflow==2.10.1) (2.0.1)\nRequirement already satisfied: gitdb<5,>=4.0.1 in /databricks/python3/lib/python3.11/site-packages (from gitpython<4,>=2.1.0->mlflow==2.10.1) (4.0.11)\nRequirement already satisfied: setuptools>=3.0 in /databricks/python3/lib/python3.11/site-packages (from gunicorn<22->mlflow==2.10.1) (68.0.0)\nRequirement already satisfied: zipp>=0.5 in /databricks/python3/lib/python3.11/site-packages (from importlib-metadata!=4.7.0,<8,>=3.7.0->mlflow==2.10.1) (3.11.0)\nRequirement already satisfied: MarkupSafe>=2.0 in /databricks/python3/lib/python3.11/site-packages (from Jinja2<4,>=2.11->mlflow==2.10.1) (2.1.1)\nRequirement already satisfied: jsonpointer>=1.9 in /databricks/python3/lib/python3.11/site-packages (from jsonpatch<2.0,>=1.33->langchain==0.1.5) (3.0.0)\nINFO: pip is looking at multiple versions of langchain-community to determine which version is compatible with other requirements. This could take a while.\nCollecting langchain-community<0.1,>=0.0.17 (from langchain==0.1.5)\n  Obtaining dependency information for langchain-community<0.1,>=0.0.17 from https://files.pythonhosted.org/packages/4a/d3/c3c1d4fc775551d18fbc3d62ae2cac7cb4c56614532a3e492a799d597b57/langchain_community-0.0.37-py3-none-any.whl.metadata\n  Using cached langchain_community-0.0.37-py3-none-any.whl.metadata (8.7 kB)\n  Obtaining dependency information for langchain-community<0.1,>=0.0.17 from https://files.pythonhosted.org/packages/ef/20/df5eb4eaf6a027fb185ac97720f5d365d11c972a122bb9fa2ba8a435b8ea/langchain_community-0.0.36-py3-none-any.whl.metadata\n  Using cached langchain_community-0.0.36-py3-none-any.whl.metadata (8.7 kB)\n  Obtaining dependency information for langchain-community<0.1,>=0.0.17 from https://files.pythonhosted.org/packages/b4/9a/ace5461a52b173bed9955bc828142d30506d2a944d1882a44a7fadea8a4c/langchain_community-0.0.35-py3-none-any.whl.metadata\n  Using cached langchain_community-0.0.35-py3-none-any.whl.metadata (8.7 kB)\n  Obtaining dependency information for langchain-community<0.1,>=0.0.17 from https://files.pythonhosted.org/packages/0a/48/40d8863d18160f3d148d173db3180b0a558525562e9c5ab8c2a338684919/langchain_community-0.0.34-py3-none-any.whl.me\n\n*** WARNING: max output size exceeded, skipping output. ***\n\nmation for langchain-core<0.2,>=0.1.16 from https://files.pythonhosted.org/packages/8c/ed/76c8e2451418b2169fc0d52d3fe9bf63bcaa24bac3f32b27692b9d22ec23/langchain_core-0.1.25-py3-none-any.whl.metadata\n  Using cached langchain_core-0.1.25-py3-none-any.whl.metadata (6.0 kB)\n  Obtaining dependency information for langchain-core<0.2,>=0.1.16 from https://files.pythonhosted.org/packages/a4/cc/ff9b7afd637d44a3e33d14d37b6fabd80638702aa0c0afe6f47d3b28cbfd/langchain_core-0.1.24-py3-none-any.whl.metadata\n  Using cached langchain_core-0.1.24-py3-none-any.whl.metadata (6.0 kB)\n  Obtaining dependency information for langchain-core<0.2,>=0.1.16 from https://files.pythonhosted.org/packages/b1/e9/7e624fe4a7619821331ad2e943fbfc2eab7465cf97ee95158c435a276d3e/langchain_core-0.1.23-py3-none-any.whl.metadata\n  Using cached langchain_core-0.1.23-py3-none-any.whl.metadata (6.0 kB)\nCollecting langsmith<0.1,>=0.0.83 (from langchain==0.1.5)\n  Obtaining dependency information for langsmith<0.1,>=0.0.83 from https://files.pythonhosted.org/packages/94/99/762b50b229516dd133e09c16213736b88d50d75e262b976e20cc244280ed/langsmith-0.0.87-py3-none-any.whl.metadata\n  Using cached langsmith-0.0.87-py3-none-any.whl.metadata (10 kB)\nRequirement already satisfied: contourpy>=1.0.1 in /databricks/python3/lib/python3.11/site-packages (from matplotlib<4->mlflow==2.10.1) (1.0.5)\nRequirement already satisfied: cycler>=0.10 in /databricks/python3/lib/python3.11/site-packages (from matplotlib<4->mlflow==2.10.1) (0.11.0)\nRequirement already satisfied: fonttools>=4.22.0 in /databricks/python3/lib/python3.11/site-packages (from matplotlib<4->mlflow==2.10.1) (4.25.0)\nRequirement already satisfied: kiwisolver>=1.0.1 in /databricks/python3/lib/python3.11/site-packages (from matplotlib<4->mlflow==2.10.1) (1.4.4)\nRequirement already satisfied: pillow>=6.2.0 in /databricks/python3/lib/python3.11/site-packages (from matplotlib<4->mlflow==2.10.1) (9.4.0)\nRequirement already satisfied: pyparsing<3.1,>=2.3.1 in /databricks/python3/lib/python3.11/site-packages (from matplotlib<4->mlflow==2.10.1) (3.0.9)\nRequirement already satisfied: python-dateutil>=2.7 in /databricks/python3/lib/python3.11/site-packages (from matplotlib<4->mlflow==2.10.1) (2.8.2)\nRequirement already satisfied: cachetools<6,>=5.0.0 in /databricks/python3/lib/python3.11/site-packages (from mlflow-skinny<3,>=2.4.0->databricks-vectorsearch==0.22) (5.4.0)\nRequirement already satisfied: databricks-sdk<1,>=0.20.0 in /databricks/python3/lib/python3.11/site-packages (from mlflow-skinny<3,>=2.4.0->databricks-vectorsearch==0.22) (0.20.0)\nRequirement already satisfied: opentelemetry-api<3,>=1.9.0 in /databricks/python3/lib/python3.11/site-packages (from mlflow-skinny<3,>=2.4.0->databricks-vectorsearch==0.22) (1.25.0)\nRequirement already satisfied: opentelemetry-sdk<3,>=1.9.0 in /databricks/python3/lib/python3.11/site-packages (from mlflow-skinny<3,>=2.4.0->databricks-vectorsearch==0.22) (1.25.0)\nRequirement already satisfied: joblib in /databricks/python3/lib/python3.11/site-packages (from nltk->unstructured[docx,pdf]==0.10.30) (1.2.0)\nRequirement already satisfied: distro<2,>=1.7.0 in /usr/lib/python3/dist-packages (from openai>=1.1.0->llama-index==0.9.3) (1.7.0)\nRequirement already satisfied: sniffio in /databricks/python3/lib/python3.11/site-packages (from openai>=1.1.0->llama-index==0.9.3) (1.2.0)\nRequirement already satisfied: certifi in /databricks/python3/lib/python3.11/site-packages (from httpx->llama-index==0.9.3) (2023.7.22)\nRequirement already satisfied: httpcore==1.* in /databricks/python3/lib/python3.11/site-packages (from httpx->llama-index==0.9.3) (1.0.5)\nRequirement already satisfied: idna in /databricks/python3/lib/python3.11/site-packages (from httpx->llama-index==0.9.3) (3.4)\nRequirement already satisfied: h11<0.15,>=0.13 in /databricks/python3/lib/python3.11/site-packages (from httpcore==1.*->httpx->llama-index==0.9.3) (0.14.0)\nRequirement already satisfied: charset-normalizer<4,>=2 in /databricks/python3/lib/python3.11/site-packages (from requests->transformers==4.30.2) (2.0.4)\nRequirement already satisfied: threadpoolctl>=2.0.0 in /databricks/python3/lib/python3.11/site-packages (from scikit-learn<2->mlflow==2.10.1) (2.2.0)\nRequirement already satisfied: greenlet!=0.4.17 in /databricks/python3/lib/python3.11/site-packages (from SQLAlchemy<3,>=1.4->langchain==0.1.5) (2.0.1)\nRequirement already satisfied: mypy-extensions>=0.3.0 in /databricks/python3/lib/python3.11/site-packages (from typing-inspect>=0.8.0->llama-index==0.9.3) (0.4.3)\nCollecting protobuf<5,>=3.12.0 (from databricks-vectorsearch==0.22)\n  Obtaining dependency information for protobuf<5,>=3.12.0 from https://files.pythonhosted.org/packages/d6/c6/c9deaa6e789b6fc41b88ccbdfe7a42d2b82663248b715f55aa77fbc00724/protobuf-4.25.8-cp37-abi3-manylinux2014_x86_64.whl.metadata\n  Using cached protobuf-4.25.8-cp37-abi3-manylinux2014_x86_64.whl.metadata (541 bytes)\n\u001B[33mWARNING: pandas 1.5.3 does not provide the extra 'jinja2'\u001B[0m\u001B[33m\n\u001B[0mRequirement already satisfied: cryptography>=36.0.0 in /databricks/python3/lib/python3.11/site-packages (from pdfminer.six->unstructured[docx,pdf]==0.10.30) (41.0.3)\nRequirement already satisfied: cffi>=1.12 in /databricks/python3/lib/python3.11/site-packages (from cryptography>=36.0.0->pdfminer.six->unstructured[docx,pdf]==0.10.30) (1.15.1)\nRequirement already satisfied: google-auth~=2.0 in /databricks/python3/lib/python3.11/site-packages (from databricks-sdk<1,>=0.20.0->mlflow-skinny<3,>=2.4.0->databricks-vectorsearch==0.22) (2.21.0)\nRequirement already satisfied: smmap<6,>=3.0.1 in /databricks/python3/lib/python3.11/site-packages (from gitdb<5,>=4.0.1->gitpython<4,>=2.1.0->mlflow==2.10.1) (5.0.0)\nCollecting coloredlogs (from onnxruntime<1.16->unstructured-inference==0.7.11->unstructured[docx,pdf]==0.10.30)\n  Obtaining dependency information for coloredlogs from https://files.pythonhosted.org/packages/a7/06/3d6badcf13db419e25b07041d9c7b4a2c331d3f4e7134445ec5df57714cd/coloredlogs-15.0.1-py2.py3-none-any.whl.metadata\n  Using cached coloredlogs-15.0.1-py2.py3-none-any.whl.metadata (12 kB)\nRequirement already satisfied: flatbuffers in /databricks/python3/lib/python3.11/site-packages (from onnxruntime<1.16->unstructured-inference==0.7.11->unstructured[docx,pdf]==0.10.30) (24.3.25)\nCollecting numpy>=1.17 (from transformers==4.30.2)\n  Obtaining dependency information for numpy>=1.17 from https://files.pythonhosted.org/packages/3a/d0/edc009c27b406c4f9cbc79274d6e46d634d139075492ad055e3d68445925/numpy-1.26.4-cp311-cp311-manylinux_2_17_x86_64.manylinux2014_x86_64.whl.metadata\n  Using cached numpy-1.26.4-cp311-cp311-manylinux_2_17_x86_64.manylinux2014_x86_64.whl.metadata (61 kB)\nRequirement already satisfied: sympy in /databricks/python3/lib/python3.11/site-packages (from onnxruntime<1.16->unstructured-inference==0.7.11->unstructured[docx,pdf]==0.10.30) (1.11.1)\nINFO: pip is looking at multiple versions of opencv-python to determine which version is compatible with other requirements. This could take a while.\nCollecting opencv-python!=4.7.0.68 (from unstructured-inference==0.7.11->unstructured[docx,pdf]==0.10.30)\n  Obtaining dependency information for opencv-python!=4.7.0.68 from https://files.pythonhosted.org/packages/2c/8b/90eb44a40476fa0e71e05a0283947cfd74a5d36121a11d926ad6f3193cc4/opencv_python-4.11.0.86-cp37-abi3-manylinux_2_17_x86_64.manylinux2014_x86_64.whl.metadata\n  Using cached opencv_python-4.11.0.86-cp37-abi3-manylinux_2_17_x86_64.manylinux2014_x86_64.whl.metadata (20 kB)\nRequirement already satisfied: opentelemetry-semantic-conventions==0.46b0 in /databricks/python3/lib/python3.11/site-packages (from opentelemetry-sdk<3,>=1.9.0->mlflow-skinny<3,>=2.4.0->databricks-vectorsearch==0.22) (0.46b0)\nCollecting iopath (from layoutparser[layoutmodels,tesseract]->unstructured-inference==0.7.11->unstructured[docx,pdf]==0.10.30)\n  Using cached iopath-0.1.10-py3-none-any.whl\nCollecting pdfplumber (from layoutparser[layoutmodels,tesseract]->unstructured-inference==0.7.11->unstructured[docx,pdf]==0.10.30)\n  Obtaining dependency information for pdfplumber from https://files.pythonhosted.org/packages/db/e0/52b67d4f00e09e497aec4f71bc44d395605e8ebcea52543242ed34c25ef9/pdfplumber-0.11.7-py3-none-any.whl.metadata\n  Using cached pdfplumber-0.11.7-py3-none-any.whl.metadata (42 kB)\nRequirement already satisfied: torch in /databricks/python3/lib/python3.11/site-packages (from layoutparser[layoutmodels,tesseract]->unstructured-inference==0.7.11->unstructured[docx,pdf]==0.10.30) (2.3.1+cpu)\nRequirement already satisfied: torchvision in /databricks/python3/lib/python3.11/site-packages (from layoutparser[layoutmodels,tesseract]->unstructured-inference==0.7.11->unstructured[docx,pdf]==0.10.30) (0.18.1+cpu)\nCollecting effdet (from layoutparser[layoutmodels,tesseract]->unstructured-inference==0.7.11->unstructured[docx,pdf]==0.10.30)\n  Obtaining dependency information for effdet from https://files.pythonhosted.org/packages/9c/13/563119fe0af82aca5a3b89399c435953072c39515c2e818eb82793955c3b/effdet-0.4.1-py3-none-any.whl.metadata\n  Using cached effdet-0.4.1-py3-none-any.whl.metadata (33 kB)\nRequirement already satisfied: pytesseract in /databricks/python3/lib/python3.11/site-packages (from layoutparser[layoutmodels,tesseract]->unstructured-inference==0.7.11->unstructured[docx,pdf]==0.10.30) (0.3.10)\nRequirement already satisfied: pycparser in /databricks/python3/lib/python3.11/site-packages (from cffi>=1.12->cryptography>=36.0.0->pdfminer.six->unstructured[docx,pdf]==0.10.30) (2.21)\nRequirement already satisfied: pyasn1-modules>=0.2.1 in /databricks/python3/lib/python3.11/site-packages (from google-auth~=2.0->databricks-sdk<1,>=0.20.0->mlflow-skinny<3,>=2.4.0->databricks-vectorsearch==0.22) (0.2.8)\nRequirement already satisfied: rsa<5,>=3.1.4 in /databricks/python3/lib/python3.11/site-packages (from google-auth~=2.0->databricks-sdk<1,>=0.20.0->mlflow-skinny<3,>=2.4.0->databricks-vectorsearch==0.22) (4.9)\nCollecting humanfriendly>=9.1 (from coloredlogs->onnxruntime<1.16->unstructured-inference==0.7.11->unstructured[docx,pdf]==0.10.30)\n  Obtaining dependency information for humanfriendly>=9.1 from https://files.pythonhosted.org/packages/f0/0f/310fb31e39e2d734ccaa2c0fb981ee41f7bd5056ce9bc29b2248bd569169/humanfriendly-10.0-py2.py3-none-any.whl.metadata\n  Using cached humanfriendly-10.0-py2.py3-none-any.whl.metadata (9.2 kB)\nCollecting timm>=0.9.2 (from effdet->layoutparser[layoutmodels,tesseract]->unstructured-inference==0.7.11->unstructured[docx,pdf]==0.10.30)\n  Obtaining dependency information for timm>=0.9.2 from https://files.pythonhosted.org/packages/dc/74/661c63260cccf19ed5932e8b3f22f95ecd8bb34b9d9e6af9e1e7b961f254/timm-1.0.19-py3-none-any.whl.metadata\n  Using cached timm-1.0.19-py3-none-any.whl.metadata (60 kB)\nCollecting pycocotools>=2.0.2 (from effdet->layoutparser[layoutmodels,tesseract]->unstructured-inference==0.7.11->unstructured[docx,pdf]==0.10.30)\n  Obtaining dependency information for pycocotools>=2.0.2 from https://files.pythonhosted.org/packages/a7/ec/7827cd9ce6e80f739fab0163ecb3765df54af744a9bab64b0058bdce47ef/pycocotools-2.0.10-cp311-cp311-manylinux_2_17_x86_64.manylinux2014_x86_64.whl.metadata\n  Using cached pycocotools-2.0.10-cp311-cp311-manylinux_2_17_x86_64.manylinux2014_x86_64.whl.metadata (1.3 kB)\nCollecting omegaconf>=2.0 (from effdet->layoutparser[layoutmodels,tesseract]->unstructured-inference==0.7.11->unstructured[docx,pdf]==0.10.30)\n  Obtaining dependency information for omegaconf>=2.0 from https://files.pythonhosted.org/packages/e3/94/1843518e420fa3ed6919835845df698c7e27e183cb997394e4a670973a65/omegaconf-2.3.0-py3-none-any.whl.metadata\n  Using cached omegaconf-2.3.0-py3-none-any.whl.metadata (3.9 kB)\nRequirement already satisfied: networkx in /databricks/python3/lib/python3.11/site-packages (from torch->layoutparser[layoutmodels,tesseract]->unstructured-inference==0.7.11->unstructured[docx,pdf]==0.10.30) (3.1)\nRequirement already satisfied: portalocker in /databricks/python3/lib/python3.11/site-packages (from iopath->layoutparser[layoutmodels,tesseract]->unstructured-inference==0.7.11->unstructured[docx,pdf]==0.10.30) (2.10.1)\nCollecting pypdfium2>=4.18.0 (from pdfplumber->layoutparser[layoutmodels,tesseract]->unstructured-inference==0.7.11->unstructured[docx,pdf]==0.10.30)\n  Obtaining dependency information for pypdfium2>=4.18.0 from https://files.pythonhosted.org/packages/65/cd/3f1edf20a0ef4a212a5e20a5900e64942c5a374473671ac0780eaa08ea80/pypdfium2-4.30.0-py3-none-manylinux_2_17_x86_64.manylinux2014_x86_64.whl.metadata\n  Using cached pypdfium2-4.30.0-py3-none-manylinux_2_17_x86_64.manylinux2014_x86_64.whl.metadata (48 kB)\nRequirement already satisfied: mpmath>=0.19 in /databricks/python3/lib/python3.11/site-packages (from sympy->onnxruntime<1.16->unstructured-inference==0.7.11->unstructured[docx,pdf]==0.10.30) (1.3.0)\nCollecting antlr4-python3-runtime==4.9.* (from omegaconf>=2.0->effdet->layoutparser[layoutmodels,tesseract]->unstructured-inference==0.7.11->unstructured[docx,pdf]==0.10.30)\n  Using cached antlr4_python3_runtime-4.9.3-py3-none-any.whl\nRequirement already satisfied: pyasn1<0.5.0,>=0.4.6 in /databricks/python3/lib/python3.11/site-packages (from pyasn1-modules>=0.2.1->google-auth~=2.0->databricks-sdk<1,>=0.20.0->mlflow-skinny<3,>=2.4.0->databricks-vectorsearch==0.22) (0.4.8)\nUsing cached transformers-4.30.2-py3-none-any.whl (7.2 MB)\nUsing cached langchain-0.1.5-py3-none-any.whl (806 kB)\nUsing cached llama_index-0.9.3-py3-none-any.whl (886 kB)\nUsing cached databricks_vectorsearch-0.22-py3-none-any.whl (8.5 kB)\nUsing cached pydantic-1.10.9-cp311-cp311-manylinux_2_17_x86_64.manylinux2014_x86_64.whl (3.1 MB)\nUsing cached mlflow-2.10.1-py3-none-any.whl (19.5 MB)\nUsing cached unstructured_inference-0.7.11-py3-none-any.whl (62 kB)\nUsing cached aiohttp-3.12.15-cp311-cp311-manylinux_2_17_x86_64.manylinux2014_x86_64.whl (1.7 MB)\nUsing cached aiostream-0.5.2-py3-none-any.whl (39 kB)\nUsing cached alembic-1.16.4-py3-none-any.whl (247 kB)\nUsing cached databricks_cli-0.18.0-py2.py3-none-any.whl (150 kB)\nUsing cached dataclasses_json-0.5.14-py3-none-any.whl (26 kB)\nUsing cached docker-7.1.0-py3-none-any.whl (147 kB)\nUsing cached langchain_community-0.0.20-py3-none-any.whl (1.7 MB)\nUsing cached langchain_core-0.1.23-py3-none-any.whl (241 kB)\nUsing cached langsmith-0.0.87-py3-none-any.whl (55 kB)\nUsing cached nest_asyncio-1.6.0-py3-none-any.whl (5.2 kB)\nUsing cached python_docx-1.2.0-py3-none-any.whl (252 kB)\nUsing cached querystring_parser-1.2.4-py2.py3-none-any.whl (7.9 kB)\nUsing cached sqlalchemy-2.0.42-cp311-cp311-manylinux_2_17_x86_64.manylinux2014_x86_64.whl (3.3 MB)\nUsing cached tabulate-0.9.0-py3-none-any.whl (35 kB)\nUsing cached tokenizers-0.13.3-cp311-cp311-manylinux_2_17_x86_64.manylinux2014_x86_64.whl (7.8 MB)\nUsing cached typing_extensions-4.14.1-py3-none-any.whl (43 kB)\nUsing cached unstructured.pytesseract-0.3.15-py3-none-any.whl (14 kB)\nUsing cached backoff-2.2.1-py3-none-any.whl (15 kB)\nUsing cached emoji-2.14.1-py3-none-any.whl (590 kB)\nUsing cached filetype-1.2.0-py2.py3-none-any.whl (19 kB)\nUsing cached onnx-1.18.0-cp311-cp311-manylinux_2_17_x86_64.manylinux2014_x86_64.whl (17.6 MB)\nUsing cached protobuf-4.25.8-cp37-abi3-manylinux2014_x86_64.whl (294 kB)\nUsing cached pdf2image-1.17.0-py3-none-any.whl (11 kB)\nUsing cached pdfminer_six-20250506-py3-none-any.whl (5.6 MB)\nUsing cached python_iso639-2025.2.18-py3-none-any.whl (167 kB)\nUsing cached python_magic-0.4.27-py2.py3-none-any.whl (13 kB)\nUsing cached rapidfuzz-3.13.0-cp311-cp311-manylinux_2_17_x86_64.manylinux2014_x86_64.whl (3.1 MB)\nUsing cached unstructured-0.10.30-py3-none-any.whl (1.7 MB)\nUsing cached aiohappyeyeballs-2.6.1-py3-none-any.whl (15 kB)\nUsing cached aiosignal-1.4.0-py3-none-any.whl (7.5 kB)\nUsing cached onnxruntime-1.15.1-cp311-cp311-manylinux_2_17_x86_64.manylinux2014_x86_64.whl (5.9 MB)\nUsing cached numpy-1.26.4-cp311-cp311-manylinux_2_17_x86_64.manylinux2014_x86_64.whl (18.3 MB)\nUsing cached opencv_python-4.11.0.86-cp37-abi3-manylinux_2_17_x86_64.manylinux2014_x86_64.whl (63.0 MB)\nUsing cached propcache-0.3.2-cp311-cp311-manylinux_2_17_x86_64.manylinux2014_x86_64.whl (213 kB)\nUsing cached yarl-1.20.1-cp311-cp311-manylinux_2_17_x86_64.manylinux2014_x86_64.whl (348 kB)\nUsing cached python_multipart-0.0.20-py3-none-any.whl (24 kB)\nUsing cached coloredlogs-15.0.1-py2.py3-none-any.whl (46 kB)\nUsing cached effdet-0.4.1-py3-none-any.whl (112 kB)\nUsing cached layoutparser-0.3.4-py3-none-any.whl (19.2 MB)\nUsing cached pdfplumber-0.11.7-py3-none-any.whl (60 kB)\nUsing cached humanfriendly-10.0-py2.py3-none-any.whl (86 kB)\nUsing cached omegaconf-2.3.0-py3-none-any.whl (79 kB)\nUsing cached pycocotools-2.0.10-cp311-cp311-manylinux_2_17_x86_64.manylinux2014_x86_64.whl (477 kB)\nUsing cached pypdfium2-4.30.0-py3-none-manylinux_2_17_x86_64.manylinux2014_x86_64.whl (2.8 MB)\nUsing cached timm-1.0.19-py3-none-any.whl (2.5 MB)\nInstalling collected packages: tokenizers, filetype, antlr4-python3-runtime, unstructured.pytesseract, typing-extensions, tabulate, rapidfuzz, querystring-parser, python-multipart, python-magic, python-iso639, pypdfium2, protobuf, propcache, pdf2image, omegaconf, numpy, nest-asyncio, langdetect, humanfriendly, emoji, backoff, aiohappyeyeballs, yarl, SQLAlchemy, python-docx, pydantic, pycocotools, opencv-python, onnx, iopath, docker, databricks-cli, coloredlogs, aiostream, aiosignal, transformers, pdfminer.six, onnxruntime, langsmith, dataclasses-json, alembic, aiohttp, unstructured, timm, pdfplumber, mlflow, llama-index, langchain-core, layoutparser, langchain-community, effdet, langchain, databricks-vectorsearch, unstructured-inference\n  Attempting uninstall: tokenizers\n    Found existing installation: tokenizers 0.19.0\n    Not uninstalling tokenizers at /databricks/python3/lib/python3.11/site-packages, outside environment /local_disk0/.ephemeral_nfs/envs/pythonEnv-d452cac2-cf21-4cee-804b-adad4bed3734\n    Can't uninstall 'tokenizers'. No files were found to uninstall.\n  Attempting uninstall: typing-extensions\n    Found existing installation: typing_extensions 4.10.0\n    Not uninstalling typing-extensions at /databricks/python3/lib/python3.11/site-packages, outside environment /local_disk0/.ephemeral_nfs/envs/pythonEnv-d452cac2-cf21-4cee-804b-adad4bed3734\n    Can't uninstall 'typing_extensions'. No files were found to uninstall.\n  Attempting uninstall: protobuf\n    Found existing installation: protobuf 4.24.1\n    Not uninstalling protobuf at /databricks/python3/lib/python3.11/site-packages, outside environment /local_disk0/.ephemeral_nfs/envs/pythonEnv-d452cac2-cf21-4cee-804b-adad4bed3734\n    Can't uninstall 'protobuf'. No files were found to uninstall.\n  Attempting uninstall: numpy\n    Found existing installation: numpy 1.23.5\n    Not uninstalling numpy at /databricks/python3/lib/python3.11/site-packages, outside environment /local_disk0/.ephemeral_nfs/envs/pythonEnv-d452cac2-cf21-4cee-804b-adad4bed3734\n    Can't uninstall 'numpy'. No files were found to uninstall.\n  Attempting uninstall: nest-asyncio\n    Found existing installation: nest-asyncio 1.5.6\n    Not uninstalling nest-asyncio at /databricks/python3/lib/python3.11/site-packages, outside environment /local_disk0/.ephemeral_nfs/envs/pythonEnv-d452cac2-cf21-4cee-804b-adad4bed3734\n    Can't uninstall 'nest-asyncio'. No files were found to uninstall.\n  Attempting uninstall: yarl\n    Found existing installation: yarl 1.8.1\n    Not uninstalling yarl at /databricks/python3/lib/python3.11/site-packages, outside environment /local_disk0/.ephemeral_nfs/envs/pythonEnv-d452cac2-cf21-4cee-804b-adad4bed3734\n    Can't uninstall 'yarl'. No files were found to uninstall.\n  Attempting uninstall: SQLAlchemy\n    Found existing installation: SQLAlchemy 1.4.39\n    Not uninstalling sqlalchemy at /databricks/python3/lib/python3.11/site-packages, outside environment /local_disk0/.ephemeral_nfs/envs/pythonEnv-d452cac2-cf21-4cee-804b-adad4bed3734\n    Can't uninstall 'SQLAlchemy'. No files were found to uninstall.\n  Attempting uninstall: pydantic\n    Found existing installation: pydantic 1.10.6\n    Not uninstalling pydantic at /databricks/python3/lib/python3.11/site-packages, outside environment /local_disk0/.ephemeral_nfs/envs/pythonEnv-d452cac2-cf21-4cee-804b-adad4bed3734\n    Can't uninstall 'pydantic'. No files were found to uninstall.\n  Attempting uninstall: aiosignal\n    Found existing installation: aiosignal 1.2.0\n    Not uninstalling aiosignal at /databricks/python3/lib/python3.11/site-packages, outside environment /local_disk0/.ephemeral_nfs/envs/pythonEnv-d452cac2-cf21-4cee-804b-adad4bed3734\n    Can't uninstall 'aiosignal'. No files were found to uninstall.\n  Attempting uninstall: transformers\n    Found existing installation: transformers 4.41.2\n    Not uninstalling transformers at /databricks/python3/lib/python3.11/site-packages, outside environment /local_disk0/.ephemeral_nfs/envs/pythonEnv-d452cac2-cf21-4cee-804b-adad4bed3734\n    Can't uninstall 'transformers'. No files were found to uninstall.\n  Attempting uninstall: langsmith\n    Found existing installation: langsmith 0.1.63\n    Not uninstalling langsmith at /databricks/python3/lib/python3.11/site-packages, outside environment /local_disk0/.ephemeral_nfs/envs/pythonEnv-d452cac2-cf21-4cee-804b-adad4bed3734\n    Can't uninstall 'langsmith'. No files were found to uninstall.\n  Attempting uninstall: dataclasses-json\n    Found existing installation: dataclasses-json 0.6.7\n    Not uninstalling dataclasses-json at /databricks/python3/lib/python3.11/site-packages, outside environment /local_disk0/.ephemeral_nfs/envs/pythonEnv-d452cac2-cf21-4cee-804b-adad4bed3734\n    Can't uninstall 'dataclasses-json'. No files were found to uninstall.\n  Attempting uninstall: aiohttp\n    Found existing installation: aiohttp 3.8.5\n    Not uninstalling aiohttp at /databricks/python3/lib/python3.11/site-packages, outside environment /local_disk0/.ephemeral_nfs/envs/pythonEnv-d452cac2-cf21-4cee-804b-adad4bed3734\n    Can't uninstall 'aiohttp'. No files were found to uninstall.\n  Attempting uninstall: langchain-core\n    Found existing installation: langchain-core 0.1.52\n    Not uninstalling langchain-core at /databricks/python3/lib/python3.11/site-packages, outside environment /local_disk0/.ephemeral_nfs/envs/pythonEnv-d452cac2-cf21-4cee-804b-adad4bed3734\n    Can't uninstall 'langchain-core'. No files were found to uninstall.\n  Attempting uninstall: langchain-community\n    Found existing installation: langchain-community 0.0.38\n    Not uninstalling langchain-community at /databricks/python3/lib/python3.11/site-packages, outside environment /local_disk0/.ephemeral_nfs/envs/pythonEnv-d452cac2-cf21-4cee-804b-adad4bed3734\n    Can't uninstall 'langchain-community'. No files were found to uninstall.\n  Attempting uninstall: langchain\n    Found existing installation: langchain 0.1.20\n    Not uninstalling langchain at /databricks/python3/lib/python3.11/site-packages, outside environment /local_disk0/.ephemeral_nfs/envs/pythonEnv-d452cac2-cf21-4cee-804b-adad4bed3734\n    Can't uninstall 'langchain'. No files were found to uninstall.\n\u001B[31mERROR: pip's dependency resolver does not currently take into account all the packages that are installed. This behaviour is the source of the following dependency conflicts.\npetastorm 0.12.1 requires pyspark>=2.1.0, which is not installed.\nlangchain-text-splitters 0.0.2 requires langchain-core<0.3,>=0.1.28, but you have langchain-core 0.1.23 which is incompatible.\nnumba 0.57.1 requires numpy<1.25,>=1.21, but you have numpy 1.26.4 which is incompatible.\nsentence-transformers 2.7.0 requires transformers<5.0.0,>=4.34.0, but you have transformers 4.30.2 which is incompatible.\nydata-profiling 4.5.1 requires numpy<1.24,>=1.16.0, but you have numpy 1.26.4 which is incompatible.\u001B[0m\u001B[31m\n\u001B[0mSuccessfully installed SQLAlchemy-2.0.42 aiohappyeyeballs-2.6.1 aiohttp-3.12.15 aiosignal-1.4.0 aiostream-0.5.2 alembic-1.16.4 antlr4-python3-runtime-4.9.3 backoff-2.2.1 coloredlogs-15.0.1 databricks-cli-0.18.0 databricks-vectorsearch-0.22 dataclasses-json-0.5.14 docker-7.1.0 effdet-0.4.1 emoji-2.14.1 filetype-1.2.0 humanfriendly-10.0 iopath-0.1.10 langchain-0.1.5 langchain-community-0.0.20 langchain-core-0.1.23 langdetect-1.0.9 langsmith-0.0.87 layoutparser-0.3.4 llama-index-0.9.3 mlflow-2.10.1 nest-asyncio-1.6.0 numpy-1.26.4 omegaconf-2.3.0 onnx-1.18.0 onnxruntime-1.15.1 opencv-python-4.11.0.86 pdf2image-1.17.0 pdfminer.six-20250506 pdfplumber-0.11.7 propcache-0.3.2 protobuf-4.25.8 pycocotools-2.0.10 pydantic-1.10.9 pypdfium2-4.30.0 python-docx-1.2.0 python-iso639-2025.2.18 python-magic-0.4.27 python-multipart-0.0.20 querystring-parser-1.2.4 rapidfuzz-3.13.0 tabulate-0.9.0 timm-1.0.19 tokenizers-0.13.3 transformers-4.30.2 typing-extensions-4.14.1 unstructured-0.10.30 unstructured-inference-0.7.11 unstructured.pytesseract-0.3.15 yarl-1.20.1\n\u001B[43mNote: you may need to restart the kernel using %restart_python or dbutils.library.restartPython() to use updated packages.\u001B[0m\n"
     ]
    }
   ],
   "source": [
    "%pip install transformers==4.30.2 \"unstructured[pdf,docx]==0.10.30\" langchain==0.1.5 llama-index==0.9.3 databricks-vectorsearch==0.22 pydantic==1.10.9 mlflow==2.10.1\n",
    "dbutils.library.restartPython()"
   ]
  },
  {
   "cell_type": "markdown",
   "metadata": {
    "application/vnd.databricks.v1+cell": {
     "cellMetadata": {
      "byteLimit": 2048000,
      "rowLimit": 10000
     },
     "inputWidgets": {},
     "nuid": "501c060b-b247-4c08-bb26-12d69af64ceb",
     "showTitle": false,
     "tableResultSettingsMap": {},
     "title": ""
    }
   },
   "source": [
    "### Init our resources and catalog"
   ]
  },
  {
   "cell_type": "code",
   "execution_count": 0,
   "metadata": {
    "application/vnd.databricks.v1+cell": {
     "cellMetadata": {
      "byteLimit": 2048000,
      "rowLimit": 10000
     },
     "inputWidgets": {},
     "nuid": "a25d3066-a2ed-41b9-96b2-74618d9a20e9",
     "showTitle": false,
     "tableResultSettingsMap": {},
     "title": ""
    }
   },
   "outputs": [],
   "source": [
    "%run ./00-init $reset_all_data=false"
   ]
  },
  {
   "cell_type": "markdown",
   "metadata": {
    "application/vnd.databricks.v1+cell": {
     "cellMetadata": {
      "byteLimit": 2048000,
      "rowLimit": 10000
     },
     "inputWidgets": {},
     "nuid": "ca15e09e-062c-48f9-a6e5-b51299a986bc",
     "showTitle": false,
     "tableResultSettingsMap": {},
     "title": ""
    }
   },
   "source": [
    "###pdf files are available in Volume (or DBFS)"
   ]
  },
  {
   "cell_type": "code",
   "execution_count": 0,
   "metadata": {
    "application/vnd.databricks.v1+cell": {
     "cellMetadata": {
      "byteLimit": 2048000,
      "rowLimit": 10000
     },
     "inputWidgets": {},
     "nuid": "ed3b13cb-9a00-4ab9-9dc5-161decd1b329",
     "showTitle": false,
     "tableResultSettingsMap": {},
     "title": ""
    }
   },
   "outputs": [
    {
     "output_type": "display_data",
     "data": {
      "text/html": [
       "<style scoped>\n",
       "  .table-result-container {\n",
       "    max-height: 300px;\n",
       "    overflow: auto;\n",
       "  }\n",
       "  table, th, td {\n",
       "    border: 1px solid black;\n",
       "    border-collapse: collapse;\n",
       "  }\n",
       "  th, td {\n",
       "    padding: 5px;\n",
       "  }\n",
       "  th {\n",
       "    text-align: left;\n",
       "  }\n",
       "</style><div class='table-result-container'><table class='table-result'><thead style='background-color: white'><tr><th>path</th><th>name</th><th>size</th><th>modificationTime</th></tr></thead><tbody><tr><td>dbfs:/Volumes/litware_unity_catalog/rag/documents_store/pdf_documents/Contoso Quarterly Financial Report - December 2023.pdf</td><td>Contoso Quarterly Financial Report - December 2023.pdf</td><td>137216</td><td>1753967249000</td></tr><tr><td>dbfs:/Volumes/litware_unity_catalog/rag/documents_store/pdf_documents/Contoso Quarterly Financial Report - March 2024.pdf</td><td>Contoso Quarterly Financial Report - March 2024.pdf</td><td>111983</td><td>1753967249000</td></tr><tr><td>dbfs:/Volumes/litware_unity_catalog/rag/documents_store/pdf_documents/Contoso Quarterly Market SentimentReport - December 2023.pdf</td><td>Contoso Quarterly Market SentimentReport - December 2023.pdf</td><td>207724</td><td>1753967250000</td></tr><tr><td>dbfs:/Volumes/litware_unity_catalog/rag/documents_store/pdf_documents/Contoso Quarterly Market SentimentReport - March 2024.pdf</td><td>Contoso Quarterly Market SentimentReport - March 2024.pdf</td><td>203184</td><td>1753967250000</td></tr><tr><td>dbfs:/Volumes/litware_unity_catalog/rag/documents_store/pdf_documents/Contoso_improve_customer_churn.pdf</td><td>Contoso_improve_customer_churn.pdf</td><td>634144</td><td>1753967249000</td></tr></tbody></table></div>"
      ]
     },
     "metadata": {
      "application/vnd.databricks.v1+output": {
       "addedWidgets": {},
       "aggData": [],
       "aggError": "",
       "aggOverflow": false,
       "aggSchema": [],
       "aggSeriesLimitReached": false,
       "aggType": "",
       "arguments": {},
       "columnCustomDisplayInfos": {},
       "data": [
        [
         "dbfs:/Volumes/litware_unity_catalog/rag/documents_store/pdf_documents/Contoso Quarterly Financial Report - December 2023.pdf",
         "Contoso Quarterly Financial Report - December 2023.pdf",
         137216,
         1753967249000
        ],
        [
         "dbfs:/Volumes/litware_unity_catalog/rag/documents_store/pdf_documents/Contoso Quarterly Financial Report - March 2024.pdf",
         "Contoso Quarterly Financial Report - March 2024.pdf",
         111983,
         1753967249000
        ],
        [
         "dbfs:/Volumes/litware_unity_catalog/rag/documents_store/pdf_documents/Contoso Quarterly Market SentimentReport - December 2023.pdf",
         "Contoso Quarterly Market SentimentReport - December 2023.pdf",
         207724,
         1753967250000
        ],
        [
         "dbfs:/Volumes/litware_unity_catalog/rag/documents_store/pdf_documents/Contoso Quarterly Market SentimentReport - March 2024.pdf",
         "Contoso Quarterly Market SentimentReport - March 2024.pdf",
         203184,
         1753967250000
        ],
        [
         "dbfs:/Volumes/litware_unity_catalog/rag/documents_store/pdf_documents/Contoso_improve_customer_churn.pdf",
         "Contoso_improve_customer_churn.pdf",
         634144,
         1753967249000
        ]
       ],
       "datasetInfos": [],
       "dbfsResultPath": null,
       "isJsonSchema": true,
       "metadata": {},
       "overflow": false,
       "plotOptions": {
        "customPlotOptions": {},
        "displayType": "table",
        "pivotAggregation": null,
        "pivotColumns": null,
        "xColumns": null,
        "yColumns": null
       },
       "removedWidgets": [],
       "schema": [
        {
         "metadata": "{}",
         "name": "path",
         "type": "\"string\""
        },
        {
         "metadata": "{}",
         "name": "name",
         "type": "\"string\""
        },
        {
         "metadata": "{}",
         "name": "size",
         "type": "\"long\""
        },
        {
         "metadata": "{}",
         "name": "modificationTime",
         "type": "\"long\""
        }
       ],
       "type": "table"
      }
     },
     "output_type": "display_data"
    }
   ],
   "source": [
    "# List our raw PDF docs\n",
    "volume_folder =  f\"/Volumes/{catalog}/{db}/documents_store/pdf_documents\"   \n",
    "\n",
    "display(dbutils.fs.ls(volume_folder))"
   ]
  },
  {
   "cell_type": "markdown",
   "metadata": {
    "application/vnd.databricks.v1+cell": {
     "cellMetadata": {
      "byteLimit": 2048000,
      "rowLimit": 10000
     },
     "inputWidgets": {},
     "nuid": "87f9631e-2f7e-485c-871b-f60f706f0fc5",
     "showTitle": false,
     "tableResultSettingsMap": {},
     "title": ""
    }
   },
   "source": [
    "### Transform pdf as text"
   ]
  },
  {
   "cell_type": "code",
   "execution_count": 0,
   "metadata": {
    "application/vnd.databricks.v1+cell": {
     "cellMetadata": {
      "byteLimit": 2048000,
      "rowLimit": 10000
     },
     "inputWidgets": {},
     "nuid": "b716f739-57ca-4c7e-86eb-bca0ca27e87c",
     "showTitle": false,
     "tableResultSettingsMap": {},
     "title": ""
    }
   },
   "outputs": [
    {
     "output_type": "stream",
     "name": "stderr",
     "output_type": "stream",
     "text": [
      "2025-07-31 17:35:55.443171: I external/local_tsl/tsl/cuda/cudart_stub.cc:32] Could not find cuda drivers on your machine, GPU will not be used.\n2025-07-31 17:35:55.470427: I external/local_tsl/tsl/cuda/cudart_stub.cc:32] Could not find cuda drivers on your machine, GPU will not be used.\n2025-07-31 17:35:55.580390: I tensorflow/core/platform/cpu_feature_guard.cc:210] This TensorFlow binary is optimized to use available CPU instructions in performance-critical operations.\nTo enable the following instructions: AVX2 FMA, in other operations, rebuild TensorFlow with the appropriate compiler flags.\n2025-07-31 17:35:57.763390: W tensorflow/compiler/tf2tensorrt/utils/py_utils.cc:38] TF-TRT Warning: Could not find TensorRT\n"
     ]
    }
   ],
   "source": [
    "from unstructured.partition.auto import partition\n",
    "import re\n",
    "\n",
    "def extract_doc_text(x : bytes) -> str:\n",
    "  # Read files and extract the values with unstructured\n",
    "  sections = partition(file=io.BytesIO(x))\n",
    "  def clean_section(txt):\n",
    "    txt = re.sub(r'\\n', '', txt)\n",
    "    return re.sub(r' ?\\.', '.', txt)\n",
    "  # Default split is by section of document, concatenate them all together because we want to split by sentence instead.\n",
    "  return \"\\n\".join([clean_section(s.text) for s in sections]) "
   ]
  },
  {
   "cell_type": "code",
   "execution_count": 0,
   "metadata": {
    "application/vnd.databricks.v1+cell": {
     "cellMetadata": {
      "byteLimit": 2048000,
      "implicitDf": true,
      "rowLimit": 10000
     },
     "inputWidgets": {},
     "nuid": "8be6a612-cf61-4782-8618-f297991a5384",
     "showTitle": false,
     "tableResultSettingsMap": {},
     "title": ""
    }
   },
   "outputs": [
    {
     "output_type": "display_data",
     "data": {
      "text/html": [
       "<style scoped>\n",
       "  .table-result-container {\n",
       "    max-height: 300px;\n",
       "    overflow: auto;\n",
       "  }\n",
       "  table, th, td {\n",
       "    border: 1px solid black;\n",
       "    border-collapse: collapse;\n",
       "  }\n",
       "  th, td {\n",
       "    padding: 5px;\n",
       "  }\n",
       "  th {\n",
       "    text-align: left;\n",
       "  }\n",
       "</style><div class='table-result-container'><table class='table-result'><thead style='background-color: white'><tr></tr></thead><tbody></tbody></table></div>"
      ]
     },
     "metadata": {
      "application/vnd.databricks.v1+output": {
       "addedWidgets": {},
       "aggData": [],
       "aggError": "",
       "aggOverflow": false,
       "aggSchema": [],
       "aggSeriesLimitReached": false,
       "aggType": "",
       "arguments": {},
       "columnCustomDisplayInfos": {},
       "data": [],
       "datasetInfos": [],
       "dbfsResultPath": null,
       "isJsonSchema": true,
       "metadata": {
        "dataframeName": null
       },
       "overflow": false,
       "plotOptions": {
        "customPlotOptions": {},
        "displayType": "table",
        "pivotAggregation": null,
        "pivotColumns": null,
        "xColumns": null,
        "yColumns": null
       },
       "removedWidgets": [],
       "schema": [],
       "type": "table"
      }
     },
     "output_type": "display_data"
    }
   ],
   "source": [
    "%sql\n",
    "--Note that we need to enable Change Data Feed on the table to create the index\n",
    "CREATE TABLE IF NOT EXISTS litware_unity_catalog.rag.documents_embedding_openai (\n",
    "  id BIGINT GENERATED BY DEFAULT AS IDENTITY,\n",
    "  url STRING,\n",
    "  content STRING,\n",
    "  embedding STRING\n",
    ") TBLPROPERTIES (delta.enableChangeDataFeed = true); "
   ]
  },
  {
   "cell_type": "markdown",
   "metadata": {
    "application/vnd.databricks.v1+cell": {
     "cellMetadata": {
      "byteLimit": 2048000,
      "rowLimit": 10000
     },
     "inputWidgets": {},
     "nuid": "d9518151-fb55-4da4-9c64-e6b4e2932570",
     "showTitle": false,
     "tableResultSettingsMap": {},
     "title": ""
    }
   },
   "source": [
    "#### Create the final documents_embedding table containing chunks and embeddings"
   ]
  },
  {
   "cell_type": "code",
   "execution_count": 0,
   "metadata": {
    "application/vnd.databricks.v1+cell": {
     "cellMetadata": {
      "byteLimit": 2048000,
      "rowLimit": 10000
     },
     "inputWidgets": {},
     "nuid": "8cac9247-f950-44bf-8590-3155ee884ce1",
     "showTitle": false,
     "tableResultSettingsMap": {},
     "title": ""
    }
   },
   "outputs": [
    {
     "output_type": "stream",
     "name": "stdout",
     "output_type": "stream",
     "text": [
      "+--------------------+-------------------+------+--------------------+--------------------+\n|                path|   modificationTime|length|             content|                text|\n+--------------------+-------------------+------+--------------------+--------------------+\n|dbfs:/Volumes/lit...|2025-07-31 13:07:29|634144|[25 50 44 46 2D 3...|Quarterly Market ...|\n|dbfs:/Volumes/lit...|2025-07-31 13:07:29|634144|[25 50 44 46 2D 3...|In summary, Conto...|\n|dbfs:/Volumes/lit...|2025-07-31 13:07:29|634144|[25 50 44 46 2D 3...|Highlight new ser...|\n|dbfs:/Volumes/lit...|2025-07-31 13:07:29|634144|[25 50 44 46 2D 3...|Highly Unsatisfie...|\n|dbfs:/Volumes/lit...|2025-07-31 13:07:29|634144|[25 50 44 46 2D 3...|Highly Unsatisfie...|\n|dbfs:/Volumes/lit...|2025-07-31 13:07:29|634144|[25 50 44 46 2D 3...|It has been nothi...|\n|dbfs:/Volumes/lit...|2025-07-31 13:07:29|634144|[25 50 44 46 2D 3...|I will not be rec...|\n|dbfs:/Volumes/lit...|2025-07-31 13:07:29|634144|[25 50 44 46 2D 3...|I would not recom...|\n|dbfs:/Volumes/lit...|2025-07-31 13:07:30|207724|[25 50 44 46 2D 3...|Quarterly Market ...|\n+--------------------+-------------------+------+--------------------+--------------------+\nonly showing top 9 rows\n\n"
     ]
    }
   ],
   "source": [
    "from pyspark.sql import SparkSession, functions as F\n",
    "import io\n",
    "from llama_index.langchain_helpers.text_splitter import SentenceSplitter\n",
    "from llama_index import Document, set_global_tokenizer\n",
    "from transformers import AutoTokenizer\n",
    "\n",
    "# Reduce the arrow batch size as our PDF can be big in memory\n",
    "spark.conf.set(\"spark.sql.execution.arrow.maxRecordsPerBatch\", 10)\n",
    "\n",
    "# Define the function to read data as chunks\n",
    "def read_as_chunk(text):\n",
    "    # set llama2 as tokenizer to match our model size (will stay below BGE 1024 limit)\n",
    "    set_global_tokenizer(\n",
    "        AutoTokenizer.from_pretrained(\"hf-internal-testing/llama-tokenizer\")\n",
    "    )\n",
    "    # Sentence splitter from llama_index to split on sentences\n",
    "    splitter = SentenceSplitter(chunk_size=500, chunk_overlap=50)\n",
    "    txt = extract_doc_text(text)\n",
    "    nodes = splitter.get_nodes_from_documents([Document(text=txt)])\n",
    "    return [n.text for n in nodes]\n",
    "\n",
    "# Register the UDF\n",
    "read_as_chunk_udf = F.udf(read_as_chunk, F.ArrayType(F.StringType()))\n",
    "\n",
    "# Read data from the 'pdf_raw' table\n",
    "df = spark.read.table(f\"{catalog}.{db}.documents_raw\")\n",
    "\n",
    "# Use withColumn and the UDF to add a new column\n",
    "df = df.withColumn(\"text\", F.explode(read_as_chunk_udf(df.content)))\n",
    "\n",
    "# Show the modified DataFrame\n",
    "df.show(9)"
   ]
  },
  {
   "cell_type": "markdown",
   "metadata": {
    "application/vnd.databricks.v1+cell": {
     "cellMetadata": {
      "byteLimit": 2048000,
      "rowLimit": 10000
     },
     "inputWidgets": {},
     "nuid": "56ad24a5-0348-400d-9f65-8f1a559872c9",
     "showTitle": false,
     "tableResultSettingsMap": {},
     "title": ""
    }
   },
   "source": [
    "### Computing the chunk embeddings and saving them to our Delta Table\n"
   ]
  },
  {
   "cell_type": "code",
   "execution_count": 0,
   "metadata": {
    "application/vnd.databricks.v1+cell": {
     "cellMetadata": {
      "byteLimit": 2048000,
      "rowLimit": 10000
     },
     "inputWidgets": {},
     "nuid": "bf5efae9-f40a-4e94-83c6-53d6d3e1affe",
     "showTitle": false,
     "tableResultSettingsMap": {},
     "title": ""
    }
   },
   "outputs": [
    {
     "output_type": "stream",
     "name": "stdout",
     "output_type": "stream",
     "text": [
      "+--------------------+-------------------+------+--------------------+--------------------+--------------------+\n|                path|   modificationTime|length|             content|                text|           embedding|\n+--------------------+-------------------+------+--------------------+--------------------+--------------------+\n|dbfs:/Volumes/lit...|2025-07-31 13:07:29|634144|[25 50 44 46 2D 3...|Quarterly Market ...|[-0.013238723, -0...|\n|dbfs:/Volumes/lit...|2025-07-31 13:07:29|634144|[25 50 44 46 2D 3...|In summary, Conto...|[-0.014006799, -0...|\n+--------------------+-------------------+------+--------------------+--------------------+--------------------+\nonly showing top 2 rows\n\n"
     ]
    }
   ],
   "source": [
    "import mlflow.deployments\n",
    "from pyspark.sql import functions as F\n",
    "from pyspark.sql.functions import *\n",
    "\n",
    "def get_embedding(text: str) -> list[float]:\n",
    "    deploy_client = mlflow.deployments.get_deploy_client(\"databricks\")  # Assuming MLflow is configured\n",
    "\n",
    "    try:\n",
    "        response = deploy_client.predict(endpoint=\"text-embedding-ada-002-Azure-OpenAI\", inputs={\"input\": [text]})  # databricks-bge-large-en\n",
    "        return response.data[0]['embedding']  # Extract embedding for the single input\n",
    "    except Exception as e:\n",
    "        return None  # Handle potential errors\n",
    "\n",
    "# Read data from the 'pdf_raw' table\n",
    "#df = spark.read.table(f\"{catalog}.{db}.fabcon_pdf_raw\")\n",
    "\n",
    "get_embedding_udf = F.udf(get_embedding, F.StringType())  # Adjusted return type for single string\n",
    "df = df.withColumn(\"embedding\", get_embedding_udf(F.col(\"text\")))  # Apply UDF to text column\n",
    "\n",
    "df.show(2)"
   ]
  },
  {
   "cell_type": "code",
   "execution_count": 0,
   "metadata": {
    "application/vnd.databricks.v1+cell": {
     "cellMetadata": {
      "byteLimit": 2048000,
      "rowLimit": 10000
     },
     "inputWidgets": {},
     "nuid": "950c1951-4c43-4d8f-bd95-535d93ae67a7",
     "showTitle": false,
     "tableResultSettingsMap": {},
     "title": ""
    }
   },
   "outputs": [],
   "source": [
    "from pyspark.sql.functions import concat\n",
    "\n",
    "df.selectExpr('path as url', 'text as content', 'embedding') \\\n",
    "  .write \\\n",
    "  .mode(\"append\") \\\n",
    "  .format(\"delta\") \\\n",
    "  .saveAsTable(f\"{catalog}.{db}.documents_embedding_openai\")"
   ]
  }
 ],
 "metadata": {
  "application/vnd.databricks.v1+notebook": {
   "computePreferences": null,
   "dashboards": [],
   "environmentMetadata": null,
   "inputWidgetPreferences": null,
   "language": "python",
   "notebookMetadata": {
    "mostRecentlyExecutedCommandWithImplicitDF": {
     "commandId": 5860268049797433,
     "dataframes": [
      "_sqldf"
     ]
    },
    "pythonIndentUnit": 4
   },
   "notebookName": "2.1 (Azure OpenAI) Ingesting and preparing PDF for LLM and Self Managed Vector Search Embeddings",
   "widgets": {}
  },
  "language_info": {
   "name": "python"
  }
 },
 "nbformat": 4,
 "nbformat_minor": 0
}