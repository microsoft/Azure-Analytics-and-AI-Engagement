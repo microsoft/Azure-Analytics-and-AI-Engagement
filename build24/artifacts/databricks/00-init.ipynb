{
 "cells": [
  {
   "cell_type": "code",
   "execution_count": 0,
   "metadata": {
    "application/vnd.databricks.v1+cell": {
     "cellMetadata": {
      "byteLimit": 2048000,
      "rowLimit": 10000
     },
     "inputWidgets": {},
     "nuid": "84e3b599-7d53-4171-b553-c9be29d4716b",
     "showTitle": false,
     "title": ""
    }
   },
   "outputs": [],
   "source": [
    "VECTOR_SEARCH_ENDPOINT_NAME = \"vector_search_endpoint\"\n",
    "\n",
    "catalog = \"litware_unity_catalog\"\n",
    "\n",
    "dbName = db = \"rag\""
   ]
  }
 ],
 "metadata": {
  "application/vnd.databricks.v1+notebook": {
   "dashboards": [],
   "environmentMetadata": null,
   "language": "python",
   "notebookMetadata": {
    "pythonIndentUnit": 4
   },
   "notebookName": "00-init",
   "widgets": {}
  }
 },
 "nbformat": 4,
 "nbformat_minor": 0
}
