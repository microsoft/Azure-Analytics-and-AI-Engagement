{
 "cells": [
  {
   "cell_type": "code",
   "execution_count": 0,
   "metadata": {
    "application/vnd.databricks.v1+cell": {
     "cellMetadata": {},
     "inputWidgets": {},
     "nuid": "0a017e40-55b4-4a3c-9cb8-e9ea46782fba",
     "showTitle": false,
     "title": ""
    }
   },
   "outputs": [],
   "source": [
    "%run ./00-init $reset_all_data=false"
   ]
  },
  {
   "cell_type": "markdown",
   "metadata": {
    "application/vnd.databricks.v1+cell": {
     "cellMetadata": {},
     "inputWidgets": {},
     "nuid": "24ec8fbe-0679-4433-b070-f35e377abb28",
     "showTitle": false,
     "title": ""
    }
   },
   "source": [
    "### Read data from volume"
   ]
  },
  {
   "cell_type": "code",
   "execution_count": 0,
   "metadata": {
    "application/vnd.databricks.v1+cell": {
     "cellMetadata": {
      "byteLimit": 2048000,
      "rowLimit": 10000
     },
     "inputWidgets": {},
     "nuid": "95e90419-0c75-4e7e-9173-cbcbe36c6dbb",
     "showTitle": false,
     "title": ""
    }
   },
   "outputs": [
    {
     "output_type": "execute_result",
     "data": {
      "text/plain": [
       "DataFrame[CustomerID: string, Gender: string, SeniorCitizen: string, Partner: string, Dependents: string, tenure: string, Discount: string, OutletSize: string, OnlineDelivery: string, OrderStatus: string, CustomerSupport: string, Brand: string, StoreContract: string, PaperlessBilling: string, PaymentMethod: string, UnitPrice: string, TotalAmount: string, Churn: string]"
      ]
     },
     "execution_count": 3,
     "metadata": {},
     "output_type": "execute_result"
    }
   ],
   "source": [
    "df = spark.read.csv('/Volumes/litware_unity_catalog/rag/documents_store/MktData/CustomerChurnData.csv',  header=True)\n",
    "df"
   ]
  },
  {
   "cell_type": "markdown",
   "metadata": {
    "application/vnd.databricks.v1+cell": {
     "cellMetadata": {},
     "inputWidgets": {},
     "nuid": "e24fdc54-5228-4ed4-bfea-af7afc96175d",
     "showTitle": false,
     "title": ""
    }
   },
   "source": [
    "### Create Churn table"
   ]
  },
  {
   "cell_type": "code",
   "execution_count": 0,
   "metadata": {
    "application/vnd.databricks.v1+cell": {
     "cellMetadata": {
      "byteLimit": 2048000,
      "implicitDf": true,
      "rowLimit": 10000
     },
     "inputWidgets": {},
     "nuid": "e5e4bf42-f32b-40a2-994e-b8524fe450db",
     "showTitle": false,
     "title": ""
    }
   },
   "outputs": [
    {
     "output_type": "stream",
     "name": "stdout",
     "output_type": "stream",
     "text": [
      "+--------+--------------------+-----------+\n|database|           tableName|isTemporary|\n+--------+--------------------+-----------+\n|     rag|bronze_campaign_data|      false|\n|     rag|bronze_customerch...|      false|\n|     rag|   bronze_salestrans|      false|\n|     rag|          churn_test|      false|\n|     rag| documents_embedding|      false|\n|     rag|       documents_raw|      false|\n|     rag|      documents_raw1|      false|\n|     rag|      documents_raw2|      false|\n|     rag|gold_country_wise...|      false|\n|     rag|gold_salestrans_l...|      false|\n|     rag|gold_salestrans_t...|      false|\n|     rag|gold_top_loss_mak...|      false|\n|     rag|silver_customerch...|      false|\n|     rag|silver_salestrans...|      false|\n+--------+--------------------+-----------+\n\n"
     ]
    }
   ],
   "source": [
    "# Save DataFrame as a table in the Unity Catalog\n",
    "df.write.mode(\"overwrite\").format(\"delta\").saveAsTable(\"litware_unity_catalog.rag.silver_customer_churn\")\n",
    "\n",
    "# Confirm the table creation\n",
    "spark.sql(\"SHOW TABLES IN litware_unity_catalog.rag\").show()"
   ]
  }
 ],
 "metadata": {
  "application/vnd.databricks.v1+notebook": {
   "dashboards": [],
   "language": "python",
   "notebookMetadata": {
    "mostRecentlyExecutedCommandWithImplicitDF": {
     "commandId": -1,
     "dataframes": [
      "_sqldf"
     ]
    },
    "pythonIndentUnit": 4
   },
   "notebookName": "02 notebook to create churn table",
   "widgets": {}
  }
 },
 "nbformat": 4,
 "nbformat_minor": 0
}
