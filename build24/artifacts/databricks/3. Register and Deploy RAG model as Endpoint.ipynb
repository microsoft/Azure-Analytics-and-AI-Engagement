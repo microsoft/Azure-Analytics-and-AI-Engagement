{
 "cells": [
  {
   "cell_type": "code",
   "execution_count": 0,
   "metadata": {
    "application/vnd.databricks.v1+cell": {
     "cellMetadata": {
      "byteLimit": 2048000,
      "rowLimit": 10000
     },
     "inputWidgets": {},
     "nuid": "f2ffc456-e464-47ff-ab12-2478d055bbb9",
     "showTitle": false,
     "title": ""
    },
    "jupyter": {
     "outputs_hidden": true
    }
   },
   "outputs": [],
   "source": [
    "%pip install mlflow==2.10.1 langchain databricks-vectorsearch==0.22 databricks-sdk==0.18.0 mlflow[databricks]\n",
    "dbutils.library.restartPython()"
   ]
  },
  {
   "cell_type": "code",
   "execution_count": 0,
   "metadata": {
    "application/vnd.databricks.v1+cell": {
     "cellMetadata": {
      "byteLimit": 2048000,
      "rowLimit": 10000
     },
     "inputWidgets": {},
     "nuid": "e4aec6e4-d820-47e4-acc3-0f7ed1bad114",
     "showTitle": false,
     "title": ""
    }
   },
   "outputs": [],
   "source": [
    "%run ./00-init $reset_all_data=false"
   ]
  },
  {
   "cell_type": "code",
   "execution_count": 0,
   "metadata": {
    "application/vnd.databricks.v1+cell": {
     "cellMetadata": {
      "byteLimit": 2048000,
      "rowLimit": 10000
     },
     "inputWidgets": {},
     "nuid": "dc2d69ac-b856-4f6c-bbed-1371f7dc53ac",
     "showTitle": false,
     "title": ""
    }
   },
   "outputs": [],
   "source": [
    "index_name=f\"{catalog}.{db}.vector_search_index\"\n",
    "host = \"https://\" + spark.conf.get(\"spark.databricks.workspaceUrl\")"
   ]
  },
  {
   "cell_type": "code",
   "execution_count": 0,
   "metadata": {
    "application/vnd.databricks.v1+cell": {
     "cellMetadata": {
      "byteLimit": 2048000,
      "rowLimit": 10000
     },
     "inputWidgets": {},
     "nuid": "2fef10dd-83b1-4652-b090-de9569a4ca1e",
     "showTitle": false,
     "title": ""
    }
   },
   "outputs": [],
   "source": [
    "# url used to send the request to your model from the serverless endpoint\n",
    "import os\n",
    "host = \"https://\" + spark.conf.get(\"spark.databricks.workspaceUrl\")\n",
    "os.environ['DATABRICKS_TOKEN'] = dbutils.secrets.get('databricksscope', 'databricks-token') \n",
    "#os.environ['DATABRICKS_TOKEN'] = \"\""
   ]
  },
  {
   "cell_type": "code",
   "execution_count": 0,
   "metadata": {
    "application/vnd.databricks.v1+cell": {
     "cellMetadata": {
      "byteLimit": 2048000,
      "rowLimit": 10000
     },
     "inputWidgets": {},
     "nuid": "3f215827-be93-4442-9bf2-922a6637eb36",
     "showTitle": false,
     "title": ""
    }
   },
   "outputs": [
    {
     "name": "stdout",
     "output_type": "stream",
     "text": [
      "Test embeddings: [0.0185699462890625, -0.01403045654296875, -0.057647705078125, 0.003448486328125, 0.008575439453125, -0.0216827392578125, -0.0247344970703125, -0.0047149658203125, 0.0136260986328125, 0.050323486328125, -0.027496337890625, -0.0147247314453125, 0.05474853515625, -0.053802490234375, -0.01025390625, -0.0161895751953125, -0.018768310546875, -0.017181396484375, -0.051177978515625, 0.0178680419921875]...\n",
      "[NOTICE] Using a Personal Authentication Token (PAT). Recommended for development only. For improved performance, please use Service Principal based authentication. To disable this message, pass disable_notice=True to VectorSearchClient().\n"
     ]
    },
    {
     "name": "stderr",
     "output_type": "stream",
     "text": [
      "WARNING:langchain_community.vectorstores.databricks_vector_search:embedding model is not used in delta-sync index with Databricks-managed embeddings.\n",
      "/databricks/python/lib/python3.11/site-packages/langchain_core/_api/deprecation.py:119: LangChainDeprecationWarning: The method `BaseRetriever.get_relevant_documents` was deprecated in langchain-core 0.1.46 and will be removed in 0.3.0. Use invoke instead.\n",
      "  warn_deprecated(\n"
     ]
    },
    {
     "name": "stdout",
     "output_type": "stream",
     "text": [
      "Relevant documents: page_content=\"Quarterly Market Sentiment Report March 2024\\nSummary:\\nContoso, a retail company headquartered in the US, took a strategic step to improve its market sentiment and customer satisfaction by acquiring LitWare, a European retail company based in the UK. This acquisition has significantly enhanced Contoso's market sentiment score, which has now risen to an impressive 70%. Moreover, the acquisition has resulted in high customer satisfaction and positive reviews, marking a notable turnaround in Contoso's performance.\\n© 2023 Contoso Confidential\\nPrior to the acquisition, Contoso faced challenges with a market sentiment that was below average compared to industry trends. The lack of focus on Environmental, Social, and Governance (ESG) initiatives led to poor customer satisfaction and lower market sentiment ratings, especially among Millennials, a key market segment for Contoso.\\nHowever, with the integration of LitWare, Contoso has successfully addressed these concerns and transformed its market sentiment. Customer reviews reflect a remarkable improvement in satisfaction levels, with customers expressing extreme happiness and satisfaction with their purchases. The product quality, performance, and customer service provided by Contoso post-acquisition have exceeded expectations, leading to highly positive feedback from consumers.\\nCustomers highlight the exceptional quality of products, prompt and helpful customer service, and overall fantastic experience with Contoso's offerings. These positive reviews have contributed to a significant boost in market sentiment and have positioned Contoso as a preferred choice among consumers, especially Millennials.\\nThe acquisition of LitWare has been a strategic move for Contoso to enhance its market sentiment, improve customer satisfaction, and strengthen its position in the retail industry. By prioritizing ESG initiatives and delivering exceptional products and services, Contoso has successfully regained investor confidence and garnered positive feedback from customers, paving the way for continued growth and success in the future.\\n© 2023 Contoso Confidential\\nCustomer Reviews: March 2024\\nCustomerID\\nCustomer Reviews\\nHow Satisfied Are You with Contoso?\" metadata={'id': 16.0}\n"
     ]
    }
   ],
   "source": [
    "from databricks.vector_search.client import VectorSearchClient\n",
    "from langchain_community.vectorstores import DatabricksVectorSearch\n",
    "from langchain_community.embeddings import DatabricksEmbeddings\n",
    "\n",
    "# Test embedding Langchain model\n",
    "#NOTE: your question embedding model must match the one used in the chunk in the previous model \n",
    "embedding_model = DatabricksEmbeddings(endpoint=\"databricks-bge-large-en\")\n",
    "print(f\"Test embeddings: {embedding_model.embed_query('What is Apache Spark?')[:20]}...\")\n",
    "\n",
    "def get_retriever(persist_dir: str = None):\n",
    "    os.environ[\"DATABRICKS_HOST\"] = host\n",
    "    #Get the vector search index\n",
    "    vsc = VectorSearchClient(workspace_url=host, personal_access_token=os.environ[\"DATABRICKS_TOKEN\"])\n",
    "    vs_index = vsc.get_index(\n",
    "        endpoint_name=VECTOR_SEARCH_ENDPOINT_NAME,\n",
    "        index_name=index_name\n",
    "    )\n",
    "\n",
    "    # Create the retriever\n",
    "    vectorstore = DatabricksVectorSearch(\n",
    "        vs_index, text_column=\"content\", embedding=embedding_model\n",
    "    )\n",
    "    return vectorstore.as_retriever()\n",
    "\n",
    "# test our retriever\n",
    "vectorstore = get_retriever()\n",
    "similar_documents = vectorstore.get_relevant_documents(\"What is the current Market Sentiment for Contoso following its acquisition of Litware and explain the reasons for it?\")\n",
    "print(f\"Relevant documents: {similar_documents[0]}\")"
   ]
  },
  {
   "cell_type": "code",
   "execution_count": 0,
   "metadata": {
    "application/vnd.databricks.v1+cell": {
     "cellMetadata": {
      "byteLimit": 2048000,
      "rowLimit": 10000
     },
     "inputWidgets": {},
     "nuid": "84a30777-d203-46ca-ac0d-22a442f5f49c",
     "showTitle": false,
     "title": ""
    }
   },
   "outputs": [
    {
     "name": "stdout",
     "output_type": "stream",
     "text": [
      "Test chat model: Based on the information available up to December 2023, the market sentiment for Contoso following its acquisition of Litware is positive. This is due to several reasons:\n",
      "\n",
      "1. Increased Market Share: The acquisition of Litware has allowed Contoso to expand its market share in the technology sector, making it a more dominant player in the industry.\n",
      "\n",
      "2. Diversification of Products and Services: Litware's product and service offerings complement those of Contoso, allowing the combined entity to offer a more diverse range of solutions to its customers.\n",
      "\n",
      "3. Economies of Scale: The merger of the two companies is expected to result in significant cost savings due to economies of scale, which is viewed positively by the market.\n",
      "\n",
      "4. Enhanced Competitive Position: The acquisition has strengthened Contoso's competitive position, enabling it to better compete with other major players in the technology sector.\n",
      "\n",
      "5. Improved Financial Performance: The market expects the acquisition to lead to improved financial performance for Contoso, driven by revenue growth and cost synergies.\n",
      "\n",
      "Overall, the market sentiment for Contoso is positive following its acquisition of Litware, reflecting the potential benefits of the deal in terms of increased market share, diversification of products and services, economies of scale, enhanced competitive position, and improved financial performance.\n"
     ]
    }
   ],
   "source": [
    "# Test Databricks Foundation LLM model\n",
    "from langchain_community.chat_models import ChatDatabricks\n",
    "chat_model = ChatDatabricks(endpoint=\"databricks-dbrx-instruct\", max_tokens = 2000)\n",
    "print(f\"Test chat model: {chat_model.predict('What is the current Market Sentiment for Contoso following its acquisition of Litware and explain the reasons for it?')}\")"
   ]
  },
  {
   "cell_type": "code",
   "execution_count": 0,
   "metadata": {
    "application/vnd.databricks.v1+cell": {
     "cellMetadata": {
      "byteLimit": 2048000,
      "rowLimit": 10000
     },
     "inputWidgets": {},
     "nuid": "b7f60363-72ec-427c-ab28-6eecde57e393",
     "showTitle": false,
     "title": ""
    }
   },
   "outputs": [
    {
     "name": "stdout",
     "output_type": "stream",
     "text": [
      "[NOTICE] Using a Personal Authentication Token (PAT). Recommended for development only. For improved performance, please use Service Principal based authentication. To disable this message, pass disable_notice=True to VectorSearchClient().\n"
     ]
    },
    {
     "name": "stderr",
     "output_type": "stream",
     "text": [
      "WARNING:langchain_community.vectorstores.databricks_vector_search:embedding model is not used in delta-sync index with Databricks-managed embeddings.\n"
     ]
    }
   ],
   "source": [
    "from langchain.chains import RetrievalQA\n",
    "from langchain.prompts import PromptTemplate\n",
    "from langchain_community.chat_models import ChatDatabricks\n",
    "\n",
    "TEMPLATE = \"\"\"You are an assistant for Databricks users. You are answering python, coding, SQL, data engineering, spark, data science, DW and platform, API or infrastructure administration question related to Databricks. If the question is not related to one of these topics, kindly decline to answer. If you don't know the answer, just say that you don't know, don't try to make up an answer. Keep the answer as concise as possible.\n",
    "Use the following pieces of context to answer the question at the end:\n",
    "{context}\n",
    "Question: {question}\n",
    "Answer:\n",
    "\"\"\"\n",
    "prompt = PromptTemplate(template=TEMPLATE, input_variables=[\"context\", \"question\"])\n",
    "\n",
    "chain = RetrievalQA.from_chain_type(\n",
    "    llm=chat_model,\n",
    "    chain_type=\"stuff\",\n",
    "    retriever=get_retriever(),\n",
    "    chain_type_kwargs={\"prompt\": prompt}\n",
    ")"
   ]
  },
  {
   "cell_type": "code",
   "execution_count": 0,
   "metadata": {
    "application/vnd.databricks.v1+cell": {
     "cellMetadata": {
      "byteLimit": 2048000,
      "rowLimit": 10000
     },
     "inputWidgets": {},
     "nuid": "b1f93914-0c73-4bab-8e5d-ccc039652a9c",
     "showTitle": false,
     "title": ""
    }
   },
   "outputs": [
    {
     "name": "stderr",
     "output_type": "stream",
     "text": [
      "/databricks/python/lib/python3.11/site-packages/langchain_core/_api/deprecation.py:119: LangChainDeprecationWarning: The method `Chain.run` was deprecated in langchain 0.1.0 and will be removed in 0.2.0. Use invoke instead.\n",
      "  warn_deprecated(\n"
     ]
    },
    {
     "name": "stdout",
     "output_type": "stream",
     "text": [
      "The current Market Sentiment for Contoso is at an impressive 70%, which is a significant improvement from the previous score of 40%. This improvement can be attributed to Contoso's strategic acquisition of LitWare, a European retail company based in the UK. The acquisition has allowed Contoso to enhance its market sentiment by addressing concerns related to Environmental, Social, and Governance (ESG) initiatives, which were previously lacking and contributing to poor customer satisfaction.\n",
      "\n",
      "The integration of LitWare has led to a remarkable improvement in customer satisfaction, with customers expressing extreme happiness and satisfaction with their purchases. The product quality, performance, and customer service provided by Contoso post-acquisition have exceeded expectations, leading to highly positive feedback from consumers. Customers highlight the exceptional quality of products, prompt and helpful customer service, and overall fantastic experience with Contoso's offerings. These positive reviews have contributed to a significant boost in market sentiment and have positioned Contoso as a preferred choice among consumers, especially Millennials.\n",
      "\n",
      "In summary, the acquisition of LitWare has been a strategic move for Contoso to enhance its market sentiment, improve customer satisfaction, and strengthen its position in the retail industry. By prioritizing ESG initiatives and delivering exceptional products and services, Contoso has successfully regained investor confidence and garnered positive feedback from customers, paving the way for continued growth and success in the future.\n"
     ]
    }
   ],
   "source": [
    "# langchain.debug = True #uncomment to see the chain details and the full prompt being sent\n",
    "question = {\"query\": \"What is the current Market Sentiment for Contoso following its acquisition of Litware and explain the reasons for it?\"}\n",
    "answer = chain.run(question)\n",
    "print(answer)\n"
   ]
  },
  {
   "cell_type": "code",
   "execution_count": 0,
   "metadata": {
    "application/vnd.databricks.v1+cell": {
     "cellMetadata": {
      "byteLimit": 2048000,
      "rowLimit": 10000
     },
     "inputWidgets": {},
     "nuid": "798616b1-5e45-4061-90ef-2140f60de0ff",
     "showTitle": false,
     "title": ""
    }
   },
   "outputs": [
    {
     "name": "stderr",
     "output_type": "stream",
     "text": [
      "2024/06/06 13:10:24 INFO mlflow.models.utils: We convert input dictionaries to pandas DataFrames such that each key represents a column, collectively constituting a single row of data. If you would like to save data as multiple rows, please convert your data to a pandas DataFrame before passing to input_example.\n",
      "/databricks/python/lib/python3.11/site-packages/_distutils_hack/__init__.py:33: UserWarning: Setuptools is replacing distutils.\n",
      "  warnings.warn(\"Setuptools is replacing distutils.\")\n"
     ]
    },
    {
     "data": {
      "application/vnd.jupyter.widget-view+json": {
       "model_id": "ab9c905d434a4047acf7c609cbc30dc3",
       "version_major": 2,
       "version_minor": 0
      },
      "text/plain": [
       "Uploading artifacts:   0%|          | 0/7 [00:00<?, ?it/s]"
      ]
     },
     "metadata": {},
     "output_type": "display_data"
    },
    {
     "name": "stderr",
     "output_type": "stream",
     "text": [
      "Successfully registered model 'litware_unity_catalog.rag.rag_chatbot_model'.\n"
     ]
    },
    {
     "data": {
      "application/vnd.jupyter.widget-view+json": {
       "model_id": "f81d3a33672a4b378a32c384f172c7c7",
       "version_major": 2,
       "version_minor": 0
      },
      "text/plain": [
       "Uploading artifacts:   0%|          | 0/7 [00:00<?, ?it/s]"
      ]
     },
     "metadata": {},
     "output_type": "display_data"
    },
    {
     "name": "stderr",
     "output_type": "stream",
     "text": [
      "Created version '1' of model 'litware_unity_catalog.rag.rag_chatbot_model'.\n"
     ]
    }
   ],
   "source": [
    "from mlflow.models import infer_signature\n",
    "import mlflow\n",
    "import langchain\n",
    "\n",
    "mlflow.set_registry_uri(\"databricks-uc\")\n",
    "model_name = f\"{catalog}.{db}.rag_chatbot_model\"\n",
    "\n",
    "with mlflow.start_run(run_name=\"chatbot_rag\") as run:\n",
    "    signature = infer_signature(question, answer)\n",
    "    model_info = mlflow.langchain.log_model(\n",
    "        chain,\n",
    "        loader_fn=get_retriever,  # Load the retriever with DATABRICKS_TOKEN env as secret (for authentication).\n",
    "        artifact_path=\"chain\",\n",
    "        registered_model_name=model_name,\n",
    "        pip_requirements=[\n",
    "            \"mlflow==\" + mlflow.__version__,\n",
    "            \"langchain==\" + langchain.__version__,\n",
    "            \"databricks-vectorsearch\",\n",
    "        ],\n",
    "        input_example=question,\n",
    "        signature=signature\n",
    "    )"
   ]
  },
  {
   "cell_type": "code",
   "execution_count": 0,
   "metadata": {
    "application/vnd.databricks.v1+cell": {
     "cellMetadata": {
      "byteLimit": 2048000,
      "rowLimit": 10000
     },
     "inputWidgets": {},
     "nuid": "db57075d-86e1-422e-bf5e-bd2bde4e6338",
     "showTitle": false,
     "title": ""
    }
   },
   "outputs": [
    {
     "data": {
      "application/vnd.jupyter.widget-view+json": {
       "model_id": "6b04384876754a7c9d3e888e59c7cdae",
       "version_major": 2,
       "version_minor": 0
      },
      "text/plain": [
       "Downloading artifacts:   0%|          | 0/7 [00:00<?, ?it/s]"
      ]
     },
     "metadata": {},
     "output_type": "display_data"
    },
    {
     "name": "stdout",
     "output_type": "stream",
     "text": [
      "[NOTICE] Using a Personal Authentication Token (PAT). Recommended for development only. For improved performance, please use Service Principal based authentication. To disable this message, pass disable_notice=True to VectorSearchClient().\n"
     ]
    },
    {
     "name": "stderr",
     "output_type": "stream",
     "text": [
      "WARNING:langchain_community.vectorstores.databricks_vector_search:embedding model is not used in delta-sync index with Databricks-managed embeddings.\n",
      "/databricks/python/lib/python3.11/site-packages/langchain_core/utils/loading.py:22: UserWarning: Loading from the deprecated github-based Hub is no longer supported. Please use the new LangChain Hub at https://smith.langchain.com/hub instead.\n",
      "  warnings.warn(\n",
      "/databricks/python/lib/python3.11/site-packages/langchain_community/llms/__init__.py:173: LangChainDeprecationWarning: `` was deprecated in LangChain 0.0.22 and will be removed in 0.2. An updated version of the  exists in the langchain-community package and should be used instead. To use it run `pip install -U langchain-community` and import as `from langchain_community.chat_models import ChatDatabricks`.\n",
      "  warn_deprecated(\n"
     ]
    },
    {
     "data": {
      "text/plain": [
       "{'query': 'What is the current Market Sentiment for Contoso following its acquisition of Litware and explain the reasons for it?',\n",
       " 'result': \"The current Market Sentiment for Contoso is at an impressive 70%, which is a significant improvement from the previous score of 40%. This improvement can be attributed to Contoso's strategic acquisition of LitWare, a European retail company based in the UK. The acquisition has allowed Contoso to enhance its market sentiment by addressing concerns related to Environmental, Social, and Governance (ESG) initiatives, which were previously lacking and contributing to poor customer satisfaction.\\n\\nThe integration of LitWare has led to a remarkable improvement in customer satisfaction, with customers expressing extreme happiness and satisfaction with their purchases. The product quality, performance, and customer service provided by Contoso post-acquisition have exceeded expectations, leading to highly positive feedback from consumers. Customers highlight the exceptional quality of products, prompt and helpful customer service, and overall fantastic experience with Contoso's offerings. These positive reviews have contributed to a significant boost in market sentiment and have positioned Contoso as a preferred choice among consumers, especially Millennials.\\n\\nIn summary, the acquisition of LitWare has been a strategic move for Contoso to enhance its market sentiment, improve customer satisfaction, and strengthen its position in the retail industry. By prioritizing ESG initiatives and delivering exceptional products and services, Contoso has successfully regained investor confidence and garnered positive feedback from customers, paving the way for continued growth and success in the future.\"}"
      ]
     },
     "execution_count": 10,
     "metadata": {},
     "output_type": "execute_result"
    }
   ],
   "source": [
    "model = mlflow.langchain.load_model(model_info.model_uri)\n",
    "model.invoke(question)"
   ]
  },
  {
   "cell_type": "markdown",
   "metadata": {
    "application/vnd.databricks.v1+cell": {
     "cellMetadata": {
      "byteLimit": 2048000,
      "rowLimit": 10000
     },
     "inputWidgets": {},
     "nuid": "43496922-f85c-4eba-9425-b21ed5aa701f",
     "showTitle": false,
     "title": ""
    }
   },
   "source": [
    "### Deploying our Chat Model as a Serverless Model Endpoint\n"
   ]
  },
  {
   "cell_type": "code",
   "execution_count": 0,
   "metadata": {
    "application/vnd.databricks.v1+cell": {
     "cellMetadata": {
      "byteLimit": 2048000,
      "rowLimit": 10000
     },
     "inputWidgets": {},
     "nuid": "c9245e8b-8138-4bf1-866e-905251d84683",
     "showTitle": false,
     "title": ""
    }
   },
   "outputs": [],
   "source": [
    "import mlflow\n",
    "from mlflow.tracking import MlflowClient\n",
    "from databricks.sdk.service.serving import EndpointCoreConfigInput, ServedModelInput, ServedModelInputWorkloadSize"
   ]
  },
  {
   "cell_type": "code",
   "execution_count": 0,
   "metadata": {
    "application/vnd.databricks.v1+cell": {
     "cellMetadata": {
      "byteLimit": 2048000,
      "rowLimit": 10000
     },
     "inputWidgets": {},
     "nuid": "f447e337-c36b-4528-95f2-76917f767206",
     "showTitle": false,
     "title": ""
    }
   },
   "outputs": [],
   "source": [
    "mlflow.set_registry_uri('databricks-uc')\n",
    "model_name = f\"{catalog}.{db}.rag_chatbot_model\"\n",
    "serving_endpoint_name = \"rag-chatbot-model-endpoint\"\n",
    "latest_model_version = 1"
   ]
  },
  {
   "cell_type": "code",
   "execution_count": 0,
   "metadata": {
    "application/vnd.databricks.v1+cell": {
     "cellMetadata": {
      "byteLimit": 2048000,
      "rowLimit": 10000
     },
     "inputWidgets": {},
     "nuid": "9e15921b-7b79-4dc5-b007-e45e6b31780a",
     "showTitle": false,
     "title": ""
    }
   },
   "outputs": [],
   "source": [
    "# Create or update serving endpoint\n",
    "from databricks.sdk import WorkspaceClient\n",
    "from databricks.sdk.service.serving import EndpointCoreConfigInput, ServedModelInput, ServedModelInputWorkloadSize\n",
    "\n",
    "endpoint_config = EndpointCoreConfigInput(\n",
    "    name=serving_endpoint_name,\n",
    "    served_models=[\n",
    "        ServedModelInput(\n",
    "            model_name=model_name,\n",
    "            model_version=latest_model_version,\n",
    "            workload_size=ServedModelInputWorkloadSize.LARGE,\n",
    "            scale_to_zero_enabled=True,\n",
    "            environment_vars={\n",
    "                \"DATABRICKS_TOKEN\": \"{{secrets/databricksscope/databricks-token}}\" ,\n",
    "            }\n",
    "        )\n",
    "    ]\n",
    ")"
   ]
  },
  {
   "cell_type": "code",
   "execution_count": 0,
   "metadata": {
    "application/vnd.databricks.v1+cell": {
     "cellMetadata": {
      "byteLimit": 2048000,
      "rowLimit": 10000
     },
     "inputWidgets": {},
     "nuid": "cbcf731d-5d50-463d-95f5-cdf89f66663c",
     "showTitle": false,
     "title": ""
    }
   },
   "outputs": [
    {
     "name": "stdout",
     "output_type": "stream",
     "text": [
      "Creating the endpoint https://adb-3377374060933843.3.azuredatabricks.net/ml/endpoints/rag-chatbot-model-endpoint, this will take a few minutes to package and deploy the endpoint...\n"
     ]
    }
   ],
   "source": [
    "from databricks.sdk import WorkspaceClient\n",
    "w = WorkspaceClient()\n",
    "\n",
    "existing_endpoint = next(\n",
    "    (e for e in w.serving_endpoints.list() if e.name == serving_endpoint_name), None\n",
    ")\n",
    "serving_endpoint_url = f\"{host}/ml/endpoints/{serving_endpoint_name}\"\n",
    "if existing_endpoint == None:\n",
    "    print(f\"Creating the endpoint {serving_endpoint_url}, this will take a few minutes to package and deploy the endpoint...\")\n",
    "    w.serving_endpoints.create_and_wait(name=serving_endpoint_name, config=endpoint_config)\n",
    "else:\n",
    "    print(f\"Updating the endpoint {serving_endpoint_url} to version {latest_model_version}, this will take a few minutes to package and deploy the endpoint...\")\n",
    "    w.serving_endpoints.update_config_and_wait(served_models=endpoint_config.served_models, name=serving_endpoint_name)"
   ]
  }
 ],
 "metadata": {
  "application/vnd.databricks.v1+notebook": {
   "dashboards": [],
   "environmentMetadata": null,
   "language": "python",
   "notebookMetadata": {
    "mostRecentlyExecutedCommandWithImplicitDF": {
     "commandId": -1,
     "dataframes": [
      "_sqldf"
     ]
    },
    "pythonIndentUnit": 4
   },
   "notebookName": "3. Register and Deploy RAG model as Endpoint",
   "widgets": {}
  },
  "language_info": {
   "name": "python"
  }
 },
 "nbformat": 4,
 "nbformat_minor": 0
}
