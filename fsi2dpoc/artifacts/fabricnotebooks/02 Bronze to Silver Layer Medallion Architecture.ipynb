{
 "cells": [
  {
   "cell_type": "markdown",
   "id": "66d1371f-3136-444f-a12f-9259ab625dbf",
   "metadata": {
    "microsoft": {
     "language": "python",
     "language_group": "synapse_pyspark"
    },
    "nteract": {
     "transient": {
      "deleting": false
     }
    }
   },
   "source": [
    "## Importing the necessary libraries and spark configurations."
   ]
  },
  {
   "cell_type": "code",
   "execution_count": null,
   "id": "99a8828c-9199-497c-8404-bf7317f60208",
   "metadata": {
    "jupyter": {
     "outputs_hidden": false,
     "source_hidden": false
    },
    "microsoft": {
     "language": "python",
     "language_group": "synapse_pyspark"
    },
    "nteract": {
     "transient": {
      "deleting": false
     }
    }
   },
   "outputs": [],
   "source": [
    "spark.conf.set(\"sprk.sql.parquet.vorder.enabled\", \"true\")\n",
    "spark.conf.set(\"spark.microsoft.delta.optimizeWrite.enabled\", \"true\")\n",
    "spark.conf.set(\"spark.microsoft.delta.optimizeWrite.binSize\", \"1073741824\")\n",
    "from pyspark.sql.types import *\n",
    "from pyspark.sql.functions import col, unix_timestamp, to_date,col,year,quarter,month\n",
    "from pyspark.sql.types import DateType\n",
    "from pyspark.sql.functions import col, unix_timestamp, to_date,col,year,quarter,month\n",
    "from pyspark.sql.functions import col\n",
    "from pyspark.sql.types import IntegerType\n",
    "from pyspark.sql.types import DoubleType\n",
    "from pyspark.sql.types import DateType\n",
    "from pyspark.sql import functions as F"
   ]
  },
  {
   "cell_type": "markdown",
   "id": "f385a5ca-912c-4868-9253-524c2c83c6f1",
   "metadata": {
    "nteract": {
     "transient": {
      "deleting": false
     }
    }
   },
   "source": [
    "## Input Parameters\n"
   ]
  },
  {
   "cell_type": "code",
   "execution_count": null,
   "id": "1f95babe-6822-4c8d-9123-a5e9cf387653",
   "metadata": {
    "jupyter": {
     "outputs_hidden": false,
     "source_hidden": false
    },
    "microsoft": {
     "language": "python",
     "language_group": "synapse_pyspark"
    },
    "nteract": {
     "transient": {
      "deleting": false
     }
    }
   },
   "outputs": [
    {
     "data": {
      "application/vnd.livy.statement-meta+json": {
       "execution_finish_time": "2024-08-09T13:13:49.2471192Z",
       "execution_start_time": "2024-08-09T13:13:48.9730363Z",
       "livy_statement_state": "available",
       "normalized_state": "finished",
       "parent_msg_id": "bce05655-5114-4e7d-846d-c07f91509ea2",
       "queued_time": "2024-08-09T13:13:48.4423946Z",
       "session_id": "3b86f6ce-98dd-4c69-afff-45edadb8d77a",
       "session_start_time": null,
       "spark_pool": null,
       "state": "finished",
       "statement_id": 40,
       "statement_ids": [
        40
       ]
      },
      "text/plain": [
       "StatementMeta(, 3b86f6ce-98dd-4c69-afff-45edadb8d77a, 40, Finished, Available, Finished)"
      ]
     },
     "metadata": {},
     "output_type": "display_data"
    }
   ],
   "source": [
    "Path_Dim='abfss://#SALES_WORKSPACE_NAME#@onelake.dfs.fabric.microsoft.com/#LAKEHOUSE_BRONZE#/Files/FSI-Rawdata/'\n",
    "path_fpa='abfss://#SALES_WORKSPACE_NAME#@onelake.dfs.fabric.microsoft.com/#LAKEHOUSE_BRONZE#/Files/OldData/'\n",
    "path_Institution='abfss://#SALES_WORKSPACE_NAME#@onelake.dfs.fabric.microsoft.com/#LAKEHOUSE_BRONZE#/Files/OldData/'"
   ]
  },
  {
   "cell_type": "markdown",
   "id": "cda87ab1-cfb6-40b2-94a3-ddb298a51bc8",
   "metadata": {
    "nteract": {
     "transient": {
      "deleting": false
     }
    }
   },
   "source": [
    "## ADB_ESGScores"
   ]
  },
  {
   "cell_type": "code",
   "execution_count": null,
   "id": "a4ef3ac4-0567-4b18-b61e-b640326b3890",
   "metadata": {
    "jupyter": {
     "outputs_hidden": false,
     "source_hidden": false
    },
    "microsoft": {
     "language": "python",
     "language_group": "synapse_pyspark"
    },
    "nteract": {
     "transient": {
      "deleting": false
     }
    }
   },
   "outputs": [
    {
     "data": {
      "application/vnd.livy.statement-meta+json": {
       "execution_finish_time": "2024-08-09T12:23:59.4041489Z",
       "execution_start_time": "2024-08-09T12:23:44.9713487Z",
       "livy_statement_state": "available",
       "normalized_state": "finished",
       "parent_msg_id": "6bc5ef65-1e18-4004-8232-1870675385c2",
       "queued_time": "2024-08-09T12:23:44.4867641Z",
       "session_id": "3b86f6ce-98dd-4c69-afff-45edadb8d77a",
       "session_start_time": null,
       "spark_pool": null,
       "state": "finished",
       "statement_id": 23,
       "statement_ids": [
        23
       ]
      },
      "text/plain": [
       "StatementMeta(, 3b86f6ce-98dd-4c69-afff-45edadb8d77a, 23, Finished, Available, Finished)"
      ]
     },
     "metadata": {},
     "output_type": "display_data"
    }
   ],
   "source": [
    "table_name = 'ADB_ESGScores'\n",
    "dimension_ADB_ESGScores_schema = StructType([\n",
    "    StructField('Organisation', StringType(), True),\n",
    "    StructField('Theme', StringType(), True),\n",
    "    StructField('Total', IntegerType(), True),\n",
    "    StructField('Days', IntegerType(), True),\n",
    "    StructField('ESG', DoubleType(), True),\n",
    "    StructField('ReportedOn', StringType(), True)]\n",
    ")\n",
    "df = spark.read.format(\"csv\").schema(dimension_ADB_ESGScores_schema).option(\"header\",\"true\").load(Path_Dim+\"ADB_ESGScores.csv\")\n",
    "df.write.mode(\"overwrite\").format(\"delta\").saveAsTable(\"#LAKEHOUSE_SILVER#.\" + table_name)"
   ]
  },
  {
   "cell_type": "markdown",
   "id": "50174b4e-4e42-42ba-8848-d0c325a484a8",
   "metadata": {
    "microsoft": {
     "language": "python",
     "language_group": "synapse_pyspark"
    },
    "nteract": {
     "transient": {
      "deleting": false
     }
    }
   },
   "source": [
    "## ADB_EsgCompanyVsTopicProbability"
   ]
  },
  {
   "cell_type": "code",
   "execution_count": null,
   "id": "c07247ef-f27c-4f07-9eb5-963d3b7d92a4",
   "metadata": {
    "jupyter": {
     "outputs_hidden": false,
     "source_hidden": false
    },
    "microsoft": {
     "language": "python",
     "language_group": "synapse_pyspark"
    },
    "nteract": {
     "transient": {
      "deleting": false
     }
    }
   },
   "outputs": [
    {
     "data": {
      "application/vnd.livy.statement-meta+json": {
       "execution_finish_time": "2024-08-09T12:39:16.8883802Z",
       "execution_start_time": "2024-08-09T12:39:10.4675991Z",
       "livy_statement_state": "available",
       "normalized_state": "finished",
       "parent_msg_id": "e59e98e5-7b6e-443f-8b1a-4e014f3cfea6",
       "queued_time": "2024-08-09T12:39:09.9366603Z",
       "session_id": "3b86f6ce-98dd-4c69-afff-45edadb8d77a",
       "session_start_time": null,
       "spark_pool": null,
       "state": "finished",
       "statement_id": 27,
       "statement_ids": [
        27
       ]
      },
      "text/plain": [
       "StatementMeta(, 3b86f6ce-98dd-4c69-afff-45edadb8d77a, 27, Finished, Available, Finished)"
      ]
     },
     "metadata": {},
     "output_type": "display_data"
    }
   ],
   "source": [
    "table_name = 'ADB_EsgCompanyVsTopicProbability'\n",
    "dimension_ADB_EsgCompanyVsTopicProbability_schema = StructType([\n",
    "    StructField('Organisation', StringType(), True),\n",
    "    StructField('CodeOfConduct', DoubleType(), True),\n",
    "    StructField('CompanyTransformation', DoubleType(), True),\n",
    "    StructField('ValueEmployees', DoubleType(), True),\n",
    "    StructField('FocusCustomer', DoubleType(), True),\n",
    "    StructField('SustainableFinance', DoubleType(), True),\n",
    "    StructField('SupportCommunity', DoubleType(), True),\n",
    "    StructField('StrongGovernance', DoubleType(), True),\n",
    "    StructField('EthicalInvestments', DoubleType(), True),\n",
    "    StructField('GreenEnergy', DoubleType(), True),\n",
    "    StructField('ReportedOn', StringType(), True)]\n",
    ")\n",
    "df = spark.read.format(\"csv\").schema(dimension_ADB_EsgCompanyVsTopicProbability_schema).option(\"header\",\"true\").load(Path_Dim+\"ADB_EsgCompanyVsTopicProbability.csv\")\n",
    "df.write.mode(\"overwrite\").format(\"delta\").saveAsTable(\"#LAKEHOUSE_SILVER#.\" + table_name)\n"
   ]
  },
  {
   "cell_type": "markdown",
   "id": "aa78591c-f791-49db-8608-f3b01cfdc440",
   "metadata": {
    "microsoft": {
     "language": "python",
     "language_group": "synapse_pyspark"
    },
    "nteract": {
     "transient": {
      "deleting": false
     }
    }
   },
   "source": [
    "## ADB_EsgOrgWordCloudData"
   ]
  },
  {
   "cell_type": "code",
   "execution_count": null,
   "id": "7c083972-1bc6-49fc-8f6b-d26d24c8048b",
   "metadata": {
    "jupyter": {
     "outputs_hidden": false,
     "source_hidden": false
    },
    "microsoft": {
     "language": "python",
     "language_group": "synapse_pyspark"
    },
    "nteract": {
     "transient": {
      "deleting": false
     }
    }
   },
   "outputs": [
    {
     "data": {
      "application/vnd.livy.statement-meta+json": {
       "execution_finish_time": "2024-08-09T12:43:03.3056896Z",
       "execution_start_time": "2024-08-09T12:42:58.4120945Z",
       "livy_statement_state": "available",
       "normalized_state": "finished",
       "parent_msg_id": "2923c96f-1ea9-4ccc-83bd-c705e65f6b77",
       "queued_time": "2024-08-09T12:42:57.7851314Z",
       "session_id": "3b86f6ce-98dd-4c69-afff-45edadb8d77a",
       "session_start_time": null,
       "spark_pool": null,
       "state": "finished",
       "statement_id": 28,
       "statement_ids": [
        28
       ]
      },
      "text/plain": [
       "StatementMeta(, 3b86f6ce-98dd-4c69-afff-45edadb8d77a, 28, Finished, Available, Finished)"
      ]
     },
     "metadata": {},
     "output_type": "display_data"
    }
   ],
   "source": [
    "table_name = 'ADB_EsgOrgWordCloudData'\n",
    "dimension_ADB_EsgOrgWordCloudData_schema = StructType([\n",
    "    StructField('Organisation', StringType(), True),\n",
    "    StructField('Lemma', StringType(), True),\n",
    "    StructField('ReportedOn', StringType(), True)]\n",
    ")\n",
    "df = spark.read.format(\"csv\").schema(dimension_ADB_EsgOrgWordCloudData_schema).option(\"header\",\"true\").load(Path_Dim+\"ADB_EsgOrgWordCloudData.csv\")\n",
    "df.write.mode(\"overwrite\").format(\"delta\").saveAsTable(\"#LAKEHOUSE_SILVER#.\" + table_name)"
   ]
  },
  {
   "cell_type": "markdown",
   "id": "6066ac61-0db8-4759-8ed2-a92640ea3eb4",
   "metadata": {
    "microsoft": {
     "language": "python",
     "language_group": "synapse_pyspark"
    },
    "nteract": {
     "transient": {
      "deleting": false
     }
    }
   },
   "source": [
    "## ADB_EsgSentimentAndCustomerChurn"
   ]
  },
  {
   "cell_type": "code",
   "execution_count": null,
   "id": "e2766a81-926f-49e9-b32d-26c16650b59d",
   "metadata": {
    "jupyter": {
     "outputs_hidden": false,
     "source_hidden": false
    },
    "microsoft": {
     "language": "python",
     "language_group": "synapse_pyspark"
    },
    "nteract": {
     "transient": {
      "deleting": false
     }
    }
   },
   "outputs": [
    {
     "data": {
      "application/vnd.livy.statement-meta+json": {
       "execution_finish_time": "2024-08-09T12:48:45.8977193Z",
       "execution_start_time": "2024-08-09T12:48:39.4696578Z",
       "livy_statement_state": "available",
       "normalized_state": "finished",
       "parent_msg_id": "bc51b8b0-09b5-4919-9690-61b235350562",
       "queued_time": "2024-08-09T12:48:38.9559554Z",
       "session_id": "3b86f6ce-98dd-4c69-afff-45edadb8d77a",
       "session_start_time": null,
       "spark_pool": null,
       "state": "finished",
       "statement_id": 30,
       "statement_ids": [
        30
       ]
      },
      "text/plain": [
       "StatementMeta(, 3b86f6ce-98dd-4c69-afff-45edadb8d77a, 30, Finished, Available, Finished)"
      ]
     },
     "metadata": {},
     "output_type": "display_data"
    }
   ],
   "source": [
    "table_name = 'ADB_EsgSentimentAndCustomerChurn'\n",
    "dimension_ADB_EsgSentimentAndCustomerChurn_schema = StructType([\n",
    "    StructField('date', StringType(), True),\n",
    "    StructField('organisation', StringType(), True),\n",
    "    StructField('30DaysSentimentValue', DoubleType(), True),\n",
    "    StructField('churn', DoubleType(), True),\n",
    "    StructField('ReportedOn', StringType(), True)]\n",
    ")\n",
    "df = spark.read.format(\"csv\").schema(dimension_ADB_EsgSentimentAndCustomerChurn_schema).option(\"header\",\"true\").load(Path_Dim+\"ADB_EsgSentimentAndCustomerChurn.csv\")\n",
    "df.write.mode(\"overwrite\").option(\"mergeSchema\", \"true\").format(\"delta\").saveAsTable(\"#LAKEHOUSE_SILVER#.\" + table_name)"
   ]
  },
  {
   "cell_type": "markdown",
   "id": "12eedd6d-2378-4553-a93e-334ab1147b32",
   "metadata": {
    "microsoft": {
     "language": "python",
     "language_group": "synapse_pyspark"
    },
    "nteract": {
     "transient": {
      "deleting": false
     }
    }
   },
   "source": [
    "##"
   ]
  },
  {
   "cell_type": "markdown",
   "id": "934cec8c-53d7-4ed5-9d04-16d2a79fc527",
   "metadata": {
    "microsoft": {
     "language": "python",
     "language_group": "synapse_pyspark"
    },
    "nteract": {
     "transient": {
      "deleting": false
     }
    }
   },
   "source": [
    "## ADB_EsgSentimentVsMarketPerformance"
   ]
  },
  {
   "cell_type": "code",
   "execution_count": null,
   "id": "cea554d5-0f9b-45e7-bc94-9775b7aceaa4",
   "metadata": {
    "jupyter": {
     "outputs_hidden": false,
     "source_hidden": false
    },
    "microsoft": {
     "language": "python",
     "language_group": "synapse_pyspark"
    },
    "nteract": {
     "transient": {
      "deleting": false
     }
    }
   },
   "outputs": [
    {
     "data": {
      "application/vnd.livy.statement-meta+json": {
       "execution_finish_time": "2024-08-09T12:52:03.2576379Z",
       "execution_start_time": "2024-08-09T12:51:58.3167259Z",
       "livy_statement_state": "available",
       "normalized_state": "finished",
       "parent_msg_id": "062e8a8d-805c-4d21-815f-afbebffbec00",
       "queued_time": "2024-08-09T12:51:56.9848239Z",
       "session_id": "3b86f6ce-98dd-4c69-afff-45edadb8d77a",
       "session_start_time": null,
       "spark_pool": null,
       "state": "finished",
       "statement_id": 31,
       "statement_ids": [
        31
       ]
      },
      "text/plain": [
       "StatementMeta(, 3b86f6ce-98dd-4c69-afff-45edadb8d77a, 31, Finished, Available, Finished)"
      ]
     },
     "metadata": {},
     "output_type": "display_data"
    }
   ],
   "source": [
    "table_name = 'ADB_EsgSentimentVsMarketPerformance'\n",
    "dimension_ADB_EsgSentimentVsMarketPerformance_schema = StructType([\n",
    "    StructField('Date', StringType(), True),\n",
    "    StructField('30DaysSentimentValue', DoubleType(), True),\n",
    "    StructField('7DaysStockPrice', DoubleType(), True),\n",
    "    StructField('Organisation', StringType(), True),\n",
    "    StructField('ReportedOn', StringType(), True)]\n",
    ")\n",
    "df = spark.read.format(\"csv\").schema(dimension_ADB_EsgSentimentVsMarketPerformance_schema).option(\"header\",\"true\").load(Path_Dim+\"ADB_EsgSentimentVsMarketPerformance.csv\")\n",
    "df.write.mode(\"overwrite\").format(\"delta\").saveAsTable(\"#LAKEHOUSE_SILVER#.\" + table_name)"
   ]
  },
  {
   "cell_type": "markdown",
   "id": "92a25ead-c90a-4ac4-83b8-5cd91679fe1e",
   "metadata": {
    "microsoft": {
     "language": "python",
     "language_group": "synapse_pyspark"
    },
    "nteract": {
     "transient": {
      "deleting": false
     }
    }
   },
   "source": [
    "## Institution"
   ]
  },
  {
   "cell_type": "code",
   "execution_count": null,
   "id": "411629dc-b667-43a4-b10e-2112b9a162c9",
   "metadata": {
    "jupyter": {
     "outputs_hidden": false,
     "source_hidden": false
    },
    "microsoft": {
     "language": "python",
     "language_group": "synapse_pyspark"
    },
    "nteract": {
     "transient": {
      "deleting": false
     }
    }
   },
   "outputs": [
    {
     "data": {
      "application/vnd.livy.statement-meta+json": {
       "execution_finish_time": "2024-08-09T13:14:24.0437508Z",
       "execution_start_time": "2024-08-09T13:14:17.6806308Z",
       "livy_statement_state": "available",
       "normalized_state": "finished",
       "parent_msg_id": "8f60d7e7-1b6b-4eb8-8320-c2373c1e509d",
       "queued_time": "2024-08-09T13:14:17.2391447Z",
       "session_id": "3b86f6ce-98dd-4c69-afff-45edadb8d77a",
       "session_start_time": null,
       "spark_pool": null,
       "state": "finished",
       "statement_id": 42,
       "statement_ids": [
        42
       ]
      },
      "text/plain": [
       "StatementMeta(, 3b86f6ce-98dd-4c69-afff-45edadb8d77a, 42, Finished, Available, Finished)"
      ]
     },
     "metadata": {},
     "output_type": "display_data"
    }
   ],
   "source": [
    "table_name = 'Institution'\n",
    "dimension_Institution_schema = StructType([\n",
    "    StructField('InstitutionId', IntegerType(), True),\n",
    "    StructField('InstitutionName', StringType(), True)]\n",
    ")\n",
    "df = spark.read.format(\"csv\").schema(dimension_Institution_schema).option(\"header\",\"true\").load(path_Institution+\"Institution.csv\")\n",
    "df.write.mode(\"overwrite\").format(\"delta\").saveAsTable(\"#LAKEHOUSE_SILVER#.\" + table_name)"
   ]
  },
  {
   "cell_type": "markdown",
   "id": "63ec51be-9441-463f-8379-a4cbc0193657",
   "metadata": {
    "microsoft": {
     "language": "python",
     "language_group": "synapse_pyspark"
    },
    "nteract": {
     "transient": {
      "deleting": false
     }
    }
   },
   "source": [
    "## InstitutionUnit"
   ]
  },
  {
   "cell_type": "code",
   "execution_count": null,
   "id": "8f252890-d4e2-48c3-8204-0f086a8502b4",
   "metadata": {
    "jupyter": {
     "outputs_hidden": false,
     "source_hidden": false
    },
    "microsoft": {
     "language": "python",
     "language_group": "synapse_pyspark"
    },
    "nteract": {
     "transient": {
      "deleting": false
     }
    }
   },
   "outputs": [
    {
     "data": {
      "application/vnd.livy.statement-meta+json": {
       "execution_finish_time": "2024-08-09T13:17:33.4610856Z",
       "execution_start_time": "2024-08-09T13:17:28.6126308Z",
       "livy_statement_state": "available",
       "normalized_state": "finished",
       "parent_msg_id": "c55b718c-0b75-4b64-b469-1c021988395d",
       "queued_time": "2024-08-09T13:17:27.9234071Z",
       "session_id": "3b86f6ce-98dd-4c69-afff-45edadb8d77a",
       "session_start_time": null,
       "spark_pool": null,
       "state": "finished",
       "statement_id": 43,
       "statement_ids": [
        43
       ]
      },
      "text/plain": [
       "StatementMeta(, 3b86f6ce-98dd-4c69-afff-45edadb8d77a, 43, Finished, Available, Finished)"
      ]
     },
     "metadata": {},
     "output_type": "display_data"
    }
   ],
   "source": [
    "table_name = 'InstitutionUnit'\n",
    "dimension_InstitutionUnit_schema = StructType([\n",
    "    StructField('InstitutionUnitId', IntegerType(), True),\n",
    "    StructField('InstitutionId', IntegerType(), True),\n",
    "    StructField('InstitutionUnitName', StringType(), True)]\n",
    ")\n",
    "df = spark.read.format(\"csv\").schema(dimension_InstitutionUnit_schema).option(\"header\",\"true\").load(path_Institution+\"InstitutionUnit.csv\")\n",
    "df.write.mode(\"overwrite\").format(\"delta\").saveAsTable(\"#LAKEHOUSE_SILVER#.\" + table_name)"
   ]
  }
 ],
 "metadata": {
  "dependencies": {
   "lakehouse": {
    "default_lakehouse": "2e85045f-ebbb-4a59-97d2-95faead4d76a",
    "default_lakehouse_name": "FSI_Lakehouse_Bronze",
    "default_lakehouse_workspace_id": "2b3be873-2fa8-4bd2-b0e6-4b91ac5083a1"
   }
  },
  "kernel_info": {
   "name": "synapse_pyspark"
  },
  "kernelspec": {
   "display_name": "Synapse PySpark",
   "language": "Python",
   "name": "synapse_pyspark"
  },
  "language_info": {
   "name": "python"
  },
  "microsoft": {
   "language": "python",
   "language_group": "synapse_pyspark",
   "ms_spell_check": {
    "ms_spell_check_language": "en"
   }
  },
  "nteract": {
   "version": "nteract-front-end@1.0.0"
  },
  "spark_compute": {
   "compute_id": "/trident/default",
   "session_options": {
    "conf": {
     "spark.synapse.nbs.session.timeout": "1200000"
    }
   }
  },
  "widgets": {}
 },
 "nbformat": 4,
 "nbformat_minor": 5
}
